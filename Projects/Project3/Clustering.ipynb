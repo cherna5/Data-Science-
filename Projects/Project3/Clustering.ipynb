{
  "nbformat": 4,
  "nbformat_minor": 0,
  "metadata": {
    "kernelspec": {
      "name": "python3",
      "display_name": "Python 3"
    },
    "language_info": {
      "codemirror_mode": {
        "name": "ipython",
        "version": 3
      },
      "file_extension": ".py",
      "mimetype": "text/x-python",
      "name": "python",
      "nbconvert_exporter": "python",
      "pygments_lexer": "ipython3",
      "version": "3.7.3"
    },
    "colab": {
      "name": "Clustering.ipynb",
      "provenance": [],
      "collapsed_sections": [],
      "machine_shape": "hm"
    },
    "accelerator": "TPU"
  },
  "cells": [
    {
      "cell_type": "code",
      "metadata": {
        "id": "WUZLDSYc9hbG",
        "colab_type": "code",
        "colab": {}
      },
      "source": [
        "import pandas as pd  \n",
        "import numpy as np\n",
        "from sklearn.model_selection import KFold\n",
        "import matplotlib.pyplot as plt\n",
        "import sklearn\n",
        "from sklearn.model_selection import train_test_split\n",
        "from sklearn import datasets, linear_model\n",
        "from sklearn.preprocessing import StandardScaler\n",
        "from scipy.cluster.hierarchy import linkage,fcluster\n",
        "from sklearn import metrics \n",
        "import seaborn as sns\n",
        "from sklearn.cluster import KMeans, DBSCAN\n",
        "import plotly.figure_factory as ff"
      ],
      "execution_count": 0,
      "outputs": []
    },
    {
      "cell_type": "code",
      "metadata": {
        "id": "3ZWDKekn9ltd",
        "colab_type": "code",
        "outputId": "a395d67c-0605-4e52-ea6f-d75afd3282ba",
        "colab": {
          "base_uri": "https://localhost:8080/",
          "height": 34
        }
      },
      "source": [
        "from google.colab import drive\n",
        "drive.mount('/content/drive')"
      ],
      "execution_count": 4,
      "outputs": [
        {
          "output_type": "stream",
          "text": [
            "Drive already mounted at /content/drive; to attempt to forcibly remount, call drive.mount(\"/content/drive\", force_remount=True).\n"
          ],
          "name": "stdout"
        }
      ]
    },
    {
      "cell_type": "code",
      "metadata": {
        "id": "Un60AO-M9hbT",
        "colab_type": "code",
        "outputId": "113f6f55-95cb-44e5-d3bc-5092e4ade133",
        "colab": {
          "base_uri": "https://localhost:8080/",
          "height": 413
        }
      },
      "source": [
        "# Import the CSV file\n",
        "import pandas as pd\n",
        "df = pd.read_csv(\"/content/drive/My Drive/FinalProject_ChicagoCrime/Merge_1.csv\")\n",
        "df.head()"
      ],
      "execution_count": 5,
      "outputs": [
        {
          "output_type": "execute_result",
          "data": {
            "text/html": [
              "<div>\n",
              "<style scoped>\n",
              "    .dataframe tbody tr th:only-of-type {\n",
              "        vertical-align: middle;\n",
              "    }\n",
              "\n",
              "    .dataframe tbody tr th {\n",
              "        vertical-align: top;\n",
              "    }\n",
              "\n",
              "    .dataframe thead th {\n",
              "        text-align: right;\n",
              "    }\n",
              "</style>\n",
              "<table border=\"1\" class=\"dataframe\">\n",
              "  <thead>\n",
              "    <tr style=\"text-align: right;\">\n",
              "      <th></th>\n",
              "      <th>District</th>\n",
              "      <th>index</th>\n",
              "      <th>Case Number</th>\n",
              "      <th>Date</th>\n",
              "      <th>Block</th>\n",
              "      <th>IUCR</th>\n",
              "      <th>Primary Type</th>\n",
              "      <th>Description</th>\n",
              "      <th>Location Description</th>\n",
              "      <th>Arrest</th>\n",
              "      <th>Domestic</th>\n",
              "      <th>Beat</th>\n",
              "      <th>Ward</th>\n",
              "      <th>Community Area</th>\n",
              "      <th>FBI Code</th>\n",
              "      <th>X Coordinate</th>\n",
              "      <th>Y Coordinate</th>\n",
              "      <th>Latitude</th>\n",
              "      <th>Longitude</th>\n",
              "      <th>p_dname</th>\n",
              "      <th>p_x</th>\n",
              "      <th>p_y</th>\n",
              "      <th>p_latitude</th>\n",
              "      <th>p_longitude</th>\n",
              "      <th>Distance</th>\n",
              "      <th>Time</th>\n",
              "      <th>Month</th>\n",
              "      <th>Day</th>\n",
              "      <th>Season</th>\n",
              "      <th>crimeGroups</th>\n",
              "    </tr>\n",
              "  </thead>\n",
              "  <tbody>\n",
              "    <tr>\n",
              "      <th>0</th>\n",
              "      <td>4</td>\n",
              "      <td>2</td>\n",
              "      <td>JB528220</td>\n",
              "      <td>11/24/2018</td>\n",
              "      <td>095XX S STONY ISLAND AVE</td>\n",
              "      <td>0261</td>\n",
              "      <td>CRIM SEXUAL ASSAULT</td>\n",
              "      <td>AGGRAVATED: HANDGUN</td>\n",
              "      <td>ALLEY</td>\n",
              "      <td>1</td>\n",
              "      <td>0</td>\n",
              "      <td>431</td>\n",
              "      <td>7.0</td>\n",
              "      <td>51.0</td>\n",
              "      <td>02</td>\n",
              "      <td>1188521.0</td>\n",
              "      <td>1842119.0</td>\n",
              "      <td>41.721844</td>\n",
              "      <td>-87.585072</td>\n",
              "      <td>South Chicago</td>\n",
              "      <td>1193131.299</td>\n",
              "      <td>1837090.265</td>\n",
              "      <td>41.707933</td>\n",
              "      <td>-87.568349</td>\n",
              "      <td>6822.245420</td>\n",
              "      <td>08:45:00</td>\n",
              "      <td>11</td>\n",
              "      <td>24</td>\n",
              "      <td>Autumn</td>\n",
              "      <td>1</td>\n",
              "    </tr>\n",
              "    <tr>\n",
              "      <th>1</th>\n",
              "      <td>22</td>\n",
              "      <td>3</td>\n",
              "      <td>JB495848</td>\n",
              "      <td>08/27/2018</td>\n",
              "      <td>092XX S UNION AVE</td>\n",
              "      <td>1120</td>\n",
              "      <td>DECEPTIVE PRACTICE</td>\n",
              "      <td>FORGERY</td>\n",
              "      <td>RESIDENCE</td>\n",
              "      <td>1</td>\n",
              "      <td>0</td>\n",
              "      <td>2223</td>\n",
              "      <td>21.0</td>\n",
              "      <td>73.0</td>\n",
              "      <td>10</td>\n",
              "      <td>1173264.0</td>\n",
              "      <td>1843551.0</td>\n",
              "      <td>41.726124</td>\n",
              "      <td>-87.640913</td>\n",
              "      <td>Morgan Park</td>\n",
              "      <td>1165825.476</td>\n",
              "      <td>1830851.333</td>\n",
              "      <td>41.691435</td>\n",
              "      <td>-87.668520</td>\n",
              "      <td>14717.784521</td>\n",
              "      <td>12:00:00</td>\n",
              "      <td>8</td>\n",
              "      <td>27</td>\n",
              "      <td>Summer</td>\n",
              "      <td>3</td>\n",
              "    </tr>\n",
              "    <tr>\n",
              "      <th>2</th>\n",
              "      <td>7</td>\n",
              "      <td>5</td>\n",
              "      <td>JB505888</td>\n",
              "      <td>09/27/2018</td>\n",
              "      <td>068XX S PERRY AVE</td>\n",
              "      <td>1020</td>\n",
              "      <td>ARSON</td>\n",
              "      <td>BY FIRE</td>\n",
              "      <td>VEHICLE NON-COMMERCIAL</td>\n",
              "      <td>1</td>\n",
              "      <td>0</td>\n",
              "      <td>722</td>\n",
              "      <td>6.0</td>\n",
              "      <td>69.0</td>\n",
              "      <td>09</td>\n",
              "      <td>1176575.0</td>\n",
              "      <td>1859723.0</td>\n",
              "      <td>41.770428</td>\n",
              "      <td>-87.628300</td>\n",
              "      <td>Englewood</td>\n",
              "      <td>1167659.235</td>\n",
              "      <td>1863005.522</td>\n",
              "      <td>41.779632</td>\n",
              "      <td>-87.660887</td>\n",
              "      <td>9500.832396</td>\n",
              "      <td>10:30:00</td>\n",
              "      <td>9</td>\n",
              "      <td>27</td>\n",
              "      <td>Autumn</td>\n",
              "      <td>2</td>\n",
              "    </tr>\n",
              "    <tr>\n",
              "      <th>3</th>\n",
              "      <td>24</td>\n",
              "      <td>6</td>\n",
              "      <td>JB472665</td>\n",
              "      <td>10/12/2018</td>\n",
              "      <td>061XX N BROADWAY</td>\n",
              "      <td>0890</td>\n",
              "      <td>THEFT</td>\n",
              "      <td>FROM BUILDING</td>\n",
              "      <td>COMMERCIAL / BUSINESS OFFICE</td>\n",
              "      <td>1</td>\n",
              "      <td>0</td>\n",
              "      <td>2433</td>\n",
              "      <td>48.0</td>\n",
              "      <td>77.0</td>\n",
              "      <td>06</td>\n",
              "      <td>1167199.0</td>\n",
              "      <td>1940579.0</td>\n",
              "      <td>41.992509</td>\n",
              "      <td>-87.660344</td>\n",
              "      <td>Rogers Park</td>\n",
              "      <td>1164193.588</td>\n",
              "      <td>1943199.401</td>\n",
              "      <td>41.999763</td>\n",
              "      <td>-87.671324</td>\n",
              "      <td>3987.355350</td>\n",
              "      <td>12:04:00</td>\n",
              "      <td>10</td>\n",
              "      <td>12</td>\n",
              "      <td>Autumn</td>\n",
              "      <td>2</td>\n",
              "    </tr>\n",
              "    <tr>\n",
              "      <th>4</th>\n",
              "      <td>8</td>\n",
              "      <td>9</td>\n",
              "      <td>JB241744</td>\n",
              "      <td>04/27/2018</td>\n",
              "      <td>070XX S CALIFORNIA AVE</td>\n",
              "      <td>1562</td>\n",
              "      <td>SEX OFFENSE</td>\n",
              "      <td>AGG CRIMINAL SEXUAL ABUSE</td>\n",
              "      <td>APARTMENT</td>\n",
              "      <td>0</td>\n",
              "      <td>1</td>\n",
              "      <td>831</td>\n",
              "      <td>17.0</td>\n",
              "      <td>66.0</td>\n",
              "      <td>17</td>\n",
              "      <td>1158921.0</td>\n",
              "      <td>1857929.0</td>\n",
              "      <td>41.765884</td>\n",
              "      <td>-87.693061</td>\n",
              "      <td>Chicago Lawn</td>\n",
              "      <td>1154575.242</td>\n",
              "      <td>1862672.049</td>\n",
              "      <td>41.778987</td>\n",
              "      <td>-87.708864</td>\n",
              "      <td>6432.894093</td>\n",
              "      <td>02:45:00</td>\n",
              "      <td>4</td>\n",
              "      <td>27</td>\n",
              "      <td>Spring</td>\n",
              "      <td>1</td>\n",
              "    </tr>\n",
              "  </tbody>\n",
              "</table>\n",
              "</div>"
            ],
            "text/plain": [
              "   District  index Case Number        Date  ... Month Day  Season crimeGroups\n",
              "0         4      2    JB528220  11/24/2018  ...    11  24  Autumn           1\n",
              "1        22      3    JB495848  08/27/2018  ...     8  27  Summer           3\n",
              "2         7      5    JB505888  09/27/2018  ...     9  27  Autumn           2\n",
              "3        24      6    JB472665  10/12/2018  ...    10  12  Autumn           2\n",
              "4         8      9    JB241744  04/27/2018  ...     4  27  Spring           1\n",
              "\n",
              "[5 rows x 30 columns]"
            ]
          },
          "metadata": {
            "tags": []
          },
          "execution_count": 5
        }
      ]
    },
    {
      "cell_type": "code",
      "metadata": {
        "id": "C56lboqB9hbX",
        "colab_type": "code",
        "outputId": "86fd4ce6-ee9e-4f49-99dd-74b5a9f57ef5",
        "colab": {
          "base_uri": "https://localhost:8080/",
          "height": 413
        }
      },
      "source": [
        "df['ArrestLabel']=df['Arrest']\n",
        "df.head()"
      ],
      "execution_count": 6,
      "outputs": [
        {
          "output_type": "execute_result",
          "data": {
            "text/html": [
              "<div>\n",
              "<style scoped>\n",
              "    .dataframe tbody tr th:only-of-type {\n",
              "        vertical-align: middle;\n",
              "    }\n",
              "\n",
              "    .dataframe tbody tr th {\n",
              "        vertical-align: top;\n",
              "    }\n",
              "\n",
              "    .dataframe thead th {\n",
              "        text-align: right;\n",
              "    }\n",
              "</style>\n",
              "<table border=\"1\" class=\"dataframe\">\n",
              "  <thead>\n",
              "    <tr style=\"text-align: right;\">\n",
              "      <th></th>\n",
              "      <th>District</th>\n",
              "      <th>index</th>\n",
              "      <th>Case Number</th>\n",
              "      <th>Date</th>\n",
              "      <th>Block</th>\n",
              "      <th>IUCR</th>\n",
              "      <th>Primary Type</th>\n",
              "      <th>Description</th>\n",
              "      <th>Location Description</th>\n",
              "      <th>Arrest</th>\n",
              "      <th>Domestic</th>\n",
              "      <th>Beat</th>\n",
              "      <th>Ward</th>\n",
              "      <th>Community Area</th>\n",
              "      <th>FBI Code</th>\n",
              "      <th>X Coordinate</th>\n",
              "      <th>Y Coordinate</th>\n",
              "      <th>Latitude</th>\n",
              "      <th>Longitude</th>\n",
              "      <th>p_dname</th>\n",
              "      <th>p_x</th>\n",
              "      <th>p_y</th>\n",
              "      <th>p_latitude</th>\n",
              "      <th>p_longitude</th>\n",
              "      <th>Distance</th>\n",
              "      <th>Time</th>\n",
              "      <th>Month</th>\n",
              "      <th>Day</th>\n",
              "      <th>Season</th>\n",
              "      <th>crimeGroups</th>\n",
              "      <th>ArrestLabel</th>\n",
              "    </tr>\n",
              "  </thead>\n",
              "  <tbody>\n",
              "    <tr>\n",
              "      <th>0</th>\n",
              "      <td>4</td>\n",
              "      <td>2</td>\n",
              "      <td>JB528220</td>\n",
              "      <td>11/24/2018</td>\n",
              "      <td>095XX S STONY ISLAND AVE</td>\n",
              "      <td>0261</td>\n",
              "      <td>CRIM SEXUAL ASSAULT</td>\n",
              "      <td>AGGRAVATED: HANDGUN</td>\n",
              "      <td>ALLEY</td>\n",
              "      <td>1</td>\n",
              "      <td>0</td>\n",
              "      <td>431</td>\n",
              "      <td>7.0</td>\n",
              "      <td>51.0</td>\n",
              "      <td>02</td>\n",
              "      <td>1188521.0</td>\n",
              "      <td>1842119.0</td>\n",
              "      <td>41.721844</td>\n",
              "      <td>-87.585072</td>\n",
              "      <td>South Chicago</td>\n",
              "      <td>1193131.299</td>\n",
              "      <td>1837090.265</td>\n",
              "      <td>41.707933</td>\n",
              "      <td>-87.568349</td>\n",
              "      <td>6822.245420</td>\n",
              "      <td>08:45:00</td>\n",
              "      <td>11</td>\n",
              "      <td>24</td>\n",
              "      <td>Autumn</td>\n",
              "      <td>1</td>\n",
              "      <td>1</td>\n",
              "    </tr>\n",
              "    <tr>\n",
              "      <th>1</th>\n",
              "      <td>22</td>\n",
              "      <td>3</td>\n",
              "      <td>JB495848</td>\n",
              "      <td>08/27/2018</td>\n",
              "      <td>092XX S UNION AVE</td>\n",
              "      <td>1120</td>\n",
              "      <td>DECEPTIVE PRACTICE</td>\n",
              "      <td>FORGERY</td>\n",
              "      <td>RESIDENCE</td>\n",
              "      <td>1</td>\n",
              "      <td>0</td>\n",
              "      <td>2223</td>\n",
              "      <td>21.0</td>\n",
              "      <td>73.0</td>\n",
              "      <td>10</td>\n",
              "      <td>1173264.0</td>\n",
              "      <td>1843551.0</td>\n",
              "      <td>41.726124</td>\n",
              "      <td>-87.640913</td>\n",
              "      <td>Morgan Park</td>\n",
              "      <td>1165825.476</td>\n",
              "      <td>1830851.333</td>\n",
              "      <td>41.691435</td>\n",
              "      <td>-87.668520</td>\n",
              "      <td>14717.784521</td>\n",
              "      <td>12:00:00</td>\n",
              "      <td>8</td>\n",
              "      <td>27</td>\n",
              "      <td>Summer</td>\n",
              "      <td>3</td>\n",
              "      <td>1</td>\n",
              "    </tr>\n",
              "    <tr>\n",
              "      <th>2</th>\n",
              "      <td>7</td>\n",
              "      <td>5</td>\n",
              "      <td>JB505888</td>\n",
              "      <td>09/27/2018</td>\n",
              "      <td>068XX S PERRY AVE</td>\n",
              "      <td>1020</td>\n",
              "      <td>ARSON</td>\n",
              "      <td>BY FIRE</td>\n",
              "      <td>VEHICLE NON-COMMERCIAL</td>\n",
              "      <td>1</td>\n",
              "      <td>0</td>\n",
              "      <td>722</td>\n",
              "      <td>6.0</td>\n",
              "      <td>69.0</td>\n",
              "      <td>09</td>\n",
              "      <td>1176575.0</td>\n",
              "      <td>1859723.0</td>\n",
              "      <td>41.770428</td>\n",
              "      <td>-87.628300</td>\n",
              "      <td>Englewood</td>\n",
              "      <td>1167659.235</td>\n",
              "      <td>1863005.522</td>\n",
              "      <td>41.779632</td>\n",
              "      <td>-87.660887</td>\n",
              "      <td>9500.832396</td>\n",
              "      <td>10:30:00</td>\n",
              "      <td>9</td>\n",
              "      <td>27</td>\n",
              "      <td>Autumn</td>\n",
              "      <td>2</td>\n",
              "      <td>1</td>\n",
              "    </tr>\n",
              "    <tr>\n",
              "      <th>3</th>\n",
              "      <td>24</td>\n",
              "      <td>6</td>\n",
              "      <td>JB472665</td>\n",
              "      <td>10/12/2018</td>\n",
              "      <td>061XX N BROADWAY</td>\n",
              "      <td>0890</td>\n",
              "      <td>THEFT</td>\n",
              "      <td>FROM BUILDING</td>\n",
              "      <td>COMMERCIAL / BUSINESS OFFICE</td>\n",
              "      <td>1</td>\n",
              "      <td>0</td>\n",
              "      <td>2433</td>\n",
              "      <td>48.0</td>\n",
              "      <td>77.0</td>\n",
              "      <td>06</td>\n",
              "      <td>1167199.0</td>\n",
              "      <td>1940579.0</td>\n",
              "      <td>41.992509</td>\n",
              "      <td>-87.660344</td>\n",
              "      <td>Rogers Park</td>\n",
              "      <td>1164193.588</td>\n",
              "      <td>1943199.401</td>\n",
              "      <td>41.999763</td>\n",
              "      <td>-87.671324</td>\n",
              "      <td>3987.355350</td>\n",
              "      <td>12:04:00</td>\n",
              "      <td>10</td>\n",
              "      <td>12</td>\n",
              "      <td>Autumn</td>\n",
              "      <td>2</td>\n",
              "      <td>1</td>\n",
              "    </tr>\n",
              "    <tr>\n",
              "      <th>4</th>\n",
              "      <td>8</td>\n",
              "      <td>9</td>\n",
              "      <td>JB241744</td>\n",
              "      <td>04/27/2018</td>\n",
              "      <td>070XX S CALIFORNIA AVE</td>\n",
              "      <td>1562</td>\n",
              "      <td>SEX OFFENSE</td>\n",
              "      <td>AGG CRIMINAL SEXUAL ABUSE</td>\n",
              "      <td>APARTMENT</td>\n",
              "      <td>0</td>\n",
              "      <td>1</td>\n",
              "      <td>831</td>\n",
              "      <td>17.0</td>\n",
              "      <td>66.0</td>\n",
              "      <td>17</td>\n",
              "      <td>1158921.0</td>\n",
              "      <td>1857929.0</td>\n",
              "      <td>41.765884</td>\n",
              "      <td>-87.693061</td>\n",
              "      <td>Chicago Lawn</td>\n",
              "      <td>1154575.242</td>\n",
              "      <td>1862672.049</td>\n",
              "      <td>41.778987</td>\n",
              "      <td>-87.708864</td>\n",
              "      <td>6432.894093</td>\n",
              "      <td>02:45:00</td>\n",
              "      <td>4</td>\n",
              "      <td>27</td>\n",
              "      <td>Spring</td>\n",
              "      <td>1</td>\n",
              "      <td>0</td>\n",
              "    </tr>\n",
              "  </tbody>\n",
              "</table>\n",
              "</div>"
            ],
            "text/plain": [
              "   District  index Case Number  ...  Season crimeGroups ArrestLabel\n",
              "0         4      2    JB528220  ...  Autumn           1           1\n",
              "1        22      3    JB495848  ...  Summer           3           1\n",
              "2         7      5    JB505888  ...  Autumn           2           1\n",
              "3        24      6    JB472665  ...  Autumn           2           1\n",
              "4         8      9    JB241744  ...  Spring           1           0\n",
              "\n",
              "[5 rows x 31 columns]"
            ]
          },
          "metadata": {
            "tags": []
          },
          "execution_count": 6
        }
      ]
    },
    {
      "cell_type": "code",
      "metadata": {
        "id": "w_7LAP7T9hbb",
        "colab_type": "code",
        "outputId": "14c2e6aa-306d-4c66-cf41-b641d25c5538",
        "colab": {
          "base_uri": "https://localhost:8080/",
          "height": 413
        }
      },
      "source": [
        "#Dropping column\n",
        "df=df.drop(columns=['Arrest'])\n",
        "df.rename(columns={'ArrestLabel':'Arrest'},inplace=True)\n",
        "df.head()"
      ],
      "execution_count": 7,
      "outputs": [
        {
          "output_type": "execute_result",
          "data": {
            "text/html": [
              "<div>\n",
              "<style scoped>\n",
              "    .dataframe tbody tr th:only-of-type {\n",
              "        vertical-align: middle;\n",
              "    }\n",
              "\n",
              "    .dataframe tbody tr th {\n",
              "        vertical-align: top;\n",
              "    }\n",
              "\n",
              "    .dataframe thead th {\n",
              "        text-align: right;\n",
              "    }\n",
              "</style>\n",
              "<table border=\"1\" class=\"dataframe\">\n",
              "  <thead>\n",
              "    <tr style=\"text-align: right;\">\n",
              "      <th></th>\n",
              "      <th>District</th>\n",
              "      <th>index</th>\n",
              "      <th>Case Number</th>\n",
              "      <th>Date</th>\n",
              "      <th>Block</th>\n",
              "      <th>IUCR</th>\n",
              "      <th>Primary Type</th>\n",
              "      <th>Description</th>\n",
              "      <th>Location Description</th>\n",
              "      <th>Domestic</th>\n",
              "      <th>Beat</th>\n",
              "      <th>Ward</th>\n",
              "      <th>Community Area</th>\n",
              "      <th>FBI Code</th>\n",
              "      <th>X Coordinate</th>\n",
              "      <th>Y Coordinate</th>\n",
              "      <th>Latitude</th>\n",
              "      <th>Longitude</th>\n",
              "      <th>p_dname</th>\n",
              "      <th>p_x</th>\n",
              "      <th>p_y</th>\n",
              "      <th>p_latitude</th>\n",
              "      <th>p_longitude</th>\n",
              "      <th>Distance</th>\n",
              "      <th>Time</th>\n",
              "      <th>Month</th>\n",
              "      <th>Day</th>\n",
              "      <th>Season</th>\n",
              "      <th>crimeGroups</th>\n",
              "      <th>Arrest</th>\n",
              "    </tr>\n",
              "  </thead>\n",
              "  <tbody>\n",
              "    <tr>\n",
              "      <th>0</th>\n",
              "      <td>4</td>\n",
              "      <td>2</td>\n",
              "      <td>JB528220</td>\n",
              "      <td>11/24/2018</td>\n",
              "      <td>095XX S STONY ISLAND AVE</td>\n",
              "      <td>0261</td>\n",
              "      <td>CRIM SEXUAL ASSAULT</td>\n",
              "      <td>AGGRAVATED: HANDGUN</td>\n",
              "      <td>ALLEY</td>\n",
              "      <td>0</td>\n",
              "      <td>431</td>\n",
              "      <td>7.0</td>\n",
              "      <td>51.0</td>\n",
              "      <td>02</td>\n",
              "      <td>1188521.0</td>\n",
              "      <td>1842119.0</td>\n",
              "      <td>41.721844</td>\n",
              "      <td>-87.585072</td>\n",
              "      <td>South Chicago</td>\n",
              "      <td>1193131.299</td>\n",
              "      <td>1837090.265</td>\n",
              "      <td>41.707933</td>\n",
              "      <td>-87.568349</td>\n",
              "      <td>6822.245420</td>\n",
              "      <td>08:45:00</td>\n",
              "      <td>11</td>\n",
              "      <td>24</td>\n",
              "      <td>Autumn</td>\n",
              "      <td>1</td>\n",
              "      <td>1</td>\n",
              "    </tr>\n",
              "    <tr>\n",
              "      <th>1</th>\n",
              "      <td>22</td>\n",
              "      <td>3</td>\n",
              "      <td>JB495848</td>\n",
              "      <td>08/27/2018</td>\n",
              "      <td>092XX S UNION AVE</td>\n",
              "      <td>1120</td>\n",
              "      <td>DECEPTIVE PRACTICE</td>\n",
              "      <td>FORGERY</td>\n",
              "      <td>RESIDENCE</td>\n",
              "      <td>0</td>\n",
              "      <td>2223</td>\n",
              "      <td>21.0</td>\n",
              "      <td>73.0</td>\n",
              "      <td>10</td>\n",
              "      <td>1173264.0</td>\n",
              "      <td>1843551.0</td>\n",
              "      <td>41.726124</td>\n",
              "      <td>-87.640913</td>\n",
              "      <td>Morgan Park</td>\n",
              "      <td>1165825.476</td>\n",
              "      <td>1830851.333</td>\n",
              "      <td>41.691435</td>\n",
              "      <td>-87.668520</td>\n",
              "      <td>14717.784521</td>\n",
              "      <td>12:00:00</td>\n",
              "      <td>8</td>\n",
              "      <td>27</td>\n",
              "      <td>Summer</td>\n",
              "      <td>3</td>\n",
              "      <td>1</td>\n",
              "    </tr>\n",
              "    <tr>\n",
              "      <th>2</th>\n",
              "      <td>7</td>\n",
              "      <td>5</td>\n",
              "      <td>JB505888</td>\n",
              "      <td>09/27/2018</td>\n",
              "      <td>068XX S PERRY AVE</td>\n",
              "      <td>1020</td>\n",
              "      <td>ARSON</td>\n",
              "      <td>BY FIRE</td>\n",
              "      <td>VEHICLE NON-COMMERCIAL</td>\n",
              "      <td>0</td>\n",
              "      <td>722</td>\n",
              "      <td>6.0</td>\n",
              "      <td>69.0</td>\n",
              "      <td>09</td>\n",
              "      <td>1176575.0</td>\n",
              "      <td>1859723.0</td>\n",
              "      <td>41.770428</td>\n",
              "      <td>-87.628300</td>\n",
              "      <td>Englewood</td>\n",
              "      <td>1167659.235</td>\n",
              "      <td>1863005.522</td>\n",
              "      <td>41.779632</td>\n",
              "      <td>-87.660887</td>\n",
              "      <td>9500.832396</td>\n",
              "      <td>10:30:00</td>\n",
              "      <td>9</td>\n",
              "      <td>27</td>\n",
              "      <td>Autumn</td>\n",
              "      <td>2</td>\n",
              "      <td>1</td>\n",
              "    </tr>\n",
              "    <tr>\n",
              "      <th>3</th>\n",
              "      <td>24</td>\n",
              "      <td>6</td>\n",
              "      <td>JB472665</td>\n",
              "      <td>10/12/2018</td>\n",
              "      <td>061XX N BROADWAY</td>\n",
              "      <td>0890</td>\n",
              "      <td>THEFT</td>\n",
              "      <td>FROM BUILDING</td>\n",
              "      <td>COMMERCIAL / BUSINESS OFFICE</td>\n",
              "      <td>0</td>\n",
              "      <td>2433</td>\n",
              "      <td>48.0</td>\n",
              "      <td>77.0</td>\n",
              "      <td>06</td>\n",
              "      <td>1167199.0</td>\n",
              "      <td>1940579.0</td>\n",
              "      <td>41.992509</td>\n",
              "      <td>-87.660344</td>\n",
              "      <td>Rogers Park</td>\n",
              "      <td>1164193.588</td>\n",
              "      <td>1943199.401</td>\n",
              "      <td>41.999763</td>\n",
              "      <td>-87.671324</td>\n",
              "      <td>3987.355350</td>\n",
              "      <td>12:04:00</td>\n",
              "      <td>10</td>\n",
              "      <td>12</td>\n",
              "      <td>Autumn</td>\n",
              "      <td>2</td>\n",
              "      <td>1</td>\n",
              "    </tr>\n",
              "    <tr>\n",
              "      <th>4</th>\n",
              "      <td>8</td>\n",
              "      <td>9</td>\n",
              "      <td>JB241744</td>\n",
              "      <td>04/27/2018</td>\n",
              "      <td>070XX S CALIFORNIA AVE</td>\n",
              "      <td>1562</td>\n",
              "      <td>SEX OFFENSE</td>\n",
              "      <td>AGG CRIMINAL SEXUAL ABUSE</td>\n",
              "      <td>APARTMENT</td>\n",
              "      <td>1</td>\n",
              "      <td>831</td>\n",
              "      <td>17.0</td>\n",
              "      <td>66.0</td>\n",
              "      <td>17</td>\n",
              "      <td>1158921.0</td>\n",
              "      <td>1857929.0</td>\n",
              "      <td>41.765884</td>\n",
              "      <td>-87.693061</td>\n",
              "      <td>Chicago Lawn</td>\n",
              "      <td>1154575.242</td>\n",
              "      <td>1862672.049</td>\n",
              "      <td>41.778987</td>\n",
              "      <td>-87.708864</td>\n",
              "      <td>6432.894093</td>\n",
              "      <td>02:45:00</td>\n",
              "      <td>4</td>\n",
              "      <td>27</td>\n",
              "      <td>Spring</td>\n",
              "      <td>1</td>\n",
              "      <td>0</td>\n",
              "    </tr>\n",
              "  </tbody>\n",
              "</table>\n",
              "</div>"
            ],
            "text/plain": [
              "   District  index Case Number        Date  ... Day  Season crimeGroups Arrest\n",
              "0         4      2    JB528220  11/24/2018  ...  24  Autumn           1      1\n",
              "1        22      3    JB495848  08/27/2018  ...  27  Summer           3      1\n",
              "2         7      5    JB505888  09/27/2018  ...  27  Autumn           2      1\n",
              "3        24      6    JB472665  10/12/2018  ...  12  Autumn           2      1\n",
              "4         8      9    JB241744  04/27/2018  ...  27  Spring           1      0\n",
              "\n",
              "[5 rows x 30 columns]"
            ]
          },
          "metadata": {
            "tags": []
          },
          "execution_count": 7
        }
      ]
    },
    {
      "cell_type": "code",
      "metadata": {
        "id": "iTLXKpD99hbm",
        "colab_type": "code",
        "colab": {}
      },
      "source": [
        "df=df.drop(columns=['Beat','Ward','Latitude','Longitude','p_x','p_y','p_latitude','p_longitude','Case Number','Block','FBI Code','Date','p_dname','Primary Type','Season'])\n",
        "df=df.drop(columns=[\"Description\",\"Location Description\",\"Domestic\",\"Community Area\",\"X Coordinate\",\"Y Coordinate\",\"Month\",\"Day\"])"
      ],
      "execution_count": 0,
      "outputs": []
    },
    {
      "cell_type": "code",
      "metadata": {
        "id": "uAwbzolM9hbq",
        "colab_type": "code",
        "outputId": "07cfc638-3309-4439-e4b6-06c9317ebfd5",
        "colab": {
          "base_uri": "https://localhost:8080/",
          "height": 225
        }
      },
      "source": [
        "df.info()"
      ],
      "execution_count": 9,
      "outputs": [
        {
          "output_type": "stream",
          "text": [
            "<class 'pandas.core.frame.DataFrame'>\n",
            "RangeIndex: 485344 entries, 0 to 485343\n",
            "Data columns (total 7 columns):\n",
            "District       485344 non-null int64\n",
            "index          485344 non-null int64\n",
            "IUCR           485344 non-null object\n",
            "Distance       485344 non-null float64\n",
            "Time           485344 non-null object\n",
            "crimeGroups    485344 non-null int64\n",
            "Arrest         485344 non-null int64\n",
            "dtypes: float64(1), int64(4), object(2)\n",
            "memory usage: 25.9+ MB\n"
          ],
          "name": "stdout"
        }
      ]
    },
    {
      "cell_type": "code",
      "metadata": {
        "id": "rbqDDUPJ9hbv",
        "colab_type": "code",
        "outputId": "3b8ad105-4101-4f01-bd55-73deeeac34de",
        "colab": {
          "base_uri": "https://localhost:8080/",
          "height": 34
        }
      },
      "source": [
        "#making dummy variables out of the object variables \n",
        "#df_dum= pd.get_dummies(df)\n",
        "#df_dum.head()\n",
        "#data['Ntime'] = (data['seconds'] - data['seconds'].min())/(data['seconds'].max()-data['seconds'].min())\n",
        "df['IUCR Cat']=df['IUCR'].astype(\"category\").cat.codes\n",
        "X = df.drop(columns=[\"crimeGroups\",\"Arrest\",\"IUCR\",\"Time\"])\n",
        "y = df[[\"crimeGroups\"]]\n",
        "print(X.shape, y.shape)"
      ],
      "execution_count": 10,
      "outputs": [
        {
          "output_type": "stream",
          "text": [
            "(485344, 4) (485344, 1)\n"
          ],
          "name": "stdout"
        }
      ]
    },
    {
      "cell_type": "code",
      "metadata": {
        "id": "sy2A_74OH-Vo",
        "colab_type": "code",
        "outputId": "fbd437c0-e767-4d9f-b3d9-425d9c6ef0a4",
        "colab": {
          "base_uri": "https://localhost:8080/",
          "height": 260
        }
      },
      "source": [
        "X.head"
      ],
      "execution_count": 11,
      "outputs": [
        {
          "output_type": "execute_result",
          "data": {
            "text/plain": [
              "<bound method NDFrame.head of         District   index      Distance  IUCR Cat\n",
              "0              4       2   6822.245420         2\n",
              "1             22       3  14717.784521       103\n",
              "2              7       5   9500.832396        97\n",
              "3             24       6   3987.355350        84\n",
              "4              8       9   6432.894093       177\n",
              "...          ...     ...           ...       ...\n",
              "485339         8  224407   7287.873953       101\n",
              "485340         7  224408   4288.521873       101\n",
              "485341         7  224409   1541.306056       101\n",
              "485342         5  224410   6056.942572       101\n",
              "485343         6  224411   2708.275085       101\n",
              "\n",
              "[485344 rows x 4 columns]>"
            ]
          },
          "metadata": {
            "tags": []
          },
          "execution_count": 11
        }
      ]
    },
    {
      "cell_type": "code",
      "metadata": {
        "id": "AisBHjfH_P0P",
        "colab_type": "code",
        "outputId": "23871d80-fc5b-406a-a60c-635aa1b2ba23",
        "colab": {
          "base_uri": "https://localhost:8080/",
          "height": 34
        }
      },
      "source": [
        "y['crimeGroups'].unique()"
      ],
      "execution_count": 12,
      "outputs": [
        {
          "output_type": "execute_result",
          "data": {
            "text/plain": [
              "array([1, 3, 2, 4, 5])"
            ]
          },
          "metadata": {
            "tags": []
          },
          "execution_count": 12
        }
      ]
    },
    {
      "cell_type": "code",
      "metadata": {
        "id": "SZcS1MyP9hbz",
        "colab_type": "code",
        "colab": {}
      },
      "source": [
        "#Dividing the data into Train and Test set\n",
        "X_train, X_test, y_train, y_test = train_test_split(X,y, test_size = 0.2, random_state=0)"
      ],
      "execution_count": 0,
      "outputs": []
    },
    {
      "cell_type": "code",
      "metadata": {
        "id": "_ncHUk749hb2",
        "colab_type": "code",
        "colab": {}
      },
      "source": [
        "scaler = StandardScaler()\n",
        "scaler.fit(X_train)\n",
        "X_scaled = scaler.transform(X_train)"
      ],
      "execution_count": 0,
      "outputs": []
    },
    {
      "cell_type": "code",
      "metadata": {
        "id": "i8SbcUW4Ki6w",
        "colab_type": "code",
        "outputId": "ae42eec1-3891-4e8c-c903-82e7b29b67c1",
        "colab": {
          "base_uri": "https://localhost:8080/",
          "height": 34
        }
      },
      "source": [
        "X_scaled[0:1]"
      ],
      "execution_count": 20,
      "outputs": [
        {
          "output_type": "execute_result",
          "data": {
            "text/plain": [
              "array([[ 0.83953522, -1.02231969, -1.03376793, -0.58829716]])"
            ]
          },
          "metadata": {
            "tags": []
          },
          "execution_count": 20
        }
      ]
    },
    {
      "cell_type": "code",
      "metadata": {
        "id": "Evxl9HNd_f6K",
        "colab_type": "code",
        "colab": {}
      },
      "source": [
        "clustering = KMeans(n_clusters = 5, init = 'k-means++', n_init = 20,random_state=0).fit(X_scaled)\n",
        "clusters = clustering.labels_"
      ],
      "execution_count": 0,
      "outputs": []
    },
    {
      "cell_type": "code",
      "metadata": {
        "id": "44oUMbN1K1Mj",
        "colab_type": "code",
        "outputId": "a9e6a706-9d6e-4bad-a8b5-929311ee27f9",
        "colab": {
          "base_uri": "https://localhost:8080/",
          "height": 34
        }
      },
      "source": [
        "clusters[0:5]"
      ],
      "execution_count": 22,
      "outputs": [
        {
          "output_type": "execute_result",
          "data": {
            "text/plain": [
              "array([1, 3, 2, 4, 3], dtype=int32)"
            ]
          },
          "metadata": {
            "tags": []
          },
          "execution_count": 22
        }
      ]
    },
    {
      "cell_type": "code",
      "metadata": {
        "id": "lzvFmk8fNA2P",
        "colab_type": "code",
        "colab": {}
      },
      "source": [
        "X_train['clusters'] = clusters - 1"
      ],
      "execution_count": 0,
      "outputs": []
    },
    {
      "cell_type": "code",
      "metadata": {
        "id": "0WqboZElCoEL",
        "colab_type": "code",
        "outputId": "27d7379c-7894-4092-88ac-d1823e063954",
        "colab": {
          "base_uri": "https://localhost:8080/",
          "height": 729
        }
      },
      "source": [
        "cont_matrix = metrics.cluster.contingency_matrix(y_train,X_train['clusters'])\n",
        "fig, ax = plt.subplots(figsize=(10,10))  \n",
        "ax=sns.heatmap(cont_matrix, yticklabels=5, annot = True, fmt = \".3f\", square = False, cmap = plt.cm.Blues)\n",
        "plt.ylabel('Actual')\n",
        "plt.xlabel('Predicted')\n",
        "plt.title('Contingency matrix')\n",
        "plt.tight_layout()"
      ],
      "execution_count": 24,
      "outputs": [
        {
          "output_type": "display_data",
          "data": {
            "image/png": "[encoded data removed]",
            "text/plain": [
              "<Figure size 720x720 with 2 Axes>"
            ]
          },
          "metadata": {
            "tags": []
          }
        }
      ]
    },
    {
      "cell_type": "code",
      "metadata": {
        "id": "4QhLFZ8RNd0i",
        "colab_type": "code",
        "outputId": "ddab4573-fb9c-442f-8857-16ff73199355",
        "colab": {
          "base_uri": "https://localhost:8080/",
          "height": 34
        }
      },
      "source": [
        "X_train['clusters'].shape"
      ],
      "execution_count": 25,
      "outputs": [
        {
          "output_type": "execute_result",
          "data": {
            "text/plain": [
              "(388275,)"
            ]
          },
          "metadata": {
            "tags": []
          },
          "execution_count": 25
        }
      ]
    },
    {
      "cell_type": "code",
      "metadata": {
        "id": "FCJBVqRvPlCA",
        "colab_type": "code",
        "colab": {}
      },
      "source": [
        "Y=np.squeeze(y_train)"
      ],
      "execution_count": 0,
      "outputs": []
    },
    {
      "cell_type": "code",
      "metadata": {
        "id": "lixeUoBbCoZ8",
        "colab_type": "code",
        "outputId": "d227c2e0-85bf-442d-8f46-461afc4b91cd",
        "colab": {
          "base_uri": "https://localhost:8080/",
          "height": 34
        }
      },
      "source": [
        "adjusted_rand_index = metrics.adjusted_rand_score(Y, X_train['clusters'])\n",
        "silhouette_coefficient = metrics.silhouette_score(X_scaled, clusters, metric = \"euclidean\")\n",
        "print([adjusted_rand_index, silhouette_coefficient])"
      ],
      "execution_count": 37,
      "outputs": [
        {
          "output_type": "stream",
          "text": [
            "[0.01099136342906424, 0.22473666853860663]\n"
          ],
          "name": "stdout"
        }
      ]
    },
    {
      "cell_type": "code",
      "metadata": {
        "id": "lZIDMVQQfYou",
        "colab_type": "code",
        "colab": {}
      },
      "source": [
        "clustering = KMeans(n_clusters = 5, init = 'random', n_init = 10,random_state=0).fit(X_scaled)\n",
        "clusters = clustering.labels_"
      ],
      "execution_count": 0,
      "outputs": []
    },
    {
      "cell_type": "code",
      "metadata": {
        "id": "7AeMEGZhfY_Q",
        "colab_type": "code",
        "outputId": "10469205-1271-49c0-8232-d93d69b74013",
        "colab": {
          "base_uri": "https://localhost:8080/",
          "height": 33
        }
      },
      "source": [
        "clusters[0:5]"
      ],
      "execution_count": 0,
      "outputs": [
        {
          "output_type": "execute_result",
          "data": {
            "text/plain": [
              "array([2, 1, 0, 3, 1], dtype=int32)"
            ]
          },
          "metadata": {
            "tags": []
          },
          "execution_count": 22
        }
      ]
    },
    {
      "cell_type": "code",
      "metadata": {
        "id": "2hlhNxhGfZIt",
        "colab_type": "code",
        "colab": {}
      },
      "source": [
        "X_train['clusters'] = clusters - 1"
      ],
      "execution_count": 0,
      "outputs": []
    },
    {
      "cell_type": "code",
      "metadata": {
        "id": "GG5inuoDfY6r",
        "colab_type": "code",
        "outputId": "16c2cd2c-241a-4aba-c452-672dd5d0bef0",
        "colab": {
          "base_uri": "https://localhost:8080/",
          "height": 729
        }
      },
      "source": [
        "cont_matrix = metrics.cluster.contingency_matrix(y_train,X_train['clusters'])\n",
        "fig, ax = plt.subplots(figsize=(10,10))  \n",
        "ax=sns.heatmap(cont_matrix, yticklabels=5, annot = True, fmt = \".3f\", square = False, cmap = plt.cm.Blues)\n",
        "plt.ylabel('Actual')\n",
        "plt.xlabel('Predicted')\n",
        "plt.title('Contingency matrix')\n",
        "plt.tight_layout()"
      ],
      "execution_count": 43,
      "outputs": [
        {
          "output_type": "display_data",
          "data": {
            "image/png": "[encoded data removed]",
            "text/plain": [
              "<Figure size 720x720 with 2 Axes>"
            ]
          },
          "metadata": {
            "tags": []
          }
        }
      ]
    },
    {
      "cell_type": "code",
      "metadata": {
        "id": "Dx2F7PK-fY5D",
        "colab_type": "code",
        "outputId": "d42fc38a-9782-4866-f83c-6d148e86616c",
        "colab": {
          "base_uri": "https://localhost:8080/",
          "height": 33
        }
      },
      "source": [
        "X_train['clusters'].shape"
      ],
      "execution_count": 0,
      "outputs": [
        {
          "output_type": "execute_result",
          "data": {
            "text/plain": [
              "(388275,)"
            ]
          },
          "metadata": {
            "tags": []
          },
          "execution_count": 25
        }
      ]
    },
    {
      "cell_type": "code",
      "metadata": {
        "id": "812KKhCYfkYn",
        "colab_type": "code",
        "colab": {}
      },
      "source": [
        "Y=np.squeeze(y_train)"
      ],
      "execution_count": 0,
      "outputs": []
    },
    {
      "cell_type": "code",
      "metadata": {
        "id": "rtAB3yE6fkgc",
        "colab_type": "code",
        "outputId": "2f9475fa-00e4-48e2-eece-eca973c786e2",
        "colab": {
          "base_uri": "https://localhost:8080/",
          "height": 33
        }
      },
      "source": [
        "adjusted_rand_index = metrics.adjusted_rand_score(Y, X_train['clusters'])\n",
        "silhouette_coefficient = metrics.silhouette_score(X_scaled, clusters, metric = \"euclidean\")\n",
        "print([adjusted_rand_index, silhouette_coefficient])"
      ],
      "execution_count": 0,
      "outputs": [
        {
          "output_type": "stream",
          "text": [
            "[0.01127587904198441, 0.22532772840833132]\n"
          ],
          "name": "stdout"
        }
      ]
    },
    {
      "cell_type": "code",
      "metadata": {
        "id": "mCGaFXU0xNQz",
        "colab_type": "code",
        "colab": {}
      },
      "source": [
        "kmeans = pd.DataFrame(clusters)"
      ],
      "execution_count": 0,
      "outputs": []
    },
    {
      "cell_type": "code",
      "metadata": {
        "id": "rjKz7qE8ymmK",
        "colab_type": "code",
        "outputId": "a483db26-603f-47e1-d3c5-212c314c90a0",
        "colab": {
          "base_uri": "https://localhost:8080/",
          "height": 225
        }
      },
      "source": [
        "kmeans[0]"
      ],
      "execution_count": 32,
      "outputs": [
        {
          "output_type": "execute_result",
          "data": {
            "text/plain": [
              "0         1\n",
              "1         3\n",
              "2         2\n",
              "3         4\n",
              "4         3\n",
              "         ..\n",
              "388270    2\n",
              "388271    0\n",
              "388272    3\n",
              "388273    2\n",
              "388274    2\n",
              "Name: 0, Length: 388275, dtype: int32"
            ]
          },
          "metadata": {
            "tags": []
          },
          "execution_count": 32
        }
      ]
    },
    {
      "cell_type": "code",
      "metadata": {
        "id": "gBgjTiL6fkUn",
        "colab_type": "code",
        "outputId": "fc9629b0-f71d-4894-e02c-4ab4414bb253",
        "colab": {
          "base_uri": "https://localhost:8080/",
          "height": 312
        }
      },
      "source": [
        "fig = plt.figure()\n",
        "ax = fig.add_subplot(111)\n",
        "scatter = ax.scatter(X_train['District'],X_train['IUCR Cat'],\n",
        "                     c=kmeans[0],s=50)\n",
        "ax.set_title('K-Means Clustering')\n",
        "ax.set_xlabel('District')\n",
        "ax.set_ylabel('IUCR')\n",
        "plt.colorbar(scatter)"
      ],
      "execution_count": 35,
      "outputs": [
        {
          "output_type": "execute_result",
          "data": {
            "text/plain": [
              "<matplotlib.colorbar.Colorbar at 0x7f0bad222ac8>"
            ]
          },
          "metadata": {
            "tags": []
          },
          "execution_count": 35
        },
        {
          "output_type": "display_data",
          "data": {
            "image/png": "[encoded data removed]",
            "text/plain": [
              "<Figure size 432x288 with 2 Axes>"
            ]
          },
          "metadata": {
            "tags": []
          }
        }
      ]
    },
    {
      "cell_type": "code",
      "metadata": {
        "id": "JuAmgu5ZfkTA",
        "colab_type": "code",
        "colab": {
          "base_uri": "https://localhost:8080/",
          "height": 312
        },
        "outputId": "6cf4d4f9-3ec9-4f33-de93-277fb48567ac"
      },
      "source": [
        "fig = plt.figure()\n",
        "ax = fig.add_subplot(111)\n",
        "scatter = ax.scatter(X_train['District'],X_train['Distance'],\n",
        "                     c=kmeans[0],s=50)\n",
        "ax.set_title('K-Means Clustering')\n",
        "ax.set_xlabel('District')\n",
        "ax.set_ylabel('Distance')\n",
        "plt.colorbar(scatter)"
      ],
      "execution_count": 36,
      "outputs": [
        {
          "output_type": "execute_result",
          "data": {
            "text/plain": [
              "<matplotlib.colorbar.Colorbar at 0x7f0bab94e7b8>"
            ]
          },
          "metadata": {
            "tags": []
          },
          "execution_count": 36
        },
        {
          "output_type": "display_data",
          "data": {
            "image/png": "[encoded data removed]",
            "text/plain": [
              "<Figure size 432x288 with 2 Axes>"
            ]
          },
          "metadata": {
            "tags": []
          }
        }
      ]
    },
    {
      "cell_type": "code",
      "metadata": {
        "id": "3406FqBMfkPf",
        "colab_type": "code",
        "colab": {}
      },
      "source": [
        ""
      ],
      "execution_count": 0,
      "outputs": []
    },
    {
      "cell_type": "code",
      "metadata": {
        "id": "_DwaB6eGCoo5",
        "colab_type": "code",
        "colab": {}
      },
      "source": [
        "clustering = DBSCAN(eps = 5, min_samples = 7, metric = \"euclidean\").fit(X_scaled)\n",
        "clusters = clustering.labels_"
      ],
      "execution_count": 0,
      "outputs": []
    },
    {
      "cell_type": "code",
      "metadata": {
        "id": "Eq5KIDGKYpHx",
        "colab_type": "code",
        "colab": {}
      },
      "source": [
        "cont_matrix = metrics.cluster.contingency_matrix(ytrain,clusters)\n",
        "sns.heatmap(cont_matrix, annot = True, fmt = \".3f\", square = True, cmap = plt.cm.Greens)\n",
        "plt.ylabel('Actual')\n",
        "plt.xlabel('Predicted')\n",
        "plt.title('Contingency matrix')\n",
        "plt.tight_layout()"
      ],
      "execution_count": 0,
      "outputs": []
    },
    {
      "cell_type": "code",
      "metadata": {
        "id": "eLvSKdzhZKq_",
        "colab_type": "code",
        "colab": {}
      },
      "source": [
        "adjusted_rand_index = metrics.adjusted_rand_score(ytrain, clusters)\n",
        "silhouette_coefficient = metrics.silhouette_score(X_scaled, clusters, metric = \"euclidean\")\n",
        "print([adjusted_rand_index, silhouette_coefficient])"
      ],
      "execution_count": 0,
      "outputs": []
    }
  ]
}
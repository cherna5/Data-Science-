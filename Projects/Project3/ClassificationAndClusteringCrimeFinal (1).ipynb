{
 "cells": [
  {
   "cell_type": "code",
   "execution_count": 141,
   "metadata": {
    "colab": {
     "base_uri": "https://localhost:8080/",
     "height": 180
    },
    "colab_type": "code",
    "executionInfo": {
     "elapsed": 8775,
     "status": "ok",
     "timestamp": 1575311281619,
     "user": {
      "displayName": "Snehal Tikare",
      "photoUrl": "",
      "userId": "17239970982901927271"
     },
     "user_tz": 360
    },
    "id": "D6rds8ahf8Ev",
    "outputId": "d14a55b5-8821-4484-adb4-2487d6cee7a8"
   },
   "outputs": [
    {
     "name": "stdout",
     "output_type": "stream",
     "text": [
      "Requirement already satisfied: imblearn in /opt/anaconda3/lib/python3.7/site-packages (0.0)\n",
      "Requirement already satisfied: imbalanced-learn in /opt/anaconda3/lib/python3.7/site-packages (from imblearn) (0.5.0)\n",
      "Requirement already satisfied: joblib>=0.11 in /opt/anaconda3/lib/python3.7/site-packages (from imbalanced-learn->imblearn) (0.13.2)\n",
      "Requirement already satisfied: numpy>=1.11 in /opt/anaconda3/lib/python3.7/site-packages (from imbalanced-learn->imblearn) (1.17.2)\n",
      "Requirement already satisfied: scipy>=0.17 in /opt/anaconda3/lib/python3.7/site-packages (from imbalanced-learn->imblearn) (1.3.1)\n",
      "Requirement already satisfied: scikit-learn>=0.21 in /opt/anaconda3/lib/python3.7/site-packages (from imbalanced-learn->imblearn) (0.21.3)\n"
     ]
    }
   ],
   "source": [
    "import pandas as pd  \n",
    "import numpy as np\n",
    "from sklearn.model_selection import KFold\n",
    "import seaborn as sas \n",
    "import matplotlib.pyplot as plt\n",
    "import sklearn\n",
    "from sklearn.model_selection import train_test_split\n",
    "from sklearn import datasets, linear_model\n",
    "from sklearn.preprocessing import StandardScaler\n",
    "from scipy.cluster.hierarchy import linkage,fcluster\n",
    "from sklearn import metrics \n",
    "from sklearn.tree import DecisionTreeClassifier\n",
    "from sklearn.neighbors import KNeighborsClassifier \n",
    "from sklearn.naive_bayes import GaussianNB\n",
    "from sklearn.svm import SVC\n",
    "import seaborn as sns\n",
    "from sklearn.linear_model import LinearRegression\n",
    "import statsmodels.formula.api as smf\n",
    "from sklearn.cluster import KMeans, DBSCAN,AgglomerativeClustering\n",
    "from sklearn import metrics\n",
    "import plotly.figure_factory as ff\n",
    "from sklearn.preprocessing import LabelEncoder\n",
    "from sklearn.preprocessing import OneHotEncoder\n",
    "from sklearn.compose import ColumnTransformer\n",
    "!pip install imblearn\n",
    "from imblearn.over_sampling import SMOTE\n",
    "from imblearn.under_sampling import NearMiss\n",
    "from sklearn.linear_model import LogisticRegression\n",
    "from sklearn.ensemble import RandomForestClassifier"
   ]
  },
  {
   "cell_type": "code",
   "execution_count": 142,
   "metadata": {
    "colab": {
     "base_uri": "https://localhost:8080/",
     "height": 33
    },
    "colab_type": "code",
    "executionInfo": {
     "elapsed": 1463,
     "status": "ok",
     "timestamp": 1575311283121,
     "user": {
      "displayName": "Snehal Tikare",
      "photoUrl": "",
      "userId": "17239970982901927271"
     },
     "user_tz": 360
    },
    "id": "yyKUx2wZi-9P",
    "outputId": "f2312fa7-8174-4b37-9461-7f244ec05e51"
   },
   "outputs": [],
   "source": [
    "#from google.colab import drive\n",
    "#drive.mount('/content/drive')"
   ]
  },
  {
   "cell_type": "code",
   "execution_count": 143,
   "metadata": {
    "colab": {
     "base_uri": "https://localhost:8080/",
     "height": 390
    },
    "colab_type": "code",
    "executionInfo": {
     "elapsed": 4761,
     "status": "ok",
     "timestamp": 1575311286437,
     "user": {
      "displayName": "Snehal Tikare",
      "photoUrl": "",
      "userId": "17239970982901927271"
     },
     "user_tz": 360
    },
    "id": "mNjKGkeAf8E-",
    "outputId": "aec09dc1-4484-472e-9943-ef193ee42fcd"
   },
   "outputs": [
    {
     "data": {
      "text/html": [
       "<div>\n",
       "<style scoped>\n",
       "    .dataframe tbody tr th:only-of-type {\n",
       "        vertical-align: middle;\n",
       "    }\n",
       "\n",
       "    .dataframe tbody tr th {\n",
       "        vertical-align: top;\n",
       "    }\n",
       "\n",
       "    .dataframe thead th {\n",
       "        text-align: right;\n",
       "    }\n",
       "</style>\n",
       "<table border=\"1\" class=\"dataframe\">\n",
       "  <thead>\n",
       "    <tr style=\"text-align: right;\">\n",
       "      <th></th>\n",
       "      <th>District</th>\n",
       "      <th>index</th>\n",
       "      <th>Case Number</th>\n",
       "      <th>Date</th>\n",
       "      <th>Block</th>\n",
       "      <th>IUCR</th>\n",
       "      <th>Primary Type</th>\n",
       "      <th>Description</th>\n",
       "      <th>Location Description</th>\n",
       "      <th>Arrest</th>\n",
       "      <th>...</th>\n",
       "      <th>p_x</th>\n",
       "      <th>p_y</th>\n",
       "      <th>p_latitude</th>\n",
       "      <th>p_longitude</th>\n",
       "      <th>Distance</th>\n",
       "      <th>Time</th>\n",
       "      <th>Month</th>\n",
       "      <th>Day</th>\n",
       "      <th>Season</th>\n",
       "      <th>crimeGroups</th>\n",
       "    </tr>\n",
       "  </thead>\n",
       "  <tbody>\n",
       "    <tr>\n",
       "      <td>0</td>\n",
       "      <td>4</td>\n",
       "      <td>2</td>\n",
       "      <td>JB528220</td>\n",
       "      <td>11/24/2018</td>\n",
       "      <td>095XX S STONY ISLAND AVE</td>\n",
       "      <td>0261</td>\n",
       "      <td>CRIM SEXUAL ASSAULT</td>\n",
       "      <td>AGGRAVATED: HANDGUN</td>\n",
       "      <td>ALLEY</td>\n",
       "      <td>1</td>\n",
       "      <td>...</td>\n",
       "      <td>1193131.299</td>\n",
       "      <td>1837090.265</td>\n",
       "      <td>41.707933</td>\n",
       "      <td>-87.568349</td>\n",
       "      <td>6822.245420</td>\n",
       "      <td>08:45:00</td>\n",
       "      <td>11</td>\n",
       "      <td>24</td>\n",
       "      <td>Autumn</td>\n",
       "      <td>1</td>\n",
       "    </tr>\n",
       "    <tr>\n",
       "      <td>1</td>\n",
       "      <td>22</td>\n",
       "      <td>3</td>\n",
       "      <td>JB495848</td>\n",
       "      <td>08/27/2018</td>\n",
       "      <td>092XX S UNION AVE</td>\n",
       "      <td>1120</td>\n",
       "      <td>DECEPTIVE PRACTICE</td>\n",
       "      <td>FORGERY</td>\n",
       "      <td>RESIDENCE</td>\n",
       "      <td>1</td>\n",
       "      <td>...</td>\n",
       "      <td>1165825.476</td>\n",
       "      <td>1830851.333</td>\n",
       "      <td>41.691435</td>\n",
       "      <td>-87.668520</td>\n",
       "      <td>14717.784521</td>\n",
       "      <td>12:00:00</td>\n",
       "      <td>8</td>\n",
       "      <td>27</td>\n",
       "      <td>Summer</td>\n",
       "      <td>3</td>\n",
       "    </tr>\n",
       "    <tr>\n",
       "      <td>2</td>\n",
       "      <td>7</td>\n",
       "      <td>5</td>\n",
       "      <td>JB505888</td>\n",
       "      <td>09/27/2018</td>\n",
       "      <td>068XX S PERRY AVE</td>\n",
       "      <td>1020</td>\n",
       "      <td>ARSON</td>\n",
       "      <td>BY FIRE</td>\n",
       "      <td>VEHICLE NON-COMMERCIAL</td>\n",
       "      <td>1</td>\n",
       "      <td>...</td>\n",
       "      <td>1167659.235</td>\n",
       "      <td>1863005.522</td>\n",
       "      <td>41.779632</td>\n",
       "      <td>-87.660887</td>\n",
       "      <td>9500.832396</td>\n",
       "      <td>10:30:00</td>\n",
       "      <td>9</td>\n",
       "      <td>27</td>\n",
       "      <td>Autumn</td>\n",
       "      <td>2</td>\n",
       "    </tr>\n",
       "    <tr>\n",
       "      <td>3</td>\n",
       "      <td>24</td>\n",
       "      <td>6</td>\n",
       "      <td>JB472665</td>\n",
       "      <td>10/12/2018</td>\n",
       "      <td>061XX N BROADWAY</td>\n",
       "      <td>0890</td>\n",
       "      <td>THEFT</td>\n",
       "      <td>FROM BUILDING</td>\n",
       "      <td>COMMERCIAL / BUSINESS OFFICE</td>\n",
       "      <td>1</td>\n",
       "      <td>...</td>\n",
       "      <td>1164193.588</td>\n",
       "      <td>1943199.401</td>\n",
       "      <td>41.999763</td>\n",
       "      <td>-87.671324</td>\n",
       "      <td>3987.355350</td>\n",
       "      <td>12:04:00</td>\n",
       "      <td>10</td>\n",
       "      <td>12</td>\n",
       "      <td>Autumn</td>\n",
       "      <td>2</td>\n",
       "    </tr>\n",
       "    <tr>\n",
       "      <td>4</td>\n",
       "      <td>8</td>\n",
       "      <td>9</td>\n",
       "      <td>JB241744</td>\n",
       "      <td>04/27/2018</td>\n",
       "      <td>070XX S CALIFORNIA AVE</td>\n",
       "      <td>1562</td>\n",
       "      <td>SEX OFFENSE</td>\n",
       "      <td>AGG CRIMINAL SEXUAL ABUSE</td>\n",
       "      <td>APARTMENT</td>\n",
       "      <td>0</td>\n",
       "      <td>...</td>\n",
       "      <td>1154575.242</td>\n",
       "      <td>1862672.049</td>\n",
       "      <td>41.778987</td>\n",
       "      <td>-87.708864</td>\n",
       "      <td>6432.894093</td>\n",
       "      <td>02:45:00</td>\n",
       "      <td>4</td>\n",
       "      <td>27</td>\n",
       "      <td>Spring</td>\n",
       "      <td>1</td>\n",
       "    </tr>\n",
       "  </tbody>\n",
       "</table>\n",
       "<p>5 rows × 30 columns</p>\n",
       "</div>"
      ],
      "text/plain": [
       "   District  index Case Number        Date                     Block  IUCR  \\\n",
       "0         4      2    JB528220  11/24/2018  095XX S STONY ISLAND AVE  0261   \n",
       "1        22      3    JB495848  08/27/2018         092XX S UNION AVE  1120   \n",
       "2         7      5    JB505888  09/27/2018         068XX S PERRY AVE  1020   \n",
       "3        24      6    JB472665  10/12/2018          061XX N BROADWAY  0890   \n",
       "4         8      9    JB241744  04/27/2018    070XX S CALIFORNIA AVE  1562   \n",
       "\n",
       "          Primary Type                Description  \\\n",
       "0  CRIM SEXUAL ASSAULT        AGGRAVATED: HANDGUN   \n",
       "1   DECEPTIVE PRACTICE                    FORGERY   \n",
       "2                ARSON                    BY FIRE   \n",
       "3                THEFT              FROM BUILDING   \n",
       "4          SEX OFFENSE  AGG CRIMINAL SEXUAL ABUSE   \n",
       "\n",
       "           Location Description  Arrest  ...          p_x          p_y  \\\n",
       "0                         ALLEY       1  ...  1193131.299  1837090.265   \n",
       "1                     RESIDENCE       1  ...  1165825.476  1830851.333   \n",
       "2        VEHICLE NON-COMMERCIAL       1  ...  1167659.235  1863005.522   \n",
       "3  COMMERCIAL / BUSINESS OFFICE       1  ...  1164193.588  1943199.401   \n",
       "4                     APARTMENT       0  ...  1154575.242  1862672.049   \n",
       "\n",
       "   p_latitude  p_longitude      Distance      Time  Month  Day  Season  \\\n",
       "0   41.707933   -87.568349   6822.245420  08:45:00     11   24  Autumn   \n",
       "1   41.691435   -87.668520  14717.784521  12:00:00      8   27  Summer   \n",
       "2   41.779632   -87.660887   9500.832396  10:30:00      9   27  Autumn   \n",
       "3   41.999763   -87.671324   3987.355350  12:04:00     10   12  Autumn   \n",
       "4   41.778987   -87.708864   6432.894093  02:45:00      4   27  Spring   \n",
       "\n",
       "  crimeGroups  \n",
       "0           1  \n",
       "1           3  \n",
       "2           2  \n",
       "3           2  \n",
       "4           1  \n",
       "\n",
       "[5 rows x 30 columns]"
      ]
     },
     "execution_count": 143,
     "metadata": {},
     "output_type": "execute_result"
    }
   ],
   "source": [
    "# Import the CSV file\n",
    "df = pd.read_csv(\"Merge_1.csv\")\n",
    "df.head()"
   ]
  },
  {
   "cell_type": "code",
   "execution_count": 144,
   "metadata": {
    "colab": {
     "base_uri": "https://localhost:8080/",
     "height": 390
    },
    "colab_type": "code",
    "executionInfo": {
     "elapsed": 1314,
     "status": "ok",
     "timestamp": 1575311286439,
     "user": {
      "displayName": "Snehal Tikare",
      "photoUrl": "",
      "userId": "17239970982901927271"
     },
     "user_tz": 360
    },
    "id": "1anIMO1Qf8FM",
    "outputId": "55f65e74-3fd0-43d5-a257-0d58014b90c0"
   },
   "outputs": [
    {
     "data": {
      "text/html": [
       "<div>\n",
       "<style scoped>\n",
       "    .dataframe tbody tr th:only-of-type {\n",
       "        vertical-align: middle;\n",
       "    }\n",
       "\n",
       "    .dataframe tbody tr th {\n",
       "        vertical-align: top;\n",
       "    }\n",
       "\n",
       "    .dataframe thead th {\n",
       "        text-align: right;\n",
       "    }\n",
       "</style>\n",
       "<table border=\"1\" class=\"dataframe\">\n",
       "  <thead>\n",
       "    <tr style=\"text-align: right;\">\n",
       "      <th></th>\n",
       "      <th>District</th>\n",
       "      <th>index</th>\n",
       "      <th>Case Number</th>\n",
       "      <th>Date</th>\n",
       "      <th>Block</th>\n",
       "      <th>IUCR</th>\n",
       "      <th>Primary Type</th>\n",
       "      <th>Description</th>\n",
       "      <th>Location Description</th>\n",
       "      <th>Arrest</th>\n",
       "      <th>...</th>\n",
       "      <th>p_y</th>\n",
       "      <th>p_latitude</th>\n",
       "      <th>p_longitude</th>\n",
       "      <th>Distance</th>\n",
       "      <th>Time</th>\n",
       "      <th>Month</th>\n",
       "      <th>Day</th>\n",
       "      <th>Season</th>\n",
       "      <th>crimeGroups</th>\n",
       "      <th>ArrestLabel</th>\n",
       "    </tr>\n",
       "  </thead>\n",
       "  <tbody>\n",
       "    <tr>\n",
       "      <td>0</td>\n",
       "      <td>4</td>\n",
       "      <td>2</td>\n",
       "      <td>JB528220</td>\n",
       "      <td>11/24/2018</td>\n",
       "      <td>095XX S STONY ISLAND AVE</td>\n",
       "      <td>0261</td>\n",
       "      <td>CRIM SEXUAL ASSAULT</td>\n",
       "      <td>AGGRAVATED: HANDGUN</td>\n",
       "      <td>ALLEY</td>\n",
       "      <td>1</td>\n",
       "      <td>...</td>\n",
       "      <td>1837090.265</td>\n",
       "      <td>41.707933</td>\n",
       "      <td>-87.568349</td>\n",
       "      <td>6822.245420</td>\n",
       "      <td>08:45:00</td>\n",
       "      <td>11</td>\n",
       "      <td>24</td>\n",
       "      <td>Autumn</td>\n",
       "      <td>1</td>\n",
       "      <td>1</td>\n",
       "    </tr>\n",
       "    <tr>\n",
       "      <td>1</td>\n",
       "      <td>22</td>\n",
       "      <td>3</td>\n",
       "      <td>JB495848</td>\n",
       "      <td>08/27/2018</td>\n",
       "      <td>092XX S UNION AVE</td>\n",
       "      <td>1120</td>\n",
       "      <td>DECEPTIVE PRACTICE</td>\n",
       "      <td>FORGERY</td>\n",
       "      <td>RESIDENCE</td>\n",
       "      <td>1</td>\n",
       "      <td>...</td>\n",
       "      <td>1830851.333</td>\n",
       "      <td>41.691435</td>\n",
       "      <td>-87.668520</td>\n",
       "      <td>14717.784521</td>\n",
       "      <td>12:00:00</td>\n",
       "      <td>8</td>\n",
       "      <td>27</td>\n",
       "      <td>Summer</td>\n",
       "      <td>3</td>\n",
       "      <td>1</td>\n",
       "    </tr>\n",
       "    <tr>\n",
       "      <td>2</td>\n",
       "      <td>7</td>\n",
       "      <td>5</td>\n",
       "      <td>JB505888</td>\n",
       "      <td>09/27/2018</td>\n",
       "      <td>068XX S PERRY AVE</td>\n",
       "      <td>1020</td>\n",
       "      <td>ARSON</td>\n",
       "      <td>BY FIRE</td>\n",
       "      <td>VEHICLE NON-COMMERCIAL</td>\n",
       "      <td>1</td>\n",
       "      <td>...</td>\n",
       "      <td>1863005.522</td>\n",
       "      <td>41.779632</td>\n",
       "      <td>-87.660887</td>\n",
       "      <td>9500.832396</td>\n",
       "      <td>10:30:00</td>\n",
       "      <td>9</td>\n",
       "      <td>27</td>\n",
       "      <td>Autumn</td>\n",
       "      <td>2</td>\n",
       "      <td>1</td>\n",
       "    </tr>\n",
       "    <tr>\n",
       "      <td>3</td>\n",
       "      <td>24</td>\n",
       "      <td>6</td>\n",
       "      <td>JB472665</td>\n",
       "      <td>10/12/2018</td>\n",
       "      <td>061XX N BROADWAY</td>\n",
       "      <td>0890</td>\n",
       "      <td>THEFT</td>\n",
       "      <td>FROM BUILDING</td>\n",
       "      <td>COMMERCIAL / BUSINESS OFFICE</td>\n",
       "      <td>1</td>\n",
       "      <td>...</td>\n",
       "      <td>1943199.401</td>\n",
       "      <td>41.999763</td>\n",
       "      <td>-87.671324</td>\n",
       "      <td>3987.355350</td>\n",
       "      <td>12:04:00</td>\n",
       "      <td>10</td>\n",
       "      <td>12</td>\n",
       "      <td>Autumn</td>\n",
       "      <td>2</td>\n",
       "      <td>1</td>\n",
       "    </tr>\n",
       "    <tr>\n",
       "      <td>4</td>\n",
       "      <td>8</td>\n",
       "      <td>9</td>\n",
       "      <td>JB241744</td>\n",
       "      <td>04/27/2018</td>\n",
       "      <td>070XX S CALIFORNIA AVE</td>\n",
       "      <td>1562</td>\n",
       "      <td>SEX OFFENSE</td>\n",
       "      <td>AGG CRIMINAL SEXUAL ABUSE</td>\n",
       "      <td>APARTMENT</td>\n",
       "      <td>0</td>\n",
       "      <td>...</td>\n",
       "      <td>1862672.049</td>\n",
       "      <td>41.778987</td>\n",
       "      <td>-87.708864</td>\n",
       "      <td>6432.894093</td>\n",
       "      <td>02:45:00</td>\n",
       "      <td>4</td>\n",
       "      <td>27</td>\n",
       "      <td>Spring</td>\n",
       "      <td>1</td>\n",
       "      <td>0</td>\n",
       "    </tr>\n",
       "  </tbody>\n",
       "</table>\n",
       "<p>5 rows × 31 columns</p>\n",
       "</div>"
      ],
      "text/plain": [
       "   District  index Case Number        Date                     Block  IUCR  \\\n",
       "0         4      2    JB528220  11/24/2018  095XX S STONY ISLAND AVE  0261   \n",
       "1        22      3    JB495848  08/27/2018         092XX S UNION AVE  1120   \n",
       "2         7      5    JB505888  09/27/2018         068XX S PERRY AVE  1020   \n",
       "3        24      6    JB472665  10/12/2018          061XX N BROADWAY  0890   \n",
       "4         8      9    JB241744  04/27/2018    070XX S CALIFORNIA AVE  1562   \n",
       "\n",
       "          Primary Type                Description  \\\n",
       "0  CRIM SEXUAL ASSAULT        AGGRAVATED: HANDGUN   \n",
       "1   DECEPTIVE PRACTICE                    FORGERY   \n",
       "2                ARSON                    BY FIRE   \n",
       "3                THEFT              FROM BUILDING   \n",
       "4          SEX OFFENSE  AGG CRIMINAL SEXUAL ABUSE   \n",
       "\n",
       "           Location Description  Arrest  ...          p_y  p_latitude  \\\n",
       "0                         ALLEY       1  ...  1837090.265   41.707933   \n",
       "1                     RESIDENCE       1  ...  1830851.333   41.691435   \n",
       "2        VEHICLE NON-COMMERCIAL       1  ...  1863005.522   41.779632   \n",
       "3  COMMERCIAL / BUSINESS OFFICE       1  ...  1943199.401   41.999763   \n",
       "4                     APARTMENT       0  ...  1862672.049   41.778987   \n",
       "\n",
       "   p_longitude      Distance      Time  Month  Day  Season  crimeGroups  \\\n",
       "0   -87.568349   6822.245420  08:45:00     11   24  Autumn            1   \n",
       "1   -87.668520  14717.784521  12:00:00      8   27  Summer            3   \n",
       "2   -87.660887   9500.832396  10:30:00      9   27  Autumn            2   \n",
       "3   -87.671324   3987.355350  12:04:00     10   12  Autumn            2   \n",
       "4   -87.708864   6432.894093  02:45:00      4   27  Spring            1   \n",
       "\n",
       "  ArrestLabel  \n",
       "0           1  \n",
       "1           1  \n",
       "2           1  \n",
       "3           1  \n",
       "4           0  \n",
       "\n",
       "[5 rows x 31 columns]"
      ]
     },
     "execution_count": 144,
     "metadata": {},
     "output_type": "execute_result"
    }
   ],
   "source": [
    "df['ArrestLabel']=df['Arrest']\n",
    "df.head()"
   ]
  },
  {
   "cell_type": "code",
   "execution_count": 145,
   "metadata": {
    "colab": {},
    "colab_type": "code",
    "id": "5F-dvRV4f8FV"
   },
   "outputs": [],
   "source": [
    "#Dropping irrelevant columns\n",
    "df=df.drop(columns=['Arrest'])"
   ]
  },
  {
   "cell_type": "code",
   "execution_count": 146,
   "metadata": {
    "colab": {
     "base_uri": "https://localhost:8080/",
     "height": 390
    },
    "colab_type": "code",
    "executionInfo": {
     "elapsed": 1688,
     "status": "ok",
     "timestamp": 1575311291926,
     "user": {
      "displayName": "Snehal Tikare",
      "photoUrl": "",
      "userId": "17239970982901927271"
     },
     "user_tz": 360
    },
    "id": "cXotuPCBf8Fe",
    "outputId": "6d435f53-fff1-4b69-9a00-173333cde68b"
   },
   "outputs": [
    {
     "data": {
      "text/html": [
       "<div>\n",
       "<style scoped>\n",
       "    .dataframe tbody tr th:only-of-type {\n",
       "        vertical-align: middle;\n",
       "    }\n",
       "\n",
       "    .dataframe tbody tr th {\n",
       "        vertical-align: top;\n",
       "    }\n",
       "\n",
       "    .dataframe thead th {\n",
       "        text-align: right;\n",
       "    }\n",
       "</style>\n",
       "<table border=\"1\" class=\"dataframe\">\n",
       "  <thead>\n",
       "    <tr style=\"text-align: right;\">\n",
       "      <th></th>\n",
       "      <th>District</th>\n",
       "      <th>index</th>\n",
       "      <th>Case Number</th>\n",
       "      <th>Date</th>\n",
       "      <th>Block</th>\n",
       "      <th>IUCR</th>\n",
       "      <th>Primary Type</th>\n",
       "      <th>Description</th>\n",
       "      <th>Location Description</th>\n",
       "      <th>Domestic</th>\n",
       "      <th>...</th>\n",
       "      <th>p_y</th>\n",
       "      <th>p_latitude</th>\n",
       "      <th>p_longitude</th>\n",
       "      <th>Distance</th>\n",
       "      <th>Time</th>\n",
       "      <th>Month</th>\n",
       "      <th>Day</th>\n",
       "      <th>Season</th>\n",
       "      <th>crimeGroups</th>\n",
       "      <th>Arrest</th>\n",
       "    </tr>\n",
       "  </thead>\n",
       "  <tbody>\n",
       "    <tr>\n",
       "      <td>0</td>\n",
       "      <td>4</td>\n",
       "      <td>2</td>\n",
       "      <td>JB528220</td>\n",
       "      <td>11/24/2018</td>\n",
       "      <td>095XX S STONY ISLAND AVE</td>\n",
       "      <td>0261</td>\n",
       "      <td>CRIM SEXUAL ASSAULT</td>\n",
       "      <td>AGGRAVATED: HANDGUN</td>\n",
       "      <td>ALLEY</td>\n",
       "      <td>0</td>\n",
       "      <td>...</td>\n",
       "      <td>1837090.265</td>\n",
       "      <td>41.707933</td>\n",
       "      <td>-87.568349</td>\n",
       "      <td>6822.245420</td>\n",
       "      <td>08:45:00</td>\n",
       "      <td>11</td>\n",
       "      <td>24</td>\n",
       "      <td>Autumn</td>\n",
       "      <td>1</td>\n",
       "      <td>1</td>\n",
       "    </tr>\n",
       "    <tr>\n",
       "      <td>1</td>\n",
       "      <td>22</td>\n",
       "      <td>3</td>\n",
       "      <td>JB495848</td>\n",
       "      <td>08/27/2018</td>\n",
       "      <td>092XX S UNION AVE</td>\n",
       "      <td>1120</td>\n",
       "      <td>DECEPTIVE PRACTICE</td>\n",
       "      <td>FORGERY</td>\n",
       "      <td>RESIDENCE</td>\n",
       "      <td>0</td>\n",
       "      <td>...</td>\n",
       "      <td>1830851.333</td>\n",
       "      <td>41.691435</td>\n",
       "      <td>-87.668520</td>\n",
       "      <td>14717.784521</td>\n",
       "      <td>12:00:00</td>\n",
       "      <td>8</td>\n",
       "      <td>27</td>\n",
       "      <td>Summer</td>\n",
       "      <td>3</td>\n",
       "      <td>1</td>\n",
       "    </tr>\n",
       "    <tr>\n",
       "      <td>2</td>\n",
       "      <td>7</td>\n",
       "      <td>5</td>\n",
       "      <td>JB505888</td>\n",
       "      <td>09/27/2018</td>\n",
       "      <td>068XX S PERRY AVE</td>\n",
       "      <td>1020</td>\n",
       "      <td>ARSON</td>\n",
       "      <td>BY FIRE</td>\n",
       "      <td>VEHICLE NON-COMMERCIAL</td>\n",
       "      <td>0</td>\n",
       "      <td>...</td>\n",
       "      <td>1863005.522</td>\n",
       "      <td>41.779632</td>\n",
       "      <td>-87.660887</td>\n",
       "      <td>9500.832396</td>\n",
       "      <td>10:30:00</td>\n",
       "      <td>9</td>\n",
       "      <td>27</td>\n",
       "      <td>Autumn</td>\n",
       "      <td>2</td>\n",
       "      <td>1</td>\n",
       "    </tr>\n",
       "    <tr>\n",
       "      <td>3</td>\n",
       "      <td>24</td>\n",
       "      <td>6</td>\n",
       "      <td>JB472665</td>\n",
       "      <td>10/12/2018</td>\n",
       "      <td>061XX N BROADWAY</td>\n",
       "      <td>0890</td>\n",
       "      <td>THEFT</td>\n",
       "      <td>FROM BUILDING</td>\n",
       "      <td>COMMERCIAL / BUSINESS OFFICE</td>\n",
       "      <td>0</td>\n",
       "      <td>...</td>\n",
       "      <td>1943199.401</td>\n",
       "      <td>41.999763</td>\n",
       "      <td>-87.671324</td>\n",
       "      <td>3987.355350</td>\n",
       "      <td>12:04:00</td>\n",
       "      <td>10</td>\n",
       "      <td>12</td>\n",
       "      <td>Autumn</td>\n",
       "      <td>2</td>\n",
       "      <td>1</td>\n",
       "    </tr>\n",
       "    <tr>\n",
       "      <td>4</td>\n",
       "      <td>8</td>\n",
       "      <td>9</td>\n",
       "      <td>JB241744</td>\n",
       "      <td>04/27/2018</td>\n",
       "      <td>070XX S CALIFORNIA AVE</td>\n",
       "      <td>1562</td>\n",
       "      <td>SEX OFFENSE</td>\n",
       "      <td>AGG CRIMINAL SEXUAL ABUSE</td>\n",
       "      <td>APARTMENT</td>\n",
       "      <td>1</td>\n",
       "      <td>...</td>\n",
       "      <td>1862672.049</td>\n",
       "      <td>41.778987</td>\n",
       "      <td>-87.708864</td>\n",
       "      <td>6432.894093</td>\n",
       "      <td>02:45:00</td>\n",
       "      <td>4</td>\n",
       "      <td>27</td>\n",
       "      <td>Spring</td>\n",
       "      <td>1</td>\n",
       "      <td>0</td>\n",
       "    </tr>\n",
       "  </tbody>\n",
       "</table>\n",
       "<p>5 rows × 30 columns</p>\n",
       "</div>"
      ],
      "text/plain": [
       "   District  index Case Number        Date                     Block  IUCR  \\\n",
       "0         4      2    JB528220  11/24/2018  095XX S STONY ISLAND AVE  0261   \n",
       "1        22      3    JB495848  08/27/2018         092XX S UNION AVE  1120   \n",
       "2         7      5    JB505888  09/27/2018         068XX S PERRY AVE  1020   \n",
       "3        24      6    JB472665  10/12/2018          061XX N BROADWAY  0890   \n",
       "4         8      9    JB241744  04/27/2018    070XX S CALIFORNIA AVE  1562   \n",
       "\n",
       "          Primary Type                Description  \\\n",
       "0  CRIM SEXUAL ASSAULT        AGGRAVATED: HANDGUN   \n",
       "1   DECEPTIVE PRACTICE                    FORGERY   \n",
       "2                ARSON                    BY FIRE   \n",
       "3                THEFT              FROM BUILDING   \n",
       "4          SEX OFFENSE  AGG CRIMINAL SEXUAL ABUSE   \n",
       "\n",
       "           Location Description  Domestic  ...          p_y  p_latitude  \\\n",
       "0                         ALLEY         0  ...  1837090.265   41.707933   \n",
       "1                     RESIDENCE         0  ...  1830851.333   41.691435   \n",
       "2        VEHICLE NON-COMMERCIAL         0  ...  1863005.522   41.779632   \n",
       "3  COMMERCIAL / BUSINESS OFFICE         0  ...  1943199.401   41.999763   \n",
       "4                     APARTMENT         1  ...  1862672.049   41.778987   \n",
       "\n",
       "   p_longitude      Distance      Time  Month  Day  Season crimeGroups  Arrest  \n",
       "0   -87.568349   6822.245420  08:45:00     11   24  Autumn           1       1  \n",
       "1   -87.668520  14717.784521  12:00:00      8   27  Summer           3       1  \n",
       "2   -87.660887   9500.832396  10:30:00      9   27  Autumn           2       1  \n",
       "3   -87.671324   3987.355350  12:04:00     10   12  Autumn           2       1  \n",
       "4   -87.708864   6432.894093  02:45:00      4   27  Spring           1       0  \n",
       "\n",
       "[5 rows x 30 columns]"
      ]
     },
     "execution_count": 146,
     "metadata": {},
     "output_type": "execute_result"
    }
   ],
   "source": [
    "df.rename(columns={'ArrestLabel':'Arrest'},inplace=True)\n",
    "df.head()"
   ]
  },
  {
   "cell_type": "code",
   "execution_count": 147,
   "metadata": {
    "colab": {},
    "colab_type": "code",
    "id": "c_DjdE8Yf8Fo"
   },
   "outputs": [],
   "source": [
    "#df=df.drop(columns=['IUCR','Beat','Ward','X Coordinate','Y Coordinate','Latitude','Longitude','p_x','p_y','p_latitude','p_longitude','Case Number','Block','FBI Code','Date','p_dname','Time'])\n",
    "#For Crime Group\n",
    "df_cgrp=df\n",
    "df_cgrp=df_cgrp.drop(columns=['index','Beat','Ward','X Coordinate','Y Coordinate','p_x','p_y','p_latitude','p_longitude','Case Number','Block','FBI Code','Date','p_dname','Time'])\n",
    "#For Arrest\n",
    "df=df.drop(columns=['index','IUCR','Beat','Ward','X Coordinate','Y Coordinate','p_x','p_y','p_latitude','p_longitude','Case Number','Block','FBI Code','Date','p_dname','Time','Season'])"
   ]
  },
  {
   "cell_type": "code",
   "execution_count": 148,
   "metadata": {
    "colab": {
     "base_uri": "https://localhost:8080/",
     "height": 577
    },
    "colab_type": "code",
    "executionInfo": {
     "elapsed": 2375,
     "status": "ok",
     "timestamp": 1575311299391,
     "user": {
      "displayName": "Snehal Tikare",
      "photoUrl": "",
      "userId": "17239970982901927271"
     },
     "user_tz": 360
    },
    "id": "uAUM9QgnoqVk",
    "outputId": "7cc1b816-73c6-4c9e-cd19-f3ba4d1390b8"
   },
   "outputs": [
    {
     "data": {
      "image/png": "[encoded data removed]",
      "text/plain": [
       "<Figure size 720x720 with 2 Axes>"
      ]
     },
     "metadata": {
      "needs_background": "light"
     },
     "output_type": "display_data"
    }
   ],
   "source": [
    "corr = df.corr()\n",
    "fig, ax = plt.subplots(figsize=(10,10))  \n",
    "ax = sns.heatmap(\n",
    "    corr, \n",
    "    vmin=-1, vmax=1, center=0,\n",
    "    cmap=sns.diverging_palette(20, 220, n=200),\n",
    "    square=True\n",
    ")\n",
    "ax.set_xticklabels(\n",
    "    ax.get_xticklabels(),\n",
    "    rotation=45,\n",
    "    horizontalalignment='right'\n",
    ");"
   ]
  },
  {
   "cell_type": "code",
   "execution_count": 149,
   "metadata": {
    "colab": {
     "base_uri": "https://localhost:8080/",
     "height": 303
    },
    "colab_type": "code",
    "executionInfo": {
     "elapsed": 3680,
     "status": "ok",
     "timestamp": 1575311309810,
     "user": {
      "displayName": "Snehal Tikare",
      "photoUrl": "",
      "userId": "17239970982901927271"
     },
     "user_tz": 360
    },
    "id": "MX1RvWQXnGcg",
    "outputId": "587fb102-93a4-4085-c1eb-c1517debd939"
   },
   "outputs": [
    {
     "data": {
      "text/html": [
       "<div>\n",
       "<style scoped>\n",
       "    .dataframe tbody tr th:only-of-type {\n",
       "        vertical-align: middle;\n",
       "    }\n",
       "\n",
       "    .dataframe tbody tr th {\n",
       "        vertical-align: top;\n",
       "    }\n",
       "\n",
       "    .dataframe thead th {\n",
       "        text-align: right;\n",
       "    }\n",
       "</style>\n",
       "<table border=\"1\" class=\"dataframe\">\n",
       "  <thead>\n",
       "    <tr style=\"text-align: right;\">\n",
       "      <th></th>\n",
       "      <th>District</th>\n",
       "      <th>Domestic</th>\n",
       "      <th>Community Area</th>\n",
       "      <th>Latitude</th>\n",
       "      <th>Longitude</th>\n",
       "      <th>Distance</th>\n",
       "      <th>crimeGroups</th>\n",
       "      <th>Arrest</th>\n",
       "      <th>Primary Type_ARSON</th>\n",
       "      <th>Primary Type_ASSAULT</th>\n",
       "      <th>...</th>\n",
       "      <th>Location Description_VEHICLE - DELIVERY TRUCK</th>\n",
       "      <th>Location Description_VEHICLE - OTHER RIDE SHARE SERVICE (E.G., UBER, LYFT)</th>\n",
       "      <th>Location Description_VEHICLE NON-COMMERCIAL</th>\n",
       "      <th>Location Description_VEHICLE-COMMERCIAL</th>\n",
       "      <th>Location Description_VEHICLE-COMMERCIAL - ENTERTAINMENT/PARTY BUS</th>\n",
       "      <th>Location Description_VEHICLE-COMMERCIAL - TROLLEY BUS</th>\n",
       "      <th>Location Description_WAREHOUSE</th>\n",
       "      <th>Location Description_WOODED AREA</th>\n",
       "      <th>Location Description_YARD</th>\n",
       "      <th>Location Description_YMCA</th>\n",
       "    </tr>\n",
       "  </thead>\n",
       "  <tbody>\n",
       "    <tr>\n",
       "      <td>0</td>\n",
       "      <td>4</td>\n",
       "      <td>0</td>\n",
       "      <td>51.0</td>\n",
       "      <td>41.721844</td>\n",
       "      <td>-87.585072</td>\n",
       "      <td>6822.245420</td>\n",
       "      <td>1</td>\n",
       "      <td>1</td>\n",
       "      <td>0</td>\n",
       "      <td>0</td>\n",
       "      <td>...</td>\n",
       "      <td>0</td>\n",
       "      <td>0</td>\n",
       "      <td>0</td>\n",
       "      <td>0</td>\n",
       "      <td>0</td>\n",
       "      <td>0</td>\n",
       "      <td>0</td>\n",
       "      <td>0</td>\n",
       "      <td>0</td>\n",
       "      <td>0</td>\n",
       "    </tr>\n",
       "    <tr>\n",
       "      <td>1</td>\n",
       "      <td>22</td>\n",
       "      <td>0</td>\n",
       "      <td>73.0</td>\n",
       "      <td>41.726124</td>\n",
       "      <td>-87.640913</td>\n",
       "      <td>14717.784521</td>\n",
       "      <td>3</td>\n",
       "      <td>1</td>\n",
       "      <td>0</td>\n",
       "      <td>0</td>\n",
       "      <td>...</td>\n",
       "      <td>0</td>\n",
       "      <td>0</td>\n",
       "      <td>0</td>\n",
       "      <td>0</td>\n",
       "      <td>0</td>\n",
       "      <td>0</td>\n",
       "      <td>0</td>\n",
       "      <td>0</td>\n",
       "      <td>0</td>\n",
       "      <td>0</td>\n",
       "    </tr>\n",
       "    <tr>\n",
       "      <td>2</td>\n",
       "      <td>7</td>\n",
       "      <td>0</td>\n",
       "      <td>69.0</td>\n",
       "      <td>41.770428</td>\n",
       "      <td>-87.628300</td>\n",
       "      <td>9500.832396</td>\n",
       "      <td>2</td>\n",
       "      <td>1</td>\n",
       "      <td>1</td>\n",
       "      <td>0</td>\n",
       "      <td>...</td>\n",
       "      <td>0</td>\n",
       "      <td>0</td>\n",
       "      <td>1</td>\n",
       "      <td>0</td>\n",
       "      <td>0</td>\n",
       "      <td>0</td>\n",
       "      <td>0</td>\n",
       "      <td>0</td>\n",
       "      <td>0</td>\n",
       "      <td>0</td>\n",
       "    </tr>\n",
       "    <tr>\n",
       "      <td>3</td>\n",
       "      <td>24</td>\n",
       "      <td>0</td>\n",
       "      <td>77.0</td>\n",
       "      <td>41.992509</td>\n",
       "      <td>-87.660344</td>\n",
       "      <td>3987.355350</td>\n",
       "      <td>2</td>\n",
       "      <td>1</td>\n",
       "      <td>0</td>\n",
       "      <td>0</td>\n",
       "      <td>...</td>\n",
       "      <td>0</td>\n",
       "      <td>0</td>\n",
       "      <td>0</td>\n",
       "      <td>0</td>\n",
       "      <td>0</td>\n",
       "      <td>0</td>\n",
       "      <td>0</td>\n",
       "      <td>0</td>\n",
       "      <td>0</td>\n",
       "      <td>0</td>\n",
       "    </tr>\n",
       "    <tr>\n",
       "      <td>4</td>\n",
       "      <td>8</td>\n",
       "      <td>1</td>\n",
       "      <td>66.0</td>\n",
       "      <td>41.765884</td>\n",
       "      <td>-87.693061</td>\n",
       "      <td>6432.894093</td>\n",
       "      <td>1</td>\n",
       "      <td>0</td>\n",
       "      <td>0</td>\n",
       "      <td>0</td>\n",
       "      <td>...</td>\n",
       "      <td>0</td>\n",
       "      <td>0</td>\n",
       "      <td>0</td>\n",
       "      <td>0</td>\n",
       "      <td>0</td>\n",
       "      <td>0</td>\n",
       "      <td>0</td>\n",
       "      <td>0</td>\n",
       "      <td>0</td>\n",
       "      <td>0</td>\n",
       "    </tr>\n",
       "  </tbody>\n",
       "</table>\n",
       "<p>5 rows × 481 columns</p>\n",
       "</div>"
      ],
      "text/plain": [
       "   District  Domestic  Community Area   Latitude  Longitude      Distance  \\\n",
       "0         4         0            51.0  41.721844 -87.585072   6822.245420   \n",
       "1        22         0            73.0  41.726124 -87.640913  14717.784521   \n",
       "2         7         0            69.0  41.770428 -87.628300   9500.832396   \n",
       "3        24         0            77.0  41.992509 -87.660344   3987.355350   \n",
       "4         8         1            66.0  41.765884 -87.693061   6432.894093   \n",
       "\n",
       "   crimeGroups  Arrest  Primary Type_ARSON  Primary Type_ASSAULT  ...  \\\n",
       "0            1       1                   0                     0  ...   \n",
       "1            3       1                   0                     0  ...   \n",
       "2            2       1                   1                     0  ...   \n",
       "3            2       1                   0                     0  ...   \n",
       "4            1       0                   0                     0  ...   \n",
       "\n",
       "   Location Description_VEHICLE - DELIVERY TRUCK  \\\n",
       "0                                              0   \n",
       "1                                              0   \n",
       "2                                              0   \n",
       "3                                              0   \n",
       "4                                              0   \n",
       "\n",
       "   Location Description_VEHICLE - OTHER RIDE SHARE SERVICE (E.G., UBER, LYFT)  \\\n",
       "0                                                  0                            \n",
       "1                                                  0                            \n",
       "2                                                  0                            \n",
       "3                                                  0                            \n",
       "4                                                  0                            \n",
       "\n",
       "   Location Description_VEHICLE NON-COMMERCIAL  \\\n",
       "0                                            0   \n",
       "1                                            0   \n",
       "2                                            1   \n",
       "3                                            0   \n",
       "4                                            0   \n",
       "\n",
       "   Location Description_VEHICLE-COMMERCIAL  \\\n",
       "0                                        0   \n",
       "1                                        0   \n",
       "2                                        0   \n",
       "3                                        0   \n",
       "4                                        0   \n",
       "\n",
       "   Location Description_VEHICLE-COMMERCIAL - ENTERTAINMENT/PARTY BUS  \\\n",
       "0                                                  0                   \n",
       "1                                                  0                   \n",
       "2                                                  0                   \n",
       "3                                                  0                   \n",
       "4                                                  0                   \n",
       "\n",
       "   Location Description_VEHICLE-COMMERCIAL - TROLLEY BUS  \\\n",
       "0                                                  0       \n",
       "1                                                  0       \n",
       "2                                                  0       \n",
       "3                                                  0       \n",
       "4                                                  0       \n",
       "\n",
       "   Location Description_WAREHOUSE  Location Description_WOODED AREA  \\\n",
       "0                               0                                 0   \n",
       "1                               0                                 0   \n",
       "2                               0                                 0   \n",
       "3                               0                                 0   \n",
       "4                               0                                 0   \n",
       "\n",
       "   Location Description_YARD  Location Description_YMCA  \n",
       "0                          0                          0  \n",
       "1                          0                          0  \n",
       "2                          0                          0  \n",
       "3                          0                          0  \n",
       "4                          0                          0  \n",
       "\n",
       "[5 rows x 481 columns]"
      ]
     },
     "execution_count": 149,
     "metadata": {},
     "output_type": "execute_result"
    }
   ],
   "source": [
    "#Predicting Arrest\n",
    "df=df.drop(columns=['Day','Month'])\n",
    "#making dummy variables out of the object variables \n",
    "df_dum= pd.get_dummies(df)\n",
    "df_dum.head()"
   ]
  },
  {
   "cell_type": "code",
   "execution_count": 150,
   "metadata": {
    "colab": {
     "base_uri": "https://localhost:8080/",
     "height": 277
    },
    "colab_type": "code",
    "executionInfo": {
     "elapsed": 1784,
     "status": "ok",
     "timestamp": 1575311311841,
     "user": {
      "displayName": "Snehal Tikare",
      "photoUrl": "",
      "userId": "17239970982901927271"
     },
     "user_tz": 360
    },
    "id": "PmF6fpXLf8Fw",
    "outputId": "c5fe91ea-1280-4c7f-f0f7-07cb4a8fb777"
   },
   "outputs": [
    {
     "name": "stdout",
     "output_type": "stream",
     "text": [
      "<class 'pandas.core.frame.DataFrame'>\n",
      "RangeIndex: 485344 entries, 0 to 485343\n",
      "Data columns (total 11 columns):\n",
      "District                485344 non-null int64\n",
      "Primary Type            485344 non-null object\n",
      "Description             485344 non-null object\n",
      "Location Description    485344 non-null object\n",
      "Domestic                485344 non-null int64\n",
      "Community Area          485344 non-null float64\n",
      "Latitude                485344 non-null float64\n",
      "Longitude               485344 non-null float64\n",
      "Distance                485344 non-null float64\n",
      "crimeGroups             485344 non-null int64\n",
      "Arrest                  485344 non-null int64\n",
      "dtypes: float64(4), int64(4), object(3)\n",
      "memory usage: 40.7+ MB\n"
     ]
    }
   ],
   "source": [
    "df.info()"
   ]
  },
  {
   "cell_type": "code",
   "execution_count": 216,
   "metadata": {
    "colab": {
     "base_uri": "https://localhost:8080/",
     "height": 33
    },
    "colab_type": "code",
    "executionInfo": {
     "elapsed": 2916,
     "status": "ok",
     "timestamp": 1575311318637,
     "user": {
      "displayName": "Snehal Tikare",
      "photoUrl": "",
      "userId": "17239970982901927271"
     },
     "user_tz": 360
    },
    "id": "ziXIOgCqf8GB",
    "outputId": "bc7ce2a3-8dfe-4863-f80e-662b3cde4efd"
   },
   "outputs": [
    {
     "name": "stdout",
     "output_type": "stream",
     "text": [
      "(485344, 479) (485344, 2)\n"
     ]
    }
   ],
   "source": [
    "X = df_dum.drop(columns=[\"crimeGroups\",\"Arrest\"])\n",
    "y = df_dum[[\"crimeGroups\",\"Arrest\"]]\n",
    "print(X.shape, y.shape)"
   ]
  },
  {
   "cell_type": "code",
   "execution_count": 217,
   "metadata": {
    "colab": {
     "base_uri": "https://localhost:8080/",
     "height": 191
    },
    "colab_type": "code",
    "executionInfo": {
     "elapsed": 1714,
     "status": "ok",
     "timestamp": 1575311319783,
     "user": {
      "displayName": "Snehal Tikare",
      "photoUrl": "",
      "userId": "17239970982901927271"
     },
     "user_tz": 360
    },
    "id": "C891GTCUrbN1",
    "outputId": "8b64075f-7650-4294-ea3f-aa03b65912b4"
   },
   "outputs": [
    {
     "data": {
      "text/html": [
       "<div>\n",
       "<style scoped>\n",
       "    .dataframe tbody tr th:only-of-type {\n",
       "        vertical-align: middle;\n",
       "    }\n",
       "\n",
       "    .dataframe tbody tr th {\n",
       "        vertical-align: top;\n",
       "    }\n",
       "\n",
       "    .dataframe thead th {\n",
       "        text-align: right;\n",
       "    }\n",
       "</style>\n",
       "<table border=\"1\" class=\"dataframe\">\n",
       "  <thead>\n",
       "    <tr style=\"text-align: right;\">\n",
       "      <th></th>\n",
       "      <th>crimeGroups</th>\n",
       "      <th>Arrest</th>\n",
       "    </tr>\n",
       "  </thead>\n",
       "  <tbody>\n",
       "    <tr>\n",
       "      <td>0</td>\n",
       "      <td>1</td>\n",
       "      <td>1</td>\n",
       "    </tr>\n",
       "    <tr>\n",
       "      <td>1</td>\n",
       "      <td>3</td>\n",
       "      <td>1</td>\n",
       "    </tr>\n",
       "    <tr>\n",
       "      <td>2</td>\n",
       "      <td>2</td>\n",
       "      <td>1</td>\n",
       "    </tr>\n",
       "    <tr>\n",
       "      <td>3</td>\n",
       "      <td>2</td>\n",
       "      <td>1</td>\n",
       "    </tr>\n",
       "    <tr>\n",
       "      <td>4</td>\n",
       "      <td>1</td>\n",
       "      <td>0</td>\n",
       "    </tr>\n",
       "  </tbody>\n",
       "</table>\n",
       "</div>"
      ],
      "text/plain": [
       "   crimeGroups  Arrest\n",
       "0            1       1\n",
       "1            3       1\n",
       "2            2       1\n",
       "3            2       1\n",
       "4            1       0"
      ]
     },
     "execution_count": 217,
     "metadata": {},
     "output_type": "execute_result"
    }
   ],
   "source": [
    "y.head()"
   ]
  },
  {
   "cell_type": "code",
   "execution_count": 218,
   "metadata": {
    "colab": {
     "base_uri": "https://localhost:8080/",
     "height": 303
    },
    "colab_type": "code",
    "executionInfo": {
     "elapsed": 14307,
     "status": "ok",
     "timestamp": 1575265931239,
     "user": {
      "displayName": "Snehal Tikare",
      "photoUrl": "",
      "userId": "17239970982901927271"
     },
     "user_tz": 360
    },
    "id": "1FLZddvxre4W",
    "outputId": "b178b978-2a17-4e0b-e20f-0f56915f5239"
   },
   "outputs": [
    {
     "data": {
      "text/html": [
       "<div>\n",
       "<style scoped>\n",
       "    .dataframe tbody tr th:only-of-type {\n",
       "        vertical-align: middle;\n",
       "    }\n",
       "\n",
       "    .dataframe tbody tr th {\n",
       "        vertical-align: top;\n",
       "    }\n",
       "\n",
       "    .dataframe thead th {\n",
       "        text-align: right;\n",
       "    }\n",
       "</style>\n",
       "<table border=\"1\" class=\"dataframe\">\n",
       "  <thead>\n",
       "    <tr style=\"text-align: right;\">\n",
       "      <th></th>\n",
       "      <th>District</th>\n",
       "      <th>Domestic</th>\n",
       "      <th>Community Area</th>\n",
       "      <th>Latitude</th>\n",
       "      <th>Longitude</th>\n",
       "      <th>Distance</th>\n",
       "      <th>Primary Type_ARSON</th>\n",
       "      <th>Primary Type_ASSAULT</th>\n",
       "      <th>Primary Type_BATTERY</th>\n",
       "      <th>Primary Type_BURGLARY</th>\n",
       "      <th>...</th>\n",
       "      <th>Location Description_VEHICLE - DELIVERY TRUCK</th>\n",
       "      <th>Location Description_VEHICLE - OTHER RIDE SHARE SERVICE (E.G., UBER, LYFT)</th>\n",
       "      <th>Location Description_VEHICLE NON-COMMERCIAL</th>\n",
       "      <th>Location Description_VEHICLE-COMMERCIAL</th>\n",
       "      <th>Location Description_VEHICLE-COMMERCIAL - ENTERTAINMENT/PARTY BUS</th>\n",
       "      <th>Location Description_VEHICLE-COMMERCIAL - TROLLEY BUS</th>\n",
       "      <th>Location Description_WAREHOUSE</th>\n",
       "      <th>Location Description_WOODED AREA</th>\n",
       "      <th>Location Description_YARD</th>\n",
       "      <th>Location Description_YMCA</th>\n",
       "    </tr>\n",
       "  </thead>\n",
       "  <tbody>\n",
       "    <tr>\n",
       "      <td>0</td>\n",
       "      <td>4</td>\n",
       "      <td>0</td>\n",
       "      <td>51.0</td>\n",
       "      <td>41.721844</td>\n",
       "      <td>-87.585072</td>\n",
       "      <td>6822.245420</td>\n",
       "      <td>0</td>\n",
       "      <td>0</td>\n",
       "      <td>0</td>\n",
       "      <td>0</td>\n",
       "      <td>...</td>\n",
       "      <td>0</td>\n",
       "      <td>0</td>\n",
       "      <td>0</td>\n",
       "      <td>0</td>\n",
       "      <td>0</td>\n",
       "      <td>0</td>\n",
       "      <td>0</td>\n",
       "      <td>0</td>\n",
       "      <td>0</td>\n",
       "      <td>0</td>\n",
       "    </tr>\n",
       "    <tr>\n",
       "      <td>1</td>\n",
       "      <td>22</td>\n",
       "      <td>0</td>\n",
       "      <td>73.0</td>\n",
       "      <td>41.726124</td>\n",
       "      <td>-87.640913</td>\n",
       "      <td>14717.784521</td>\n",
       "      <td>0</td>\n",
       "      <td>0</td>\n",
       "      <td>0</td>\n",
       "      <td>0</td>\n",
       "      <td>...</td>\n",
       "      <td>0</td>\n",
       "      <td>0</td>\n",
       "      <td>0</td>\n",
       "      <td>0</td>\n",
       "      <td>0</td>\n",
       "      <td>0</td>\n",
       "      <td>0</td>\n",
       "      <td>0</td>\n",
       "      <td>0</td>\n",
       "      <td>0</td>\n",
       "    </tr>\n",
       "    <tr>\n",
       "      <td>2</td>\n",
       "      <td>7</td>\n",
       "      <td>0</td>\n",
       "      <td>69.0</td>\n",
       "      <td>41.770428</td>\n",
       "      <td>-87.628300</td>\n",
       "      <td>9500.832396</td>\n",
       "      <td>1</td>\n",
       "      <td>0</td>\n",
       "      <td>0</td>\n",
       "      <td>0</td>\n",
       "      <td>...</td>\n",
       "      <td>0</td>\n",
       "      <td>0</td>\n",
       "      <td>1</td>\n",
       "      <td>0</td>\n",
       "      <td>0</td>\n",
       "      <td>0</td>\n",
       "      <td>0</td>\n",
       "      <td>0</td>\n",
       "      <td>0</td>\n",
       "      <td>0</td>\n",
       "    </tr>\n",
       "    <tr>\n",
       "      <td>3</td>\n",
       "      <td>24</td>\n",
       "      <td>0</td>\n",
       "      <td>77.0</td>\n",
       "      <td>41.992509</td>\n",
       "      <td>-87.660344</td>\n",
       "      <td>3987.355350</td>\n",
       "      <td>0</td>\n",
       "      <td>0</td>\n",
       "      <td>0</td>\n",
       "      <td>0</td>\n",
       "      <td>...</td>\n",
       "      <td>0</td>\n",
       "      <td>0</td>\n",
       "      <td>0</td>\n",
       "      <td>0</td>\n",
       "      <td>0</td>\n",
       "      <td>0</td>\n",
       "      <td>0</td>\n",
       "      <td>0</td>\n",
       "      <td>0</td>\n",
       "      <td>0</td>\n",
       "    </tr>\n",
       "    <tr>\n",
       "      <td>4</td>\n",
       "      <td>8</td>\n",
       "      <td>1</td>\n",
       "      <td>66.0</td>\n",
       "      <td>41.765884</td>\n",
       "      <td>-87.693061</td>\n",
       "      <td>6432.894093</td>\n",
       "      <td>0</td>\n",
       "      <td>0</td>\n",
       "      <td>0</td>\n",
       "      <td>0</td>\n",
       "      <td>...</td>\n",
       "      <td>0</td>\n",
       "      <td>0</td>\n",
       "      <td>0</td>\n",
       "      <td>0</td>\n",
       "      <td>0</td>\n",
       "      <td>0</td>\n",
       "      <td>0</td>\n",
       "      <td>0</td>\n",
       "      <td>0</td>\n",
       "      <td>0</td>\n",
       "    </tr>\n",
       "  </tbody>\n",
       "</table>\n",
       "<p>5 rows × 479 columns</p>\n",
       "</div>"
      ],
      "text/plain": [
       "   District  Domestic  Community Area   Latitude  Longitude      Distance  \\\n",
       "0         4         0            51.0  41.721844 -87.585072   6822.245420   \n",
       "1        22         0            73.0  41.726124 -87.640913  14717.784521   \n",
       "2         7         0            69.0  41.770428 -87.628300   9500.832396   \n",
       "3        24         0            77.0  41.992509 -87.660344   3987.355350   \n",
       "4         8         1            66.0  41.765884 -87.693061   6432.894093   \n",
       "\n",
       "   Primary Type_ARSON  Primary Type_ASSAULT  Primary Type_BATTERY  \\\n",
       "0                   0                     0                     0   \n",
       "1                   0                     0                     0   \n",
       "2                   1                     0                     0   \n",
       "3                   0                     0                     0   \n",
       "4                   0                     0                     0   \n",
       "\n",
       "   Primary Type_BURGLARY  ...  Location Description_VEHICLE - DELIVERY TRUCK  \\\n",
       "0                      0  ...                                              0   \n",
       "1                      0  ...                                              0   \n",
       "2                      0  ...                                              0   \n",
       "3                      0  ...                                              0   \n",
       "4                      0  ...                                              0   \n",
       "\n",
       "   Location Description_VEHICLE - OTHER RIDE SHARE SERVICE (E.G., UBER, LYFT)  \\\n",
       "0                                                  0                            \n",
       "1                                                  0                            \n",
       "2                                                  0                            \n",
       "3                                                  0                            \n",
       "4                                                  0                            \n",
       "\n",
       "   Location Description_VEHICLE NON-COMMERCIAL  \\\n",
       "0                                            0   \n",
       "1                                            0   \n",
       "2                                            1   \n",
       "3                                            0   \n",
       "4                                            0   \n",
       "\n",
       "   Location Description_VEHICLE-COMMERCIAL  \\\n",
       "0                                        0   \n",
       "1                                        0   \n",
       "2                                        0   \n",
       "3                                        0   \n",
       "4                                        0   \n",
       "\n",
       "   Location Description_VEHICLE-COMMERCIAL - ENTERTAINMENT/PARTY BUS  \\\n",
       "0                                                  0                   \n",
       "1                                                  0                   \n",
       "2                                                  0                   \n",
       "3                                                  0                   \n",
       "4                                                  0                   \n",
       "\n",
       "   Location Description_VEHICLE-COMMERCIAL - TROLLEY BUS  \\\n",
       "0                                                  0       \n",
       "1                                                  0       \n",
       "2                                                  0       \n",
       "3                                                  0       \n",
       "4                                                  0       \n",
       "\n",
       "   Location Description_WAREHOUSE  Location Description_WOODED AREA  \\\n",
       "0                               0                                 0   \n",
       "1                               0                                 0   \n",
       "2                               0                                 0   \n",
       "3                               0                                 0   \n",
       "4                               0                                 0   \n",
       "\n",
       "   Location Description_YARD  Location Description_YMCA  \n",
       "0                          0                          0  \n",
       "1                          0                          0  \n",
       "2                          0                          0  \n",
       "3                          0                          0  \n",
       "4                          0                          0  \n",
       "\n",
       "[5 rows x 479 columns]"
      ]
     },
     "execution_count": 218,
     "metadata": {},
     "output_type": "execute_result"
    }
   ],
   "source": [
    "X.head()"
   ]
  },
  {
   "cell_type": "code",
   "execution_count": 219,
   "metadata": {
    "colab": {},
    "colab_type": "code",
    "id": "BhFD1Ctpf8GK"
   },
   "outputs": [],
   "source": [
    "#Dividing the data into Train and Test set\n",
    "X_train, X_test, y_train, y_test = train_test_split(X,y, test_size = 0.2, random_state=0)"
   ]
  },
  {
   "cell_type": "code",
   "execution_count": 220,
   "metadata": {
    "colab": {
     "base_uri": "https://localhost:8080/",
     "height": 50
    },
    "colab_type": "code",
    "executionInfo": {
     "elapsed": 15316,
     "status": "ok",
     "timestamp": 1575265932343,
     "user": {
      "displayName": "Snehal Tikare",
      "photoUrl": "",
      "userId": "17239970982901927271"
     },
     "user_tz": 360
    },
    "id": "dG-ZhCrGf8GS",
    "outputId": "8926cd74-ce6c-4abf-c990-9d1cef462d4b"
   },
   "outputs": [
    {
     "name": "stdout",
     "output_type": "stream",
     "text": [
      "(388275, 479)\n",
      "(388275, 2)\n"
     ]
    }
   ],
   "source": [
    "print(X_train.shape)\n",
    "print(y_train.shape)"
   ]
  },
  {
   "cell_type": "code",
   "execution_count": 221,
   "metadata": {
    "colab": {
     "base_uri": "https://localhost:8080/",
     "height": 115
    },
    "colab_type": "code",
    "executionInfo": {
     "elapsed": 15255,
     "status": "ok",
     "timestamp": 1575265932344,
     "user": {
      "displayName": "Snehal Tikare",
      "photoUrl": "",
      "userId": "17239970982901927271"
     },
     "user_tz": 360
    },
    "id": "iUBwdhrkf8Gb",
    "outputId": "2c717bc7-9abd-4adc-ef54-2cc7e1048759"
   },
   "outputs": [
    {
     "name": "stdout",
     "output_type": "stream",
     "text": [
      "        crimeGroups  Arrest\n",
      "47047             3       0\n",
      "218820            3       0\n",
      "152182            1       0\n",
      "124793            2       0\n",
      "144937            1       0\n"
     ]
    }
   ],
   "source": [
    "print(y_train.head())"
   ]
  },
  {
   "cell_type": "code",
   "execution_count": 222,
   "metadata": {
    "colab": {
     "base_uri": "https://localhost:8080/",
     "height": 50
    },
    "colab_type": "code",
    "executionInfo": {
     "elapsed": 15199,
     "status": "ok",
     "timestamp": 1575265932345,
     "user": {
      "displayName": "Snehal Tikare",
      "photoUrl": "",
      "userId": "17239970982901927271"
     },
     "user_tz": 360
    },
    "id": "MOfD8q_Of8Gj",
    "outputId": "eb13af3d-b695-4b6d-ca8f-93af7e9ae0d8"
   },
   "outputs": [
    {
     "name": "stdout",
     "output_type": "stream",
     "text": [
      "(97069, 479)\n",
      "(97069, 2)\n"
     ]
    }
   ],
   "source": [
    "print(X_test.shape)\n",
    "print(y_test.shape)"
   ]
  },
  {
   "cell_type": "code",
   "execution_count": 223,
   "metadata": {
    "colab": {},
    "colab_type": "code",
    "id": "ttyOOQF9f8Gr"
   },
   "outputs": [],
   "source": [
    "#Splitting the Training data into Train and Validation set\n",
    "X_train, X_val, y_train, y_val = train_test_split(X_train, y_train, test_size=0.2, random_state=1)"
   ]
  },
  {
   "cell_type": "code",
   "execution_count": 224,
   "metadata": {
    "colab": {
     "base_uri": "https://localhost:8080/",
     "height": 50
    },
    "colab_type": "code",
    "executionInfo": {
     "elapsed": 16471,
     "status": "ok",
     "timestamp": 1575265933659,
     "user": {
      "displayName": "Snehal Tikare",
      "photoUrl": "",
      "userId": "17239970982901927271"
     },
     "user_tz": 360
    },
    "id": "iyDkq8DYf8Gz",
    "outputId": "25bc3596-0e43-4e15-b4c1-f9a8edc28c6a"
   },
   "outputs": [
    {
     "name": "stdout",
     "output_type": "stream",
     "text": [
      "(77655, 479)\n",
      "(77655, 2)\n"
     ]
    }
   ],
   "source": [
    "print(X_val.shape)\n",
    "print(y_val.shape)"
   ]
  },
  {
   "cell_type": "code",
   "execution_count": 237,
   "metadata": {
    "colab": {
     "base_uri": "https://localhost:8080/",
     "height": 228
    },
    "colab_type": "code",
    "executionInfo": {
     "elapsed": 21004,
     "status": "ok",
     "timestamp": 1575265938245,
     "user": {
      "displayName": "Snehal Tikare",
      "photoUrl": "",
      "userId": "17239970982901927271"
     },
     "user_tz": 360
    },
    "id": "aoUhncZQf8G9",
    "outputId": "56d6273a-372f-4a07-b27e-838706bef37e"
   },
   "outputs": [
    {
     "data": {
      "text/plain": [
       "array([[0.57564331, 0.        , 2.14997018, ..., 0.        , 0.        ,\n",
       "        0.        ],\n",
       "       [2.5903949 , 0.        , 0.37390786, ..., 0.        , 0.        ,\n",
       "        0.        ],\n",
       "       [0.43173248, 0.        , 2.00975473, ..., 0.        , 0.        ,\n",
       "        0.        ],\n",
       "       ...,\n",
       "       [1.29519745, 0.        , 2.75757045, ..., 0.        , 0.        ,\n",
       "        0.        ],\n",
       "       [3.45385987, 0.        , 0.09347696, ..., 0.        , 0.        ,\n",
       "        0.        ],\n",
       "       [0.86346497, 0.        , 3.31843223, ..., 0.        , 0.        ,\n",
       "        0.        ]])"
      ]
     },
     "execution_count": 237,
     "metadata": {},
     "output_type": "execute_result"
    }
   ],
   "source": [
    "# Standardize train and Validation set\n",
    "scaler = StandardScaler(with_mean=False)\n",
    "scaler.fit(X_train)\n",
    "x_train_scaled = scaler.transform(X_train)\n",
    "x_val_scaled = scaler.transform(X_val)\n",
    "x_train_scaled"
   ]
  },
  {
   "cell_type": "code",
   "execution_count": 241,
   "metadata": {
    "colab": {
     "base_uri": "https://localhost:8080/",
     "height": 98
    },
    "colab_type": "code",
    "executionInfo": {
     "elapsed": 20969,
     "status": "ok",
     "timestamp": 1575265938247,
     "user": {
      "displayName": "Snehal Tikare",
      "photoUrl": "",
      "userId": "17239970982901927271"
     },
     "user_tz": 360
    },
    "id": "_OPqKovif8HF",
    "outputId": "daf067fe-5185-4d36-f96c-d07a61793f9c"
   },
   "outputs": [
    {
     "data": {
      "text/plain": [
       "LogisticRegression(C=1.0, class_weight=None, dual=False, fit_intercept=True,\n",
       "                   intercept_scaling=1, l1_ratio=None, max_iter=1000,\n",
       "                   multi_class='warn', n_jobs=None, penalty='l2',\n",
       "                   random_state=None, solver='lbfgs', tol=0.0001, verbose=0,\n",
       "                   warm_start=False)"
      ]
     },
     "execution_count": 241,
     "metadata": {},
     "output_type": "execute_result"
    }
   ],
   "source": [
    "#Using Logistic Regression\n",
    "classifier = LogisticRegression(solver=\"lbfgs\",max_iter=1000)\n",
    "classifier"
   ]
  },
  {
   "cell_type": "code",
   "execution_count": 242,
   "metadata": {
    "colab": {
     "base_uri": "https://localhost:8080/",
     "height": 98
    },
    "colab_type": "code",
    "executionInfo": {
     "elapsed": 107526,
     "status": "ok",
     "timestamp": 1575266024854,
     "user": {
      "displayName": "Snehal Tikare",
      "photoUrl": "",
      "userId": "17239970982901927271"
     },
     "user_tz": 360
    },
    "id": "1ugt0Jkrf8HN",
    "outputId": "bfb27ba7-cbfc-44ae-c4b5-62edb54732ca"
   },
   "outputs": [
    {
     "data": {
      "text/plain": [
       "LogisticRegression(C=1.0, class_weight=None, dual=False, fit_intercept=True,\n",
       "                   intercept_scaling=1, l1_ratio=None, max_iter=1000,\n",
       "                   multi_class='warn', n_jobs=None, penalty='l2',\n",
       "                   random_state=None, solver='lbfgs', tol=0.0001, verbose=0,\n",
       "                   warm_start=False)"
      ]
     },
     "execution_count": 242,
     "metadata": {},
     "output_type": "execute_result"
    }
   ],
   "source": [
    "#fit (train) model with training data for Arrests\n",
    "classifier.fit(x_train_scaled, y_train['Arrest'])"
   ]
  },
  {
   "cell_type": "code",
   "execution_count": 243,
   "metadata": {
    "colab": {},
    "colab_type": "code",
    "id": "9b827_FVf8Hd"
   },
   "outputs": [],
   "source": [
    "predictions = classifier.predict(x_val_scaled)"
   ]
  },
  {
   "cell_type": "code",
   "execution_count": 244,
   "metadata": {
    "colab": {
     "base_uri": "https://localhost:8080/",
     "height": 297
    },
    "colab_type": "code",
    "executionInfo": {
     "elapsed": 108279,
     "status": "ok",
     "timestamp": 1575266025653,
     "user": {
      "displayName": "Snehal Tikare",
      "photoUrl": "",
      "userId": "17239970982901927271"
     },
     "user_tz": 360
    },
    "id": "snJCYHinuE1o",
    "outputId": "952850f5-97b5-46d0-b81a-227a92050ad7",
    "scrolled": true
   },
   "outputs": [
    {
     "data": {
      "image/png": "[encoded data removed]",
      "text/plain": [
       "<Figure size 432x288 with 2 Axes>"
      ]
     },
     "metadata": {
      "needs_background": "light"
     },
     "output_type": "display_data"
    }
   ],
   "source": [
    "conf_matrix = metrics.confusion_matrix(y_val['Arrest'],predictions)\n",
    "sns.heatmap(conf_matrix,yticklabels=2, annot = True, fmt = \".2f\", square = True, cmap = plt.cm.Blues)\n",
    "plt.ylabel('Actual')\n",
    "plt.xlabel('Predicted')\n",
    "plt.title('Confusion matrix')\n",
    "plt.tight_layout()"
   ]
  },
  {
   "cell_type": "code",
   "execution_count": 245,
   "metadata": {
    "colab": {
     "base_uri": "https://localhost:8080/",
     "height": 33
    },
    "colab_type": "code",
    "executionInfo": {
     "elapsed": 108247,
     "status": "ok",
     "timestamp": 1575266025655,
     "user": {
      "displayName": "Snehal Tikare",
      "photoUrl": "",
      "userId": "17239970982901927271"
     },
     "user_tz": 360
    },
    "id": "AlmeplKpuFAW",
    "outputId": "892bdabb-e160-4bee-9ada-cbaef10e3d9e"
   },
   "outputs": [
    {
     "name": "stdout",
     "output_type": "stream",
     "text": [
      "[0.8925503831047582, 0.1074496168952418, 0.8568766306373462, 0.5746063484128968, 0.8841594443513132]\n"
     ]
    }
   ],
   "source": [
    "accuracy = metrics.accuracy_score(y_val['Arrest'],predictions)\n",
    "error = 1 - accuracy\n",
    "precision = metrics.precision_score(y_val['Arrest'],predictions)\n",
    "recall = metrics.recall_score(y_val['Arrest'],predictions)\n",
    "F1_score = metrics.f1_score(y_val['Arrest'],predictions,average='weighted')\n",
    "print([accuracy, error, precision, recall,F1_score])"
   ]
  },
  {
   "cell_type": "code",
   "execution_count": 246,
   "metadata": {},
   "outputs": [],
   "source": [
    "# Standardize train and Test set\n",
    "scaler = StandardScaler(with_mean=False)\n",
    "scaler.fit(X_train)\n",
    "x_train_scaled = scaler.transform(X_train)\n",
    "x_test_scaled = scaler.transform(X_test)"
   ]
  },
  {
   "cell_type": "code",
   "execution_count": 247,
   "metadata": {},
   "outputs": [
    {
     "data": {
      "text/plain": [
       "LogisticRegression(C=1.0, class_weight=None, dual=False, fit_intercept=True,\n",
       "                   intercept_scaling=1, l1_ratio=None, max_iter=1000,\n",
       "                   multi_class='warn', n_jobs=None, penalty='l2',\n",
       "                   random_state=None, solver='lbfgs', tol=0.0001, verbose=0,\n",
       "                   warm_start=False)"
      ]
     },
     "execution_count": 247,
     "metadata": {},
     "output_type": "execute_result"
    }
   ],
   "source": [
    "#Final Model wiith Test Set\n",
    "#Using Logistic Regression\n",
    "classifier = LogisticRegression(solver=\"lbfgs\",max_iter=1000)\n",
    "classifier"
   ]
  },
  {
   "cell_type": "code",
   "execution_count": 248,
   "metadata": {},
   "outputs": [
    {
     "data": {
      "text/plain": [
       "LogisticRegression(C=1.0, class_weight=None, dual=False, fit_intercept=True,\n",
       "                   intercept_scaling=1, l1_ratio=None, max_iter=1000,\n",
       "                   multi_class='warn', n_jobs=None, penalty='l2',\n",
       "                   random_state=None, solver='lbfgs', tol=0.0001, verbose=0,\n",
       "                   warm_start=False)"
      ]
     },
     "execution_count": 248,
     "metadata": {},
     "output_type": "execute_result"
    }
   ],
   "source": [
    "#fit (train) model with training data for Arrests\n",
    "classifier.fit(x_train_scaled, y_train['Arrest'])"
   ]
  },
  {
   "cell_type": "code",
   "execution_count": 249,
   "metadata": {},
   "outputs": [],
   "source": [
    "predictions = classifier.predict(x_test_scaled)"
   ]
  },
  {
   "cell_type": "code",
   "execution_count": 250,
   "metadata": {},
   "outputs": [
    {
     "data": {
      "image/png": "[encoded data removed]",
      "text/plain": [
       "<Figure size 432x288 with 2 Axes>"
      ]
     },
     "metadata": {
      "needs_background": "light"
     },
     "output_type": "display_data"
    }
   ],
   "source": [
    "conf_matrix = metrics.confusion_matrix(y_test['Arrest'],predictions)\n",
    "sns.heatmap(conf_matrix,yticklabels=2, annot = True, fmt = \".2f\", square = True, cmap = plt.cm.Greens)\n",
    "plt.ylabel('Actual')\n",
    "plt.xlabel('Predicted')\n",
    "plt.title('Confusion matrix')\n",
    "plt.tight_layout()"
   ]
  },
  {
   "cell_type": "code",
   "execution_count": 251,
   "metadata": {},
   "outputs": [
    {
     "name": "stdout",
     "output_type": "stream",
     "text": [
      "[0.8929627378462743, 0.10703726215372567, 0.8569919251377255, 0.5720618608634326, 0.8844854349317147]\n"
     ]
    }
   ],
   "source": [
    "accuracy = metrics.accuracy_score(y_test['Arrest'],predictions)\n",
    "error = 1 - accuracy\n",
    "precision = metrics.precision_score(y_test['Arrest'],predictions)\n",
    "recall = metrics.recall_score(y_test['Arrest'],predictions)\n",
    "F1_score = metrics.f1_score(y_test['Arrest'],predictions,average='weighted')\n",
    "print([accuracy, error, precision, recall,F1_score])"
   ]
  },
  {
   "cell_type": "code",
   "execution_count": 167,
   "metadata": {
    "colab": {
     "base_uri": "https://localhost:8080/",
     "height": 33
    },
    "colab_type": "code",
    "executionInfo": {
     "elapsed": 347499,
     "status": "ok",
     "timestamp": 1575266264930,
     "user": {
      "displayName": "Snehal Tikare",
      "photoUrl": "",
      "userId": "17239970982901927271"
     },
     "user_tz": 360
    },
    "id": "0HwwItIyf8Hk",
    "outputId": "e1ee0d67-719e-4db3-e91c-9204fde6f50c"
   },
   "outputs": [
    {
     "data": {
      "text/plain": [
       "0.8815401455154208"
      ]
     },
     "execution_count": 167,
     "metadata": {},
     "output_type": "execute_result"
    }
   ],
   "source": [
    "#Using Random Forest to build the model\n",
    "rf = RandomForestClassifier(n_estimators=100)\n",
    "rf = rf.fit(x_train_scaled, y_train['Arrest'])\n",
    "rf.score(x_val_scaled, y_val['Arrest'])"
   ]
  },
  {
   "cell_type": "code",
   "execution_count": 168,
   "metadata": {
    "colab": {
     "base_uri": "https://localhost:8080/",
     "height": 297
    },
    "colab_type": "code",
    "executionInfo": {
     "elapsed": 353984,
     "status": "ok",
     "timestamp": 1575266271437,
     "user": {
      "displayName": "Snehal Tikare",
      "photoUrl": "",
      "userId": "17239970982901927271"
     },
     "user_tz": 360
    },
    "id": "ttJ1HlJPf8H5",
    "outputId": "c540be41-0172-483b-8d59-377bf599938b"
   },
   "outputs": [
    {
     "data": {
      "image/png": "[encoded data removed]",
      "text/plain": [
       "<Figure size 432x288 with 2 Axes>"
      ]
     },
     "metadata": {
      "needs_background": "light"
     },
     "output_type": "display_data"
    }
   ],
   "source": [
    "y_pred = rf.predict(x_val_scaled)\n",
    "conf_matrix = metrics.confusion_matrix(y_val['Arrest'],y_pred)\n",
    "sns.heatmap(conf_matrix,yticklabels=2, annot = True, fmt = \".3f\", square = True, cmap = plt.cm.Greys)\n",
    "plt.ylabel('Actual')\n",
    "plt.xlabel('Predicted')\n",
    "plt.title('Confusion matrix')\n",
    "plt.tight_layout()"
   ]
  },
  {
   "cell_type": "code",
   "execution_count": 169,
   "metadata": {
    "colab": {
     "base_uri": "https://localhost:8080/",
     "height": 33
    },
    "colab_type": "code",
    "executionInfo": {
     "elapsed": 353954,
     "status": "ok",
     "timestamp": 1575266271440,
     "user": {
      "displayName": "Snehal Tikare",
      "photoUrl": "",
      "userId": "17239970982901927271"
     },
     "user_tz": 360
    },
    "id": "uvY1R13zvALW",
    "outputId": "11cf08a0-30ea-455b-be15-0b5110ea820e"
   },
   "outputs": [
    {
     "name": "stdout",
     "output_type": "stream",
     "text": [
      "[0.8815401455154208, 0.11845985448457919, 0.7700182525196413, 0.6062859285178706, 0.8760846217713733]\n"
     ]
    }
   ],
   "source": [
    "accuracy = metrics.accuracy_score(y_val['Arrest'], y_pred)\n",
    "error = 1 - accuracy\n",
    "precision = metrics.precision_score(y_val['Arrest'], y_pred)\n",
    "recall = metrics.recall_score(y_val['Arrest'], y_pred)\n",
    "F1_score = metrics.f1_score(y_val['Arrest'], y_pred,average='weighted')\n",
    "print([accuracy, error, precision, recall,F1_score])"
   ]
  },
  {
   "cell_type": "code",
   "execution_count": 170,
   "metadata": {
    "colab": {
     "base_uri": "https://localhost:8080/",
     "height": 33
    },
    "colab_type": "code",
    "executionInfo": {
     "elapsed": 357355,
     "status": "ok",
     "timestamp": 1575266274888,
     "user": {
      "displayName": "Snehal Tikare",
      "photoUrl": "",
      "userId": "17239970982901927271"
     },
     "user_tz": 360
    },
    "id": "Z5RehTrDv9LO",
    "outputId": "202fe82c-64a2-4d78-e344-78064d628048"
   },
   "outputs": [
    {
     "data": {
      "text/plain": [
       "GaussianNB(priors=None, var_smoothing=1e-09)"
      ]
     },
     "execution_count": 170,
     "metadata": {},
     "output_type": "execute_result"
    }
   ],
   "source": [
    "#-----------------Naive Bayes Classifier using different attributes --------------------\n",
    "classifier = GaussianNB()  \n",
    "classifier.fit(x_train_scaled,y_train['Arrest'])"
   ]
  },
  {
   "cell_type": "code",
   "execution_count": 171,
   "metadata": {
    "colab": {},
    "colab_type": "code",
    "id": "0XuniX2Mv9VD"
   },
   "outputs": [],
   "source": [
    "y_pred = classifier.predict(x_val_scaled)"
   ]
  },
  {
   "cell_type": "code",
   "execution_count": 172,
   "metadata": {
    "colab": {
     "base_uri": "https://localhost:8080/",
     "height": 297
    },
    "colab_type": "code",
    "executionInfo": {
     "elapsed": 358137,
     "status": "ok",
     "timestamp": 1575266275732,
     "user": {
      "displayName": "Snehal Tikare",
      "photoUrl": "",
      "userId": "17239970982901927271"
     },
     "user_tz": 360
    },
    "id": "ehj3MXBJv9h8",
    "outputId": "0a8f6d8c-3a3b-42bc-a978-779c67cbc354"
   },
   "outputs": [
    {
     "data": {
      "image/png": "[encoded data removed]",
      "text/plain": [
       "<Figure size 432x288 with 2 Axes>"
      ]
     },
     "metadata": {
      "needs_background": "light"
     },
     "output_type": "display_data"
    }
   ],
   "source": [
    "conf_matrix = metrics.confusion_matrix(y_val['Arrest'], y_pred)\n",
    "sns.heatmap(conf_matrix,yticklabels=2, annot = True, fmt = \".3f\", square = True, cmap = plt.cm.Purples)\n",
    "plt.ylabel('Actual')\n",
    "plt.xlabel('Predicted')\n",
    "plt.title('Confusion matrix')\n",
    "plt.tight_layout()"
   ]
  },
  {
   "cell_type": "code",
   "execution_count": 173,
   "metadata": {
    "colab": {
     "base_uri": "https://localhost:8080/",
     "height": 33
    },
    "colab_type": "code",
    "executionInfo": {
     "elapsed": 358106,
     "status": "ok",
     "timestamp": 1575266275734,
     "user": {
      "displayName": "Snehal Tikare",
      "photoUrl": "",
      "userId": "17239970982901927271"
     },
     "user_tz": 360
    },
    "id": "pcGqBIuUv9qd",
    "outputId": "a60db367-fc4c-4bcc-b8de-3f5dd565bf55"
   },
   "outputs": [
    {
     "name": "stdout",
     "output_type": "stream",
     "text": [
      "[0.8671560105595261, 0.13284398944047393, 0.9052436591621544, 0.3969632591852037, 0.8457419082834318]\n"
     ]
    }
   ],
   "source": [
    "accuracy = metrics.accuracy_score(y_val['Arrest'], y_pred)\n",
    "error = 1 - accuracy\n",
    "precision = metrics.precision_score(y_val['Arrest'], y_pred)\n",
    "recall = metrics.recall_score(y_val['Arrest'], y_pred)\n",
    "F1_score = metrics.f1_score(y_val['Arrest'], y_pred,average='weighted')\n",
    "print([accuracy, error, precision, recall, F1_score])"
   ]
  },
  {
   "cell_type": "code",
   "execution_count": 252,
   "metadata": {
    "colab": {},
    "colab_type": "code",
    "id": "AbuO5MDixQ8e"
   },
   "outputs": [],
   "source": [
    "#Using SMOTE to oversample the minority class data\n",
    "smt = SMOTE()\n",
    "X_train_s, y_train_s = smt.fit_sample(X_train, y_train['Arrest'])"
   ]
  },
  {
   "cell_type": "code",
   "execution_count": 253,
   "metadata": {
    "colab": {
     "base_uri": "https://localhost:8080/",
     "height": 33
    },
    "colab_type": "code",
    "executionInfo": {
     "elapsed": 378243,
     "status": "ok",
     "timestamp": 1575266295899,
     "user": {
      "displayName": "Snehal Tikare",
      "photoUrl": "",
      "userId": "17239970982901927271"
     },
     "user_tz": 360
    },
    "id": "HEZEx1Doxd_1",
    "outputId": "cdae3e67-0216-4157-b739-8d24b1f38bb9",
    "scrolled": true
   },
   "outputs": [
    {
     "data": {
      "text/plain": [
       "array([246390, 246390])"
      ]
     },
     "execution_count": 253,
     "metadata": {},
     "output_type": "execute_result"
    }
   ],
   "source": [
    "np.bincount(y_train_s)"
   ]
  },
  {
   "cell_type": "code",
   "execution_count": 254,
   "metadata": {
    "colab": {
     "base_uri": "https://localhost:8080/",
     "height": 228
    },
    "colab_type": "code",
    "executionInfo": {
     "elapsed": 384672,
     "status": "ok",
     "timestamp": 1575266302346,
     "user": {
      "displayName": "Snehal Tikare",
      "photoUrl": "",
      "userId": "17239970982901927271"
     },
     "user_tz": 360
    },
    "id": "DIx757DVxteq",
    "outputId": "f8cbfe32-a229-4b15-cf67-423874ce666d"
   },
   "outputs": [
    {
     "data": {
      "text/plain": [
       "array([[0.59691002, 0.        , 2.19317813, ..., 0.        , 0.        ,\n",
       "        0.        ],\n",
       "       [2.6860951 , 0.        , 0.38142228, ..., 0.        , 0.        ,\n",
       "        0.        ],\n",
       "       [0.44768252, 0.        , 2.05014477, ..., 0.        , 0.        ,\n",
       "        0.        ],\n",
       "       ...,\n",
       "       [1.04459254, 0.        , 3.24208941, ..., 0.        , 0.        ,\n",
       "        0.        ],\n",
       "       [2.6860951 , 0.        , 0.38142228, ..., 0.        , 0.        ,\n",
       "        0.        ],\n",
       "       [2.85930848, 0.56267244, 0.31685754, ..., 0.        , 0.        ,\n",
       "        0.        ]])"
      ]
     },
     "execution_count": 254,
     "metadata": {},
     "output_type": "execute_result"
    }
   ],
   "source": [
    "# Standardize train and Validation set\n",
    "scaler = StandardScaler(with_mean=False)\n",
    "scaler.fit(X_train_s)\n",
    "x_train_scaled = scaler.transform(X_train_s)\n",
    "x_val_scaled = scaler.transform(X_val)\n",
    "x_train_scaled"
   ]
  },
  {
   "cell_type": "code",
   "execution_count": 201,
   "metadata": {
    "colab": {
     "base_uri": "https://localhost:8080/",
     "height": 33
    },
    "colab_type": "code",
    "executionInfo": {
     "elapsed": 388973,
     "status": "ok",
     "timestamp": 1575266306667,
     "user": {
      "displayName": "Snehal Tikare",
      "photoUrl": "",
      "userId": "17239970982901927271"
     },
     "user_tz": 360
    },
    "id": "E8i9Yx7axog7",
    "outputId": "eca12651-e322-40da-aa9f-732874658156"
   },
   "outputs": [
    {
     "data": {
      "text/plain": [
       "GaussianNB(priors=None, var_smoothing=1e-09)"
      ]
     },
     "execution_count": 201,
     "metadata": {},
     "output_type": "execute_result"
    }
   ],
   "source": [
    "#-----------------Naive Bayes Classifier after SMOTE --------------------\n",
    "classifier = GaussianNB()  \n",
    "classifier.fit(x_train_scaled,y_train_s)"
   ]
  },
  {
   "cell_type": "code",
   "execution_count": 178,
   "metadata": {
    "colab": {},
    "colab_type": "code",
    "id": "fLd5B_EvyDXF"
   },
   "outputs": [],
   "source": [
    "y_pred = classifier.predict(x_val_scaled)"
   ]
  },
  {
   "cell_type": "code",
   "execution_count": 179,
   "metadata": {
    "colab": {
     "base_uri": "https://localhost:8080/",
     "height": 297
    },
    "colab_type": "code",
    "executionInfo": {
     "elapsed": 389764,
     "status": "ok",
     "timestamp": 1575266307498,
     "user": {
      "displayName": "Snehal Tikare",
      "photoUrl": "",
      "userId": "17239970982901927271"
     },
     "user_tz": 360
    },
    "id": "L1koqy7SyDdG",
    "outputId": "47505739-d162-4456-d7f1-ac7e1d1764a4"
   },
   "outputs": [
    {
     "data": {
      "image/png": "[encoded data removed]",
      "text/plain": [
       "<Figure size 432x288 with 2 Axes>"
      ]
     },
     "metadata": {
      "needs_background": "light"
     },
     "output_type": "display_data"
    }
   ],
   "source": [
    "conf_matrix = metrics.confusion_matrix(y_val['Arrest'], y_pred)\n",
    "sns.heatmap(conf_matrix,yticklabels=2, annot = True, fmt = \".3f\", square = True, cmap = plt.cm.Greens)\n",
    "plt.ylabel('Actual')\n",
    "plt.xlabel('Predicted')\n",
    "plt.title('Confusion matrix')\n",
    "plt.tight_layout()"
   ]
  },
  {
   "cell_type": "code",
   "execution_count": 180,
   "metadata": {
    "colab": {
     "base_uri": "https://localhost:8080/",
     "height": 33
    },
    "colab_type": "code",
    "executionInfo": {
     "elapsed": 389889,
     "status": "ok",
     "timestamp": 1575266307646,
     "user": {
      "displayName": "Snehal Tikare",
      "photoUrl": "",
      "userId": "17239970982901927271"
     },
     "user_tz": 360
    },
    "id": "P3IOce4GyO7g",
    "outputId": "aec30fba-9c78-46c0-a1b9-f5f5826175e0"
   },
   "outputs": [
    {
     "name": "stdout",
     "output_type": "stream",
     "text": [
      "[0.8795312600605241, 0.12046873993947593, 0.9153029356652093, 0.45782304423894027, 0.8631327154922487]\n"
     ]
    }
   ],
   "source": [
    "accuracy = metrics.accuracy_score(y_val['Arrest'], y_pred)\n",
    "error = 1 - accuracy\n",
    "precision = metrics.precision_score(y_val['Arrest'], y_pred)\n",
    "recall = metrics.recall_score(y_val['Arrest'], y_pred)\n",
    "F1_score = metrics.f1_score(y_val['Arrest'], y_pred,average='weighted')\n",
    "print([accuracy, error, precision, recall, F1_score])"
   ]
  },
  {
   "cell_type": "code",
   "execution_count": 255,
   "metadata": {},
   "outputs": [
    {
     "data": {
      "text/plain": [
       "LogisticRegression(C=1.0, class_weight=None, dual=False, fit_intercept=True,\n",
       "                   intercept_scaling=1, l1_ratio=None, max_iter=1000,\n",
       "                   multi_class='warn', n_jobs=None, penalty='l2',\n",
       "                   random_state=None, solver='lbfgs', tol=0.0001, verbose=0,\n",
       "                   warm_start=False)"
      ]
     },
     "execution_count": 255,
     "metadata": {},
     "output_type": "execute_result"
    }
   ],
   "source": [
    "#Using Logistic Regression for SMOTE\n",
    "classifier = LogisticRegression(solver=\"lbfgs\",max_iter=1000)\n",
    "classifier"
   ]
  },
  {
   "cell_type": "code",
   "execution_count": 256,
   "metadata": {},
   "outputs": [
    {
     "data": {
      "text/plain": [
       "LogisticRegression(C=1.0, class_weight=None, dual=False, fit_intercept=True,\n",
       "                   intercept_scaling=1, l1_ratio=None, max_iter=1000,\n",
       "                   multi_class='warn', n_jobs=None, penalty='l2',\n",
       "                   random_state=None, solver='lbfgs', tol=0.0001, verbose=0,\n",
       "                   warm_start=False)"
      ]
     },
     "execution_count": 256,
     "metadata": {},
     "output_type": "execute_result"
    }
   ],
   "source": [
    "#fit (train) model with training data for Arrests\n",
    "classifier.fit(x_train_scaled, y_train_s)"
   ]
  },
  {
   "cell_type": "code",
   "execution_count": 257,
   "metadata": {},
   "outputs": [],
   "source": [
    "predictions = classifier.predict(x_val_scaled)"
   ]
  },
  {
   "cell_type": "code",
   "execution_count": 259,
   "metadata": {},
   "outputs": [
    {
     "data": {
      "image/png": "[encoded data removed]",
      "text/plain": [
       "<Figure size 432x288 with 2 Axes>"
      ]
     },
     "metadata": {
      "needs_background": "light"
     },
     "output_type": "display_data"
    }
   ],
   "source": [
    "conf_matrix = metrics.confusion_matrix(y_val['Arrest'],predictions)\n",
    "sns.heatmap(conf_matrix,yticklabels=2, annot = True, fmt = \".2f\", square = True, cmap = plt.cm.Reds)\n",
    "plt.ylabel('Actual')\n",
    "plt.xlabel('Predicted')\n",
    "plt.title('Confusion matrix')\n",
    "plt.tight_layout()"
   ]
  },
  {
   "cell_type": "code",
   "execution_count": 260,
   "metadata": {},
   "outputs": [
    {
     "name": "stdout",
     "output_type": "stream",
     "text": [
      "[0.8619148799175842, 0.1380851200824158, 0.6609962807145906, 0.6773931517120719, 0.8625377169048841]\n"
     ]
    }
   ],
   "source": [
    "accuracy = metrics.accuracy_score(y_val['Arrest'],predictions)\n",
    "error = 1 - accuracy\n",
    "precision = metrics.precision_score(y_val['Arrest'],predictions)\n",
    "recall = metrics.recall_score(y_val['Arrest'],predictions)\n",
    "F1_score = metrics.f1_score(y_val['Arrest'],predictions,average='weighted')\n",
    "print([accuracy, error, precision, recall,F1_score])"
   ]
  },
  {
   "cell_type": "code",
   "execution_count": 181,
   "metadata": {
    "colab": {
     "base_uri": "https://localhost:8080/",
     "height": 33
    },
    "colab_type": "code",
    "executionInfo": {
     "elapsed": 804924,
     "status": "ok",
     "timestamp": 1575266722703,
     "user": {
      "displayName": "Snehal Tikare",
      "photoUrl": "",
      "userId": "17239970982901927271"
     },
     "user_tz": 360
    },
    "id": "iNjJgvEEDh9Y",
    "outputId": "347f3e7b-9fb3-4936-ff86-fd5100f0f4a6"
   },
   "outputs": [
    {
     "data": {
      "text/plain": [
       "0.8777155366685983"
      ]
     },
     "execution_count": 181,
     "metadata": {},
     "output_type": "execute_result"
    }
   ],
   "source": [
    "#Using Random Forest to build the model after SMOTE\n",
    "rf = RandomForestClassifier(n_estimators=100)\n",
    "rf = rf.fit(x_train_scaled, y_train_s)\n",
    "rf.score(x_val_scaled, y_val['Arrest'])"
   ]
  },
  {
   "cell_type": "code",
   "execution_count": 182,
   "metadata": {
    "colab": {
     "base_uri": "https://localhost:8080/",
     "height": 297
    },
    "colab_type": "code",
    "executionInfo": {
     "elapsed": 812337,
     "status": "ok",
     "timestamp": 1575266730141,
     "user": {
      "displayName": "Snehal Tikare",
      "photoUrl": "",
      "userId": "17239970982901927271"
     },
     "user_tz": 360
    },
    "id": "u2vC7PyKDiaE",
    "outputId": "04c7d9c1-d1e6-45a5-8409-d000a6759da9"
   },
   "outputs": [
    {
     "data": {
      "image/png": "[encoded data removed]",
      "text/plain": [
       "<Figure size 432x288 with 2 Axes>"
      ]
     },
     "metadata": {
      "needs_background": "light"
     },
     "output_type": "display_data"
    }
   ],
   "source": [
    "y_pred = rf.predict(x_val_scaled)\n",
    "conf_matrix = metrics.confusion_matrix(y_val['Arrest'],y_pred)\n",
    "sns.heatmap(conf_matrix,yticklabels=2, annot = True, fmt = \".3f\", square = True, cmap = plt.cm.Oranges)\n",
    "plt.ylabel('Actual')\n",
    "plt.xlabel('Predicted')\n",
    "plt.title('Confusion matrix')\n",
    "plt.tight_layout()"
   ]
  },
  {
   "cell_type": "code",
   "execution_count": 183,
   "metadata": {
    "colab": {
     "base_uri": "https://localhost:8080/",
     "height": 33
    },
    "colab_type": "code",
    "executionInfo": {
     "elapsed": 812318,
     "status": "ok",
     "timestamp": 1575266730145,
     "user": {
      "displayName": "Snehal Tikare",
      "photoUrl": "",
      "userId": "17239970982901927271"
     },
     "user_tz": 360
    },
    "id": "g5gwXRGcDiSQ",
    "outputId": "af0b580e-b0a3-4e5d-b9c0-134cd808b229"
   },
   "outputs": [
    {
     "name": "stdout",
     "output_type": "stream",
     "text": [
      "[0.8777155366685983, 0.12228446333140175, 0.7442576189761297, 0.6195326168457885, 0.873425414683152]\n"
     ]
    }
   ],
   "source": [
    "accuracy = metrics.accuracy_score(y_val['Arrest'], y_pred)\n",
    "error = 1 - accuracy\n",
    "precision = metrics.precision_score(y_val['Arrest'], y_pred)\n",
    "recall = metrics.recall_score(y_val['Arrest'], y_pred)\n",
    "F1_score = metrics.f1_score(y_val['Arrest'], y_pred,average='weighted')\n",
    "print([accuracy, error, precision, recall, F1_score])"
   ]
  },
  {
   "cell_type": "code",
   "execution_count": 261,
   "metadata": {
    "colab": {},
    "colab_type": "code",
    "id": "Sa3zbTZDzLB3"
   },
   "outputs": [],
   "source": [
    "#Undersampling majority class\n",
    "nr = NearMiss()\n",
    "X_train_m, y_train_m = nr.fit_sample(X_train, y_train['Arrest'])\n"
   ]
  },
  {
   "cell_type": "code",
   "execution_count": 262,
   "metadata": {
    "colab": {
     "base_uri": "https://localhost:8080/",
     "height": 33
    },
    "colab_type": "code",
    "executionInfo": {
     "elapsed": 867402,
     "status": "ok",
     "timestamp": 1575266785264,
     "user": {
      "displayName": "Snehal Tikare",
      "photoUrl": "",
      "userId": "17239970982901927271"
     },
     "user_tz": 360
    },
    "id": "OXtoWJUrzLUI",
    "outputId": "20509356-42a7-4fde-bab6-b7c747e85a42"
   },
   "outputs": [
    {
     "data": {
      "text/plain": [
       "array([64230, 64230])"
      ]
     },
     "execution_count": 262,
     "metadata": {},
     "output_type": "execute_result"
    }
   ],
   "source": [
    "np.bincount(y_train_m)"
   ]
  },
  {
   "cell_type": "code",
   "execution_count": 263,
   "metadata": {
    "colab": {
     "base_uri": "https://localhost:8080/",
     "height": 228
    },
    "colab_type": "code",
    "executionInfo": {
     "elapsed": 869138,
     "status": "ok",
     "timestamp": 1575266787020,
     "user": {
      "displayName": "Snehal Tikare",
      "photoUrl": "",
      "userId": "17239970982901927271"
     },
     "user_tz": 360
    },
    "id": "XtW4msXxBYVN",
    "outputId": "0a8a06fe-33c1-492d-ca71-9af1159d6499"
   },
   "outputs": [
    {
     "data": {
      "text/plain": [
       "array([[2.90930747, 0.        , 0.29116173, ..., 0.        , 0.        ,\n",
       "        0.        ],\n",
       "       [2.75618602, 0.        , 0.38821564, ..., 0.        , 0.        ,\n",
       "        0.        ],\n",
       "       [2.75618602, 0.        , 0.38821564, ..., 0.        , 0.        ,\n",
       "        0.        ],\n",
       "       ...,\n",
       "       [3.82803614, 0.        , 1.21317389, ..., 0.        , 0.        ,\n",
       "        0.        ],\n",
       "       [1.83745735, 0.        , 1.35875475, ..., 0.        , 0.        ,\n",
       "        0.        ],\n",
       "       [1.37809301, 0.        , 2.86309037, ..., 0.        , 0.        ,\n",
       "        0.        ]])"
      ]
     },
     "execution_count": 263,
     "metadata": {},
     "output_type": "execute_result"
    }
   ],
   "source": [
    "# Standardize train and Validation set\n",
    "scaler = StandardScaler(with_mean=False)\n",
    "scaler.fit(X_train_m)\n",
    "x_train_scaled = scaler.transform(X_train_m)\n",
    "x_val_scaled = scaler.transform(X_val)\n",
    "x_train_scaled"
   ]
  },
  {
   "cell_type": "code",
   "execution_count": 264,
   "metadata": {},
   "outputs": [
    {
     "data": {
      "text/plain": [
       "LogisticRegression(C=1.0, class_weight=None, dual=False, fit_intercept=True,\n",
       "                   intercept_scaling=1, l1_ratio=None, max_iter=1000,\n",
       "                   multi_class='warn', n_jobs=None, penalty='l2',\n",
       "                   random_state=None, solver='lbfgs', tol=0.0001, verbose=0,\n",
       "                   warm_start=False)"
      ]
     },
     "execution_count": 264,
     "metadata": {},
     "output_type": "execute_result"
    }
   ],
   "source": [
    "#Using Logistic Regression for near miss\n",
    "classifier = LogisticRegression(solver=\"lbfgs\",max_iter=1000)\n",
    "classifier"
   ]
  },
  {
   "cell_type": "code",
   "execution_count": 265,
   "metadata": {},
   "outputs": [
    {
     "data": {
      "text/plain": [
       "LogisticRegression(C=1.0, class_weight=None, dual=False, fit_intercept=True,\n",
       "                   intercept_scaling=1, l1_ratio=None, max_iter=1000,\n",
       "                   multi_class='warn', n_jobs=None, penalty='l2',\n",
       "                   random_state=None, solver='lbfgs', tol=0.0001, verbose=0,\n",
       "                   warm_start=False)"
      ]
     },
     "execution_count": 265,
     "metadata": {},
     "output_type": "execute_result"
    }
   ],
   "source": [
    "#fit (train) model with training data for Arrests\n",
    "classifier.fit(x_train_scaled, y_train_m)"
   ]
  },
  {
   "cell_type": "code",
   "execution_count": 266,
   "metadata": {},
   "outputs": [],
   "source": [
    "predictions = classifier.predict(x_val_scaled)"
   ]
  },
  {
   "cell_type": "code",
   "execution_count": 267,
   "metadata": {},
   "outputs": [
    {
     "data": {
      "image/png": "[encoded data removed]",
      "text/plain": [
       "<Figure size 432x288 with 2 Axes>"
      ]
     },
     "metadata": {
      "needs_background": "light"
     },
     "output_type": "display_data"
    }
   ],
   "source": [
    "conf_matrix = metrics.confusion_matrix(y_val['Arrest'],predictions)\n",
    "sns.heatmap(conf_matrix,yticklabels=2, annot = True, fmt = \".2f\", square = True, cmap = plt.cm.Purples)\n",
    "plt.ylabel('Actual')\n",
    "plt.xlabel('Predicted')\n",
    "plt.title('Confusion matrix')\n",
    "plt.tight_layout()"
   ]
  },
  {
   "cell_type": "code",
   "execution_count": 268,
   "metadata": {},
   "outputs": [
    {
     "name": "stdout",
     "output_type": "stream",
     "text": [
      "[0.8145386646062713, 0.18546133539372867, 0.537259279933017, 0.721694576355911, 0.8237990875820814]\n"
     ]
    }
   ],
   "source": [
    "accuracy = metrics.accuracy_score(y_val['Arrest'],predictions)\n",
    "error = 1 - accuracy\n",
    "precision = metrics.precision_score(y_val['Arrest'],predictions)\n",
    "recall = metrics.recall_score(y_val['Arrest'],predictions)\n",
    "F1_score = metrics.f1_score(y_val['Arrest'],predictions,average='weighted')\n",
    "print([accuracy, error, precision, recall,F1_score])"
   ]
  },
  {
   "cell_type": "code",
   "execution_count": 187,
   "metadata": {
    "colab": {
     "base_uri": "https://localhost:8080/",
     "height": 33
    },
    "colab_type": "code",
    "executionInfo": {
     "elapsed": 870442,
     "status": "ok",
     "timestamp": 1575266788344,
     "user": {
      "displayName": "Snehal Tikare",
      "photoUrl": "",
      "userId": "17239970982901927271"
     },
     "user_tz": 360
    },
    "id": "W651YRKKBHiQ",
    "outputId": "29b5c6ea-d98c-433d-8430-09e21cc0be09"
   },
   "outputs": [
    {
     "data": {
      "text/plain": [
       "GaussianNB(priors=None, var_smoothing=1e-09)"
      ]
     },
     "execution_count": 187,
     "metadata": {},
     "output_type": "execute_result"
    }
   ],
   "source": [
    "#-----------------Naive Bayes Classifier after near Miss --------------------\n",
    "classifier = GaussianNB()  \n",
    "classifier.fit(x_train_scaled,y_train_m)"
   ]
  },
  {
   "cell_type": "code",
   "execution_count": 188,
   "metadata": {
    "colab": {},
    "colab_type": "code",
    "id": "1JiooRCxBIO_"
   },
   "outputs": [],
   "source": [
    "y_pred = classifier.predict(x_val_scaled)"
   ]
  },
  {
   "cell_type": "code",
   "execution_count": 189,
   "metadata": {
    "colab": {
     "base_uri": "https://localhost:8080/",
     "height": 297
    },
    "colab_type": "code",
    "executionInfo": {
     "elapsed": 871024,
     "status": "ok",
     "timestamp": 1575266788962,
     "user": {
      "displayName": "Snehal Tikare",
      "photoUrl": "",
      "userId": "17239970982901927271"
     },
     "user_tz": 360
    },
    "id": "gP3oU-JJBIHI",
    "outputId": "5f27aadb-c8c7-4621-c0d5-32a7ce5e749f"
   },
   "outputs": [
    {
     "data": {
      "image/png": "[encoded data removed]",
      "text/plain": [
       "<Figure size 432x288 with 2 Axes>"
      ]
     },
     "metadata": {
      "needs_background": "light"
     },
     "output_type": "display_data"
    }
   ],
   "source": [
    "conf_matrix = metrics.confusion_matrix(y_val['Arrest'], y_pred)\n",
    "sns.heatmap(conf_matrix,yticklabels=2, annot = True, fmt = \".3f\", square = True, cmap = plt.cm.Reds)\n",
    "plt.ylabel('Actual')\n",
    "plt.xlabel('Predicted')\n",
    "plt.title('Confusion matrix')\n",
    "plt.tight_layout()"
   ]
  },
  {
   "cell_type": "code",
   "execution_count": 190,
   "metadata": {
    "colab": {
     "base_uri": "https://localhost:8080/",
     "height": 33
    },
    "colab_type": "code",
    "executionInfo": {
     "elapsed": 871149,
     "status": "ok",
     "timestamp": 1575266789115,
     "user": {
      "displayName": "Snehal Tikare",
      "photoUrl": "",
      "userId": "17239970982901927271"
     },
     "user_tz": 360
    },
    "id": "1m1pxD0bBH0g",
    "outputId": "6b0ce65d-896c-415b-f2d5-5fa095243156"
   },
   "outputs": [
    {
     "name": "stdout",
     "output_type": "stream",
     "text": [
      "[0.8616058206168309, 0.1383941793831691, 0.9359761154420302, 0.3525993501624594, 0.8354572178815222]\n"
     ]
    }
   ],
   "source": [
    "accuracy = metrics.accuracy_score(y_val['Arrest'], y_pred)\n",
    "error = 1 - accuracy\n",
    "precision = metrics.precision_score(y_val['Arrest'], y_pred)\n",
    "recall = metrics.recall_score(y_val['Arrest'], y_pred)\n",
    "F1_score = metrics.f1_score(y_val['Arrest'], y_pred,average='weighted')\n",
    "print([accuracy, error, precision, recall, F1_score])"
   ]
  },
  {
   "cell_type": "code",
   "execution_count": 191,
   "metadata": {
    "colab": {
     "base_uri": "https://localhost:8080/",
     "height": 33
    },
    "colab_type": "code",
    "executionInfo": {
     "elapsed": 963589,
     "status": "ok",
     "timestamp": 1575266881577,
     "user": {
      "displayName": "Snehal Tikare",
      "photoUrl": "",
      "userId": "17239970982901927271"
     },
     "user_tz": 360
    },
    "id": "wVMDR-5TEMdQ",
    "outputId": "769321e7-ae5d-4e3d-a49f-7026a176c3ad"
   },
   "outputs": [
    {
     "data": {
      "text/plain": [
       "0.7307964715729831"
      ]
     },
     "execution_count": 191,
     "metadata": {},
     "output_type": "execute_result"
    }
   ],
   "source": [
    "#Using Random Forest to build the model after Near Miss\n",
    "rf = RandomForestClassifier(n_estimators=100)\n",
    "rf = rf.fit(x_train_scaled, y_train_m)\n",
    "rf.score(x_val_scaled, y_val['Arrest'])"
   ]
  },
  {
   "cell_type": "code",
   "execution_count": 192,
   "metadata": {
    "colab": {
     "base_uri": "https://localhost:8080/",
     "height": 297
    },
    "colab_type": "code",
    "executionInfo": {
     "elapsed": 968880,
     "status": "ok",
     "timestamp": 1575266886891,
     "user": {
      "displayName": "Snehal Tikare",
      "photoUrl": "",
      "userId": "17239970982901927271"
     },
     "user_tz": 360
    },
    "id": "g8_lxHwsEMVJ",
    "outputId": "8ac67241-d7fe-43ea-ff0a-fbacfa16381f"
   },
   "outputs": [
    {
     "data": {
      "image/png": "[encoded data removed]",
      "text/plain": [
       "<Figure size 432x288 with 2 Axes>"
      ]
     },
     "metadata": {
      "needs_background": "light"
     },
     "output_type": "display_data"
    }
   ],
   "source": [
    "y_pred = rf.predict(x_val_scaled)\n",
    "conf_matrix = metrics.confusion_matrix(y_val['Arrest'],y_pred)\n",
    "sns.heatmap(conf_matrix,yticklabels=2, annot = True, fmt = \".3f\", square = True, cmap = plt.cm.YlOrBr)\n",
    "plt.ylabel('Actual')\n",
    "plt.xlabel('Predicted')\n",
    "plt.title('Confusion matrix')\n",
    "plt.tight_layout()"
   ]
  },
  {
   "cell_type": "code",
   "execution_count": 193,
   "metadata": {
    "colab": {
     "base_uri": "https://localhost:8080/",
     "height": 33
    },
    "colab_type": "code",
    "executionInfo": {
     "elapsed": 968862,
     "status": "ok",
     "timestamp": 1575266886897,
     "user": {
      "displayName": "Snehal Tikare",
      "photoUrl": "",
      "userId": "17239970982901927271"
     },
     "user_tz": 360
    },
    "id": "gGu5NdGoEMQi",
    "outputId": "8d91a288-0bef-4663-f919-8171a0e4f4bd"
   },
   "outputs": [
    {
     "name": "stdout",
     "output_type": "stream",
     "text": [
      "[0.7307964715729831, 0.2692035284270169, 0.41717086361331757, 0.7711822044488877, 0.7542337652638942]\n"
     ]
    }
   ],
   "source": [
    "accuracy = metrics.accuracy_score(y_val['Arrest'], y_pred)\n",
    "error = 1 - accuracy\n",
    "precision = metrics.precision_score(y_val['Arrest'], y_pred)\n",
    "recall = metrics.recall_score(y_val['Arrest'], y_pred)\n",
    "F1_score = metrics.f1_score(y_val['Arrest'], y_pred,average='weighted')\n",
    "print([accuracy, error, precision, recall, F1_score])"
   ]
  },
  {
   "cell_type": "code",
   "execution_count": 194,
   "metadata": {
    "colab": {
     "base_uri": "https://localhost:8080/",
     "height": 33
    },
    "colab_type": "code",
    "executionInfo": {
     "elapsed": 1065423,
     "status": "ok",
     "timestamp": 1575266983475,
     "user": {
      "displayName": "Snehal Tikare",
      "photoUrl": "",
      "userId": "17239970982901927271"
     },
     "user_tz": 360
    },
    "id": "2337m2hkEMKh",
    "outputId": "6b4485de-a0fe-4f10-8c7a-3c38b7a14f9f"
   },
   "outputs": [
    {
     "data": {
      "text/plain": [
       "0.7347762931522938"
      ]
     },
     "execution_count": 194,
     "metadata": {},
     "output_type": "execute_result"
    }
   ],
   "source": [
    "# Predicting for test set using Logistic Regression after near Miss\n",
    "# Standardize train and Validation set\n",
    "scaler = StandardScaler(with_mean=False)\n",
    "scaler.fit(X_train_m)\n",
    "x_train_scaled = scaler.transform(X_train_m)\n",
    "x_test_scaled = scaler.transform(X_test)\n",
    "x_train_scaled\n",
    "rf = RandomForestClassifier(n_estimators=100)\n",
    "rf = rf.fit(x_train_scaled, y_train_m)\n",
    "rf.score(x_test_scaled, y_test['Arrest'])"
   ]
  },
  {
   "cell_type": "code",
   "execution_count": 195,
   "metadata": {
    "colab": {
     "base_uri": "https://localhost:8080/",
     "height": 297
    },
    "colab_type": "code",
    "executionInfo": {
     "elapsed": 1072367,
     "status": "ok",
     "timestamp": 1575266990432,
     "user": {
      "displayName": "Snehal Tikare",
      "photoUrl": "",
      "userId": "17239970982901927271"
     },
     "user_tz": 360
    },
    "id": "mZONGetAEMCD",
    "outputId": "914c5d5f-3ba0-4fd6-e035-1d513c587f1f"
   },
   "outputs": [
    {
     "data": {
      "image/png": "[encoded data removed]",
      "text/plain": [
       "<Figure size 432x288 with 2 Axes>"
      ]
     },
     "metadata": {
      "needs_background": "light"
     },
     "output_type": "display_data"
    }
   ],
   "source": [
    "y_pred = rf.predict(x_test_scaled)\n",
    "conf_matrix = metrics.confusion_matrix(y_test['Arrest'],y_pred)\n",
    "sns.heatmap(conf_matrix,yticklabels=2, annot = True, fmt = \".3f\", square = True, cmap = plt.cm.YlOrRd)\n",
    "plt.ylabel('Actual')\n",
    "plt.xlabel('Predicted')\n",
    "plt.title('Confusion matrix')\n",
    "plt.tight_layout()"
   ]
  },
  {
   "cell_type": "code",
   "execution_count": 101,
   "metadata": {
    "colab": {
     "base_uri": "https://localhost:8080/",
     "height": 33
    },
    "colab_type": "code",
    "executionInfo": {
     "elapsed": 1072366,
     "status": "ok",
     "timestamp": 1575266990436,
     "user": {
      "displayName": "Snehal Tikare",
      "photoUrl": "",
      "userId": "17239970982901927271"
     },
     "user_tz": 360
    },
    "id": "ipwrMd8uJPsJ",
    "outputId": "7a830cc3-e85c-425e-91eb-6fe95bd55a2c"
   },
   "outputs": [
    {
     "name": "stdout",
     "output_type": "stream",
     "text": [
      "[0.7344878385478371, 0.26551216145216294, 0.41961667933543273, 0.7786509495743288]\n"
     ]
    }
   ],
   "source": [
    "accuracy = metrics.accuracy_score(y_test['Arrest'], y_pred)\n",
    "error = 1 - accuracy\n",
    "precision = metrics.precision_score(y_test['Arrest'], y_pred)\n",
    "recall = metrics.recall_score(y_test['Arrest'], y_pred)\n",
    "F1_score = metrics.f1_score(y_test['Arrest'], y_pred,average='weighted')\n",
    "print([accuracy, error, precision, recall, F1_score])"
   ]
  },
  {
   "cell_type": "code",
   "execution_count": 269,
   "metadata": {
    "colab": {
     "base_uri": "https://localhost:8080/",
     "height": 342
    },
    "colab_type": "code",
    "executionInfo": {
     "elapsed": 1072482,
     "status": "ok",
     "timestamp": 1575266990564,
     "user": {
      "displayName": "Snehal Tikare",
      "photoUrl": "",
      "userId": "17239970982901927271"
     },
     "user_tz": 360
    },
    "id": "wmupDlx-5VWu",
    "outputId": "b2fea3f1-5745-4a74-c325-07b714c57b2e",
    "scrolled": true
   },
   "outputs": [
    {
     "name": "stdout",
     "output_type": "stream",
     "text": [
      "<class 'pandas.core.frame.DataFrame'>\n",
      "RangeIndex: 485344 entries, 0 to 485343\n",
      "Data columns (total 15 columns):\n",
      "District                485344 non-null int64\n",
      "IUCR                    485344 non-null object\n",
      "Primary Type            485344 non-null object\n",
      "Description             485344 non-null object\n",
      "Location Description    485344 non-null object\n",
      "Domestic                485344 non-null int64\n",
      "Community Area          485344 non-null float64\n",
      "Latitude                485344 non-null float64\n",
      "Longitude               485344 non-null float64\n",
      "Distance                485344 non-null float64\n",
      "Month                   485344 non-null int64\n",
      "Day                     485344 non-null int64\n",
      "Season                  485344 non-null object\n",
      "crimeGroups             485344 non-null int64\n",
      "Arrest                  485344 non-null int64\n",
      "dtypes: float64(4), int64(6), object(5)\n",
      "memory usage: 55.5+ MB\n"
     ]
    }
   ],
   "source": [
    "df_cgrp.info()"
   ]
  },
  {
   "cell_type": "code",
   "execution_count": 270,
   "metadata": {
    "colab": {
     "base_uri": "https://localhost:8080/",
     "height": 303
    },
    "colab_type": "code",
    "executionInfo": {
     "elapsed": 4522,
     "status": "ok",
     "timestamp": 1575311343678,
     "user": {
      "displayName": "Snehal Tikare",
      "photoUrl": "",
      "userId": "17239970982901927271"
     },
     "user_tz": 360
    },
    "id": "lI6CuEnZBHx_",
    "outputId": "8386a7c4-be90-4cd7-e591-3662bcf112c3"
   },
   "outputs": [
    {
     "data": {
      "text/html": [
       "<div>\n",
       "<style scoped>\n",
       "    .dataframe tbody tr th:only-of-type {\n",
       "        vertical-align: middle;\n",
       "    }\n",
       "\n",
       "    .dataframe tbody tr th {\n",
       "        vertical-align: top;\n",
       "    }\n",
       "\n",
       "    .dataframe thead th {\n",
       "        text-align: right;\n",
       "    }\n",
       "</style>\n",
       "<table border=\"1\" class=\"dataframe\">\n",
       "  <thead>\n",
       "    <tr style=\"text-align: right;\">\n",
       "      <th></th>\n",
       "      <th>District</th>\n",
       "      <th>Domestic</th>\n",
       "      <th>Community Area</th>\n",
       "      <th>Latitude</th>\n",
       "      <th>Longitude</th>\n",
       "      <th>Distance</th>\n",
       "      <th>crimeGroups</th>\n",
       "      <th>Arrest</th>\n",
       "      <th>IUCR_0110</th>\n",
       "      <th>IUCR_0142</th>\n",
       "      <th>...</th>\n",
       "      <th>Location Description_VEHICLE-COMMERCIAL - ENTERTAINMENT/PARTY BUS</th>\n",
       "      <th>Location Description_VEHICLE-COMMERCIAL - TROLLEY BUS</th>\n",
       "      <th>Location Description_WAREHOUSE</th>\n",
       "      <th>Location Description_WOODED AREA</th>\n",
       "      <th>Location Description_YARD</th>\n",
       "      <th>Location Description_YMCA</th>\n",
       "      <th>Season_Autumn</th>\n",
       "      <th>Season_Spring</th>\n",
       "      <th>Season_Summer</th>\n",
       "      <th>Season_Winter</th>\n",
       "    </tr>\n",
       "  </thead>\n",
       "  <tbody>\n",
       "    <tr>\n",
       "      <td>0</td>\n",
       "      <td>4</td>\n",
       "      <td>0</td>\n",
       "      <td>51.0</td>\n",
       "      <td>41.721844</td>\n",
       "      <td>-87.585072</td>\n",
       "      <td>6822.245420</td>\n",
       "      <td>1</td>\n",
       "      <td>1</td>\n",
       "      <td>0</td>\n",
       "      <td>0</td>\n",
       "      <td>...</td>\n",
       "      <td>0</td>\n",
       "      <td>0</td>\n",
       "      <td>0</td>\n",
       "      <td>0</td>\n",
       "      <td>0</td>\n",
       "      <td>0</td>\n",
       "      <td>1</td>\n",
       "      <td>0</td>\n",
       "      <td>0</td>\n",
       "      <td>0</td>\n",
       "    </tr>\n",
       "    <tr>\n",
       "      <td>1</td>\n",
       "      <td>22</td>\n",
       "      <td>0</td>\n",
       "      <td>73.0</td>\n",
       "      <td>41.726124</td>\n",
       "      <td>-87.640913</td>\n",
       "      <td>14717.784521</td>\n",
       "      <td>3</td>\n",
       "      <td>1</td>\n",
       "      <td>0</td>\n",
       "      <td>0</td>\n",
       "      <td>...</td>\n",
       "      <td>0</td>\n",
       "      <td>0</td>\n",
       "      <td>0</td>\n",
       "      <td>0</td>\n",
       "      <td>0</td>\n",
       "      <td>0</td>\n",
       "      <td>0</td>\n",
       "      <td>0</td>\n",
       "      <td>1</td>\n",
       "      <td>0</td>\n",
       "    </tr>\n",
       "    <tr>\n",
       "      <td>2</td>\n",
       "      <td>7</td>\n",
       "      <td>0</td>\n",
       "      <td>69.0</td>\n",
       "      <td>41.770428</td>\n",
       "      <td>-87.628300</td>\n",
       "      <td>9500.832396</td>\n",
       "      <td>2</td>\n",
       "      <td>1</td>\n",
       "      <td>0</td>\n",
       "      <td>0</td>\n",
       "      <td>...</td>\n",
       "      <td>0</td>\n",
       "      <td>0</td>\n",
       "      <td>0</td>\n",
       "      <td>0</td>\n",
       "      <td>0</td>\n",
       "      <td>0</td>\n",
       "      <td>1</td>\n",
       "      <td>0</td>\n",
       "      <td>0</td>\n",
       "      <td>0</td>\n",
       "    </tr>\n",
       "    <tr>\n",
       "      <td>3</td>\n",
       "      <td>24</td>\n",
       "      <td>0</td>\n",
       "      <td>77.0</td>\n",
       "      <td>41.992509</td>\n",
       "      <td>-87.660344</td>\n",
       "      <td>3987.355350</td>\n",
       "      <td>2</td>\n",
       "      <td>1</td>\n",
       "      <td>0</td>\n",
       "      <td>0</td>\n",
       "      <td>...</td>\n",
       "      <td>0</td>\n",
       "      <td>0</td>\n",
       "      <td>0</td>\n",
       "      <td>0</td>\n",
       "      <td>0</td>\n",
       "      <td>0</td>\n",
       "      <td>1</td>\n",
       "      <td>0</td>\n",
       "      <td>0</td>\n",
       "      <td>0</td>\n",
       "    </tr>\n",
       "    <tr>\n",
       "      <td>4</td>\n",
       "      <td>8</td>\n",
       "      <td>1</td>\n",
       "      <td>66.0</td>\n",
       "      <td>41.765884</td>\n",
       "      <td>-87.693061</td>\n",
       "      <td>6432.894093</td>\n",
       "      <td>1</td>\n",
       "      <td>0</td>\n",
       "      <td>0</td>\n",
       "      <td>0</td>\n",
       "      <td>...</td>\n",
       "      <td>0</td>\n",
       "      <td>0</td>\n",
       "      <td>0</td>\n",
       "      <td>0</td>\n",
       "      <td>0</td>\n",
       "      <td>0</td>\n",
       "      <td>0</td>\n",
       "      <td>1</td>\n",
       "      <td>0</td>\n",
       "      <td>0</td>\n",
       "    </tr>\n",
       "  </tbody>\n",
       "</table>\n",
       "<p>5 rows × 871 columns</p>\n",
       "</div>"
      ],
      "text/plain": [
       "   District  Domestic  Community Area   Latitude  Longitude      Distance  \\\n",
       "0         4         0            51.0  41.721844 -87.585072   6822.245420   \n",
       "1        22         0            73.0  41.726124 -87.640913  14717.784521   \n",
       "2         7         0            69.0  41.770428 -87.628300   9500.832396   \n",
       "3        24         0            77.0  41.992509 -87.660344   3987.355350   \n",
       "4         8         1            66.0  41.765884 -87.693061   6432.894093   \n",
       "\n",
       "   crimeGroups  Arrest  IUCR_0110  IUCR_0142  ...  \\\n",
       "0            1       1          0          0  ...   \n",
       "1            3       1          0          0  ...   \n",
       "2            2       1          0          0  ...   \n",
       "3            2       1          0          0  ...   \n",
       "4            1       0          0          0  ...   \n",
       "\n",
       "   Location Description_VEHICLE-COMMERCIAL - ENTERTAINMENT/PARTY BUS  \\\n",
       "0                                                  0                   \n",
       "1                                                  0                   \n",
       "2                                                  0                   \n",
       "3                                                  0                   \n",
       "4                                                  0                   \n",
       "\n",
       "   Location Description_VEHICLE-COMMERCIAL - TROLLEY BUS  \\\n",
       "0                                                  0       \n",
       "1                                                  0       \n",
       "2                                                  0       \n",
       "3                                                  0       \n",
       "4                                                  0       \n",
       "\n",
       "   Location Description_WAREHOUSE  Location Description_WOODED AREA  \\\n",
       "0                               0                                 0   \n",
       "1                               0                                 0   \n",
       "2                               0                                 0   \n",
       "3                               0                                 0   \n",
       "4                               0                                 0   \n",
       "\n",
       "   Location Description_YARD  Location Description_YMCA  Season_Autumn  \\\n",
       "0                          0                          0              1   \n",
       "1                          0                          0              0   \n",
       "2                          0                          0              1   \n",
       "3                          0                          0              1   \n",
       "4                          0                          0              0   \n",
       "\n",
       "   Season_Spring  Season_Summer  Season_Winter  \n",
       "0              0              0              0  \n",
       "1              0              1              0  \n",
       "2              0              0              0  \n",
       "3              0              0              0  \n",
       "4              1              0              0  \n",
       "\n",
       "[5 rows x 871 columns]"
      ]
     },
     "execution_count": 270,
     "metadata": {},
     "output_type": "execute_result"
    }
   ],
   "source": [
    "#-------------------------Predicting Crime Group-------------------------------\n",
    "#Predicting Arrest\n",
    "df_cgrp=df_cgrp.drop(columns=['Primary Type','Day','Month'])\n",
    "#making dummy variables out of the object variables \n",
    "df_cgrp_dum= pd.get_dummies(df_cgrp)\n",
    "df_cgrp_dum.head()\n"
   ]
  },
  {
   "cell_type": "code",
   "execution_count": 271,
   "metadata": {
    "colab": {
     "base_uri": "https://localhost:8080/",
     "height": 33
    },
    "colab_type": "code",
    "executionInfo": {
     "elapsed": 1079389,
     "status": "ok",
     "timestamp": 1575266997510,
     "user": {
      "displayName": "Snehal Tikare",
      "photoUrl": "",
      "userId": "17239970982901927271"
     },
     "user_tz": 360
    },
    "id": "8m1ZT32X5SxW",
    "outputId": "e5d2b597-2594-433b-e924-9dee945f7d78"
   },
   "outputs": [
    {
     "name": "stdout",
     "output_type": "stream",
     "text": [
      "(485344, 869) (485344, 1)\n"
     ]
    }
   ],
   "source": [
    "X_cgrp = df_cgrp_dum.drop(columns=[\"crimeGroups\",\"Arrest\"])\n",
    "y_cgrp = df_cgrp_dum[[\"crimeGroups\"]]\n",
    "print(X_cgrp.shape, y_cgrp.shape)"
   ]
  },
  {
   "cell_type": "code",
   "execution_count": 272,
   "metadata": {
    "colab": {},
    "colab_type": "code",
    "id": "tFPmeEld5zPQ"
   },
   "outputs": [],
   "source": [
    "#Dividing the data into Train and Test set\n",
    "X_train_c, X_test_c, y_train_c, y_test_c = train_test_split(X_cgrp,y_cgrp, test_size = 0.2, random_state=0)"
   ]
  },
  {
   "cell_type": "code",
   "execution_count": 273,
   "metadata": {
    "colab": {
     "base_uri": "https://localhost:8080/",
     "height": 50
    },
    "colab_type": "code",
    "executionInfo": {
     "elapsed": 1081974,
     "status": "ok",
     "timestamp": 1575267000123,
     "user": {
      "displayName": "Snehal Tikare",
      "photoUrl": "",
      "userId": "17239970982901927271"
     },
     "user_tz": 360
    },
    "id": "d0h2pZ196D_8",
    "outputId": "1aabc34b-8579-4a5b-e891-82a6060ebe9e"
   },
   "outputs": [
    {
     "name": "stdout",
     "output_type": "stream",
     "text": [
      "(388275, 869)\n",
      "(388275, 1)\n"
     ]
    }
   ],
   "source": [
    "print(X_train_c.shape)\n",
    "print(y_train_c.shape)"
   ]
  },
  {
   "cell_type": "code",
   "execution_count": 274,
   "metadata": {
    "colab": {
     "base_uri": "https://localhost:8080/",
     "height": 50
    },
    "colab_type": "code",
    "executionInfo": {
     "elapsed": 1081964,
     "status": "ok",
     "timestamp": 1575267000128,
     "user": {
      "displayName": "Snehal Tikare",
      "photoUrl": "",
      "userId": "17239970982901927271"
     },
     "user_tz": 360
    },
    "id": "OfltQNN36OXi",
    "outputId": "1ec2aa61-18da-4cc5-88a4-2da8146d4c93"
   },
   "outputs": [
    {
     "name": "stdout",
     "output_type": "stream",
     "text": [
      "(97069, 869)\n",
      "(97069, 1)\n"
     ]
    }
   ],
   "source": [
    "print(X_test_c.shape)\n",
    "print(y_test_c.shape)"
   ]
  },
  {
   "cell_type": "code",
   "execution_count": 275,
   "metadata": {
    "colab": {},
    "colab_type": "code",
    "id": "_d1zARc26XpF"
   },
   "outputs": [],
   "source": [
    "#Splitting the Training data into Train and Validation set\n",
    "X_train_c, X_val_c, y_train_c, y_val_c = train_test_split(X_train_c, y_train_c, test_size=0.2, random_state=1)"
   ]
  },
  {
   "cell_type": "code",
   "execution_count": 276,
   "metadata": {
    "colab": {
     "base_uri": "https://localhost:8080/",
     "height": 50
    },
    "colab_type": "code",
    "executionInfo": {
     "elapsed": 1083948,
     "status": "ok",
     "timestamp": 1575267002138,
     "user": {
      "displayName": "Snehal Tikare",
      "photoUrl": "",
      "userId": "17239970982901927271"
     },
     "user_tz": 360
    },
    "id": "JAoaMfYi6X4y",
    "outputId": "d18b2f5d-dff9-46af-d50d-0a82dcada90f"
   },
   "outputs": [
    {
     "name": "stdout",
     "output_type": "stream",
     "text": [
      "(310620, 869)\n",
      "(310620, 1)\n"
     ]
    }
   ],
   "source": [
    "print(X_train_c.shape)\n",
    "print(y_train_c.shape)"
   ]
  },
  {
   "cell_type": "code",
   "execution_count": 277,
   "metadata": {
    "colab": {
     "base_uri": "https://localhost:8080/",
     "height": 50
    },
    "colab_type": "code",
    "executionInfo": {
     "elapsed": 1083936,
     "status": "ok",
     "timestamp": 1575267002141,
     "user": {
      "displayName": "Snehal Tikare",
      "photoUrl": "",
      "userId": "17239970982901927271"
     },
     "user_tz": 360
    },
    "id": "aI_niF9B6X2I",
    "outputId": "87cbafff-1c47-4195-c9e5-9ba346177a5c"
   },
   "outputs": [
    {
     "name": "stdout",
     "output_type": "stream",
     "text": [
      "(77655, 869)\n",
      "(77655, 1)\n"
     ]
    }
   ],
   "source": [
    "print(X_val_c.shape)\n",
    "print(y_val_c.shape)"
   ]
  },
  {
   "cell_type": "code",
   "execution_count": 278,
   "metadata": {
    "colab": {
     "base_uri": "https://localhost:8080/",
     "height": 228
    },
    "colab_type": "code",
    "executionInfo": {
     "elapsed": 1091929,
     "status": "ok",
     "timestamp": 1575267010149,
     "user": {
      "displayName": "Snehal Tikare",
      "photoUrl": "",
      "userId": "17239970982901927271"
     },
     "user_tz": 360
    },
    "id": "2ePiSDiF6Xyh",
    "outputId": "32366a22-3072-43f5-a8f4-552c6811be37"
   },
   "outputs": [
    {
     "data": {
      "text/plain": [
       "array([[0.57564331, 0.        , 2.14997018, ..., 0.        , 2.1849634 ,\n",
       "        0.        ],\n",
       "       [2.5903949 , 0.        , 0.37390786, ..., 0.        , 0.        ,\n",
       "        0.        ],\n",
       "       [0.43173248, 0.        , 2.00975473, ..., 0.        , 2.1849634 ,\n",
       "        0.        ],\n",
       "       ...,\n",
       "       [1.29519745, 0.        , 2.75757045, ..., 0.        , 0.        ,\n",
       "        0.        ],\n",
       "       [3.45385987, 0.        , 0.09347696, ..., 2.25695919, 0.        ,\n",
       "        0.        ],\n",
       "       [0.86346497, 0.        , 3.31843223, ..., 0.        , 2.1849634 ,\n",
       "        0.        ]])"
      ]
     },
     "execution_count": 278,
     "metadata": {},
     "output_type": "execute_result"
    }
   ],
   "source": [
    "# Standardize train and Validation set\n",
    "scaler = StandardScaler(with_mean=False)\n",
    "scaler.fit(X_train_c)\n",
    "x_train_scaled = scaler.transform(X_train_c)\n",
    "x_val_scaled = scaler.transform(X_val_c)\n",
    "x_train_scaled"
   ]
  },
  {
   "cell_type": "code",
   "execution_count": 279,
   "metadata": {
    "colab": {
     "base_uri": "https://localhost:8080/",
     "height": 33
    },
    "colab_type": "code",
    "executionInfo": {
     "elapsed": 1091918,
     "status": "ok",
     "timestamp": 1575267010153,
     "user": {
      "displayName": "Snehal Tikare",
      "photoUrl": "",
      "userId": "17239970982901927271"
     },
     "user_tz": 360
    },
    "id": "qZUfO_QC7anS",
    "outputId": "dcf43def-b0f3-4406-fbc2-5f6b6a7e1497"
   },
   "outputs": [
    {
     "data": {
      "text/plain": [
       "(310620,)"
      ]
     },
     "execution_count": 279,
     "metadata": {},
     "output_type": "execute_result"
    }
   ],
   "source": [
    "np.squeeze(y_train_c).shape"
   ]
  },
  {
   "cell_type": "code",
   "execution_count": 280,
   "metadata": {
    "colab": {
     "base_uri": "https://localhost:8080/",
     "height": 33
    },
    "colab_type": "code",
    "executionInfo": {
     "elapsed": 1284691,
     "status": "ok",
     "timestamp": 1575267202943,
     "user": {
      "displayName": "Snehal Tikare",
      "photoUrl": "",
      "userId": "17239970982901927271"
     },
     "user_tz": 360
    },
    "id": "y0TudhiL67DV",
    "outputId": "2d2a39d0-41be-4096-fb67-c6ddb74d15d8"
   },
   "outputs": [
    {
     "data": {
      "text/plain": [
       "0.9996909406992467"
      ]
     },
     "execution_count": 280,
     "metadata": {},
     "output_type": "execute_result"
    }
   ],
   "source": [
    "rf = RandomForestClassifier(n_estimators=100)\n",
    "rf = rf.fit(x_train_scaled, np.squeeze(y_train_c))\n",
    "rf.score(x_val_scaled, y_val_c)"
   ]
  },
  {
   "cell_type": "code",
   "execution_count": 281,
   "metadata": {
    "colab": {
     "base_uri": "https://localhost:8080/",
     "height": 212
    },
    "colab_type": "code",
    "executionInfo": {
     "elapsed": 1288317,
     "status": "ok",
     "timestamp": 1575267206584,
     "user": {
      "displayName": "Snehal Tikare",
      "photoUrl": "",
      "userId": "17239970982901927271"
     },
     "user_tz": 360
    },
    "id": "0RdkGht7KVUs",
    "outputId": "407d13af-98e7-479b-80c7-3d233a764718"
   },
   "outputs": [
    {
     "name": "stdout",
     "output_type": "stream",
     "text": [
      "First 10 Predictions:   [4 1 1 2 2 3 1 3 1 3]\n",
      "First 10 Actual labels:         crimeGroups\n",
      "430036            4\n",
      "263255            1\n",
      "395129            1\n",
      "180130            2\n",
      "181342            2\n",
      "410194            3\n",
      "129723            1\n",
      "28018             3\n",
      "150122            1\n",
      "318693            3\n"
     ]
    }
   ],
   "source": [
    "y_pred_c = rf.predict(x_val_scaled)\n",
    "print(f\"First 10 Predictions:   {y_pred_c[:10]}\")\n",
    "print(f\"First 10 Actual labels: {y_val_c[:10]}\")\n"
   ]
  },
  {
   "cell_type": "code",
   "execution_count": 282,
   "metadata": {
    "colab": {
     "base_uri": "https://localhost:8080/",
     "height": 300
    },
    "colab_type": "code",
    "executionInfo": {
     "elapsed": 1292558,
     "status": "ok",
     "timestamp": 1575267210843,
     "user": {
      "displayName": "Snehal Tikare",
      "photoUrl": "",
      "userId": "17239970982901927271"
     },
     "user_tz": 360
    },
    "id": "JZRZc00B664F",
    "outputId": "e2ef809c-457a-4fbe-a7fc-b5e07ce07300"
   },
   "outputs": [
    {
     "data": {
      "image/png": "[encoded data removed]",
      "text/plain": [
       "<Figure size 432x288 with 2 Axes>"
      ]
     },
     "metadata": {
      "needs_background": "light"
     },
     "output_type": "display_data"
    }
   ],
   "source": [
    "y_pred = rf.predict(x_val_scaled)\n",
    "conf_matrix = metrics.confusion_matrix(y_val_c,y_pred_c)\n",
    "sns.heatmap(conf_matrix,yticklabels=5, annot = True, fmt = \".3f\", square = False, cmap = plt.cm.OrRd)\n",
    "plt.ylabel('Actual')\n",
    "plt.xlabel('Predicted')\n",
    "plt.title('Confusion matrix')\n",
    "plt.tight_layout()"
   ]
  },
  {
   "cell_type": "code",
   "execution_count": 116,
   "metadata": {
    "colab": {
     "base_uri": "https://localhost:8080/",
     "height": 33
    },
    "colab_type": "code",
    "executionInfo": {
     "elapsed": 1292536,
     "status": "ok",
     "timestamp": 1575267210846,
     "user": {
      "displayName": "Snehal Tikare",
      "photoUrl": "",
      "userId": "17239970982901927271"
     },
     "user_tz": 360
    },
    "id": "lDb9hVJs66z5",
    "outputId": "ab217c48-88a3-4ad1-d61c-e6fb166aed92"
   },
   "outputs": [
    {
     "name": "stdout",
     "output_type": "stream",
     "text": [
      "[0.9996007984031936, 0.0003992015968063978, 0.999600976573303, 0.9996007984031936]\n"
     ]
    }
   ],
   "source": [
    "accuracy = metrics.accuracy_score(y_val_c, y_pred_c)\n",
    "error = 1 - accuracy\n",
    "precision = metrics.precision_score(y_val_c, y_pred_c,average='weighted')\n",
    "recall = metrics.recall_score(y_val_c, y_pred_c,average='weighted')\n",
    "F1_score = metrics.f1_score(y_val_c, y_pred_c,average='weighted')\n",
    "print([accuracy, error, precision, recall, F1_score])"
   ]
  },
  {
   "cell_type": "code",
   "execution_count": 117,
   "metadata": {
    "colab": {
     "base_uri": "https://localhost:8080/",
     "height": 228
    },
    "colab_type": "code",
    "executionInfo": {
     "elapsed": 1300865,
     "status": "ok",
     "timestamp": 1575267219210,
     "user": {
      "displayName": "Snehal Tikare",
      "photoUrl": "",
      "userId": "17239970982901927271"
     },
     "user_tz": 360
    },
    "id": "0SteFtxy66sh",
    "outputId": "3d94209e-b1b4-43f1-fd51-959e5b312ad4"
   },
   "outputs": [
    {
     "data": {
      "text/plain": [
       "array([[0.57564331, 0.        , 2.14997018, ..., 0.        , 2.1849634 ,\n",
       "        0.        ],\n",
       "       [2.5903949 , 0.        , 0.37390786, ..., 0.        , 0.        ,\n",
       "        0.        ],\n",
       "       [0.43173248, 0.        , 2.00975473, ..., 0.        , 2.1849634 ,\n",
       "        0.        ],\n",
       "       ...,\n",
       "       [1.29519745, 0.        , 2.75757045, ..., 0.        , 0.        ,\n",
       "        0.        ],\n",
       "       [3.45385987, 0.        , 0.09347696, ..., 2.25695919, 0.        ,\n",
       "        0.        ],\n",
       "       [0.86346497, 0.        , 3.31843223, ..., 0.        , 2.1849634 ,\n",
       "        0.        ]])"
      ]
     },
     "execution_count": 117,
     "metadata": {},
     "output_type": "execute_result"
    }
   ],
   "source": [
    "# Random Forest Model fit on test set\n",
    "#Standardize train and Test set\n",
    "scaler = StandardScaler(with_mean=False)\n",
    "scaler.fit(X_train_c)\n",
    "x_train_scaled = scaler.transform(X_train_c)\n",
    "x_test_scaled = scaler.transform(X_test_c)\n",
    "x_train_scaled"
   ]
  },
  {
   "cell_type": "code",
   "execution_count": 118,
   "metadata": {
    "colab": {
     "base_uri": "https://localhost:8080/",
     "height": 33
    },
    "colab_type": "code",
    "executionInfo": {
     "elapsed": 1304947,
     "status": "ok",
     "timestamp": 1575267223310,
     "user": {
      "displayName": "Snehal Tikare",
      "photoUrl": "",
      "userId": "17239970982901927271"
     },
     "user_tz": 360
    },
    "id": "P0DJNtH1-AA1",
    "outputId": "ea95520d-52e3-4dac-80a2-19a94b1a1bed"
   },
   "outputs": [
    {
     "data": {
      "text/plain": [
       "0.9995673180933151"
      ]
     },
     "execution_count": 118,
     "metadata": {},
     "output_type": "execute_result"
    }
   ],
   "source": [
    "rf.score(x_test_scaled, y_test_c)"
   ]
  },
  {
   "cell_type": "code",
   "execution_count": 119,
   "metadata": {
    "colab": {
     "base_uri": "https://localhost:8080/",
     "height": 212
    },
    "colab_type": "code",
    "executionInfo": {
     "elapsed": 1309439,
     "status": "ok",
     "timestamp": 1575267227823,
     "user": {
      "displayName": "Snehal Tikare",
      "photoUrl": "",
      "userId": "17239970982901927271"
     },
     "user_tz": 360
    },
    "id": "uZ-ks3xj-AMy",
    "outputId": "23e04e30-1039-4d57-9aa5-1e9277f9ca02"
   },
   "outputs": [
    {
     "name": "stdout",
     "output_type": "stream",
     "text": [
      "First 10 Predictions:   [2 2 2 2 2 1 3 2 2 2]\n",
      "First 10 Actual labels:         crimeGroups\n",
      "1869              2\n",
      "334031            2\n",
      "421823            2\n",
      "435435            2\n",
      "425940            2\n",
      "431978            1\n",
      "195397            3\n",
      "248713            2\n",
      "299268            2\n",
      "305936            2\n"
     ]
    }
   ],
   "source": [
    "y_pred_c = rf.predict(x_test_scaled)\n",
    "print(f\"First 10 Predictions:   {y_pred_c[:10]}\")\n",
    "print(f\"First 10 Actual labels: {y_test_c[:10]}\")"
   ]
  },
  {
   "cell_type": "code",
   "execution_count": 120,
   "metadata": {
    "colab": {
     "base_uri": "https://localhost:8080/",
     "height": 300
    },
    "colab_type": "code",
    "executionInfo": {
     "elapsed": 1309884,
     "status": "ok",
     "timestamp": 1575267228287,
     "user": {
      "displayName": "Snehal Tikare",
      "photoUrl": "",
      "userId": "17239970982901927271"
     },
     "user_tz": 360
    },
    "id": "LS0Awv5P-Ac7",
    "outputId": "5ef820d2-a25c-4afd-c765-1d0ff43a6238"
   },
   "outputs": [
    {
     "data": {
      "image/png": "[encoded data removed]",
      "text/plain": [
       "<Figure size 432x288 with 2 Axes>"
      ]
     },
     "metadata": {
      "needs_background": "light"
     },
     "output_type": "display_data"
    }
   ],
   "source": [
    "conf_matrix = metrics.confusion_matrix(y_test_c,y_pred_c)\n",
    "sns.heatmap(conf_matrix,yticklabels=5, annot = True, fmt = \".3f\", square = False, cmap = plt.cm.PuRd)\n",
    "plt.ylabel('Actual')\n",
    "plt.xlabel('Predicted')\n",
    "plt.title('Confusion matrix')\n",
    "plt.tight_layout()"
   ]
  },
  {
   "cell_type": "code",
   "execution_count": 121,
   "metadata": {
    "colab": {
     "base_uri": "https://localhost:8080/",
     "height": 33
    },
    "colab_type": "code",
    "executionInfo": {
     "elapsed": 1309867,
     "status": "ok",
     "timestamp": 1575267228290,
     "user": {
      "displayName": "Snehal Tikare",
      "photoUrl": "",
      "userId": "17239970982901927271"
     },
     "user_tz": 360
    },
    "id": "tWHDQS4A-jc0",
    "outputId": "98634b18-5ac1-464d-b67b-b9c6c9d41622"
   },
   "outputs": [
    {
     "name": "stdout",
     "output_type": "stream",
     "text": [
      "[0.9995673180933151, 0.00043268190668488415, 0.9995675068315367, 0.9995673180933151]\n"
     ]
    }
   ],
   "source": [
    "accuracy = metrics.accuracy_score(y_test_c, y_pred_c)\n",
    "error = 1 - accuracy\n",
    "precision = metrics.precision_score(y_test_c, y_pred_c,average='weighted')\n",
    "recall = metrics.recall_score(y_test_c, y_pred_c,average='weighted')\n",
    "F1_score = metrics.f1_score(y_test_c, y_pred_c,average='weighted')\n",
    "print([accuracy, error, precision, recall,F1_score])"
   ]
  },
  {
   "cell_type": "code",
   "execution_count": 122,
   "metadata": {
    "colab": {
     "base_uri": "https://localhost:8080/",
     "height": 33
    },
    "colab_type": "code",
    "executionInfo": {
     "elapsed": 1316360,
     "status": "ok",
     "timestamp": 1575267234798,
     "user": {
      "displayName": "Snehal Tikare",
      "photoUrl": "",
      "userId": "17239970982901927271"
     },
     "user_tz": 360
    },
    "id": "xc-cEzA5-0XE",
    "outputId": "b3e844f9-512d-4394-f7d3-818e3e5aa032"
   },
   "outputs": [
    {
     "data": {
      "text/plain": [
       "GaussianNB(priors=None, var_smoothing=1e-09)"
      ]
     },
     "execution_count": 122,
     "metadata": {},
     "output_type": "execute_result"
    }
   ],
   "source": [
    "#-----------------Naive Bayes Classifier for Crime group --------------------\n",
    "classifier = GaussianNB()  \n",
    "classifier.fit(x_train_scaled,np.squeeze(y_train_c))"
   ]
  },
  {
   "cell_type": "code",
   "execution_count": 123,
   "metadata": {
    "colab": {},
    "colab_type": "code",
    "id": "IgKUgV73-0hD"
   },
   "outputs": [],
   "source": [
    "y_pred_c = classifier.predict(x_val_scaled)"
   ]
  },
  {
   "cell_type": "code",
   "execution_count": 124,
   "metadata": {
    "colab": {
     "base_uri": "https://localhost:8080/",
     "height": 300
    },
    "colab_type": "code",
    "executionInfo": {
     "elapsed": 1319187,
     "status": "ok",
     "timestamp": 1575267237664,
     "user": {
      "displayName": "Snehal Tikare",
      "photoUrl": "",
      "userId": "17239970982901927271"
     },
     "user_tz": 360
    },
    "id": "EqM1tIn9-0tA",
    "outputId": "09930c17-5852-485d-f7c5-5fe1ff51cf50",
    "scrolled": true
   },
   "outputs": [
    {
     "data": {
      "image/png": "[encoded data removed]",
      "text/plain": [
       "<Figure size 432x288 with 2 Axes>"
      ]
     },
     "metadata": {
      "needs_background": "light"
     },
     "output_type": "display_data"
    }
   ],
   "source": [
    "conf_matrix = metrics.confusion_matrix(y_val_c, y_pred_c)\n",
    "sns.heatmap(conf_matrix,yticklabels=5, annot = True, fmt = \".3f\", square = False, cmap = plt.cm.RdPu)\n",
    "plt.ylabel('Actual')\n",
    "plt.xlabel('Predicted')\n",
    "plt.title('Confusion matrix')\n",
    "plt.tight_layout()"
   ]
  },
  {
   "cell_type": "code",
   "execution_count": 125,
   "metadata": {
    "colab": {
     "base_uri": "https://localhost:8080/",
     "height": 33
    },
    "colab_type": "code",
    "executionInfo": {
     "elapsed": 1319292,
     "status": "ok",
     "timestamp": 1575267237790,
     "user": {
      "displayName": "Snehal Tikare",
      "photoUrl": "",
      "userId": "17239970982901927271"
     },
     "user_tz": 360
    },
    "id": "LgKAxxDK-00e",
    "outputId": "fc0f5d72-4bfd-4da3-b9b7-a5f29e2af35e"
   },
   "outputs": [
    {
     "name": "stdout",
     "output_type": "stream",
     "text": [
      "[0.9998454703496233, 0.00015452965037665578, 0.9998454134742264, 0.9998454703496233]\n"
     ]
    }
   ],
   "source": [
    "accuracy = metrics.accuracy_score(y_val_c, y_pred_c)\n",
    "error = 1 - accuracy\n",
    "precision = metrics.precision_score(y_val_c, y_pred_c,average='weighted')\n",
    "recall = metrics.recall_score(y_val_c, y_pred_c,average='weighted')\n",
    "F1_score = metrics.f1_score(y_val_c, y_pred_c,average='weighted')\n",
    "print([accuracy, error, precision, recall,F1_score])"
   ]
  },
  {
   "cell_type": "code",
   "execution_count": 126,
   "metadata": {
    "colab": {},
    "colab_type": "code",
    "id": "LiUzBaVlAphb"
   },
   "outputs": [],
   "source": [
    "#--------Predicting for Test set-----------------------------\n",
    "y_pred_c = classifier.predict(x_test_scaled)"
   ]
  },
  {
   "cell_type": "code",
   "execution_count": 127,
   "metadata": {
    "colab": {
     "base_uri": "https://localhost:8080/",
     "height": 300
    },
    "colab_type": "code",
    "executionInfo": {
     "elapsed": 1322990,
     "status": "ok",
     "timestamp": 1575267241515,
     "user": {
      "displayName": "Snehal Tikare",
      "photoUrl": "",
      "userId": "17239970982901927271"
     },
     "user_tz": 360
    },
    "id": "0MZMejpDApvO",
    "outputId": "404da8ef-b753-4a7e-e926-d0922908be02"
   },
   "outputs": [
    {
     "data": {
      "image/png": "[encoded data removed]",
      "text/plain": [
       "<Figure size 432x288 with 2 Axes>"
      ]
     },
     "metadata": {
      "needs_background": "light"
     },
     "output_type": "display_data"
    }
   ],
   "source": [
    "conf_matrix = metrics.confusion_matrix(y_test_c,y_pred_c)\n",
    "sns.heatmap(conf_matrix,yticklabels=5, annot = True, fmt = \".3f\", square = False, cmap = plt.cm.BuPu)\n",
    "plt.ylabel('Actual')\n",
    "plt.xlabel('Predicted')\n",
    "plt.title('Confusion matrix')\n",
    "plt.tight_layout()"
   ]
  },
  {
   "cell_type": "code",
   "execution_count": 164,
   "metadata": {
    "colab": {
     "base_uri": "https://localhost:8080/",
     "height": 33
    },
    "colab_type": "code",
    "executionInfo": {
     "elapsed": 1322980,
     "status": "ok",
     "timestamp": 1575267241517,
     "user": {
      "displayName": "Snehal Tikare",
      "photoUrl": "",
      "userId": "17239970982901927271"
     },
     "user_tz": 360
    },
    "id": "pPQTNC0QAp3l",
    "outputId": "941bdf1f-1618-4012-fde9-ac8deb793ada"
   },
   "outputs": [
    {
     "name": "stdout",
     "output_type": "stream",
     "text": [
      "[0.9999072824485675, 9.271755143247518e-05, 0.9999074173260198, 0.9999072824485675, 0.9999073154126222]\n"
     ]
    }
   ],
   "source": [
    "accuracy = metrics.accuracy_score(y_test_c, y_pred_c)\n",
    "error = 1 - accuracy\n",
    "precision = metrics.precision_score(y_test_c, y_pred_c,average='weighted')\n",
    "recall = metrics.recall_score(y_test_c, y_pred_c,average='weighted')\n",
    "F1_score = metrics.f1_score(y_test_c, y_pred_c,average='weighted')\n",
    "print([accuracy, error, precision, recall,F1_score])"
   ]
  },
  {
   "cell_type": "code",
   "execution_count": null,
   "metadata": {
    "colab": {},
    "colab_type": "code",
    "id": "YQqHBZz4AqGs"
   },
   "outputs": [],
   "source": []
  },
  {
   "cell_type": "code",
   "execution_count": 129,
   "metadata": {
    "colab": {},
    "colab_type": "code",
    "id": "2a7nFYh5X89k"
   },
   "outputs": [],
   "source": [
    "#------------------------------------------Clustering-------------------------------------------#"
   ]
  },
  {
   "cell_type": "code",
   "execution_count": 130,
   "metadata": {
    "colab": {
     "base_uri": "https://localhost:8080/",
     "height": 115
    },
    "colab_type": "code",
    "executionInfo": {
     "elapsed": 1280,
     "status": "ok",
     "timestamp": 1575311381807,
     "user": {
      "displayName": "Snehal Tikare",
      "photoUrl": "",
      "userId": "17239970982901927271"
     },
     "user_tz": 360
    },
    "id": "FafXihGPzn1d",
    "outputId": "82684dad-6c5b-42a7-9620-d4be01d91128"
   },
   "outputs": [
    {
     "data": {
      "text/plain": [
       "2    218069\n",
       "1    144223\n",
       "3     80236\n",
       "4     31506\n",
       "5     11310\n",
       "Name: crimeGroups, dtype: int64"
      ]
     },
     "execution_count": 130,
     "metadata": {},
     "output_type": "execute_result"
    }
   ],
   "source": [
    "df_cgrp['crimeGroups'].value_counts()"
   ]
  },
  {
   "cell_type": "code",
   "execution_count": 131,
   "metadata": {
    "colab": {
     "base_uri": "https://localhost:8080/",
     "height": 50
    },
    "colab_type": "code",
    "executionInfo": {
     "elapsed": 1756,
     "status": "ok",
     "timestamp": 1575311391227,
     "user": {
      "displayName": "Snehal Tikare",
      "photoUrl": "",
      "userId": "17239970982901927271"
     },
     "user_tz": 360
    },
    "id": "yQNCK0XVX822",
    "outputId": "8a556924-731e-4250-d846-5b9505cfed3b"
   },
   "outputs": [
    {
     "name": "stdout",
     "output_type": "stream",
     "text": [
      "(485344, 479) (485344, 2)\n",
      "(485344, 862) (485344, 1)\n"
     ]
    }
   ],
   "source": [
    "##X = df_dum.drop(columns=[\"crimeGroups\",\"Arrest\"])\n",
    "#y = df_dum[[\"crimeGroups\",\"Arrest\"]]\n",
    "print(X.shape, y.shape)\n",
    "X_cgrp = df_cgrp_dum.drop(columns=[\"crimeGroups\",\"Arrest\",\"Distance\",\"Latitude\",\"Longitude\",\"Season_Spring\",\"Season_Autumn\",\"Season_Summer\",\"Season_Winter\"])\n",
    "y_cgrp = df_cgrp_dum[[\"crimeGroups\"]]\n",
    "print(X_cgrp.shape, y_cgrp.shape)"
   ]
  },
  {
   "cell_type": "code",
   "execution_count": 132,
   "metadata": {
    "colab": {
     "base_uri": "https://localhost:8080/",
     "height": 33
    },
    "colab_type": "code",
    "executionInfo": {
     "elapsed": 3542,
     "status": "ok",
     "timestamp": 1575311393065,
     "user": {
      "displayName": "Snehal Tikare",
      "photoUrl": "",
      "userId": "17239970982901927271"
     },
     "user_tz": 360
    },
    "id": "lyP8FYlkZxG7",
    "outputId": "4f5d0bec-cb0a-454a-dcfe-920ba5e4f2c5"
   },
   "outputs": [
    {
     "name": "stdout",
     "output_type": "stream",
     "text": [
      "(485344, 862) (485344, 1)\n"
     ]
    }
   ],
   "source": [
    "print(X_cgrp.shape, y_cgrp.shape)"
   ]
  },
  {
   "cell_type": "code",
   "execution_count": 133,
   "metadata": {
    "colab": {
     "base_uri": "https://localhost:8080/",
     "height": 303
    },
    "colab_type": "code",
    "executionInfo": {
     "elapsed": 3508,
     "status": "ok",
     "timestamp": 1575311393067,
     "user": {
      "displayName": "Snehal Tikare",
      "photoUrl": "",
      "userId": "17239970982901927271"
     },
     "user_tz": 360
    },
    "id": "GlQTp2eoci2c",
    "outputId": "e11b5f5e-b0d3-40cb-b599-c118d37d5035"
   },
   "outputs": [
    {
     "data": {
      "text/html": [
       "<div>\n",
       "<style scoped>\n",
       "    .dataframe tbody tr th:only-of-type {\n",
       "        vertical-align: middle;\n",
       "    }\n",
       "\n",
       "    .dataframe tbody tr th {\n",
       "        vertical-align: top;\n",
       "    }\n",
       "\n",
       "    .dataframe thead th {\n",
       "        text-align: right;\n",
       "    }\n",
       "</style>\n",
       "<table border=\"1\" class=\"dataframe\">\n",
       "  <thead>\n",
       "    <tr style=\"text-align: right;\">\n",
       "      <th></th>\n",
       "      <th>District</th>\n",
       "      <th>Domestic</th>\n",
       "      <th>Community Area</th>\n",
       "      <th>IUCR_0110</th>\n",
       "      <th>IUCR_0142</th>\n",
       "      <th>IUCR_0261</th>\n",
       "      <th>IUCR_0262</th>\n",
       "      <th>IUCR_0263</th>\n",
       "      <th>IUCR_0264</th>\n",
       "      <th>IUCR_0265</th>\n",
       "      <th>...</th>\n",
       "      <th>Location Description_VEHICLE - DELIVERY TRUCK</th>\n",
       "      <th>Location Description_VEHICLE - OTHER RIDE SHARE SERVICE (E.G., UBER, LYFT)</th>\n",
       "      <th>Location Description_VEHICLE NON-COMMERCIAL</th>\n",
       "      <th>Location Description_VEHICLE-COMMERCIAL</th>\n",
       "      <th>Location Description_VEHICLE-COMMERCIAL - ENTERTAINMENT/PARTY BUS</th>\n",
       "      <th>Location Description_VEHICLE-COMMERCIAL - TROLLEY BUS</th>\n",
       "      <th>Location Description_WAREHOUSE</th>\n",
       "      <th>Location Description_WOODED AREA</th>\n",
       "      <th>Location Description_YARD</th>\n",
       "      <th>Location Description_YMCA</th>\n",
       "    </tr>\n",
       "  </thead>\n",
       "  <tbody>\n",
       "    <tr>\n",
       "      <td>0</td>\n",
       "      <td>4</td>\n",
       "      <td>0</td>\n",
       "      <td>51.0</td>\n",
       "      <td>0</td>\n",
       "      <td>0</td>\n",
       "      <td>1</td>\n",
       "      <td>0</td>\n",
       "      <td>0</td>\n",
       "      <td>0</td>\n",
       "      <td>0</td>\n",
       "      <td>...</td>\n",
       "      <td>0</td>\n",
       "      <td>0</td>\n",
       "      <td>0</td>\n",
       "      <td>0</td>\n",
       "      <td>0</td>\n",
       "      <td>0</td>\n",
       "      <td>0</td>\n",
       "      <td>0</td>\n",
       "      <td>0</td>\n",
       "      <td>0</td>\n",
       "    </tr>\n",
       "    <tr>\n",
       "      <td>1</td>\n",
       "      <td>22</td>\n",
       "      <td>0</td>\n",
       "      <td>73.0</td>\n",
       "      <td>0</td>\n",
       "      <td>0</td>\n",
       "      <td>0</td>\n",
       "      <td>0</td>\n",
       "      <td>0</td>\n",
       "      <td>0</td>\n",
       "      <td>0</td>\n",
       "      <td>...</td>\n",
       "      <td>0</td>\n",
       "      <td>0</td>\n",
       "      <td>0</td>\n",
       "      <td>0</td>\n",
       "      <td>0</td>\n",
       "      <td>0</td>\n",
       "      <td>0</td>\n",
       "      <td>0</td>\n",
       "      <td>0</td>\n",
       "      <td>0</td>\n",
       "    </tr>\n",
       "    <tr>\n",
       "      <td>2</td>\n",
       "      <td>7</td>\n",
       "      <td>0</td>\n",
       "      <td>69.0</td>\n",
       "      <td>0</td>\n",
       "      <td>0</td>\n",
       "      <td>0</td>\n",
       "      <td>0</td>\n",
       "      <td>0</td>\n",
       "      <td>0</td>\n",
       "      <td>0</td>\n",
       "      <td>...</td>\n",
       "      <td>0</td>\n",
       "      <td>0</td>\n",
       "      <td>1</td>\n",
       "      <td>0</td>\n",
       "      <td>0</td>\n",
       "      <td>0</td>\n",
       "      <td>0</td>\n",
       "      <td>0</td>\n",
       "      <td>0</td>\n",
       "      <td>0</td>\n",
       "    </tr>\n",
       "    <tr>\n",
       "      <td>3</td>\n",
       "      <td>24</td>\n",
       "      <td>0</td>\n",
       "      <td>77.0</td>\n",
       "      <td>0</td>\n",
       "      <td>0</td>\n",
       "      <td>0</td>\n",
       "      <td>0</td>\n",
       "      <td>0</td>\n",
       "      <td>0</td>\n",
       "      <td>0</td>\n",
       "      <td>...</td>\n",
       "      <td>0</td>\n",
       "      <td>0</td>\n",
       "      <td>0</td>\n",
       "      <td>0</td>\n",
       "      <td>0</td>\n",
       "      <td>0</td>\n",
       "      <td>0</td>\n",
       "      <td>0</td>\n",
       "      <td>0</td>\n",
       "      <td>0</td>\n",
       "    </tr>\n",
       "    <tr>\n",
       "      <td>4</td>\n",
       "      <td>8</td>\n",
       "      <td>1</td>\n",
       "      <td>66.0</td>\n",
       "      <td>0</td>\n",
       "      <td>0</td>\n",
       "      <td>0</td>\n",
       "      <td>0</td>\n",
       "      <td>0</td>\n",
       "      <td>0</td>\n",
       "      <td>0</td>\n",
       "      <td>...</td>\n",
       "      <td>0</td>\n",
       "      <td>0</td>\n",
       "      <td>0</td>\n",
       "      <td>0</td>\n",
       "      <td>0</td>\n",
       "      <td>0</td>\n",
       "      <td>0</td>\n",
       "      <td>0</td>\n",
       "      <td>0</td>\n",
       "      <td>0</td>\n",
       "    </tr>\n",
       "  </tbody>\n",
       "</table>\n",
       "<p>5 rows × 862 columns</p>\n",
       "</div>"
      ],
      "text/plain": [
       "   District  Domestic  Community Area  IUCR_0110  IUCR_0142  IUCR_0261  \\\n",
       "0         4         0            51.0          0          0          1   \n",
       "1        22         0            73.0          0          0          0   \n",
       "2         7         0            69.0          0          0          0   \n",
       "3        24         0            77.0          0          0          0   \n",
       "4         8         1            66.0          0          0          0   \n",
       "\n",
       "   IUCR_0262  IUCR_0263  IUCR_0264  IUCR_0265  ...  \\\n",
       "0          0          0          0          0  ...   \n",
       "1          0          0          0          0  ...   \n",
       "2          0          0          0          0  ...   \n",
       "3          0          0          0          0  ...   \n",
       "4          0          0          0          0  ...   \n",
       "\n",
       "   Location Description_VEHICLE - DELIVERY TRUCK  \\\n",
       "0                                              0   \n",
       "1                                              0   \n",
       "2                                              0   \n",
       "3                                              0   \n",
       "4                                              0   \n",
       "\n",
       "   Location Description_VEHICLE - OTHER RIDE SHARE SERVICE (E.G., UBER, LYFT)  \\\n",
       "0                                                  0                            \n",
       "1                                                  0                            \n",
       "2                                                  0                            \n",
       "3                                                  0                            \n",
       "4                                                  0                            \n",
       "\n",
       "   Location Description_VEHICLE NON-COMMERCIAL  \\\n",
       "0                                            0   \n",
       "1                                            0   \n",
       "2                                            1   \n",
       "3                                            0   \n",
       "4                                            0   \n",
       "\n",
       "   Location Description_VEHICLE-COMMERCIAL  \\\n",
       "0                                        0   \n",
       "1                                        0   \n",
       "2                                        0   \n",
       "3                                        0   \n",
       "4                                        0   \n",
       "\n",
       "   Location Description_VEHICLE-COMMERCIAL - ENTERTAINMENT/PARTY BUS  \\\n",
       "0                                                  0                   \n",
       "1                                                  0                   \n",
       "2                                                  0                   \n",
       "3                                                  0                   \n",
       "4                                                  0                   \n",
       "\n",
       "   Location Description_VEHICLE-COMMERCIAL - TROLLEY BUS  \\\n",
       "0                                                  0       \n",
       "1                                                  0       \n",
       "2                                                  0       \n",
       "3                                                  0       \n",
       "4                                                  0       \n",
       "\n",
       "   Location Description_WAREHOUSE  Location Description_WOODED AREA  \\\n",
       "0                               0                                 0   \n",
       "1                               0                                 0   \n",
       "2                               0                                 0   \n",
       "3                               0                                 0   \n",
       "4                               0                                 0   \n",
       "\n",
       "   Location Description_YARD  Location Description_YMCA  \n",
       "0                          0                          0  \n",
       "1                          0                          0  \n",
       "2                          0                          0  \n",
       "3                          0                          0  \n",
       "4                          0                          0  \n",
       "\n",
       "[5 rows x 862 columns]"
      ]
     },
     "execution_count": 133,
     "metadata": {},
     "output_type": "execute_result"
    }
   ],
   "source": [
    "X_cgrp.head()"
   ]
  },
  {
   "cell_type": "code",
   "execution_count": 134,
   "metadata": {
    "colab": {
     "base_uri": "https://localhost:8080/",
     "height": 228
    },
    "colab_type": "code",
    "executionInfo": {
     "elapsed": 13372,
     "status": "ok",
     "timestamp": 1575311402987,
     "user": {
      "displayName": "Snehal Tikare",
      "photoUrl": "",
      "userId": "17239970982901927271"
     },
     "user_tz": 360
    },
    "id": "MxAeDEXhYkD1",
    "outputId": "3221e895-ca3e-4205-b95b-1f22aeeaacb2"
   },
   "outputs": [
    {
     "data": {
      "text/plain": [
       "array([[0.57587815, 0.        , 2.38250255, ..., 0.        , 0.        ,\n",
       "        0.        ],\n",
       "       [3.16732981, 0.        , 3.41024874, ..., 0.        , 0.        ,\n",
       "        0.        ],\n",
       "       [1.00778676, 0.        , 3.2233858 , ..., 0.        , 0.        ,\n",
       "        0.        ],\n",
       "       ...,\n",
       "       [1.00778676, 0.        , 3.12995433, ..., 0.        , 0.        ,\n",
       "        0.        ],\n",
       "       [0.71984768, 0.        , 2.28907107, ..., 0.        , 0.        ,\n",
       "        0.        ],\n",
       "       [0.86381722, 0.        , 3.2233858 , ..., 0.        , 0.        ,\n",
       "        0.        ]])"
      ]
     },
     "execution_count": 134,
     "metadata": {},
     "output_type": "execute_result"
    }
   ],
   "source": [
    "scaler = StandardScaler(with_mean=False)\n",
    "scaler.fit(X_cgrp)\n",
    "x_scaled = scaler.transform(X_cgrp)\n",
    "x_scaled"
   ]
  },
  {
   "cell_type": "code",
   "execution_count": 135,
   "metadata": {
    "colab": {},
    "colab_type": "code",
    "id": "FgaR1sfIX8xB"
   },
   "outputs": [],
   "source": [
    "clustering = KMeans(n_clusters = 5, init = 'k-means++', n_init = 10,random_state=0).fit(x_scaled)\n",
    "clusters = clustering.labels_"
   ]
  },
  {
   "cell_type": "code",
   "execution_count": 136,
   "metadata": {
    "colab": {
     "base_uri": "https://localhost:8080/",
     "height": 33
    },
    "colab_type": "code",
    "executionInfo": {
     "elapsed": 120734,
     "status": "ok",
     "timestamp": 1575311510402,
     "user": {
      "displayName": "Snehal Tikare",
      "photoUrl": "",
      "userId": "17239970982901927271"
     },
     "user_tz": 360
    },
    "id": "Z5Ipj90bX8rN",
    "outputId": "e4302954-c25d-4a49-8704-f079ab3476df"
   },
   "outputs": [
    {
     "data": {
      "text/plain": [
       "array([1, 1, 1, 1, 1], dtype=int32)"
      ]
     },
     "execution_count": 136,
     "metadata": {},
     "output_type": "execute_result"
    }
   ],
   "source": [
    "clusters[0:5]"
   ]
  },
  {
   "cell_type": "code",
   "execution_count": 137,
   "metadata": {
    "colab": {},
    "colab_type": "code",
    "id": "nlMFwB7sX8lb"
   },
   "outputs": [],
   "source": [
    "X_cgrp['clusters'] = clusters"
   ]
  },
  {
   "cell_type": "code",
   "execution_count": 138,
   "metadata": {
    "colab": {
     "base_uri": "https://localhost:8080/",
     "height": 115
    },
    "colab_type": "code",
    "executionInfo": {
     "elapsed": 120712,
     "status": "ok",
     "timestamp": 1575311510407,
     "user": {
      "displayName": "Snehal Tikare",
      "photoUrl": "",
      "userId": "17239970982901927271"
     },
     "user_tz": 360
    },
    "id": "oboCIkxjcQxr",
    "outputId": "f5a66c5d-951e-4e16-820f-2b65a1d44b5d"
   },
   "outputs": [
    {
     "data": {
      "text/plain": [
       "0    1\n",
       "1    1\n",
       "2    1\n",
       "3    1\n",
       "4    1\n",
       "Name: clusters, dtype: int32"
      ]
     },
     "execution_count": 138,
     "metadata": {},
     "output_type": "execute_result"
    }
   ],
   "source": [
    "X_cgrp['clusters'][0:5]"
   ]
  },
  {
   "cell_type": "code",
   "execution_count": 139,
   "metadata": {
    "colab": {
     "base_uri": "https://localhost:8080/",
     "height": 728
    },
    "colab_type": "code",
    "executionInfo": {
     "elapsed": 121169,
     "status": "ok",
     "timestamp": 1575311510885,
     "user": {
      "displayName": "Snehal Tikare",
      "photoUrl": "",
      "userId": "17239970982901927271"
     },
     "user_tz": 360
    },
    "id": "vgyIc3zCX8fZ",
    "outputId": "e16544d9-a748-46ac-c649-3f4ac6543de4"
   },
   "outputs": [
    {
     "data": {
      "image/png": "[encoded data removed]",
      "text/plain": [
       "<Figure size 720x720 with 2 Axes>"
      ]
     },
     "metadata": {
      "needs_background": "light"
     },
     "output_type": "display_data"
    }
   ],
   "source": [
    "cont_matrix = metrics.cluster.contingency_matrix(y_cgrp['crimeGroups'],X_cgrp['clusters'])\n",
    "fig, ax = plt.subplots(figsize=(10,10))  \n",
    "ax=sns.heatmap(cont_matrix,yticklabels=5, annot = True, fmt = \".3f\", square = False, cmap = plt.cm.GnBu)\n",
    "plt.ylabel('Actual')\n",
    "plt.xlabel('Predicted')\n",
    "plt.title('Contingency matrix')\n",
    "plt.tight_layout()"
   ]
  },
  {
   "cell_type": "code",
   "execution_count": 140,
   "metadata": {
    "colab": {
     "base_uri": "https://localhost:8080/",
     "height": 361
    },
    "colab_type": "code",
    "executionInfo": {
     "elapsed": 18289,
     "status": "error",
     "timestamp": 1575312852999,
     "user": {
      "displayName": "Snehal Tikare",
      "photoUrl": "",
      "userId": "17239970982901927271"
     },
     "user_tz": 360
    },
    "id": "5On2jYAeX8Ya",
    "outputId": "c602baaf-acf8-42eb-9f88-cf8e3ab41266"
   },
   "outputs": [
    {
     "ename": "KeyboardInterrupt",
     "evalue": "",
     "output_type": "error",
     "traceback": [
      "\u001b[0;31m---------------------------------------------------------------------------\u001b[0m",
      "\u001b[0;31mKeyboardInterrupt\u001b[0m                         Traceback (most recent call last)",
      "\u001b[0;32m<ipython-input-140-9f851dd1af52>\u001b[0m in \u001b[0;36m<module>\u001b[0;34m\u001b[0m\n\u001b[1;32m      1\u001b[0m \u001b[0madjusted_rand_index\u001b[0m \u001b[0;34m=\u001b[0m \u001b[0mmetrics\u001b[0m\u001b[0;34m.\u001b[0m\u001b[0madjusted_rand_score\u001b[0m\u001b[0;34m(\u001b[0m\u001b[0my_cgrp\u001b[0m\u001b[0;34m[\u001b[0m\u001b[0;34m'crimeGroups'\u001b[0m\u001b[0;34m]\u001b[0m\u001b[0;34m,\u001b[0m \u001b[0mX_cgrp\u001b[0m\u001b[0;34m[\u001b[0m\u001b[0;34m'clusters'\u001b[0m\u001b[0;34m]\u001b[0m\u001b[0;34m)\u001b[0m\u001b[0;34m\u001b[0m\u001b[0;34m\u001b[0m\u001b[0m\n\u001b[0;32m----> 2\u001b[0;31m \u001b[0msilhouette_coefficient\u001b[0m \u001b[0;34m=\u001b[0m \u001b[0mmetrics\u001b[0m\u001b[0;34m.\u001b[0m\u001b[0msilhouette_score\u001b[0m\u001b[0;34m(\u001b[0m\u001b[0mx_scaled\u001b[0m\u001b[0;34m,\u001b[0m \u001b[0mclusters\u001b[0m\u001b[0;34m,\u001b[0m \u001b[0mmetric\u001b[0m \u001b[0;34m=\u001b[0m \u001b[0;34m\"euclidean\"\u001b[0m\u001b[0;34m)\u001b[0m\u001b[0;34m\u001b[0m\u001b[0;34m\u001b[0m\u001b[0m\n\u001b[0m\u001b[1;32m      3\u001b[0m \u001b[0mprint\u001b[0m\u001b[0;34m(\u001b[0m\u001b[0;34m[\u001b[0m\u001b[0madjusted_rand_index\u001b[0m\u001b[0;34m,\u001b[0m \u001b[0msilhouette_coefficient\u001b[0m\u001b[0;34m]\u001b[0m\u001b[0;34m)\u001b[0m\u001b[0;34m\u001b[0m\u001b[0;34m\u001b[0m\u001b[0m\n",
      "\u001b[0;32m/opt/anaconda3/lib/python3.7/site-packages/sklearn/metrics/cluster/unsupervised.py\u001b[0m in \u001b[0;36msilhouette_score\u001b[0;34m(X, labels, metric, sample_size, random_state, **kwds)\u001b[0m\n\u001b[1;32m    115\u001b[0m         \u001b[0;32melse\u001b[0m\u001b[0;34m:\u001b[0m\u001b[0;34m\u001b[0m\u001b[0;34m\u001b[0m\u001b[0m\n\u001b[1;32m    116\u001b[0m             \u001b[0mX\u001b[0m\u001b[0;34m,\u001b[0m \u001b[0mlabels\u001b[0m \u001b[0;34m=\u001b[0m \u001b[0mX\u001b[0m\u001b[0;34m[\u001b[0m\u001b[0mindices\u001b[0m\u001b[0;34m]\u001b[0m\u001b[0;34m,\u001b[0m \u001b[0mlabels\u001b[0m\u001b[0;34m[\u001b[0m\u001b[0mindices\u001b[0m\u001b[0;34m]\u001b[0m\u001b[0;34m\u001b[0m\u001b[0;34m\u001b[0m\u001b[0m\n\u001b[0;32m--> 117\u001b[0;31m     \u001b[0;32mreturn\u001b[0m \u001b[0mnp\u001b[0m\u001b[0;34m.\u001b[0m\u001b[0mmean\u001b[0m\u001b[0;34m(\u001b[0m\u001b[0msilhouette_samples\u001b[0m\u001b[0;34m(\u001b[0m\u001b[0mX\u001b[0m\u001b[0;34m,\u001b[0m \u001b[0mlabels\u001b[0m\u001b[0;34m,\u001b[0m \u001b[0mmetric\u001b[0m\u001b[0;34m=\u001b[0m\u001b[0mmetric\u001b[0m\u001b[0;34m,\u001b[0m \u001b[0;34m**\u001b[0m\u001b[0mkwds\u001b[0m\u001b[0;34m)\u001b[0m\u001b[0;34m)\u001b[0m\u001b[0;34m\u001b[0m\u001b[0;34m\u001b[0m\u001b[0m\n\u001b[0m\u001b[1;32m    118\u001b[0m \u001b[0;34m\u001b[0m\u001b[0m\n\u001b[1;32m    119\u001b[0m \u001b[0;34m\u001b[0m\u001b[0m\n",
      "\u001b[0;32m/opt/anaconda3/lib/python3.7/site-packages/sklearn/metrics/cluster/unsupervised.py\u001b[0m in \u001b[0;36msilhouette_samples\u001b[0;34m(X, labels, metric, **kwds)\u001b[0m\n\u001b[1;32m    221\u001b[0m                                     labels=labels, label_freqs=label_freqs)\n\u001b[1;32m    222\u001b[0m     results = zip(*pairwise_distances_chunked(X, reduce_func=reduce_func,\n\u001b[0;32m--> 223\u001b[0;31m                                               **kwds))\n\u001b[0m\u001b[1;32m    224\u001b[0m     \u001b[0mintra_clust_dists\u001b[0m\u001b[0;34m,\u001b[0m \u001b[0minter_clust_dists\u001b[0m \u001b[0;34m=\u001b[0m \u001b[0mresults\u001b[0m\u001b[0;34m\u001b[0m\u001b[0;34m\u001b[0m\u001b[0m\n\u001b[1;32m    225\u001b[0m     \u001b[0mintra_clust_dists\u001b[0m \u001b[0;34m=\u001b[0m \u001b[0mnp\u001b[0m\u001b[0;34m.\u001b[0m\u001b[0mconcatenate\u001b[0m\u001b[0;34m(\u001b[0m\u001b[0mintra_clust_dists\u001b[0m\u001b[0;34m)\u001b[0m\u001b[0;34m\u001b[0m\u001b[0;34m\u001b[0m\u001b[0m\n",
      "\u001b[0;32m/opt/anaconda3/lib/python3.7/site-packages/sklearn/metrics/pairwise.py\u001b[0m in \u001b[0;36mpairwise_distances_chunked\u001b[0;34m(X, Y, reduce_func, metric, n_jobs, working_memory, **kwds)\u001b[0m\n\u001b[1;32m   1446\u001b[0m             \u001b[0mX_chunk\u001b[0m \u001b[0;34m=\u001b[0m \u001b[0mX\u001b[0m\u001b[0;34m[\u001b[0m\u001b[0msl\u001b[0m\u001b[0;34m]\u001b[0m\u001b[0;34m\u001b[0m\u001b[0;34m\u001b[0m\u001b[0m\n\u001b[1;32m   1447\u001b[0m         D_chunk = pairwise_distances(X_chunk, Y, metric=metric,\n\u001b[0;32m-> 1448\u001b[0;31m                                      n_jobs=n_jobs, **kwds)\n\u001b[0m\u001b[1;32m   1449\u001b[0m         if ((X is Y or Y is None)\n\u001b[1;32m   1450\u001b[0m                 \u001b[0;32mand\u001b[0m \u001b[0mPAIRWISE_DISTANCE_FUNCTIONS\u001b[0m\u001b[0;34m.\u001b[0m\u001b[0mget\u001b[0m\u001b[0;34m(\u001b[0m\u001b[0mmetric\u001b[0m\u001b[0;34m,\u001b[0m \u001b[0;32mNone\u001b[0m\u001b[0;34m)\u001b[0m\u001b[0;34m\u001b[0m\u001b[0;34m\u001b[0m\u001b[0m\n",
      "\u001b[0;32m/opt/anaconda3/lib/python3.7/site-packages/sklearn/metrics/pairwise.py\u001b[0m in \u001b[0;36mpairwise_distances\u001b[0;34m(X, Y, metric, n_jobs, **kwds)\u001b[0m\n\u001b[1;32m   1586\u001b[0m         \u001b[0mfunc\u001b[0m \u001b[0;34m=\u001b[0m \u001b[0mpartial\u001b[0m\u001b[0;34m(\u001b[0m\u001b[0mdistance\u001b[0m\u001b[0;34m.\u001b[0m\u001b[0mcdist\u001b[0m\u001b[0;34m,\u001b[0m \u001b[0mmetric\u001b[0m\u001b[0;34m=\u001b[0m\u001b[0mmetric\u001b[0m\u001b[0;34m,\u001b[0m \u001b[0;34m**\u001b[0m\u001b[0mkwds\u001b[0m\u001b[0;34m)\u001b[0m\u001b[0;34m\u001b[0m\u001b[0;34m\u001b[0m\u001b[0m\n\u001b[1;32m   1587\u001b[0m \u001b[0;34m\u001b[0m\u001b[0m\n\u001b[0;32m-> 1588\u001b[0;31m     \u001b[0;32mreturn\u001b[0m \u001b[0m_parallel_pairwise\u001b[0m\u001b[0;34m(\u001b[0m\u001b[0mX\u001b[0m\u001b[0;34m,\u001b[0m \u001b[0mY\u001b[0m\u001b[0;34m,\u001b[0m \u001b[0mfunc\u001b[0m\u001b[0;34m,\u001b[0m \u001b[0mn_jobs\u001b[0m\u001b[0;34m,\u001b[0m \u001b[0;34m**\u001b[0m\u001b[0mkwds\u001b[0m\u001b[0;34m)\u001b[0m\u001b[0;34m\u001b[0m\u001b[0;34m\u001b[0m\u001b[0m\n\u001b[0m\u001b[1;32m   1589\u001b[0m \u001b[0;34m\u001b[0m\u001b[0m\n\u001b[1;32m   1590\u001b[0m \u001b[0;34m\u001b[0m\u001b[0m\n",
      "\u001b[0;32m/opt/anaconda3/lib/python3.7/site-packages/sklearn/metrics/pairwise.py\u001b[0m in \u001b[0;36m_parallel_pairwise\u001b[0;34m(X, Y, func, n_jobs, **kwds)\u001b[0m\n\u001b[1;32m   1204\u001b[0m \u001b[0;34m\u001b[0m\u001b[0m\n\u001b[1;32m   1205\u001b[0m     \u001b[0;32mif\u001b[0m \u001b[0meffective_n_jobs\u001b[0m\u001b[0;34m(\u001b[0m\u001b[0mn_jobs\u001b[0m\u001b[0;34m)\u001b[0m \u001b[0;34m==\u001b[0m \u001b[0;36m1\u001b[0m\u001b[0;34m:\u001b[0m\u001b[0;34m\u001b[0m\u001b[0;34m\u001b[0m\u001b[0m\n\u001b[0;32m-> 1206\u001b[0;31m         \u001b[0;32mreturn\u001b[0m \u001b[0mfunc\u001b[0m\u001b[0;34m(\u001b[0m\u001b[0mX\u001b[0m\u001b[0;34m,\u001b[0m \u001b[0mY\u001b[0m\u001b[0;34m,\u001b[0m \u001b[0;34m**\u001b[0m\u001b[0mkwds\u001b[0m\u001b[0;34m)\u001b[0m\u001b[0;34m\u001b[0m\u001b[0;34m\u001b[0m\u001b[0m\n\u001b[0m\u001b[1;32m   1207\u001b[0m \u001b[0;34m\u001b[0m\u001b[0m\n\u001b[1;32m   1208\u001b[0m     \u001b[0;31m# enforce a threading backend to prevent data communication overhead\u001b[0m\u001b[0;34m\u001b[0m\u001b[0;34m\u001b[0m\u001b[0;34m\u001b[0m\u001b[0m\n",
      "\u001b[0;32m/opt/anaconda3/lib/python3.7/site-packages/sklearn/metrics/pairwise.py\u001b[0m in \u001b[0;36meuclidean_distances\u001b[0;34m(X, Y, Y_norm_squared, squared, X_norm_squared)\u001b[0m\n\u001b[1;32m    263\u001b[0m         \u001b[0mYY\u001b[0m \u001b[0;34m=\u001b[0m \u001b[0;32mNone\u001b[0m\u001b[0;34m\u001b[0m\u001b[0;34m\u001b[0m\u001b[0m\n\u001b[1;32m    264\u001b[0m     \u001b[0;32melse\u001b[0m\u001b[0;34m:\u001b[0m\u001b[0;34m\u001b[0m\u001b[0;34m\u001b[0m\u001b[0m\n\u001b[0;32m--> 265\u001b[0;31m         \u001b[0mYY\u001b[0m \u001b[0;34m=\u001b[0m \u001b[0mrow_norms\u001b[0m\u001b[0;34m(\u001b[0m\u001b[0mY\u001b[0m\u001b[0;34m,\u001b[0m \u001b[0msquared\u001b[0m\u001b[0;34m=\u001b[0m\u001b[0;32mTrue\u001b[0m\u001b[0;34m)\u001b[0m\u001b[0;34m[\u001b[0m\u001b[0mnp\u001b[0m\u001b[0;34m.\u001b[0m\u001b[0mnewaxis\u001b[0m\u001b[0;34m,\u001b[0m \u001b[0;34m:\u001b[0m\u001b[0;34m]\u001b[0m\u001b[0;34m\u001b[0m\u001b[0;34m\u001b[0m\u001b[0m\n\u001b[0m\u001b[1;32m    266\u001b[0m \u001b[0;34m\u001b[0m\u001b[0m\n\u001b[1;32m    267\u001b[0m     \u001b[0;32mif\u001b[0m \u001b[0mX\u001b[0m\u001b[0;34m.\u001b[0m\u001b[0mdtype\u001b[0m \u001b[0;34m==\u001b[0m \u001b[0mnp\u001b[0m\u001b[0;34m.\u001b[0m\u001b[0mfloat32\u001b[0m\u001b[0;34m:\u001b[0m\u001b[0;34m\u001b[0m\u001b[0;34m\u001b[0m\u001b[0m\n",
      "\u001b[0;32m/opt/anaconda3/lib/python3.7/site-packages/sklearn/utils/extmath.py\u001b[0m in \u001b[0;36mrow_norms\u001b[0;34m(X, squared)\u001b[0m\n\u001b[1;32m     71\u001b[0m         \u001b[0mnorms\u001b[0m \u001b[0;34m=\u001b[0m \u001b[0mcsr_row_norms\u001b[0m\u001b[0;34m(\u001b[0m\u001b[0mX\u001b[0m\u001b[0;34m)\u001b[0m\u001b[0;34m\u001b[0m\u001b[0;34m\u001b[0m\u001b[0m\n\u001b[1;32m     72\u001b[0m     \u001b[0;32melse\u001b[0m\u001b[0;34m:\u001b[0m\u001b[0;34m\u001b[0m\u001b[0;34m\u001b[0m\u001b[0m\n\u001b[0;32m---> 73\u001b[0;31m         \u001b[0mnorms\u001b[0m \u001b[0;34m=\u001b[0m \u001b[0mnp\u001b[0m\u001b[0;34m.\u001b[0m\u001b[0meinsum\u001b[0m\u001b[0;34m(\u001b[0m\u001b[0;34m'ij,ij->i'\u001b[0m\u001b[0;34m,\u001b[0m \u001b[0mX\u001b[0m\u001b[0;34m,\u001b[0m \u001b[0mX\u001b[0m\u001b[0;34m)\u001b[0m\u001b[0;34m\u001b[0m\u001b[0;34m\u001b[0m\u001b[0m\n\u001b[0m\u001b[1;32m     74\u001b[0m \u001b[0;34m\u001b[0m\u001b[0m\n\u001b[1;32m     75\u001b[0m     \u001b[0;32mif\u001b[0m \u001b[0;32mnot\u001b[0m \u001b[0msquared\u001b[0m\u001b[0;34m:\u001b[0m\u001b[0;34m\u001b[0m\u001b[0;34m\u001b[0m\u001b[0m\n",
      "\u001b[0;32m<__array_function__ internals>\u001b[0m in \u001b[0;36meinsum\u001b[0;34m(*args, **kwargs)\u001b[0m\n",
      "\u001b[0;32m/opt/anaconda3/lib/python3.7/site-packages/numpy/core/einsumfunc.py\u001b[0m in \u001b[0;36meinsum\u001b[0;34m(*operands, **kwargs)\u001b[0m\n\u001b[1;32m   1354\u001b[0m     \u001b[0;31m# If no optimization, run pure einsum\u001b[0m\u001b[0;34m\u001b[0m\u001b[0;34m\u001b[0m\u001b[0;34m\u001b[0m\u001b[0m\n\u001b[1;32m   1355\u001b[0m     \u001b[0;32mif\u001b[0m \u001b[0moptimize_arg\u001b[0m \u001b[0;32mis\u001b[0m \u001b[0;32mFalse\u001b[0m\u001b[0;34m:\u001b[0m\u001b[0;34m\u001b[0m\u001b[0;34m\u001b[0m\u001b[0m\n\u001b[0;32m-> 1356\u001b[0;31m         \u001b[0;32mreturn\u001b[0m \u001b[0mc_einsum\u001b[0m\u001b[0;34m(\u001b[0m\u001b[0;34m*\u001b[0m\u001b[0moperands\u001b[0m\u001b[0;34m,\u001b[0m \u001b[0;34m**\u001b[0m\u001b[0mkwargs\u001b[0m\u001b[0;34m)\u001b[0m\u001b[0;34m\u001b[0m\u001b[0;34m\u001b[0m\u001b[0m\n\u001b[0m\u001b[1;32m   1357\u001b[0m \u001b[0;34m\u001b[0m\u001b[0m\n\u001b[1;32m   1358\u001b[0m     \u001b[0mvalid_einsum_kwargs\u001b[0m \u001b[0;34m=\u001b[0m \u001b[0;34m[\u001b[0m\u001b[0;34m'out'\u001b[0m\u001b[0;34m,\u001b[0m \u001b[0;34m'dtype'\u001b[0m\u001b[0;34m,\u001b[0m \u001b[0;34m'order'\u001b[0m\u001b[0;34m,\u001b[0m \u001b[0;34m'casting'\u001b[0m\u001b[0;34m]\u001b[0m\u001b[0;34m\u001b[0m\u001b[0;34m\u001b[0m\u001b[0m\n",
      "\u001b[0;31mKeyboardInterrupt\u001b[0m: "
     ]
    }
   ],
   "source": [
    "adjusted_rand_index = metrics.adjusted_rand_score(y_cgrp['crimeGroups'], X_cgrp['clusters'])\n",
    "silhouette_coefficient = metrics.silhouette_score(x_scaled, clusters, metric = \"euclidean\")\n",
    "print([adjusted_rand_index, silhouette_coefficient])"
   ]
  },
  {
   "cell_type": "code",
   "execution_count": 0,
   "metadata": {
    "colab": {},
    "colab_type": "code",
    "id": "_U3LnfEYh7Gn"
   },
   "outputs": [],
   "source": [
    "clustering = KMeans(n_clusters = 5,init = 'random', n_init = 40,random_state=0).fit(x_scaled)\n",
    "clusters = clustering.labels_"
   ]
  },
  {
   "cell_type": "code",
   "execution_count": 29,
   "metadata": {
    "colab": {
     "base_uri": "https://localhost:8080/",
     "height": 33
    },
    "colab_type": "code",
    "executionInfo": {
     "elapsed": 82,
     "status": "ok",
     "timestamp": 1575315575845,
     "user": {
      "displayName": "Snehal Tikare",
      "photoUrl": "",
      "userId": "17239970982901927271"
     },
     "user_tz": 360
    },
    "id": "Y2ALHpMSh7fO",
    "outputId": "267fa476-8a63-4785-adf7-a524928a8d5d"
   },
   "outputs": [
    {
     "data": {
      "text/plain": [
       "array([1, 1, 1, 3, 2], dtype=int32)"
      ]
     },
     "execution_count": 29,
     "metadata": {
      "tags": []
     },
     "output_type": "execute_result"
    }
   ],
   "source": [
    "clusters[0:5]"
   ]
  },
  {
   "cell_type": "code",
   "execution_count": 0,
   "metadata": {
    "colab": {},
    "colab_type": "code",
    "id": "wMI1foORiIVC"
   },
   "outputs": [],
   "source": [
    "X_cgrp['clusters'] = clusters"
   ]
  },
  {
   "cell_type": "code",
   "execution_count": 31,
   "metadata": {
    "colab": {
     "base_uri": "https://localhost:8080/",
     "height": 115
    },
    "colab_type": "code",
    "executionInfo": {
     "elapsed": 48,
     "status": "ok",
     "timestamp": 1575315575848,
     "user": {
      "displayName": "Snehal Tikare",
      "photoUrl": "",
      "userId": "17239970982901927271"
     },
     "user_tz": 360
    },
    "id": "MeZxeH6JiMRd",
    "outputId": "77559fe6-f6b3-40e2-f4a1-bf09fc9539c6"
   },
   "outputs": [
    {
     "data": {
      "text/plain": [
       "0    1\n",
       "1    1\n",
       "2    1\n",
       "3    3\n",
       "4    2\n",
       "Name: clusters, dtype: int32"
      ]
     },
     "execution_count": 31,
     "metadata": {
      "tags": []
     },
     "output_type": "execute_result"
    }
   ],
   "source": [
    "X_cgrp['clusters'][0:5]"
   ]
  },
  {
   "cell_type": "code",
   "execution_count": 32,
   "metadata": {
    "colab": {
     "base_uri": "https://localhost:8080/",
     "height": 728
    },
    "colab_type": "code",
    "executionInfo": {
     "elapsed": 29,
     "status": "ok",
     "timestamp": 1575315575849,
     "user": {
      "displayName": "Snehal Tikare",
      "photoUrl": "",
      "userId": "17239970982901927271"
     },
     "user_tz": 360
    },
    "id": "bovsWZAJiQJ-",
    "outputId": "2a4c5589-f1fb-4043-9829-6db5298d1227"
   },
   "outputs": [
    {
     "data": {
      "image/png": "[encoded data removed]",
      "text/plain": [
       "<Figure size 720x720 with 2 Axes>"
      ]
     },
     "metadata": {
      "tags": []
     },
     "output_type": "display_data"
    }
   ],
   "source": [
    "cont_matrix = metrics.cluster.contingency_matrix(y_cgrp['crimeGroups'],X_cgrp['clusters'])\n",
    "fig, ax = plt.subplots(figsize=(10,10))  \n",
    "ax=sns.heatmap(cont_matrix,yticklabels=5, annot = True, fmt = \".3f\", square = False, cmap = plt.cm.PuBu)\n",
    "plt.ylabel('Actual')\n",
    "plt.xlabel('Predicted')\n",
    "plt.title('Contingency matrix')\n",
    "plt.tight_layout()"
   ]
  },
  {
   "cell_type": "code",
   "execution_count": 33,
   "metadata": {
    "colab": {
     "base_uri": "https://localhost:8080/",
     "height": 361
    },
    "colab_type": "code",
    "executionInfo": {
     "elapsed": 24730,
     "status": "error",
     "timestamp": 1575315600567,
     "user": {
      "displayName": "Snehal Tikare",
      "photoUrl": "",
      "userId": "17239970982901927271"
     },
     "user_tz": 360
    },
    "id": "e2qqTq_aiRzG",
    "outputId": "4ad1e7b1-9e78-4ccb-b022-e869dce2faad"
   },
   "outputs": [
    {
     "ename": "KeyboardInterrupt",
     "evalue": "ignored",
     "output_type": "error",
     "traceback": [
      "\u001b[0;31m---------------------------------------------------------------------------\u001b[0m",
      "\u001b[0;31mKeyboardInterrupt\u001b[0m                         Traceback (most recent call last)",
      "\u001b[0;32m<ipython-input-33-9f851dd1af52>\u001b[0m in \u001b[0;36m<module>\u001b[0;34m()\u001b[0m\n\u001b[1;32m      1\u001b[0m \u001b[0madjusted_rand_index\u001b[0m \u001b[0;34m=\u001b[0m \u001b[0mmetrics\u001b[0m\u001b[0;34m.\u001b[0m\u001b[0madjusted_rand_score\u001b[0m\u001b[0;34m(\u001b[0m\u001b[0my_cgrp\u001b[0m\u001b[0;34m[\u001b[0m\u001b[0;34m'crimeGroups'\u001b[0m\u001b[0;34m]\u001b[0m\u001b[0;34m,\u001b[0m \u001b[0mX_cgrp\u001b[0m\u001b[0;34m[\u001b[0m\u001b[0;34m'clusters'\u001b[0m\u001b[0;34m]\u001b[0m\u001b[0;34m)\u001b[0m\u001b[0;34m\u001b[0m\u001b[0;34m\u001b[0m\u001b[0m\n\u001b[0;32m----> 2\u001b[0;31m \u001b[0msilhouette_coefficient\u001b[0m \u001b[0;34m=\u001b[0m \u001b[0mmetrics\u001b[0m\u001b[0;34m.\u001b[0m\u001b[0msilhouette_score\u001b[0m\u001b[0;34m(\u001b[0m\u001b[0mx_scaled\u001b[0m\u001b[0;34m,\u001b[0m \u001b[0mclusters\u001b[0m\u001b[0;34m,\u001b[0m \u001b[0mmetric\u001b[0m \u001b[0;34m=\u001b[0m \u001b[0;34m\"euclidean\"\u001b[0m\u001b[0;34m)\u001b[0m\u001b[0;34m\u001b[0m\u001b[0;34m\u001b[0m\u001b[0m\n\u001b[0m\u001b[1;32m      3\u001b[0m \u001b[0mprint\u001b[0m\u001b[0;34m(\u001b[0m\u001b[0;34m[\u001b[0m\u001b[0madjusted_rand_index\u001b[0m\u001b[0;34m,\u001b[0m \u001b[0msilhouette_coefficient\u001b[0m\u001b[0;34m]\u001b[0m\u001b[0;34m)\u001b[0m\u001b[0;34m\u001b[0m\u001b[0;34m\u001b[0m\u001b[0m\n",
      "\u001b[0;32m/usr/local/lib/python3.6/dist-packages/sklearn/metrics/cluster/unsupervised.py\u001b[0m in \u001b[0;36msilhouette_score\u001b[0;34m(X, labels, metric, sample_size, random_state, **kwds)\u001b[0m\n\u001b[1;32m    115\u001b[0m         \u001b[0;32melse\u001b[0m\u001b[0;34m:\u001b[0m\u001b[0;34m\u001b[0m\u001b[0;34m\u001b[0m\u001b[0m\n\u001b[1;32m    116\u001b[0m             \u001b[0mX\u001b[0m\u001b[0;34m,\u001b[0m \u001b[0mlabels\u001b[0m \u001b[0;34m=\u001b[0m \u001b[0mX\u001b[0m\u001b[0;34m[\u001b[0m\u001b[0mindices\u001b[0m\u001b[0;34m]\u001b[0m\u001b[0;34m,\u001b[0m \u001b[0mlabels\u001b[0m\u001b[0;34m[\u001b[0m\u001b[0mindices\u001b[0m\u001b[0;34m]\u001b[0m\u001b[0;34m\u001b[0m\u001b[0;34m\u001b[0m\u001b[0m\n\u001b[0;32m--> 117\u001b[0;31m     \u001b[0;32mreturn\u001b[0m \u001b[0mnp\u001b[0m\u001b[0;34m.\u001b[0m\u001b[0mmean\u001b[0m\u001b[0;34m(\u001b[0m\u001b[0msilhouette_samples\u001b[0m\u001b[0;34m(\u001b[0m\u001b[0mX\u001b[0m\u001b[0;34m,\u001b[0m \u001b[0mlabels\u001b[0m\u001b[0;34m,\u001b[0m \u001b[0mmetric\u001b[0m\u001b[0;34m=\u001b[0m\u001b[0mmetric\u001b[0m\u001b[0;34m,\u001b[0m \u001b[0;34m**\u001b[0m\u001b[0mkwds\u001b[0m\u001b[0;34m)\u001b[0m\u001b[0;34m)\u001b[0m\u001b[0;34m\u001b[0m\u001b[0;34m\u001b[0m\u001b[0m\n\u001b[0m\u001b[1;32m    118\u001b[0m \u001b[0;34m\u001b[0m\u001b[0m\n\u001b[1;32m    119\u001b[0m \u001b[0;34m\u001b[0m\u001b[0m\n",
      "\u001b[0;32m/usr/local/lib/python3.6/dist-packages/sklearn/metrics/cluster/unsupervised.py\u001b[0m in \u001b[0;36msilhouette_samples\u001b[0;34m(X, labels, metric, **kwds)\u001b[0m\n\u001b[1;32m    221\u001b[0m                                     labels=labels, label_freqs=label_freqs)\n\u001b[1;32m    222\u001b[0m     results = zip(*pairwise_distances_chunked(X, reduce_func=reduce_func,\n\u001b[0;32m--> 223\u001b[0;31m                                               **kwds))\n\u001b[0m\u001b[1;32m    224\u001b[0m     \u001b[0mintra_clust_dists\u001b[0m\u001b[0;34m,\u001b[0m \u001b[0minter_clust_dists\u001b[0m \u001b[0;34m=\u001b[0m \u001b[0mresults\u001b[0m\u001b[0;34m\u001b[0m\u001b[0;34m\u001b[0m\u001b[0m\n\u001b[1;32m    225\u001b[0m     \u001b[0mintra_clust_dists\u001b[0m \u001b[0;34m=\u001b[0m \u001b[0mnp\u001b[0m\u001b[0;34m.\u001b[0m\u001b[0mconcatenate\u001b[0m\u001b[0;34m(\u001b[0m\u001b[0mintra_clust_dists\u001b[0m\u001b[0;34m)\u001b[0m\u001b[0;34m\u001b[0m\u001b[0;34m\u001b[0m\u001b[0m\n",
      "\u001b[0;32m/usr/local/lib/python3.6/dist-packages/sklearn/metrics/pairwise.py\u001b[0m in \u001b[0;36mpairwise_distances_chunked\u001b[0;34m(X, Y, reduce_func, metric, n_jobs, working_memory, **kwds)\u001b[0m\n\u001b[1;32m   1446\u001b[0m             \u001b[0mX_chunk\u001b[0m \u001b[0;34m=\u001b[0m \u001b[0mX\u001b[0m\u001b[0;34m[\u001b[0m\u001b[0msl\u001b[0m\u001b[0;34m]\u001b[0m\u001b[0;34m\u001b[0m\u001b[0;34m\u001b[0m\u001b[0m\n\u001b[1;32m   1447\u001b[0m         D_chunk = pairwise_distances(X_chunk, Y, metric=metric,\n\u001b[0;32m-> 1448\u001b[0;31m                                      n_jobs=n_jobs, **kwds)\n\u001b[0m\u001b[1;32m   1449\u001b[0m         if ((X is Y or Y is None)\n\u001b[1;32m   1450\u001b[0m                 \u001b[0;32mand\u001b[0m \u001b[0mPAIRWISE_DISTANCE_FUNCTIONS\u001b[0m\u001b[0;34m.\u001b[0m\u001b[0mget\u001b[0m\u001b[0;34m(\u001b[0m\u001b[0mmetric\u001b[0m\u001b[0;34m,\u001b[0m \u001b[0;32mNone\u001b[0m\u001b[0;34m)\u001b[0m\u001b[0;34m\u001b[0m\u001b[0;34m\u001b[0m\u001b[0m\n",
      "\u001b[0;32m/usr/local/lib/python3.6/dist-packages/sklearn/metrics/pairwise.py\u001b[0m in \u001b[0;36mpairwise_distances\u001b[0;34m(X, Y, metric, n_jobs, **kwds)\u001b[0m\n\u001b[1;32m   1586\u001b[0m         \u001b[0mfunc\u001b[0m \u001b[0;34m=\u001b[0m \u001b[0mpartial\u001b[0m\u001b[0;34m(\u001b[0m\u001b[0mdistance\u001b[0m\u001b[0;34m.\u001b[0m\u001b[0mcdist\u001b[0m\u001b[0;34m,\u001b[0m \u001b[0mmetric\u001b[0m\u001b[0;34m=\u001b[0m\u001b[0mmetric\u001b[0m\u001b[0;34m,\u001b[0m \u001b[0;34m**\u001b[0m\u001b[0mkwds\u001b[0m\u001b[0;34m)\u001b[0m\u001b[0;34m\u001b[0m\u001b[0;34m\u001b[0m\u001b[0m\n\u001b[1;32m   1587\u001b[0m \u001b[0;34m\u001b[0m\u001b[0m\n\u001b[0;32m-> 1588\u001b[0;31m     \u001b[0;32mreturn\u001b[0m \u001b[0m_parallel_pairwise\u001b[0m\u001b[0;34m(\u001b[0m\u001b[0mX\u001b[0m\u001b[0;34m,\u001b[0m \u001b[0mY\u001b[0m\u001b[0;34m,\u001b[0m \u001b[0mfunc\u001b[0m\u001b[0;34m,\u001b[0m \u001b[0mn_jobs\u001b[0m\u001b[0;34m,\u001b[0m \u001b[0;34m**\u001b[0m\u001b[0mkwds\u001b[0m\u001b[0;34m)\u001b[0m\u001b[0;34m\u001b[0m\u001b[0;34m\u001b[0m\u001b[0m\n\u001b[0m\u001b[1;32m   1589\u001b[0m \u001b[0;34m\u001b[0m\u001b[0m\n\u001b[1;32m   1590\u001b[0m \u001b[0;34m\u001b[0m\u001b[0m\n",
      "\u001b[0;32m/usr/local/lib/python3.6/dist-packages/sklearn/metrics/pairwise.py\u001b[0m in \u001b[0;36m_parallel_pairwise\u001b[0;34m(X, Y, func, n_jobs, **kwds)\u001b[0m\n\u001b[1;32m   1204\u001b[0m \u001b[0;34m\u001b[0m\u001b[0m\n\u001b[1;32m   1205\u001b[0m     \u001b[0;32mif\u001b[0m \u001b[0meffective_n_jobs\u001b[0m\u001b[0;34m(\u001b[0m\u001b[0mn_jobs\u001b[0m\u001b[0;34m)\u001b[0m \u001b[0;34m==\u001b[0m \u001b[0;36m1\u001b[0m\u001b[0;34m:\u001b[0m\u001b[0;34m\u001b[0m\u001b[0;34m\u001b[0m\u001b[0m\n\u001b[0;32m-> 1206\u001b[0;31m         \u001b[0;32mreturn\u001b[0m \u001b[0mfunc\u001b[0m\u001b[0;34m(\u001b[0m\u001b[0mX\u001b[0m\u001b[0;34m,\u001b[0m \u001b[0mY\u001b[0m\u001b[0;34m,\u001b[0m \u001b[0;34m**\u001b[0m\u001b[0mkwds\u001b[0m\u001b[0;34m)\u001b[0m\u001b[0;34m\u001b[0m\u001b[0;34m\u001b[0m\u001b[0m\n\u001b[0m\u001b[1;32m   1207\u001b[0m \u001b[0;34m\u001b[0m\u001b[0m\n\u001b[1;32m   1208\u001b[0m     \u001b[0;31m# enforce a threading backend to prevent data communication overhead\u001b[0m\u001b[0;34m\u001b[0m\u001b[0;34m\u001b[0m\u001b[0;34m\u001b[0m\u001b[0m\n",
      "\u001b[0;32m/usr/local/lib/python3.6/dist-packages/sklearn/metrics/pairwise.py\u001b[0m in \u001b[0;36meuclidean_distances\u001b[0;34m(X, Y, Y_norm_squared, squared, X_norm_squared)\u001b[0m\n\u001b[1;32m    271\u001b[0m     \u001b[0;32melse\u001b[0m\u001b[0;34m:\u001b[0m\u001b[0;34m\u001b[0m\u001b[0;34m\u001b[0m\u001b[0m\n\u001b[1;32m    272\u001b[0m         \u001b[0;31m# if dtype is already float64, no need to chunk and upcast\u001b[0m\u001b[0;34m\u001b[0m\u001b[0;34m\u001b[0m\u001b[0;34m\u001b[0m\u001b[0m\n\u001b[0;32m--> 273\u001b[0;31m         \u001b[0mdistances\u001b[0m \u001b[0;34m=\u001b[0m \u001b[0;34m-\u001b[0m \u001b[0;36m2\u001b[0m \u001b[0;34m*\u001b[0m \u001b[0msafe_sparse_dot\u001b[0m\u001b[0;34m(\u001b[0m\u001b[0mX\u001b[0m\u001b[0;34m,\u001b[0m \u001b[0mY\u001b[0m\u001b[0;34m.\u001b[0m\u001b[0mT\u001b[0m\u001b[0;34m,\u001b[0m \u001b[0mdense_output\u001b[0m\u001b[0;34m=\u001b[0m\u001b[0;32mTrue\u001b[0m\u001b[0;34m)\u001b[0m\u001b[0;34m\u001b[0m\u001b[0;34m\u001b[0m\u001b[0m\n\u001b[0m\u001b[1;32m    274\u001b[0m         \u001b[0mdistances\u001b[0m \u001b[0;34m+=\u001b[0m \u001b[0mXX\u001b[0m\u001b[0;34m\u001b[0m\u001b[0;34m\u001b[0m\u001b[0m\n\u001b[1;32m    275\u001b[0m         \u001b[0mdistances\u001b[0m \u001b[0;34m+=\u001b[0m \u001b[0mYY\u001b[0m\u001b[0;34m\u001b[0m\u001b[0;34m\u001b[0m\u001b[0m\n",
      "\u001b[0;32m/usr/local/lib/python3.6/dist-packages/sklearn/utils/extmath.py\u001b[0m in \u001b[0;36msafe_sparse_dot\u001b[0;34m(a, b, dense_output)\u001b[0m\n\u001b[1;32m    140\u001b[0m         \u001b[0;32mreturn\u001b[0m \u001b[0mret\u001b[0m\u001b[0;34m\u001b[0m\u001b[0;34m\u001b[0m\u001b[0m\n\u001b[1;32m    141\u001b[0m     \u001b[0;32melse\u001b[0m\u001b[0;34m:\u001b[0m\u001b[0;34m\u001b[0m\u001b[0;34m\u001b[0m\u001b[0m\n\u001b[0;32m--> 142\u001b[0;31m         \u001b[0;32mreturn\u001b[0m \u001b[0mnp\u001b[0m\u001b[0;34m.\u001b[0m\u001b[0mdot\u001b[0m\u001b[0;34m(\u001b[0m\u001b[0ma\u001b[0m\u001b[0;34m,\u001b[0m \u001b[0mb\u001b[0m\u001b[0;34m)\u001b[0m\u001b[0;34m\u001b[0m\u001b[0;34m\u001b[0m\u001b[0m\n\u001b[0m\u001b[1;32m    143\u001b[0m \u001b[0;34m\u001b[0m\u001b[0m\n\u001b[1;32m    144\u001b[0m \u001b[0;34m\u001b[0m\u001b[0m\n",
      "\u001b[0;32m<__array_function__ internals>\u001b[0m in \u001b[0;36mdot\u001b[0;34m(*args, **kwargs)\u001b[0m\n",
      "\u001b[0;31mKeyboardInterrupt\u001b[0m: "
     ]
    }
   ],
   "source": [
    "adjusted_rand_index = metrics.adjusted_rand_score(y_cgrp['crimeGroups'], X_cgrp['clusters'])\n",
    "silhouette_coefficient = metrics.silhouette_score(x_scaled, clusters, metric = \"euclidean\")\n",
    "print([adjusted_rand_index, silhouette_coefficient])"
   ]
  },
  {
   "cell_type": "code",
   "execution_count": 0,
   "metadata": {
    "colab": {},
    "colab_type": "code",
    "id": "kh_yGlFVuNaH"
   },
   "outputs": [],
   "source": [
    "hier = AgglomerativeClustering(n_clusters=5)\n",
    "y_pred = hier.fit_predict(x_scaled)"
   ]
  },
  {
   "cell_type": "code",
   "execution_count": 0,
   "metadata": {
    "colab": {},
    "colab_type": "code",
    "id": "EkxVFiRGuN7E"
   },
   "outputs": [],
   "source": []
  },
  {
   "cell_type": "code",
   "execution_count": 0,
   "metadata": {
    "colab": {},
    "colab_type": "code",
    "id": "X697GUODuOXb"
   },
   "outputs": [],
   "source": []
  }
 ],
 "metadata": {
  "accelerator": "GPU",
  "colab": {
   "collapsed_sections": [],
   "machine_shape": "hm",
   "name": "ClassificationAndClusteringCrimeFinal.ipynb",
   "provenance": [
    {
     "file_id": "1T90dFs0dFGiBeA01tXBG63JJLsXnuIoc",
     "timestamp": 1575302911630
    }
   ]
  },
  "kernelspec": {
   "display_name": "Python 3",
   "language": "python",
   "name": "python3"
  },
  "language_info": {
   "codemirror_mode": {
    "name": "ipython",
    "version": 3
   },
   "file_extension": ".py",
   "mimetype": "text/x-python",
   "name": "python",
   "nbconvert_exporter": "python",
   "pygments_lexer": "ipython3",
   "version": "3.7.4"
  }
 },
 "nbformat": 4,
 "nbformat_minor": 1
}

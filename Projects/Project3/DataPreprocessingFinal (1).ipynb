{
 "cells": [
  {
   "cell_type": "code",
   "execution_count": 85,
   "metadata": {
    "colab": {
     "base_uri": "https://localhost:8080/",
     "height": 374
    },
    "colab_type": "code",
    "id": "L6nWN-Y6QDi0",
    "outputId": "f2afede0-f341-4e4d-9df0-b03607323430"
   },
   "outputs": [],
   "source": [
    "import pandas as pd\n",
    "import numpy as np\n",
    "import scipy\n",
    "from scipy.spatial import distance\n",
    "import math\n",
    "from datetime import datetime\n",
    "from dateutil import parser\n",
    "import matplotlib.pyplot as plt\n",
    "import seaborn as sns\n",
    "import plotly.express as px\n",
    "%matplotlib inline\n",
    "import os\n",
    "from scipy import stats\n",
    "sns.set_style(\"darkgrid\")\n",
    "import matplotlib.image as mpimg\n",
    "import matplotlib.ticker as ticker\n",
    "from IPython.display import IFrame\n",
    "import folium\n",
    "from folium import plugins\n",
    "from folium.plugins import MarkerCluster, FastMarkerCluster, HeatMapWithTime,HeatMap\n",
    "#!pip install git+https://github.com/python-visualization/folium"
   ]
  },
  {
   "cell_type": "code",
   "execution_count": 86,
   "metadata": {
    "colab": {},
    "colab_type": "code",
    "id": "r3DI7QGJQDi8"
   },
   "outputs": [],
   "source": [
    "cdata_19=pd.read_csv('Crimes_-_2019.csv')\n",
    "cdata_18=pd.read_csv('Crimes_-_2018.csv')\n",
    "pdata=pd.read_csv('Police_Stations.csv')"
   ]
  },
  {
   "cell_type": "code",
   "execution_count": 87,
   "metadata": {
    "colab": {
     "base_uri": "https://localhost:8080/",
     "height": 417
    },
    "colab_type": "code",
    "id": "7DnWFi9hQDi_",
    "outputId": "0837b99a-7b17-499f-d9b6-21d436e10690"
   },
   "outputs": [
    {
     "data": {
      "text/html": [
       "<div>\n",
       "<style scoped>\n",
       "    .dataframe tbody tr th:only-of-type {\n",
       "        vertical-align: middle;\n",
       "    }\n",
       "\n",
       "    .dataframe tbody tr th {\n",
       "        vertical-align: top;\n",
       "    }\n",
       "\n",
       "    .dataframe thead th {\n",
       "        text-align: right;\n",
       "    }\n",
       "</style>\n",
       "<table border=\"1\" class=\"dataframe\">\n",
       "  <thead>\n",
       "    <tr style=\"text-align: right;\">\n",
       "      <th></th>\n",
       "      <th>ID</th>\n",
       "      <th>Case Number</th>\n",
       "      <th>Date</th>\n",
       "      <th>Block</th>\n",
       "      <th>IUCR</th>\n",
       "      <th>Primary Type</th>\n",
       "      <th>Description</th>\n",
       "      <th>Location Description</th>\n",
       "      <th>Arrest</th>\n",
       "      <th>Domestic</th>\n",
       "      <th>...</th>\n",
       "      <th>Ward</th>\n",
       "      <th>Community Area</th>\n",
       "      <th>FBI Code</th>\n",
       "      <th>X Coordinate</th>\n",
       "      <th>Y Coordinate</th>\n",
       "      <th>Year</th>\n",
       "      <th>Updated On</th>\n",
       "      <th>Latitude</th>\n",
       "      <th>Longitude</th>\n",
       "      <th>Location</th>\n",
       "    </tr>\n",
       "  </thead>\n",
       "  <tbody>\n",
       "    <tr>\n",
       "      <th>0</th>\n",
       "      <td>11903290</td>\n",
       "      <td>JC508826</td>\n",
       "      <td>01/01/2018 08:00:00 AM</td>\n",
       "      <td>085XX S ESCANABA AVE</td>\n",
       "      <td>1752</td>\n",
       "      <td>OFFENSE INVOLVING CHILDREN</td>\n",
       "      <td>AGG CRIM SEX ABUSE FAM MEMBER</td>\n",
       "      <td>RESIDENCE</td>\n",
       "      <td>False</td>\n",
       "      <td>False</td>\n",
       "      <td>...</td>\n",
       "      <td>10.0</td>\n",
       "      <td>46.0</td>\n",
       "      <td>17</td>\n",
       "      <td>NaN</td>\n",
       "      <td>NaN</td>\n",
       "      <td>2018</td>\n",
       "      <td>11/26/2019 03:51:26 PM</td>\n",
       "      <td>NaN</td>\n",
       "      <td>NaN</td>\n",
       "      <td>NaN</td>\n",
       "    </tr>\n",
       "    <tr>\n",
       "      <th>1</th>\n",
       "      <td>11902580</td>\n",
       "      <td>JC524113</td>\n",
       "      <td>09/01/2018 06:00:00 AM</td>\n",
       "      <td>094XX S MICHIGAN AVE</td>\n",
       "      <td>2825</td>\n",
       "      <td>OTHER OFFENSE</td>\n",
       "      <td>HARASSMENT BY TELEPHONE</td>\n",
       "      <td>RESIDENCE</td>\n",
       "      <td>False</td>\n",
       "      <td>False</td>\n",
       "      <td>...</td>\n",
       "      <td>9.0</td>\n",
       "      <td>49.0</td>\n",
       "      <td>26</td>\n",
       "      <td>NaN</td>\n",
       "      <td>NaN</td>\n",
       "      <td>2018</td>\n",
       "      <td>11/26/2019 03:51:26 PM</td>\n",
       "      <td>NaN</td>\n",
       "      <td>NaN</td>\n",
       "      <td>NaN</td>\n",
       "    </tr>\n",
       "    <tr>\n",
       "      <th>2</th>\n",
       "      <td>11516628</td>\n",
       "      <td>JB528220</td>\n",
       "      <td>11/24/2018 08:45:00 PM</td>\n",
       "      <td>095XX S STONY ISLAND AVE</td>\n",
       "      <td>0261</td>\n",
       "      <td>CRIM SEXUAL ASSAULT</td>\n",
       "      <td>AGGRAVATED: HANDGUN</td>\n",
       "      <td>ALLEY</td>\n",
       "      <td>True</td>\n",
       "      <td>False</td>\n",
       "      <td>...</td>\n",
       "      <td>7.0</td>\n",
       "      <td>51.0</td>\n",
       "      <td>02</td>\n",
       "      <td>1188521.0</td>\n",
       "      <td>1842119.0</td>\n",
       "      <td>2018</td>\n",
       "      <td>11/26/2019 03:47:51 PM</td>\n",
       "      <td>41.721844</td>\n",
       "      <td>-87.585072</td>\n",
       "      <td>(41.721843846, -87.585071938)</td>\n",
       "    </tr>\n",
       "    <tr>\n",
       "      <th>3</th>\n",
       "      <td>11491979</td>\n",
       "      <td>JB495848</td>\n",
       "      <td>08/27/2018 12:00:00 PM</td>\n",
       "      <td>092XX S UNION AVE</td>\n",
       "      <td>1120</td>\n",
       "      <td>DECEPTIVE PRACTICE</td>\n",
       "      <td>FORGERY</td>\n",
       "      <td>RESIDENCE</td>\n",
       "      <td>True</td>\n",
       "      <td>False</td>\n",
       "      <td>...</td>\n",
       "      <td>21.0</td>\n",
       "      <td>73.0</td>\n",
       "      <td>10</td>\n",
       "      <td>1173264.0</td>\n",
       "      <td>1843551.0</td>\n",
       "      <td>2018</td>\n",
       "      <td>11/26/2019 03:47:51 PM</td>\n",
       "      <td>41.726124</td>\n",
       "      <td>-87.640913</td>\n",
       "      <td>(41.726123768, -87.640913299)</td>\n",
       "    </tr>\n",
       "    <tr>\n",
       "      <th>4</th>\n",
       "      <td>11895996</td>\n",
       "      <td>JC516056</td>\n",
       "      <td>04/01/2018 12:00:00 AM</td>\n",
       "      <td>003XX W CHESTNUT ST</td>\n",
       "      <td>0810</td>\n",
       "      <td>THEFT</td>\n",
       "      <td>OVER $500</td>\n",
       "      <td>APARTMENT</td>\n",
       "      <td>False</td>\n",
       "      <td>False</td>\n",
       "      <td>...</td>\n",
       "      <td>27.0</td>\n",
       "      <td>8.0</td>\n",
       "      <td>06</td>\n",
       "      <td>NaN</td>\n",
       "      <td>NaN</td>\n",
       "      <td>2018</td>\n",
       "      <td>11/25/2019 03:51:39 PM</td>\n",
       "      <td>NaN</td>\n",
       "      <td>NaN</td>\n",
       "      <td>NaN</td>\n",
       "    </tr>\n",
       "  </tbody>\n",
       "</table>\n",
       "<p>5 rows × 22 columns</p>\n",
       "</div>"
      ],
      "text/plain": [
       "         ID Case Number                    Date                     Block  \\\n",
       "0  11903290    JC508826  01/01/2018 08:00:00 AM      085XX S ESCANABA AVE   \n",
       "1  11902580    JC524113  09/01/2018 06:00:00 AM      094XX S MICHIGAN AVE   \n",
       "2  11516628    JB528220  11/24/2018 08:45:00 PM  095XX S STONY ISLAND AVE   \n",
       "3  11491979    JB495848  08/27/2018 12:00:00 PM         092XX S UNION AVE   \n",
       "4  11895996    JC516056  04/01/2018 12:00:00 AM       003XX W CHESTNUT ST   \n",
       "\n",
       "   IUCR                Primary Type                    Description  \\\n",
       "0  1752  OFFENSE INVOLVING CHILDREN  AGG CRIM SEX ABUSE FAM MEMBER   \n",
       "1  2825               OTHER OFFENSE        HARASSMENT BY TELEPHONE   \n",
       "2  0261         CRIM SEXUAL ASSAULT            AGGRAVATED: HANDGUN   \n",
       "3  1120          DECEPTIVE PRACTICE                        FORGERY   \n",
       "4  0810                       THEFT                      OVER $500   \n",
       "\n",
       "  Location Description  Arrest  Domestic  ...  Ward  Community Area  FBI Code  \\\n",
       "0            RESIDENCE   False     False  ...  10.0            46.0        17   \n",
       "1            RESIDENCE   False     False  ...   9.0            49.0        26   \n",
       "2                ALLEY    True     False  ...   7.0            51.0        02   \n",
       "3            RESIDENCE    True     False  ...  21.0            73.0        10   \n",
       "4            APARTMENT   False     False  ...  27.0             8.0        06   \n",
       "\n",
       "   X Coordinate Y Coordinate  Year              Updated On   Latitude  \\\n",
       "0           NaN          NaN  2018  11/26/2019 03:51:26 PM        NaN   \n",
       "1           NaN          NaN  2018  11/26/2019 03:51:26 PM        NaN   \n",
       "2     1188521.0    1842119.0  2018  11/26/2019 03:47:51 PM  41.721844   \n",
       "3     1173264.0    1843551.0  2018  11/26/2019 03:47:51 PM  41.726124   \n",
       "4           NaN          NaN  2018  11/25/2019 03:51:39 PM        NaN   \n",
       "\n",
       "   Longitude                       Location  \n",
       "0        NaN                            NaN  \n",
       "1        NaN                            NaN  \n",
       "2 -87.585072  (41.721843846, -87.585071938)  \n",
       "3 -87.640913  (41.726123768, -87.640913299)  \n",
       "4        NaN                            NaN  \n",
       "\n",
       "[5 rows x 22 columns]"
      ]
     },
     "execution_count": 87,
     "metadata": {},
     "output_type": "execute_result"
    }
   ],
   "source": [
    "cdata_18.head()"
   ]
  },
  {
   "cell_type": "code",
   "execution_count": 88,
   "metadata": {
    "colab": {
     "base_uri": "https://localhost:8080/",
     "height": 401
    },
    "colab_type": "code",
    "id": "ogwoe34-QDjH",
    "outputId": "971d1358-9bed-4fa7-c010-f5ec58602e43"
   },
   "outputs": [
    {
     "data": {
      "text/html": [
       "<div>\n",
       "<style scoped>\n",
       "    .dataframe tbody tr th:only-of-type {\n",
       "        vertical-align: middle;\n",
       "    }\n",
       "\n",
       "    .dataframe tbody tr th {\n",
       "        vertical-align: top;\n",
       "    }\n",
       "\n",
       "    .dataframe thead th {\n",
       "        text-align: right;\n",
       "    }\n",
       "</style>\n",
       "<table border=\"1\" class=\"dataframe\">\n",
       "  <thead>\n",
       "    <tr style=\"text-align: right;\">\n",
       "      <th></th>\n",
       "      <th>ID</th>\n",
       "      <th>Case Number</th>\n",
       "      <th>Date</th>\n",
       "      <th>Block</th>\n",
       "      <th>IUCR</th>\n",
       "      <th>Primary Type</th>\n",
       "      <th>Description</th>\n",
       "      <th>Location Description</th>\n",
       "      <th>Arrest</th>\n",
       "      <th>Domestic</th>\n",
       "      <th>...</th>\n",
       "      <th>Ward</th>\n",
       "      <th>Community Area</th>\n",
       "      <th>FBI Code</th>\n",
       "      <th>X Coordinate</th>\n",
       "      <th>Y Coordinate</th>\n",
       "      <th>Year</th>\n",
       "      <th>Updated On</th>\n",
       "      <th>Latitude</th>\n",
       "      <th>Longitude</th>\n",
       "      <th>Location</th>\n",
       "    </tr>\n",
       "  </thead>\n",
       "  <tbody>\n",
       "    <tr>\n",
       "      <th>0</th>\n",
       "      <td>11889339</td>\n",
       "      <td>JC507601</td>\n",
       "      <td>11-12-19 12:15</td>\n",
       "      <td>025XX W 62ND ST</td>\n",
       "      <td>486</td>\n",
       "      <td>BATTERY</td>\n",
       "      <td>DOMESTIC BATTERY SIMPLE</td>\n",
       "      <td>RESIDENCE</td>\n",
       "      <td>False</td>\n",
       "      <td>True</td>\n",
       "      <td>...</td>\n",
       "      <td>16.0</td>\n",
       "      <td>66.0</td>\n",
       "      <td>08B</td>\n",
       "      <td>1160532.0</td>\n",
       "      <td>1863463.0</td>\n",
       "      <td>2019</td>\n",
       "      <td>11/19/2019 03:57:06 PM</td>\n",
       "      <td>41.781037</td>\n",
       "      <td>-87.687004</td>\n",
       "      <td>(41.781036889, -87.687003863)</td>\n",
       "    </tr>\n",
       "    <tr>\n",
       "      <th>1</th>\n",
       "      <td>11893558</td>\n",
       "      <td>JC513193</td>\n",
       "      <td>11-09-19 18:00</td>\n",
       "      <td>011XX E 83RD ST</td>\n",
       "      <td>820</td>\n",
       "      <td>THEFT</td>\n",
       "      <td>$500 AND UNDER</td>\n",
       "      <td>VEHICLE NON-COMMERCIAL</td>\n",
       "      <td>False</td>\n",
       "      <td>False</td>\n",
       "      <td>...</td>\n",
       "      <td>8.0</td>\n",
       "      <td>45.0</td>\n",
       "      <td>6</td>\n",
       "      <td>1185243.0</td>\n",
       "      <td>1850189.0</td>\n",
       "      <td>2019</td>\n",
       "      <td>11/19/2019 03:53:49 PM</td>\n",
       "      <td>41.744066</td>\n",
       "      <td>-87.596826</td>\n",
       "      <td>(41.744066365, -87.596825618)</td>\n",
       "    </tr>\n",
       "    <tr>\n",
       "      <th>2</th>\n",
       "      <td>11889659</td>\n",
       "      <td>JC508257</td>\n",
       "      <td>11-12-19 18:45</td>\n",
       "      <td>003XX E BENTON PL</td>\n",
       "      <td>2820</td>\n",
       "      <td>OTHER OFFENSE</td>\n",
       "      <td>TELEPHONE THREAT</td>\n",
       "      <td>SMALL RETAIL STORE</td>\n",
       "      <td>False</td>\n",
       "      <td>False</td>\n",
       "      <td>...</td>\n",
       "      <td>42.0</td>\n",
       "      <td>32.0</td>\n",
       "      <td>08A</td>\n",
       "      <td>1178860.0</td>\n",
       "      <td>1901675.0</td>\n",
       "      <td>2019</td>\n",
       "      <td>11/19/2019 03:57:06 PM</td>\n",
       "      <td>41.885496</td>\n",
       "      <td>-87.618644</td>\n",
       "      <td>(41.885495793, -87.618644375)</td>\n",
       "    </tr>\n",
       "    <tr>\n",
       "      <th>3</th>\n",
       "      <td>11891583</td>\n",
       "      <td>JC510501</td>\n",
       "      <td>11-04-19 20:09</td>\n",
       "      <td>020XX S MORGAN ST</td>\n",
       "      <td>1122</td>\n",
       "      <td>DECEPTIVE PRACTICE</td>\n",
       "      <td>COUNTERFEIT CHECK</td>\n",
       "      <td>APARTMENT</td>\n",
       "      <td>False</td>\n",
       "      <td>False</td>\n",
       "      <td>...</td>\n",
       "      <td>25.0</td>\n",
       "      <td>31.0</td>\n",
       "      <td>10</td>\n",
       "      <td>1170009.0</td>\n",
       "      <td>1890437.0</td>\n",
       "      <td>2019</td>\n",
       "      <td>11/19/2019 03:53:49 PM</td>\n",
       "      <td>41.854856</td>\n",
       "      <td>-87.651474</td>\n",
       "      <td>(41.854855548, -87.651474466)</td>\n",
       "    </tr>\n",
       "    <tr>\n",
       "      <th>4</th>\n",
       "      <td>11890017</td>\n",
       "      <td>JC508355</td>\n",
       "      <td>11-12-19 21:14</td>\n",
       "      <td>040XX S CALIFORNIA AVE</td>\n",
       "      <td>560</td>\n",
       "      <td>ASSAULT</td>\n",
       "      <td>SIMPLE</td>\n",
       "      <td>OTHER</td>\n",
       "      <td>False</td>\n",
       "      <td>False</td>\n",
       "      <td>...</td>\n",
       "      <td>12.0</td>\n",
       "      <td>58.0</td>\n",
       "      <td>08A</td>\n",
       "      <td>1158367.0</td>\n",
       "      <td>1877548.0</td>\n",
       "      <td>2019</td>\n",
       "      <td>11/19/2019 03:57:06 PM</td>\n",
       "      <td>41.819732</td>\n",
       "      <td>-87.694558</td>\n",
       "      <td>(41.819732387, -87.694557506)</td>\n",
       "    </tr>\n",
       "  </tbody>\n",
       "</table>\n",
       "<p>5 rows × 22 columns</p>\n",
       "</div>"
      ],
      "text/plain": [
       "         ID Case Number            Date                   Block  IUCR  \\\n",
       "0  11889339    JC507601  11-12-19 12:15         025XX W 62ND ST   486   \n",
       "1  11893558    JC513193  11-09-19 18:00         011XX E 83RD ST   820   \n",
       "2  11889659    JC508257  11-12-19 18:45       003XX E BENTON PL  2820   \n",
       "3  11891583    JC510501  11-04-19 20:09       020XX S MORGAN ST  1122   \n",
       "4  11890017    JC508355  11-12-19 21:14  040XX S CALIFORNIA AVE   560   \n",
       "\n",
       "         Primary Type              Description    Location Description  \\\n",
       "0             BATTERY  DOMESTIC BATTERY SIMPLE               RESIDENCE   \n",
       "1               THEFT           $500 AND UNDER  VEHICLE NON-COMMERCIAL   \n",
       "2       OTHER OFFENSE         TELEPHONE THREAT      SMALL RETAIL STORE   \n",
       "3  DECEPTIVE PRACTICE        COUNTERFEIT CHECK               APARTMENT   \n",
       "4             ASSAULT                   SIMPLE                   OTHER   \n",
       "\n",
       "   Arrest  Domestic  ...  Ward  Community Area  FBI Code  X Coordinate  \\\n",
       "0   False      True  ...  16.0            66.0       08B     1160532.0   \n",
       "1   False     False  ...   8.0            45.0         6     1185243.0   \n",
       "2   False     False  ...  42.0            32.0       08A     1178860.0   \n",
       "3   False     False  ...  25.0            31.0        10     1170009.0   \n",
       "4   False     False  ...  12.0            58.0       08A     1158367.0   \n",
       "\n",
       "  Y Coordinate  Year              Updated On   Latitude  Longitude  \\\n",
       "0    1863463.0  2019  11/19/2019 03:57:06 PM  41.781037 -87.687004   \n",
       "1    1850189.0  2019  11/19/2019 03:53:49 PM  41.744066 -87.596826   \n",
       "2    1901675.0  2019  11/19/2019 03:57:06 PM  41.885496 -87.618644   \n",
       "3    1890437.0  2019  11/19/2019 03:53:49 PM  41.854856 -87.651474   \n",
       "4    1877548.0  2019  11/19/2019 03:57:06 PM  41.819732 -87.694558   \n",
       "\n",
       "                        Location  \n",
       "0  (41.781036889, -87.687003863)  \n",
       "1  (41.744066365, -87.596825618)  \n",
       "2  (41.885495793, -87.618644375)  \n",
       "3  (41.854855548, -87.651474466)  \n",
       "4  (41.819732387, -87.694557506)  \n",
       "\n",
       "[5 rows x 22 columns]"
      ]
     },
     "execution_count": 88,
     "metadata": {},
     "output_type": "execute_result"
    }
   ],
   "source": [
    "cdata_19.head()"
   ]
  },
  {
   "cell_type": "code",
   "execution_count": 89,
   "metadata": {
    "colab": {
     "base_uri": "https://localhost:8080/",
     "height": 34
    },
    "colab_type": "code",
    "id": "DLG46NGPQDjL",
    "outputId": "60fe9a8d-9d8f-47af-85ae-f13cd9b65bb4"
   },
   "outputs": [
    {
     "data": {
      "text/plain": [
       "(267639, 22)"
      ]
     },
     "execution_count": 89,
     "metadata": {},
     "output_type": "execute_result"
    }
   ],
   "source": [
    "cdata_18.shape"
   ]
  },
  {
   "cell_type": "code",
   "execution_count": 90,
   "metadata": {
    "colab": {
     "base_uri": "https://localhost:8080/",
     "height": 34
    },
    "colab_type": "code",
    "id": "F53mNq8wQDjO",
    "outputId": "57a524c7-d18e-4ddf-8e6e-7a846c008aa6"
   },
   "outputs": [
    {
     "data": {
      "text/plain": [
       "(224412, 22)"
      ]
     },
     "execution_count": 90,
     "metadata": {},
     "output_type": "execute_result"
    }
   ],
   "source": [
    "cdata_19.shape"
   ]
  },
  {
   "cell_type": "code",
   "execution_count": 91,
   "metadata": {
    "colab": {},
    "colab_type": "code",
    "id": "L2F_N5C8QDjS"
   },
   "outputs": [],
   "source": [
    "#merge=cdata.merge(pdata,how='inner',left_on=['District'],right_on=['District'])\n",
    "#Task 2\n",
    "#merge=pd.merge(cdata,pdata,how='inner', left_on=['District'],right_on=['District'])\n",
    "cdata=pd.concat([cdata_18,cdata_19]).reset_index()"
   ]
  },
  {
   "cell_type": "code",
   "execution_count": 92,
   "metadata": {
    "colab": {
     "base_uri": "https://localhost:8080/",
     "height": 34
    },
    "colab_type": "code",
    "id": "9trtnqbCQDjV",
    "outputId": "f891574f-c0f0-475a-88e8-dd22bf39da2a"
   },
   "outputs": [
    {
     "data": {
      "text/plain": [
       "(492051, 23)"
      ]
     },
     "execution_count": 92,
     "metadata": {},
     "output_type": "execute_result"
    }
   ],
   "source": [
    "cdata.shape"
   ]
  },
  {
   "cell_type": "code",
   "execution_count": 93,
   "metadata": {
    "colab": {
     "base_uri": "https://localhost:8080/",
     "height": 417
    },
    "colab_type": "code",
    "id": "5y5J6sSzQDjY",
    "outputId": "d9349366-9e13-4eae-a173-bcaf4582e33c"
   },
   "outputs": [
    {
     "data": {
      "text/html": [
       "<div>\n",
       "<style scoped>\n",
       "    .dataframe tbody tr th:only-of-type {\n",
       "        vertical-align: middle;\n",
       "    }\n",
       "\n",
       "    .dataframe tbody tr th {\n",
       "        vertical-align: top;\n",
       "    }\n",
       "\n",
       "    .dataframe thead th {\n",
       "        text-align: right;\n",
       "    }\n",
       "</style>\n",
       "<table border=\"1\" class=\"dataframe\">\n",
       "  <thead>\n",
       "    <tr style=\"text-align: right;\">\n",
       "      <th></th>\n",
       "      <th>index</th>\n",
       "      <th>ID</th>\n",
       "      <th>Case Number</th>\n",
       "      <th>Date</th>\n",
       "      <th>Block</th>\n",
       "      <th>IUCR</th>\n",
       "      <th>Primary Type</th>\n",
       "      <th>Description</th>\n",
       "      <th>Location Description</th>\n",
       "      <th>Arrest</th>\n",
       "      <th>...</th>\n",
       "      <th>Ward</th>\n",
       "      <th>Community Area</th>\n",
       "      <th>FBI Code</th>\n",
       "      <th>X Coordinate</th>\n",
       "      <th>Y Coordinate</th>\n",
       "      <th>Year</th>\n",
       "      <th>Updated On</th>\n",
       "      <th>Latitude</th>\n",
       "      <th>Longitude</th>\n",
       "      <th>Location</th>\n",
       "    </tr>\n",
       "  </thead>\n",
       "  <tbody>\n",
       "    <tr>\n",
       "      <th>0</th>\n",
       "      <td>0</td>\n",
       "      <td>11903290</td>\n",
       "      <td>JC508826</td>\n",
       "      <td>01/01/2018 08:00:00 AM</td>\n",
       "      <td>085XX S ESCANABA AVE</td>\n",
       "      <td>1752</td>\n",
       "      <td>OFFENSE INVOLVING CHILDREN</td>\n",
       "      <td>AGG CRIM SEX ABUSE FAM MEMBER</td>\n",
       "      <td>RESIDENCE</td>\n",
       "      <td>False</td>\n",
       "      <td>...</td>\n",
       "      <td>10.0</td>\n",
       "      <td>46.0</td>\n",
       "      <td>17</td>\n",
       "      <td>NaN</td>\n",
       "      <td>NaN</td>\n",
       "      <td>2018</td>\n",
       "      <td>11/26/2019 03:51:26 PM</td>\n",
       "      <td>NaN</td>\n",
       "      <td>NaN</td>\n",
       "      <td>NaN</td>\n",
       "    </tr>\n",
       "    <tr>\n",
       "      <th>1</th>\n",
       "      <td>1</td>\n",
       "      <td>11902580</td>\n",
       "      <td>JC524113</td>\n",
       "      <td>09/01/2018 06:00:00 AM</td>\n",
       "      <td>094XX S MICHIGAN AVE</td>\n",
       "      <td>2825</td>\n",
       "      <td>OTHER OFFENSE</td>\n",
       "      <td>HARASSMENT BY TELEPHONE</td>\n",
       "      <td>RESIDENCE</td>\n",
       "      <td>False</td>\n",
       "      <td>...</td>\n",
       "      <td>9.0</td>\n",
       "      <td>49.0</td>\n",
       "      <td>26</td>\n",
       "      <td>NaN</td>\n",
       "      <td>NaN</td>\n",
       "      <td>2018</td>\n",
       "      <td>11/26/2019 03:51:26 PM</td>\n",
       "      <td>NaN</td>\n",
       "      <td>NaN</td>\n",
       "      <td>NaN</td>\n",
       "    </tr>\n",
       "    <tr>\n",
       "      <th>2</th>\n",
       "      <td>2</td>\n",
       "      <td>11516628</td>\n",
       "      <td>JB528220</td>\n",
       "      <td>11/24/2018 08:45:00 PM</td>\n",
       "      <td>095XX S STONY ISLAND AVE</td>\n",
       "      <td>0261</td>\n",
       "      <td>CRIM SEXUAL ASSAULT</td>\n",
       "      <td>AGGRAVATED: HANDGUN</td>\n",
       "      <td>ALLEY</td>\n",
       "      <td>True</td>\n",
       "      <td>...</td>\n",
       "      <td>7.0</td>\n",
       "      <td>51.0</td>\n",
       "      <td>02</td>\n",
       "      <td>1188521.0</td>\n",
       "      <td>1842119.0</td>\n",
       "      <td>2018</td>\n",
       "      <td>11/26/2019 03:47:51 PM</td>\n",
       "      <td>41.721844</td>\n",
       "      <td>-87.585072</td>\n",
       "      <td>(41.721843846, -87.585071938)</td>\n",
       "    </tr>\n",
       "    <tr>\n",
       "      <th>3</th>\n",
       "      <td>3</td>\n",
       "      <td>11491979</td>\n",
       "      <td>JB495848</td>\n",
       "      <td>08/27/2018 12:00:00 PM</td>\n",
       "      <td>092XX S UNION AVE</td>\n",
       "      <td>1120</td>\n",
       "      <td>DECEPTIVE PRACTICE</td>\n",
       "      <td>FORGERY</td>\n",
       "      <td>RESIDENCE</td>\n",
       "      <td>True</td>\n",
       "      <td>...</td>\n",
       "      <td>21.0</td>\n",
       "      <td>73.0</td>\n",
       "      <td>10</td>\n",
       "      <td>1173264.0</td>\n",
       "      <td>1843551.0</td>\n",
       "      <td>2018</td>\n",
       "      <td>11/26/2019 03:47:51 PM</td>\n",
       "      <td>41.726124</td>\n",
       "      <td>-87.640913</td>\n",
       "      <td>(41.726123768, -87.640913299)</td>\n",
       "    </tr>\n",
       "    <tr>\n",
       "      <th>4</th>\n",
       "      <td>4</td>\n",
       "      <td>11895996</td>\n",
       "      <td>JC516056</td>\n",
       "      <td>04/01/2018 12:00:00 AM</td>\n",
       "      <td>003XX W CHESTNUT ST</td>\n",
       "      <td>0810</td>\n",
       "      <td>THEFT</td>\n",
       "      <td>OVER $500</td>\n",
       "      <td>APARTMENT</td>\n",
       "      <td>False</td>\n",
       "      <td>...</td>\n",
       "      <td>27.0</td>\n",
       "      <td>8.0</td>\n",
       "      <td>06</td>\n",
       "      <td>NaN</td>\n",
       "      <td>NaN</td>\n",
       "      <td>2018</td>\n",
       "      <td>11/25/2019 03:51:39 PM</td>\n",
       "      <td>NaN</td>\n",
       "      <td>NaN</td>\n",
       "      <td>NaN</td>\n",
       "    </tr>\n",
       "  </tbody>\n",
       "</table>\n",
       "<p>5 rows × 23 columns</p>\n",
       "</div>"
      ],
      "text/plain": [
       "   index        ID Case Number                    Date  \\\n",
       "0      0  11903290    JC508826  01/01/2018 08:00:00 AM   \n",
       "1      1  11902580    JC524113  09/01/2018 06:00:00 AM   \n",
       "2      2  11516628    JB528220  11/24/2018 08:45:00 PM   \n",
       "3      3  11491979    JB495848  08/27/2018 12:00:00 PM   \n",
       "4      4  11895996    JC516056  04/01/2018 12:00:00 AM   \n",
       "\n",
       "                      Block  IUCR                Primary Type  \\\n",
       "0      085XX S ESCANABA AVE  1752  OFFENSE INVOLVING CHILDREN   \n",
       "1      094XX S MICHIGAN AVE  2825               OTHER OFFENSE   \n",
       "2  095XX S STONY ISLAND AVE  0261         CRIM SEXUAL ASSAULT   \n",
       "3         092XX S UNION AVE  1120          DECEPTIVE PRACTICE   \n",
       "4       003XX W CHESTNUT ST  0810                       THEFT   \n",
       "\n",
       "                     Description Location Description  Arrest  ...  Ward  \\\n",
       "0  AGG CRIM SEX ABUSE FAM MEMBER            RESIDENCE   False  ...  10.0   \n",
       "1        HARASSMENT BY TELEPHONE            RESIDENCE   False  ...   9.0   \n",
       "2            AGGRAVATED: HANDGUN                ALLEY    True  ...   7.0   \n",
       "3                        FORGERY            RESIDENCE    True  ...  21.0   \n",
       "4                      OVER $500            APARTMENT   False  ...  27.0   \n",
       "\n",
       "   Community Area  FBI Code  X Coordinate  Y Coordinate  Year  \\\n",
       "0            46.0        17           NaN           NaN  2018   \n",
       "1            49.0        26           NaN           NaN  2018   \n",
       "2            51.0        02     1188521.0     1842119.0  2018   \n",
       "3            73.0        10     1173264.0     1843551.0  2018   \n",
       "4             8.0        06           NaN           NaN  2018   \n",
       "\n",
       "               Updated On   Latitude  Longitude                       Location  \n",
       "0  11/26/2019 03:51:26 PM        NaN        NaN                            NaN  \n",
       "1  11/26/2019 03:51:26 PM        NaN        NaN                            NaN  \n",
       "2  11/26/2019 03:47:51 PM  41.721844 -87.585072  (41.721843846, -87.585071938)  \n",
       "3  11/26/2019 03:47:51 PM  41.726124 -87.640913  (41.726123768, -87.640913299)  \n",
       "4  11/25/2019 03:51:39 PM        NaN        NaN                            NaN  \n",
       "\n",
       "[5 rows x 23 columns]"
      ]
     },
     "execution_count": 93,
     "metadata": {},
     "output_type": "execute_result"
    }
   ],
   "source": [
    "cdata.head()"
   ]
  },
  {
   "cell_type": "code",
   "execution_count": 94,
   "metadata": {
    "colab": {
     "base_uri": "https://localhost:8080/",
     "height": 401
    },
    "colab_type": "code",
    "id": "aoKVyApPQDjb",
    "outputId": "f538dd5b-feea-431a-ce06-0cf73513b928"
   },
   "outputs": [
    {
     "data": {
      "text/html": [
       "<div>\n",
       "<style scoped>\n",
       "    .dataframe tbody tr th:only-of-type {\n",
       "        vertical-align: middle;\n",
       "    }\n",
       "\n",
       "    .dataframe tbody tr th {\n",
       "        vertical-align: top;\n",
       "    }\n",
       "\n",
       "    .dataframe thead th {\n",
       "        text-align: right;\n",
       "    }\n",
       "</style>\n",
       "<table border=\"1\" class=\"dataframe\">\n",
       "  <thead>\n",
       "    <tr style=\"text-align: right;\">\n",
       "      <th></th>\n",
       "      <th>DISTRICT</th>\n",
       "      <th>DISTRICT NAME</th>\n",
       "      <th>ADDRESS</th>\n",
       "      <th>CITY</th>\n",
       "      <th>STATE</th>\n",
       "      <th>ZIP</th>\n",
       "      <th>WEBSITE</th>\n",
       "      <th>PHONE</th>\n",
       "      <th>FAX</th>\n",
       "      <th>TTY</th>\n",
       "      <th>X COORDINATE</th>\n",
       "      <th>Y COORDINATE</th>\n",
       "      <th>LATITUDE</th>\n",
       "      <th>LONGITUDE</th>\n",
       "      <th>LOCATION</th>\n",
       "    </tr>\n",
       "  </thead>\n",
       "  <tbody>\n",
       "    <tr>\n",
       "      <th>0</th>\n",
       "      <td>Headquarters</td>\n",
       "      <td>Headquarters</td>\n",
       "      <td>3510 S Michigan Ave</td>\n",
       "      <td>Chicago</td>\n",
       "      <td>IL</td>\n",
       "      <td>60653</td>\n",
       "      <td>http://home.chicagopolice.org</td>\n",
       "      <td>NaN</td>\n",
       "      <td>NaN</td>\n",
       "      <td>NaN</td>\n",
       "      <td>1177731.401</td>\n",
       "      <td>1881697.404</td>\n",
       "      <td>41.830702</td>\n",
       "      <td>-87.623395</td>\n",
       "      <td>(41.8307016873, -87.6233953459)</td>\n",
       "    </tr>\n",
       "    <tr>\n",
       "      <th>1</th>\n",
       "      <td>1</td>\n",
       "      <td>Central</td>\n",
       "      <td>1718 S State St</td>\n",
       "      <td>Chicago</td>\n",
       "      <td>IL</td>\n",
       "      <td>60616</td>\n",
       "      <td>http://home.chicagopolice.org/community/distri...</td>\n",
       "      <td>312-745-4290</td>\n",
       "      <td>312-745-3694</td>\n",
       "      <td>312-745-3693</td>\n",
       "      <td>1176569.052</td>\n",
       "      <td>1891771.704</td>\n",
       "      <td>41.858373</td>\n",
       "      <td>-87.627356</td>\n",
       "      <td>(41.8583725929, -87.627356171)</td>\n",
       "    </tr>\n",
       "    <tr>\n",
       "      <th>2</th>\n",
       "      <td>6</td>\n",
       "      <td>Gresham</td>\n",
       "      <td>7808 S Halsted St</td>\n",
       "      <td>Chicago</td>\n",
       "      <td>IL</td>\n",
       "      <td>60620</td>\n",
       "      <td>http://home.chicagopolice.org/community/distri...</td>\n",
       "      <td>312-745-3617</td>\n",
       "      <td>312-745-3649</td>\n",
       "      <td>312-745-3639</td>\n",
       "      <td>1172283.013</td>\n",
       "      <td>1853022.646</td>\n",
       "      <td>41.752137</td>\n",
       "      <td>-87.644229</td>\n",
       "      <td>(41.7521368378, -87.6442289066)</td>\n",
       "    </tr>\n",
       "    <tr>\n",
       "      <th>3</th>\n",
       "      <td>11</td>\n",
       "      <td>Harrison</td>\n",
       "      <td>3151 W Harrison St</td>\n",
       "      <td>Chicago</td>\n",
       "      <td>IL</td>\n",
       "      <td>60612</td>\n",
       "      <td>http://home.chicagopolice.org/community/distri...</td>\n",
       "      <td>312-746-8386</td>\n",
       "      <td>312-746-4281</td>\n",
       "      <td>312-746-5151</td>\n",
       "      <td>1155244.069</td>\n",
       "      <td>1897148.755</td>\n",
       "      <td>41.873582</td>\n",
       "      <td>-87.705488</td>\n",
       "      <td>(41.8735822883, -87.705488126)</td>\n",
       "    </tr>\n",
       "    <tr>\n",
       "      <th>4</th>\n",
       "      <td>16</td>\n",
       "      <td>Jefferson Park</td>\n",
       "      <td>5151 N Milwaukee Ave</td>\n",
       "      <td>Chicago</td>\n",
       "      <td>IL</td>\n",
       "      <td>60630</td>\n",
       "      <td>http://home.chicagopolice.org/community/distri...</td>\n",
       "      <td>312-742-4480</td>\n",
       "      <td>312-742-4421</td>\n",
       "      <td>312-742-4423</td>\n",
       "      <td>1138480.758</td>\n",
       "      <td>1933660.473</td>\n",
       "      <td>41.974094</td>\n",
       "      <td>-87.766149</td>\n",
       "      <td>(41.9740944511, -87.7661488432)</td>\n",
       "    </tr>\n",
       "  </tbody>\n",
       "</table>\n",
       "</div>"
      ],
      "text/plain": [
       "       DISTRICT   DISTRICT NAME               ADDRESS     CITY STATE    ZIP  \\\n",
       "0  Headquarters    Headquarters   3510 S Michigan Ave  Chicago    IL  60653   \n",
       "1             1         Central       1718 S State St  Chicago    IL  60616   \n",
       "2             6         Gresham     7808 S Halsted St  Chicago    IL  60620   \n",
       "3            11        Harrison    3151 W Harrison St  Chicago    IL  60612   \n",
       "4            16  Jefferson Park  5151 N Milwaukee Ave  Chicago    IL  60630   \n",
       "\n",
       "                                             WEBSITE         PHONE  \\\n",
       "0                      http://home.chicagopolice.org           NaN   \n",
       "1  http://home.chicagopolice.org/community/distri...  312-745-4290   \n",
       "2  http://home.chicagopolice.org/community/distri...  312-745-3617   \n",
       "3  http://home.chicagopolice.org/community/distri...  312-746-8386   \n",
       "4  http://home.chicagopolice.org/community/distri...  312-742-4480   \n",
       "\n",
       "            FAX           TTY  X COORDINATE  Y COORDINATE   LATITUDE  \\\n",
       "0           NaN           NaN   1177731.401   1881697.404  41.830702   \n",
       "1  312-745-3694  312-745-3693   1176569.052   1891771.704  41.858373   \n",
       "2  312-745-3649  312-745-3639   1172283.013   1853022.646  41.752137   \n",
       "3  312-746-4281  312-746-5151   1155244.069   1897148.755  41.873582   \n",
       "4  312-742-4421  312-742-4423   1138480.758   1933660.473  41.974094   \n",
       "\n",
       "   LONGITUDE                         LOCATION  \n",
       "0 -87.623395  (41.8307016873, -87.6233953459)  \n",
       "1 -87.627356   (41.8583725929, -87.627356171)  \n",
       "2 -87.644229  (41.7521368378, -87.6442289066)  \n",
       "3 -87.705488   (41.8735822883, -87.705488126)  \n",
       "4 -87.766149  (41.9740944511, -87.7661488432)  "
      ]
     },
     "execution_count": 94,
     "metadata": {},
     "output_type": "execute_result"
    }
   ],
   "source": [
    "pdata.head()"
   ]
  },
  {
   "cell_type": "code",
   "execution_count": 95,
   "metadata": {
    "colab": {},
    "colab_type": "code",
    "id": "_bWw-T8QQDje"
   },
   "outputs": [],
   "source": [
    "pdata=pdata.drop(columns=['ADDRESS','CITY','STATE','ZIP','WEBSITE','PHONE','FAX','TTY','LOCATION'])"
   ]
  },
  {
   "cell_type": "code",
   "execution_count": 96,
   "metadata": {
    "colab": {
     "base_uri": "https://localhost:8080/",
     "height": 443
    },
    "colab_type": "code",
    "id": "GJqbiC_RQDjh",
    "outputId": "940a19bb-b182-4a3d-bb5e-2163b94cdc1a"
   },
   "outputs": [
    {
     "data": {
      "text/plain": [
       "index                   267639\n",
       "ID                      492051\n",
       "Case Number             492007\n",
       "Date                    233022\n",
       "Block                    30852\n",
       "IUCR                       423\n",
       "Primary Type                32\n",
       "Description                315\n",
       "Location Description       137\n",
       "Arrest                       2\n",
       "Domestic                     2\n",
       "Beat                       274\n",
       "District                    23\n",
       "Ward                        50\n",
       "Community Area              78\n",
       "FBI Code                    32\n",
       "X Coordinate             57981\n",
       "Y Coordinate             88263\n",
       "Year                         2\n",
       "Updated On                1439\n",
       "Latitude                232807\n",
       "Longitude               232764\n",
       "Location                189633\n",
       "dtype: int64"
      ]
     },
     "execution_count": 96,
     "metadata": {},
     "output_type": "execute_result"
    }
   ],
   "source": [
    "cdata.nunique()"
   ]
  },
  {
   "cell_type": "code",
   "execution_count": 97,
   "metadata": {
    "colab": {
     "base_uri": "https://localhost:8080/",
     "height": 197
    },
    "colab_type": "code",
    "id": "XaAIHSC4QDjk",
    "outputId": "51cbd4e3-4c80-4dcd-fb2a-9d99962435cf"
   },
   "outputs": [
    {
     "data": {
      "text/html": [
       "<div>\n",
       "<style scoped>\n",
       "    .dataframe tbody tr th:only-of-type {\n",
       "        vertical-align: middle;\n",
       "    }\n",
       "\n",
       "    .dataframe tbody tr th {\n",
       "        vertical-align: top;\n",
       "    }\n",
       "\n",
       "    .dataframe thead th {\n",
       "        text-align: right;\n",
       "    }\n",
       "</style>\n",
       "<table border=\"1\" class=\"dataframe\">\n",
       "  <thead>\n",
       "    <tr style=\"text-align: right;\">\n",
       "      <th></th>\n",
       "      <th>DISTRICT</th>\n",
       "      <th>DISTRICT NAME</th>\n",
       "      <th>X COORDINATE</th>\n",
       "      <th>Y COORDINATE</th>\n",
       "      <th>LATITUDE</th>\n",
       "      <th>LONGITUDE</th>\n",
       "    </tr>\n",
       "  </thead>\n",
       "  <tbody>\n",
       "    <tr>\n",
       "      <th>0</th>\n",
       "      <td>Headquarters</td>\n",
       "      <td>Headquarters</td>\n",
       "      <td>1177731.401</td>\n",
       "      <td>1881697.404</td>\n",
       "      <td>41.830702</td>\n",
       "      <td>-87.623395</td>\n",
       "    </tr>\n",
       "    <tr>\n",
       "      <th>1</th>\n",
       "      <td>1</td>\n",
       "      <td>Central</td>\n",
       "      <td>1176569.052</td>\n",
       "      <td>1891771.704</td>\n",
       "      <td>41.858373</td>\n",
       "      <td>-87.627356</td>\n",
       "    </tr>\n",
       "    <tr>\n",
       "      <th>2</th>\n",
       "      <td>6</td>\n",
       "      <td>Gresham</td>\n",
       "      <td>1172283.013</td>\n",
       "      <td>1853022.646</td>\n",
       "      <td>41.752137</td>\n",
       "      <td>-87.644229</td>\n",
       "    </tr>\n",
       "    <tr>\n",
       "      <th>3</th>\n",
       "      <td>11</td>\n",
       "      <td>Harrison</td>\n",
       "      <td>1155244.069</td>\n",
       "      <td>1897148.755</td>\n",
       "      <td>41.873582</td>\n",
       "      <td>-87.705488</td>\n",
       "    </tr>\n",
       "    <tr>\n",
       "      <th>4</th>\n",
       "      <td>16</td>\n",
       "      <td>Jefferson Park</td>\n",
       "      <td>1138480.758</td>\n",
       "      <td>1933660.473</td>\n",
       "      <td>41.974094</td>\n",
       "      <td>-87.766149</td>\n",
       "    </tr>\n",
       "  </tbody>\n",
       "</table>\n",
       "</div>"
      ],
      "text/plain": [
       "       DISTRICT   DISTRICT NAME  X COORDINATE  Y COORDINATE   LATITUDE  \\\n",
       "0  Headquarters    Headquarters   1177731.401   1881697.404  41.830702   \n",
       "1             1         Central   1176569.052   1891771.704  41.858373   \n",
       "2             6         Gresham   1172283.013   1853022.646  41.752137   \n",
       "3            11        Harrison   1155244.069   1897148.755  41.873582   \n",
       "4            16  Jefferson Park   1138480.758   1933660.473  41.974094   \n",
       "\n",
       "   LONGITUDE  \n",
       "0 -87.623395  \n",
       "1 -87.627356  \n",
       "2 -87.644229  \n",
       "3 -87.705488  \n",
       "4 -87.766149  "
      ]
     },
     "execution_count": 97,
     "metadata": {},
     "output_type": "execute_result"
    }
   ],
   "source": [
    "pdata.head()"
   ]
  },
  {
   "cell_type": "code",
   "execution_count": 98,
   "metadata": {
    "colab": {},
    "colab_type": "code",
    "id": "sTzVA-2CQDjn"
   },
   "outputs": [],
   "source": [
    "pdata.rename(columns={'DISTRICT':'District','DISTRICT NAME':'p_dname','X COORDINATE':'p_x','Y COORDINATE':'p_y','LATITUDE':'p_latitude','LONGITUDE':'p_longitude'},inplace=True)"
   ]
  },
  {
   "cell_type": "code",
   "execution_count": 99,
   "metadata": {
    "colab": {},
    "colab_type": "code",
    "id": "m02tIRahQDjq"
   },
   "outputs": [],
   "source": [
    "pdata.head()\n",
    "pdata=pdata[pdata.District!='Headquarters']"
   ]
  },
  {
   "cell_type": "code",
   "execution_count": 100,
   "metadata": {
    "colab": {
     "base_uri": "https://localhost:8080/",
     "height": 70
    },
    "colab_type": "code",
    "id": "OTHaD3ibQDjt",
    "outputId": "53f42327-332b-478e-eb98-d6c329d10ca0"
   },
   "outputs": [
    {
     "data": {
      "text/plain": [
       "False    391229\n",
       "True     100822\n",
       "Name: Arrest, dtype: int64"
      ]
     },
     "execution_count": 100,
     "metadata": {},
     "output_type": "execute_result"
    }
   ],
   "source": [
    "#No of arrests and non arrests\n",
    "cdata['Arrest'].value_counts()"
   ]
  },
  {
   "cell_type": "code",
   "execution_count": 101,
   "metadata": {
    "colab": {
     "base_uri": "https://localhost:8080/",
     "height": 603
    },
    "colab_type": "code",
    "id": "GAScPAWjQDjw",
    "outputId": "521256e9-9439-431c-98bb-e81c2ac6ada2"
   },
   "outputs": [
    {
     "data": {
      "text/plain": [
       "THEFT                                118793\n",
       "BATTERY                               93202\n",
       "CRIMINAL DAMAGE                       51276\n",
       "ASSAULT                               38551\n",
       "DECEPTIVE PRACTICE                    34293\n",
       "OTHER OFFENSE                         31796\n",
       "NARCOTICS                             25611\n",
       "BURGLARY                              20010\n",
       "MOTOR VEHICLE THEFT                   17744\n",
       "ROBBERY                               16530\n",
       "CRIMINAL TRESPASS                     12902\n",
       "WEAPONS VIOLATION                     10979\n",
       "OFFENSE INVOLVING CHILDREN             4273\n",
       "CRIM SEXUAL ASSAULT                    3015\n",
       "PUBLIC PEACE VIOLATION                 2754\n",
       "INTERFERENCE WITH PUBLIC OFFICER       2677\n",
       "SEX OFFENSE                            2199\n",
       "PROSTITUTION                           1294\n",
       "HOMICIDE                               1039\n",
       "ARSON                                   692\n",
       "LIQUOR LAW VIOLATION                    479\n",
       "STALKING                                399\n",
       "CONCEALED CARRY LICENSE VIOLATION       347\n",
       "GAMBLING                                338\n",
       "INTIMIDATION                            318\n",
       "KIDNAPPING                              313\n",
       "OBSCENITY                               131\n",
       "NON-CRIMINAL                             39\n",
       "HUMAN TRAFFICKING                        24\n",
       "PUBLIC INDECENCY                         23\n",
       "OTHER NARCOTIC VIOLATION                  7\n",
       "NON-CRIMINAL (SUBJECT SPECIFIED)          3\n",
       "Name: Primary Type, dtype: int64"
      ]
     },
     "execution_count": 101,
     "metadata": {},
     "output_type": "execute_result"
    }
   ],
   "source": [
    "#Count of each type of crime\n",
    "cdata['Primary Type'].value_counts()"
   ]
  },
  {
   "cell_type": "code",
   "execution_count": 102,
   "metadata": {
    "colab": {
     "base_uri": "https://localhost:8080/",
     "height": 443
    },
    "colab_type": "code",
    "id": "fQlZNSY-QDjz",
    "outputId": "a0e53ef4-0c62-4c99-c5d8-13e9cdabe727"
   },
   "outputs": [
    {
     "data": {
      "text/plain": [
       "index                      0\n",
       "ID                         0\n",
       "Case Number                0\n",
       "Date                       0\n",
       "Block                      0\n",
       "IUCR                       0\n",
       "Primary Type               0\n",
       "Description                0\n",
       "Location Description    1748\n",
       "Arrest                     0\n",
       "Domestic                   0\n",
       "Beat                       0\n",
       "District                   2\n",
       "Ward                      15\n",
       "Community Area             5\n",
       "FBI Code                   0\n",
       "X Coordinate            5241\n",
       "Y Coordinate            5241\n",
       "Year                       0\n",
       "Updated On                 0\n",
       "Latitude                5241\n",
       "Longitude               5241\n",
       "Location                5241\n",
       "dtype: int64"
      ]
     },
     "execution_count": 102,
     "metadata": {},
     "output_type": "execute_result"
    }
   ],
   "source": [
    "#Find missing values\n",
    "cdata.isnull().sum()"
   ]
  },
  {
   "cell_type": "code",
   "execution_count": 103,
   "metadata": {
    "colab": {
     "base_uri": "https://localhost:8080/",
     "height": 542
    },
    "colab_type": "code",
    "id": "jqb281HbQDj3",
    "outputId": "dc53e497-6bd0-4d43-a6ab-fcae9e9c8dea"
   },
   "outputs": [
    {
     "data": {
      "text/plain": [
       "<matplotlib.axes._subplots.AxesSubplot at 0x700d5852e8>"
      ]
     },
     "execution_count": 103,
     "metadata": {},
     "output_type": "execute_result"
    },
    {
     "data": {
      "image/png": "[encoded data removed]",
      "text/plain": [
       "<Figure size 720x504 with 1 Axes>"
      ]
     },
     "metadata": {},
     "output_type": "display_data"
    }
   ],
   "source": [
    "plt.figure(figsize=(10,7))\n",
    "sns.heatmap(cdata.isnull(), cbar = False, cmap = 'viridis')"
   ]
  },
  {
   "cell_type": "code",
   "execution_count": 104,
   "metadata": {
    "colab": {
     "base_uri": "https://localhost:8080/",
     "height": 906
    },
    "colab_type": "code",
    "id": "x7M5gHTiQDj6",
    "outputId": "38567dfe-50ed-4d90-f324-6dd4454c7d7c"
   },
   "outputs": [
    {
     "data": {
      "text/plain": [
       "Text(0.5, 1, 'Crime Distribution per District')"
      ]
     },
     "execution_count": 104,
     "metadata": {},
     "output_type": "execute_result"
    },
    {
     "data": {
      "image/png": "[encoded data removed]",
      "text/plain": [
       "<Figure size 919.5x864 with 1 Axes>"
      ]
     },
     "metadata": {},
     "output_type": "display_data"
    }
   ],
   "source": [
    "cdata = cdata.loc[(cdata['X Coordinate']!=0)]\n",
    "sns.lmplot('X Coordinate', \n",
    "           'Y Coordinate',\n",
    "           data=cdata[:],\n",
    "           fit_reg=False, \n",
    "           hue=\"District\", #District\n",
    "           palette='Dark2',\n",
    "           height=12,\n",
    "           ci=2,\n",
    "           scatter_kws={\"marker\": \"D\", \n",
    "                        \"s\": 10})\n",
    "ax = plt.gca()\n",
    "ax.set_title(\"Crime Distribution per District\")"
   ]
  },
  {
   "cell_type": "code",
   "execution_count": 105,
   "metadata": {
    "colab": {},
    "colab_type": "code",
    "id": "ui5fAMrDQDj_"
   },
   "outputs": [],
   "source": [
    "#Dropping rows with null values\n",
    "cdata=cdata[pd.notnull(cdata['Location Description'])]\n",
    "cdata=cdata[pd.notnull(cdata['District'])]\n",
    "cdata=cdata[pd.notnull(cdata['Ward'])]\n",
    "cdata=cdata[pd.notnull(cdata['X Coordinate'])]\n",
    "cdata=cdata[pd.notnull(cdata['Community Area'])]"
   ]
  },
  {
   "cell_type": "code",
   "execution_count": 106,
   "metadata": {
    "colab": {
     "base_uri": "https://localhost:8080/",
     "height": 443
    },
    "colab_type": "code",
    "id": "Oko55ADrQDkE",
    "outputId": "807c188c-f22d-49b7-bad7-60af09fd0dbb"
   },
   "outputs": [
    {
     "data": {
      "text/plain": [
       "index                   0\n",
       "ID                      0\n",
       "Case Number             0\n",
       "Date                    0\n",
       "Block                   0\n",
       "IUCR                    0\n",
       "Primary Type            0\n",
       "Description             0\n",
       "Location Description    0\n",
       "Arrest                  0\n",
       "Domestic                0\n",
       "Beat                    0\n",
       "District                0\n",
       "Ward                    0\n",
       "Community Area          0\n",
       "FBI Code                0\n",
       "X Coordinate            0\n",
       "Y Coordinate            0\n",
       "Year                    0\n",
       "Updated On              0\n",
       "Latitude                0\n",
       "Longitude               0\n",
       "Location                0\n",
       "dtype: int64"
      ]
     },
     "execution_count": 106,
     "metadata": {},
     "output_type": "execute_result"
    }
   ],
   "source": [
    "cdata.isnull().sum()"
   ]
  },
  {
   "cell_type": "code",
   "execution_count": 107,
   "metadata": {
    "colab": {
     "base_uri": "https://localhost:8080/",
     "height": 197
    },
    "colab_type": "code",
    "id": "KDcI_iGuXJPQ",
    "outputId": "e3654550-346d-47f4-f5aa-98caea8cd342"
   },
   "outputs": [
    {
     "data": {
      "text/html": [
       "<div>\n",
       "<style scoped>\n",
       "    .dataframe tbody tr th:only-of-type {\n",
       "        vertical-align: middle;\n",
       "    }\n",
       "\n",
       "    .dataframe tbody tr th {\n",
       "        vertical-align: top;\n",
       "    }\n",
       "\n",
       "    .dataframe thead th {\n",
       "        text-align: right;\n",
       "    }\n",
       "</style>\n",
       "<table border=\"1\" class=\"dataframe\">\n",
       "  <thead>\n",
       "    <tr style=\"text-align: right;\">\n",
       "      <th></th>\n",
       "      <th>Latitude</th>\n",
       "      <th>Longitude</th>\n",
       "    </tr>\n",
       "  </thead>\n",
       "  <tbody>\n",
       "    <tr>\n",
       "      <th>2</th>\n",
       "      <td>41.721844</td>\n",
       "      <td>-87.585072</td>\n",
       "    </tr>\n",
       "    <tr>\n",
       "      <th>3</th>\n",
       "      <td>41.726124</td>\n",
       "      <td>-87.640913</td>\n",
       "    </tr>\n",
       "    <tr>\n",
       "      <th>5</th>\n",
       "      <td>41.770428</td>\n",
       "      <td>-87.628300</td>\n",
       "    </tr>\n",
       "    <tr>\n",
       "      <th>6</th>\n",
       "      <td>41.992509</td>\n",
       "      <td>-87.660344</td>\n",
       "    </tr>\n",
       "    <tr>\n",
       "      <th>9</th>\n",
       "      <td>41.765884</td>\n",
       "      <td>-87.693061</td>\n",
       "    </tr>\n",
       "  </tbody>\n",
       "</table>\n",
       "</div>"
      ],
      "text/plain": [
       "    Latitude  Longitude\n",
       "2  41.721844 -87.585072\n",
       "3  41.726124 -87.640913\n",
       "5  41.770428 -87.628300\n",
       "6  41.992509 -87.660344\n",
       "9  41.765884 -87.693061"
      ]
     },
     "execution_count": 107,
     "metadata": {},
     "output_type": "execute_result"
    }
   ],
   "source": [
    "cdata.iloc[:5,[20,21]]"
   ]
  },
  {
   "cell_type": "code",
   "execution_count": 108,
   "metadata": {
    "colab": {
     "base_uri": "https://localhost:8080/",
     "height": 792
    },
    "colab_type": "code",
    "id": "rFkEyaOUQDkL",
    "outputId": "45a37f6b-7bea-4705-c705-afab6ca3a780"
   },
   "outputs": [
    {
     "name": "stderr",
     "output_type": "stream",
     "text": [
      "C:\\Users\\SNEHAL\\Anaconda3\\lib\\site-packages\\numpy\\lib\\histograms.py:778: RuntimeWarning:\n",
      "\n",
      "Converting input from bool to <class 'numpy.uint8'> for compatibility.\n",
      "\n"
     ]
    },
    {
     "data": {
      "text/html": [
       "\n",
       "        <iframe\n",
       "            width=\"990\"\n",
       "            height=\"700\"\n",
       "            src=\"map3.html\"\n",
       "            frameborder=\"0\"\n",
       "            allowfullscreen\n",
       "        ></iframe>\n",
       "        "
      ],
      "text/plain": [
       "<IPython.lib.display.IFrame at 0x70158f15f8>"
      ]
     },
     "execution_count": 108,
     "metadata": {},
     "output_type": "execute_result"
    }
   ],
   "source": [
    "chicago = [41.85, -87.68]\n",
    "m = folium.Map(location=chicago, zoom_start=9.5,control_scale = False)\n",
    "plugins.Fullscreen(\n",
    "    position='topright',\n",
    "    title='Expand me',\n",
    "    title_cancel='Exit me',\n",
    "    force_separate_button=True).add_to(m)\n",
    "folium.Choropleth(\n",
    "    geo_data='chicago_police_districts.geojson',\n",
    "    name='Choropleth',\n",
    "    data=cdata,\n",
    "    #data=cdata[cdata['Primary Type']=='ASSAULT'].dropna(),\n",
    "    columns=['District', 'Arrest'],\n",
    "    key_on='feature.properties.dist_num',\n",
    "    fill_color='YlOrRd', \n",
    "    fill_opacity=0.4, \n",
    "    line_opacity=0.2,\n",
    "    legend_name='Arrests',\n",
    "    highlight=True\n",
    "    ).add_to(m)\n",
    "m.add_child(plugins.HeatMap(cdata.iloc[:,[20,21]],\n",
    "                            name='Assault',\n",
    "                            radius=5,\n",
    "                            max_zoom=4,\n",
    "                            blur=10\n",
    "                            ))\n",
    "folium.TileLayer('openstreetmap').add_to(m)\n",
    "folium.TileLayer('cartodbpositron').add_to(m)\n",
    "folium.LayerControl().add_to(m)\n",
    "m.save(\"map3.html\") \n",
    "IFrame('map3.html', width=990, height=700)"
   ]
  },
  {
   "cell_type": "code",
   "execution_count": 109,
   "metadata": {
    "colab": {},
    "colab_type": "code",
    "id": "qg5ND3VEQDkO"
   },
   "outputs": [],
   "source": [
    "cdata['District'] = cdata.District.astype(int)\n",
    "pdata['District'] = pdata.District.astype(int)"
   ]
  },
  {
   "cell_type": "code",
   "execution_count": 110,
   "metadata": {
    "colab": {
     "base_uri": "https://localhost:8080/",
     "height": 212
    },
    "colab_type": "code",
    "id": "IIABD9WPQDkY",
    "outputId": "abf1524a-c7ec-40bf-ae6e-a0b09b2640f4"
   },
   "outputs": [
    {
     "name": "stdout",
     "output_type": "stream",
     "text": [
      "<class 'pandas.core.frame.DataFrame'>\n",
      "Int64Index: 22 entries, 1 to 22\n",
      "Data columns (total 6 columns):\n",
      "District       22 non-null int32\n",
      "p_dname        22 non-null object\n",
      "p_x            22 non-null float64\n",
      "p_y            22 non-null float64\n",
      "p_latitude     22 non-null float64\n",
      "p_longitude    22 non-null float64\n",
      "dtypes: float64(4), int32(1), object(1)\n",
      "memory usage: 1.1+ KB\n"
     ]
    }
   ],
   "source": [
    "pdata.info()"
   ]
  },
  {
   "cell_type": "code",
   "execution_count": 111,
   "metadata": {
    "colab": {
     "base_uri": "https://localhost:8080/",
     "height": 514
    },
    "colab_type": "code",
    "id": "4oYkGnifQDkb",
    "outputId": "89c58b0f-7890-46d4-98eb-d4ab8025768b"
   },
   "outputs": [
    {
     "name": "stdout",
     "output_type": "stream",
     "text": [
      "<class 'pandas.core.frame.DataFrame'>\n",
      "Int64Index: 485419 entries, 2 to 492050\n",
      "Data columns (total 23 columns):\n",
      "index                   485419 non-null int64\n",
      "ID                      485419 non-null int64\n",
      "Case Number             485419 non-null object\n",
      "Date                    485419 non-null object\n",
      "Block                   485419 non-null object\n",
      "IUCR                    485419 non-null object\n",
      "Primary Type            485419 non-null object\n",
      "Description             485419 non-null object\n",
      "Location Description    485419 non-null object\n",
      "Arrest                  485419 non-null bool\n",
      "Domestic                485419 non-null bool\n",
      "Beat                    485419 non-null int64\n",
      "District                485419 non-null int32\n",
      "Ward                    485419 non-null float64\n",
      "Community Area          485419 non-null float64\n",
      "FBI Code                485419 non-null object\n",
      "X Coordinate            485419 non-null float64\n",
      "Y Coordinate            485419 non-null float64\n",
      "Year                    485419 non-null int64\n",
      "Updated On              485419 non-null object\n",
      "Latitude                485419 non-null float64\n",
      "Longitude               485419 non-null float64\n",
      "Location                485419 non-null object\n",
      "dtypes: bool(2), float64(6), int32(1), int64(4), object(10)\n",
      "memory usage: 80.6+ MB\n"
     ]
    }
   ],
   "source": [
    "cdata.info()"
   ]
  },
  {
   "cell_type": "code",
   "execution_count": 112,
   "metadata": {
    "colab": {
     "base_uri": "https://localhost:8080/",
     "height": 582
    },
    "colab_type": "code",
    "id": "pKjqiXMHQDke",
    "outputId": "a4cc23f3-a43b-4049-f83b-76ca9c8b427d"
   },
   "outputs": [
    {
     "data": {
      "image/png": "[encoded data removed]",
      "text/plain": [
       "<Figure size 720x720 with 2 Axes>"
      ]
     },
     "metadata": {},
     "output_type": "display_data"
    }
   ],
   "source": [
    "corr = cdata.corr()\n",
    "fig, ax = plt.subplots(figsize=(10,10))  \n",
    "ax = sns.heatmap(\n",
    "    corr, \n",
    "    vmin=-1, vmax=1, center=0,\n",
    "    cmap=sns.diverging_palette(20, 220, n=200),\n",
    "    square=True\n",
    ")\n",
    "ax.set_xticklabels(\n",
    "    ax.get_xticklabels(),\n",
    "    rotation=45,\n",
    "    horizontalalignment='right'\n",
    ");"
   ]
  },
  {
   "cell_type": "code",
   "execution_count": 113,
   "metadata": {
    "colab": {
     "base_uri": "https://localhost:8080/",
     "height": 34
    },
    "colab_type": "code",
    "id": "SLvbTu5oQDkh",
    "outputId": "48589c28-dce1-41ff-b0bc-3a8ffa22dae6"
   },
   "outputs": [
    {
     "data": {
      "text/plain": [
       "(485419, 23)"
      ]
     },
     "execution_count": 113,
     "metadata": {},
     "output_type": "execute_result"
    }
   ],
   "source": [
    "cdata.shape"
   ]
  },
  {
   "cell_type": "code",
   "execution_count": 114,
   "metadata": {
    "colab": {
     "base_uri": "https://localhost:8080/",
     "height": 34
    },
    "colab_type": "code",
    "id": "lJCGyDAWQDkk",
    "outputId": "1a405866-0acb-4e6b-ef53-5eb9b2fb35d2"
   },
   "outputs": [
    {
     "data": {
      "text/plain": [
       "(22, 6)"
      ]
     },
     "execution_count": 114,
     "metadata": {},
     "output_type": "execute_result"
    }
   ],
   "source": [
    "pdata.shape"
   ]
  },
  {
   "cell_type": "code",
   "execution_count": 115,
   "metadata": {
    "colab": {
     "base_uri": "https://localhost:8080/",
     "height": 52
    },
    "colab_type": "code",
    "id": "N54mrkH_QDkn",
    "outputId": "c0ce96fb-84d2-49f5-f7aa-a29de2c0abf0"
   },
   "outputs": [
    {
     "data": {
      "text/plain": [
       "array([ 1,  6, 11, 16, 24,  2,  7, 25, 10, 15,  3, 19, 14,  8,  4, 20, 18,\n",
       "       12,  9, 22,  5, 17], dtype=int64)"
      ]
     },
     "execution_count": 115,
     "metadata": {},
     "output_type": "execute_result"
    }
   ],
   "source": [
    "pdata['District'].unique()\n",
    "#"
   ]
  },
  {
   "cell_type": "code",
   "execution_count": 116,
   "metadata": {
    "colab": {
     "base_uri": "https://localhost:8080/",
     "height": 52
    },
    "colab_type": "code",
    "id": "RqppsNNoQDkp",
    "outputId": "cc3b542f-0f88-4594-d209-88ff912ac687"
   },
   "outputs": [
    {
     "data": {
      "text/plain": [
       "array([ 4, 22,  7, 24,  8,  2, 18, 15,  9, 12,  1, 25,  3, 11, 14, 16, 10,\n",
       "        6, 19, 17, 31,  5, 20], dtype=int64)"
      ]
     },
     "execution_count": 116,
     "metadata": {},
     "output_type": "execute_result"
    }
   ],
   "source": [
    "cdata['District'].unique()"
   ]
  },
  {
   "cell_type": "code",
   "execution_count": 117,
   "metadata": {
    "colab": {
     "base_uri": "https://localhost:8080/",
     "height": 443
    },
    "colab_type": "code",
    "id": "253Eq8AUQDkt",
    "outputId": "a54573d7-3f49-41d1-f942-60eb9d379bd9"
   },
   "outputs": [
    {
     "data": {
      "text/plain": [
       "index                   10\n",
       "ID                      10\n",
       "Case Number             10\n",
       "Date                    10\n",
       "Block                   10\n",
       "IUCR                    10\n",
       "Primary Type            10\n",
       "Description             10\n",
       "Location Description    10\n",
       "Arrest                  10\n",
       "Domestic                10\n",
       "Beat                    10\n",
       "District                10\n",
       "Ward                    10\n",
       "Community Area          10\n",
       "FBI Code                10\n",
       "X Coordinate            10\n",
       "Y Coordinate            10\n",
       "Year                    10\n",
       "Updated On              10\n",
       "Latitude                10\n",
       "Longitude               10\n",
       "Location                10\n",
       "dtype: int64"
      ]
     },
     "execution_count": 117,
     "metadata": {},
     "output_type": "execute_result"
    }
   ],
   "source": [
    "cdata[cdata[\"District\"]==31].count()"
   ]
  },
  {
   "cell_type": "code",
   "execution_count": 118,
   "metadata": {
    "colab": {
     "base_uri": "https://localhost:8080/",
     "height": 734
    },
    "colab_type": "code",
    "id": "Ty4zH2QCQDkx",
    "outputId": "19dcf602-cbd2-43d7-85f2-7909163ef78e"
   },
   "outputs": [
    {
     "data": {
      "text/html": [
       "<div>\n",
       "<style scoped>\n",
       "    .dataframe tbody tr th:only-of-type {\n",
       "        vertical-align: middle;\n",
       "    }\n",
       "\n",
       "    .dataframe tbody tr th {\n",
       "        vertical-align: top;\n",
       "    }\n",
       "\n",
       "    .dataframe thead th {\n",
       "        text-align: right;\n",
       "    }\n",
       "</style>\n",
       "<table border=\"1\" class=\"dataframe\">\n",
       "  <thead>\n",
       "    <tr style=\"text-align: right;\">\n",
       "      <th></th>\n",
       "      <th>index</th>\n",
       "      <th>ID</th>\n",
       "      <th>Case Number</th>\n",
       "      <th>Date</th>\n",
       "      <th>Block</th>\n",
       "      <th>IUCR</th>\n",
       "      <th>Primary Type</th>\n",
       "      <th>Description</th>\n",
       "      <th>Location Description</th>\n",
       "      <th>Arrest</th>\n",
       "      <th>...</th>\n",
       "      <th>Ward</th>\n",
       "      <th>Community Area</th>\n",
       "      <th>FBI Code</th>\n",
       "      <th>X Coordinate</th>\n",
       "      <th>Y Coordinate</th>\n",
       "      <th>Year</th>\n",
       "      <th>Updated On</th>\n",
       "      <th>Latitude</th>\n",
       "      <th>Longitude</th>\n",
       "      <th>Location</th>\n",
       "    </tr>\n",
       "  </thead>\n",
       "  <tbody>\n",
       "    <tr>\n",
       "      <th>177</th>\n",
       "      <td>177</td>\n",
       "      <td>11513541</td>\n",
       "      <td>JB524308</td>\n",
       "      <td>08/01/2018 12:01:00 AM</td>\n",
       "      <td>037XX S HERMITAGE AVE</td>\n",
       "      <td>1754</td>\n",
       "      <td>OFFENSE INVOLVING CHILDREN</td>\n",
       "      <td>AGG SEX ASSLT OF CHILD FAM MBR</td>\n",
       "      <td>RESIDENCE</td>\n",
       "      <td>False</td>\n",
       "      <td>...</td>\n",
       "      <td>12.0</td>\n",
       "      <td>59.0</td>\n",
       "      <td>02</td>\n",
       "      <td>1124178.0</td>\n",
       "      <td>1931354.0</td>\n",
       "      <td>2018</td>\n",
       "      <td>10/23/2019 04:17:05 PM</td>\n",
       "      <td>41.968013</td>\n",
       "      <td>-87.818796</td>\n",
       "      <td>(41.968013038, -87.818796103)</td>\n",
       "    </tr>\n",
       "    <tr>\n",
       "      <th>281</th>\n",
       "      <td>281</td>\n",
       "      <td>11498874</td>\n",
       "      <td>JB504419</td>\n",
       "      <td>10/27/2018 08:10:00 PM</td>\n",
       "      <td>008XX E 89TH ST</td>\n",
       "      <td>1544</td>\n",
       "      <td>SEX OFFENSE</td>\n",
       "      <td>SEXUAL EXPLOITATION OF A CHILD</td>\n",
       "      <td>RESIDENCE</td>\n",
       "      <td>False</td>\n",
       "      <td>...</td>\n",
       "      <td>8.0</td>\n",
       "      <td>44.0</td>\n",
       "      <td>17</td>\n",
       "      <td>1124178.0</td>\n",
       "      <td>1931354.0</td>\n",
       "      <td>2018</td>\n",
       "      <td>10/04/2019 04:08:55 PM</td>\n",
       "      <td>41.968013</td>\n",
       "      <td>-87.818796</td>\n",
       "      <td>(41.968013038, -87.818796103)</td>\n",
       "    </tr>\n",
       "    <tr>\n",
       "      <th>306</th>\n",
       "      <td>306</td>\n",
       "      <td>11315204</td>\n",
       "      <td>JB256739</td>\n",
       "      <td>01/01/2018 12:01:00 AM</td>\n",
       "      <td>013XX N BELL AVE</td>\n",
       "      <td>1544</td>\n",
       "      <td>SEX OFFENSE</td>\n",
       "      <td>SEXUAL EXPLOITATION OF A CHILD</td>\n",
       "      <td>APARTMENT</td>\n",
       "      <td>False</td>\n",
       "      <td>...</td>\n",
       "      <td>1.0</td>\n",
       "      <td>24.0</td>\n",
       "      <td>17</td>\n",
       "      <td>1124178.0</td>\n",
       "      <td>1931354.0</td>\n",
       "      <td>2018</td>\n",
       "      <td>10/03/2019 04:17:36 PM</td>\n",
       "      <td>41.968013</td>\n",
       "      <td>-87.818796</td>\n",
       "      <td>(41.968013038, -87.818796103)</td>\n",
       "    </tr>\n",
       "    <tr>\n",
       "      <th>307</th>\n",
       "      <td>307</td>\n",
       "      <td>11706302</td>\n",
       "      <td>JC285535</td>\n",
       "      <td>03/07/2018 12:00:00 AM</td>\n",
       "      <td>072XX S INGLESIDE AVE</td>\n",
       "      <td>1565</td>\n",
       "      <td>SEX OFFENSE</td>\n",
       "      <td>INDECENT SOLICITATION/CHILD</td>\n",
       "      <td>OTHER</td>\n",
       "      <td>True</td>\n",
       "      <td>...</td>\n",
       "      <td>5.0</td>\n",
       "      <td>69.0</td>\n",
       "      <td>17</td>\n",
       "      <td>1124178.0</td>\n",
       "      <td>1931354.0</td>\n",
       "      <td>2018</td>\n",
       "      <td>10/03/2019 04:08:47 PM</td>\n",
       "      <td>41.968013</td>\n",
       "      <td>-87.818796</td>\n",
       "      <td>(41.968013038, -87.818796103)</td>\n",
       "    </tr>\n",
       "    <tr>\n",
       "      <th>108022</th>\n",
       "      <td>108022</td>\n",
       "      <td>11336318</td>\n",
       "      <td>JB291739</td>\n",
       "      <td>06/03/2018 09:00:00 PM</td>\n",
       "      <td>026XX N LAKE SHORE DR NB</td>\n",
       "      <td>041A</td>\n",
       "      <td>BATTERY</td>\n",
       "      <td>AGGRAVATED: HANDGUN</td>\n",
       "      <td>STREET</td>\n",
       "      <td>False</td>\n",
       "      <td>...</td>\n",
       "      <td>43.0</td>\n",
       "      <td>7.0</td>\n",
       "      <td>04B</td>\n",
       "      <td>1175105.0</td>\n",
       "      <td>1918030.0</td>\n",
       "      <td>2018</td>\n",
       "      <td>06/10/2018 03:50:33 PM</td>\n",
       "      <td>41.930460</td>\n",
       "      <td>-87.631942</td>\n",
       "      <td>(41.930459662, -87.631942197)</td>\n",
       "    </tr>\n",
       "    <tr>\n",
       "      <th>114728</th>\n",
       "      <td>114728</td>\n",
       "      <td>11345502</td>\n",
       "      <td>JB303991</td>\n",
       "      <td>06/08/2018 06:00:00 PM</td>\n",
       "      <td>052XX N WESLEY TER</td>\n",
       "      <td>0910</td>\n",
       "      <td>MOTOR VEHICLE THEFT</td>\n",
       "      <td>AUTOMOBILE</td>\n",
       "      <td>PARKING LOT/GARAGE(NON.RESID.)</td>\n",
       "      <td>False</td>\n",
       "      <td>...</td>\n",
       "      <td>41.0</td>\n",
       "      <td>76.0</td>\n",
       "      <td>07</td>\n",
       "      <td>1111853.0</td>\n",
       "      <td>1933314.0</td>\n",
       "      <td>2018</td>\n",
       "      <td>06/15/2018 04:08:10 PM</td>\n",
       "      <td>41.973586</td>\n",
       "      <td>-87.864076</td>\n",
       "      <td>(41.973585701, -87.864076049)</td>\n",
       "    </tr>\n",
       "    <tr>\n",
       "      <th>176090</th>\n",
       "      <td>176090</td>\n",
       "      <td>11428268</td>\n",
       "      <td>JB410717</td>\n",
       "      <td>08/23/2018 09:00:00 AM</td>\n",
       "      <td>115XX W TOUHY AVE</td>\n",
       "      <td>1130</td>\n",
       "      <td>DECEPTIVE PRACTICE</td>\n",
       "      <td>FRAUD OR CONFIDENCE GAME</td>\n",
       "      <td>BANK</td>\n",
       "      <td>False</td>\n",
       "      <td>...</td>\n",
       "      <td>41.0</td>\n",
       "      <td>76.0</td>\n",
       "      <td>11</td>\n",
       "      <td>1100260.0</td>\n",
       "      <td>1946117.0</td>\n",
       "      <td>2018</td>\n",
       "      <td>08/30/2018 04:04:47 PM</td>\n",
       "      <td>42.008885</td>\n",
       "      <td>-87.906473</td>\n",
       "      <td>(42.008885217, -87.906473187)</td>\n",
       "    </tr>\n",
       "    <tr>\n",
       "      <th>205229</th>\n",
       "      <td>205229</td>\n",
       "      <td>11467984</td>\n",
       "      <td>JB464102</td>\n",
       "      <td>06/06/2018 11:24:00 AM</td>\n",
       "      <td>003XX S WHIPPLE ST</td>\n",
       "      <td>0266</td>\n",
       "      <td>CRIM SEXUAL ASSAULT</td>\n",
       "      <td>PREDATORY</td>\n",
       "      <td>RESIDENCE</td>\n",
       "      <td>False</td>\n",
       "      <td>...</td>\n",
       "      <td>28.0</td>\n",
       "      <td>27.0</td>\n",
       "      <td>02</td>\n",
       "      <td>1124178.0</td>\n",
       "      <td>1931354.0</td>\n",
       "      <td>2018</td>\n",
       "      <td>05/02/2019 04:24:21 PM</td>\n",
       "      <td>41.968013</td>\n",
       "      <td>-87.818796</td>\n",
       "      <td>(41.968013038, -87.818796103)</td>\n",
       "    </tr>\n",
       "    <tr>\n",
       "      <th>257204</th>\n",
       "      <td>257204</td>\n",
       "      <td>11539710</td>\n",
       "      <td>JB558892</td>\n",
       "      <td>12/16/2018 07:00:00 PM</td>\n",
       "      <td>026XX S DRAKE AVE</td>\n",
       "      <td>1754</td>\n",
       "      <td>OFFENSE INVOLVING CHILDREN</td>\n",
       "      <td>AGG SEX ASSLT OF CHILD FAM MBR</td>\n",
       "      <td>RESIDENCE</td>\n",
       "      <td>False</td>\n",
       "      <td>...</td>\n",
       "      <td>22.0</td>\n",
       "      <td>30.0</td>\n",
       "      <td>02</td>\n",
       "      <td>1124178.0</td>\n",
       "      <td>1931354.0</td>\n",
       "      <td>2018</td>\n",
       "      <td>03/27/2019 04:10:11 PM</td>\n",
       "      <td>41.968013</td>\n",
       "      <td>-87.818796</td>\n",
       "      <td>(41.968013038, -87.818796103)</td>\n",
       "    </tr>\n",
       "    <tr>\n",
       "      <th>304332</th>\n",
       "      <td>36693</td>\n",
       "      <td>11842446</td>\n",
       "      <td>JC450320</td>\n",
       "      <td>09-10-19 9:00</td>\n",
       "      <td>068XX N OLMSTED AVE</td>\n",
       "      <td>890</td>\n",
       "      <td>THEFT</td>\n",
       "      <td>FROM BUILDING</td>\n",
       "      <td>APARTMENT</td>\n",
       "      <td>False</td>\n",
       "      <td>...</td>\n",
       "      <td>41.0</td>\n",
       "      <td>9.0</td>\n",
       "      <td>6</td>\n",
       "      <td>1123387.0</td>\n",
       "      <td>1944678.0</td>\n",
       "      <td>2019</td>\n",
       "      <td>09/29/2019 03:52:07 PM</td>\n",
       "      <td>42.004588</td>\n",
       "      <td>-87.821412</td>\n",
       "      <td>(42.004588494, -87.82141179)</td>\n",
       "    </tr>\n",
       "  </tbody>\n",
       "</table>\n",
       "<p>10 rows × 23 columns</p>\n",
       "</div>"
      ],
      "text/plain": [
       "         index        ID Case Number                    Date  \\\n",
       "177        177  11513541    JB524308  08/01/2018 12:01:00 AM   \n",
       "281        281  11498874    JB504419  10/27/2018 08:10:00 PM   \n",
       "306        306  11315204    JB256739  01/01/2018 12:01:00 AM   \n",
       "307        307  11706302    JC285535  03/07/2018 12:00:00 AM   \n",
       "108022  108022  11336318    JB291739  06/03/2018 09:00:00 PM   \n",
       "114728  114728  11345502    JB303991  06/08/2018 06:00:00 PM   \n",
       "176090  176090  11428268    JB410717  08/23/2018 09:00:00 AM   \n",
       "205229  205229  11467984    JB464102  06/06/2018 11:24:00 AM   \n",
       "257204  257204  11539710    JB558892  12/16/2018 07:00:00 PM   \n",
       "304332   36693  11842446    JC450320           09-10-19 9:00   \n",
       "\n",
       "                           Block  IUCR                Primary Type  \\\n",
       "177        037XX S HERMITAGE AVE  1754  OFFENSE INVOLVING CHILDREN   \n",
       "281              008XX E 89TH ST  1544                 SEX OFFENSE   \n",
       "306             013XX N BELL AVE  1544                 SEX OFFENSE   \n",
       "307        072XX S INGLESIDE AVE  1565                 SEX OFFENSE   \n",
       "108022  026XX N LAKE SHORE DR NB  041A                     BATTERY   \n",
       "114728        052XX N WESLEY TER  0910         MOTOR VEHICLE THEFT   \n",
       "176090         115XX W TOUHY AVE  1130          DECEPTIVE PRACTICE   \n",
       "205229        003XX S WHIPPLE ST  0266         CRIM SEXUAL ASSAULT   \n",
       "257204         026XX S DRAKE AVE  1754  OFFENSE INVOLVING CHILDREN   \n",
       "304332       068XX N OLMSTED AVE   890                       THEFT   \n",
       "\n",
       "                           Description            Location Description  \\\n",
       "177     AGG SEX ASSLT OF CHILD FAM MBR                       RESIDENCE   \n",
       "281     SEXUAL EXPLOITATION OF A CHILD                       RESIDENCE   \n",
       "306     SEXUAL EXPLOITATION OF A CHILD                       APARTMENT   \n",
       "307        INDECENT SOLICITATION/CHILD                           OTHER   \n",
       "108022             AGGRAVATED: HANDGUN                          STREET   \n",
       "114728                      AUTOMOBILE  PARKING LOT/GARAGE(NON.RESID.)   \n",
       "176090        FRAUD OR CONFIDENCE GAME                            BANK   \n",
       "205229                       PREDATORY                       RESIDENCE   \n",
       "257204  AGG SEX ASSLT OF CHILD FAM MBR                       RESIDENCE   \n",
       "304332                   FROM BUILDING                       APARTMENT   \n",
       "\n",
       "        Arrest  ...  Ward  Community Area  FBI Code  X Coordinate  \\\n",
       "177      False  ...  12.0            59.0        02     1124178.0   \n",
       "281      False  ...   8.0            44.0        17     1124178.0   \n",
       "306      False  ...   1.0            24.0        17     1124178.0   \n",
       "307       True  ...   5.0            69.0        17     1124178.0   \n",
       "108022   False  ...  43.0             7.0       04B     1175105.0   \n",
       "114728   False  ...  41.0            76.0        07     1111853.0   \n",
       "176090   False  ...  41.0            76.0        11     1100260.0   \n",
       "205229   False  ...  28.0            27.0        02     1124178.0   \n",
       "257204   False  ...  22.0            30.0        02     1124178.0   \n",
       "304332   False  ...  41.0             9.0         6     1123387.0   \n",
       "\n",
       "        Y Coordinate  Year              Updated On   Latitude  Longitude  \\\n",
       "177        1931354.0  2018  10/23/2019 04:17:05 PM  41.968013 -87.818796   \n",
       "281        1931354.0  2018  10/04/2019 04:08:55 PM  41.968013 -87.818796   \n",
       "306        1931354.0  2018  10/03/2019 04:17:36 PM  41.968013 -87.818796   \n",
       "307        1931354.0  2018  10/03/2019 04:08:47 PM  41.968013 -87.818796   \n",
       "108022     1918030.0  2018  06/10/2018 03:50:33 PM  41.930460 -87.631942   \n",
       "114728     1933314.0  2018  06/15/2018 04:08:10 PM  41.973586 -87.864076   \n",
       "176090     1946117.0  2018  08/30/2018 04:04:47 PM  42.008885 -87.906473   \n",
       "205229     1931354.0  2018  05/02/2019 04:24:21 PM  41.968013 -87.818796   \n",
       "257204     1931354.0  2018  03/27/2019 04:10:11 PM  41.968013 -87.818796   \n",
       "304332     1944678.0  2019  09/29/2019 03:52:07 PM  42.004588 -87.821412   \n",
       "\n",
       "                             Location  \n",
       "177     (41.968013038, -87.818796103)  \n",
       "281     (41.968013038, -87.818796103)  \n",
       "306     (41.968013038, -87.818796103)  \n",
       "307     (41.968013038, -87.818796103)  \n",
       "108022  (41.930459662, -87.631942197)  \n",
       "114728  (41.973585701, -87.864076049)  \n",
       "176090  (42.008885217, -87.906473187)  \n",
       "205229  (41.968013038, -87.818796103)  \n",
       "257204  (41.968013038, -87.818796103)  \n",
       "304332   (42.004588494, -87.82141179)  \n",
       "\n",
       "[10 rows x 23 columns]"
      ]
     },
     "execution_count": 118,
     "metadata": {},
     "output_type": "execute_result"
    }
   ],
   "source": [
    "cdata.loc[cdata['District']==31]"
   ]
  },
  {
   "cell_type": "code",
   "execution_count": 119,
   "metadata": {
    "colab": {},
    "colab_type": "code",
    "id": "aKKnKvrvQDk1"
   },
   "outputs": [],
   "source": [
    "cdata=cdata[cdata.District!=31]"
   ]
  },
  {
   "cell_type": "code",
   "execution_count": 120,
   "metadata": {
    "colab": {
     "base_uri": "https://localhost:8080/",
     "height": 84
    },
    "colab_type": "code",
    "id": "t0K597-fQDk3",
    "outputId": "a4a7fff9-8fe8-426f-9ffb-fa10fa616371"
   },
   "outputs": [
    {
     "data": {
      "text/html": [
       "<div>\n",
       "<style scoped>\n",
       "    .dataframe tbody tr th:only-of-type {\n",
       "        vertical-align: middle;\n",
       "    }\n",
       "\n",
       "    .dataframe tbody tr th {\n",
       "        vertical-align: top;\n",
       "    }\n",
       "\n",
       "    .dataframe thead th {\n",
       "        text-align: right;\n",
       "    }\n",
       "</style>\n",
       "<table border=\"1\" class=\"dataframe\">\n",
       "  <thead>\n",
       "    <tr style=\"text-align: right;\">\n",
       "      <th></th>\n",
       "      <th>index</th>\n",
       "      <th>ID</th>\n",
       "      <th>Case Number</th>\n",
       "      <th>Date</th>\n",
       "      <th>Block</th>\n",
       "      <th>IUCR</th>\n",
       "      <th>Primary Type</th>\n",
       "      <th>Description</th>\n",
       "      <th>Location Description</th>\n",
       "      <th>Arrest</th>\n",
       "      <th>...</th>\n",
       "      <th>Ward</th>\n",
       "      <th>Community Area</th>\n",
       "      <th>FBI Code</th>\n",
       "      <th>X Coordinate</th>\n",
       "      <th>Y Coordinate</th>\n",
       "      <th>Year</th>\n",
       "      <th>Updated On</th>\n",
       "      <th>Latitude</th>\n",
       "      <th>Longitude</th>\n",
       "      <th>Location</th>\n",
       "    </tr>\n",
       "  </thead>\n",
       "  <tbody>\n",
       "  </tbody>\n",
       "</table>\n",
       "<p>0 rows × 23 columns</p>\n",
       "</div>"
      ],
      "text/plain": [
       "Empty DataFrame\n",
       "Columns: [index, ID, Case Number, Date, Block, IUCR, Primary Type, Description, Location Description, Arrest, Domestic, Beat, District, Ward, Community Area, FBI Code, X Coordinate, Y Coordinate, Year, Updated On, Latitude, Longitude, Location]\n",
       "Index: []\n",
       "\n",
       "[0 rows x 23 columns]"
      ]
     },
     "execution_count": 120,
     "metadata": {},
     "output_type": "execute_result"
    }
   ],
   "source": [
    "cdata.loc[cdata['District']==31]"
   ]
  },
  {
   "cell_type": "code",
   "execution_count": 121,
   "metadata": {
    "colab": {
     "base_uri": "https://localhost:8080/",
     "height": 197
    },
    "colab_type": "code",
    "id": "ekjpjrl9QDk7",
    "outputId": "a59c9576-2c15-4320-86a6-0afe95d50300"
   },
   "outputs": [
    {
     "data": {
      "text/html": [
       "<div>\n",
       "<style scoped>\n",
       "    .dataframe tbody tr th:only-of-type {\n",
       "        vertical-align: middle;\n",
       "    }\n",
       "\n",
       "    .dataframe tbody tr th {\n",
       "        vertical-align: top;\n",
       "    }\n",
       "\n",
       "    .dataframe thead th {\n",
       "        text-align: right;\n",
       "    }\n",
       "</style>\n",
       "<table border=\"1\" class=\"dataframe\">\n",
       "  <thead>\n",
       "    <tr style=\"text-align: right;\">\n",
       "      <th></th>\n",
       "      <th>Location Description</th>\n",
       "      <th>Arrest</th>\n",
       "      <th>Domestic</th>\n",
       "      <th>Beat</th>\n",
       "      <th>District</th>\n",
       "      <th>Ward</th>\n",
       "    </tr>\n",
       "  </thead>\n",
       "  <tbody>\n",
       "    <tr>\n",
       "      <th>2</th>\n",
       "      <td>ALLEY</td>\n",
       "      <td>True</td>\n",
       "      <td>False</td>\n",
       "      <td>431</td>\n",
       "      <td>4</td>\n",
       "      <td>7.0</td>\n",
       "    </tr>\n",
       "    <tr>\n",
       "      <th>3</th>\n",
       "      <td>RESIDENCE</td>\n",
       "      <td>True</td>\n",
       "      <td>False</td>\n",
       "      <td>2223</td>\n",
       "      <td>22</td>\n",
       "      <td>21.0</td>\n",
       "    </tr>\n",
       "    <tr>\n",
       "      <th>5</th>\n",
       "      <td>VEHICLE NON-COMMERCIAL</td>\n",
       "      <td>True</td>\n",
       "      <td>False</td>\n",
       "      <td>722</td>\n",
       "      <td>7</td>\n",
       "      <td>6.0</td>\n",
       "    </tr>\n",
       "    <tr>\n",
       "      <th>6</th>\n",
       "      <td>COMMERCIAL / BUSINESS OFFICE</td>\n",
       "      <td>True</td>\n",
       "      <td>False</td>\n",
       "      <td>2433</td>\n",
       "      <td>24</td>\n",
       "      <td>48.0</td>\n",
       "    </tr>\n",
       "    <tr>\n",
       "      <th>9</th>\n",
       "      <td>APARTMENT</td>\n",
       "      <td>False</td>\n",
       "      <td>True</td>\n",
       "      <td>831</td>\n",
       "      <td>8</td>\n",
       "      <td>17.0</td>\n",
       "    </tr>\n",
       "  </tbody>\n",
       "</table>\n",
       "</div>"
      ],
      "text/plain": [
       "           Location Description  Arrest  Domestic  Beat  District  Ward\n",
       "2                         ALLEY    True     False   431         4   7.0\n",
       "3                     RESIDENCE    True     False  2223        22  21.0\n",
       "5        VEHICLE NON-COMMERCIAL    True     False   722         7   6.0\n",
       "6  COMMERCIAL / BUSINESS OFFICE    True     False  2433        24  48.0\n",
       "9                     APARTMENT   False      True   831         8  17.0"
      ]
     },
     "execution_count": 121,
     "metadata": {},
     "output_type": "execute_result"
    }
   ],
   "source": [
    "cdata.iloc[0:5,8:14]"
   ]
  },
  {
   "cell_type": "code",
   "execution_count": 122,
   "metadata": {
    "colab": {},
    "colab_type": "code",
    "id": "bYxTL5KDQDk9"
   },
   "outputs": [],
   "source": [
    "pdata.reset_index(drop=True,inplace=True)"
   ]
  },
  {
   "cell_type": "code",
   "execution_count": 123,
   "metadata": {
    "colab": {
     "base_uri": "https://localhost:8080/",
     "height": 197
    },
    "colab_type": "code",
    "id": "hpdDBDEQQDk_",
    "outputId": "03cf81a8-3a66-498c-e774-25a53d4a277f"
   },
   "outputs": [
    {
     "data": {
      "text/html": [
       "<div>\n",
       "<style scoped>\n",
       "    .dataframe tbody tr th:only-of-type {\n",
       "        vertical-align: middle;\n",
       "    }\n",
       "\n",
       "    .dataframe tbody tr th {\n",
       "        vertical-align: top;\n",
       "    }\n",
       "\n",
       "    .dataframe thead th {\n",
       "        text-align: right;\n",
       "    }\n",
       "</style>\n",
       "<table border=\"1\" class=\"dataframe\">\n",
       "  <thead>\n",
       "    <tr style=\"text-align: right;\">\n",
       "      <th></th>\n",
       "      <th>District</th>\n",
       "      <th>p_dname</th>\n",
       "      <th>p_x</th>\n",
       "      <th>p_y</th>\n",
       "      <th>p_latitude</th>\n",
       "      <th>p_longitude</th>\n",
       "    </tr>\n",
       "  </thead>\n",
       "  <tbody>\n",
       "    <tr>\n",
       "      <th>0</th>\n",
       "      <td>1</td>\n",
       "      <td>Central</td>\n",
       "      <td>1176569.052</td>\n",
       "      <td>1891771.704</td>\n",
       "      <td>41.858373</td>\n",
       "      <td>-87.627356</td>\n",
       "    </tr>\n",
       "    <tr>\n",
       "      <th>1</th>\n",
       "      <td>6</td>\n",
       "      <td>Gresham</td>\n",
       "      <td>1172283.013</td>\n",
       "      <td>1853022.646</td>\n",
       "      <td>41.752137</td>\n",
       "      <td>-87.644229</td>\n",
       "    </tr>\n",
       "    <tr>\n",
       "      <th>2</th>\n",
       "      <td>11</td>\n",
       "      <td>Harrison</td>\n",
       "      <td>1155244.069</td>\n",
       "      <td>1897148.755</td>\n",
       "      <td>41.873582</td>\n",
       "      <td>-87.705488</td>\n",
       "    </tr>\n",
       "    <tr>\n",
       "      <th>3</th>\n",
       "      <td>16</td>\n",
       "      <td>Jefferson Park</td>\n",
       "      <td>1138480.758</td>\n",
       "      <td>1933660.473</td>\n",
       "      <td>41.974094</td>\n",
       "      <td>-87.766149</td>\n",
       "    </tr>\n",
       "    <tr>\n",
       "      <th>4</th>\n",
       "      <td>24</td>\n",
       "      <td>Rogers Park</td>\n",
       "      <td>1164193.588</td>\n",
       "      <td>1943199.401</td>\n",
       "      <td>41.999763</td>\n",
       "      <td>-87.671324</td>\n",
       "    </tr>\n",
       "  </tbody>\n",
       "</table>\n",
       "</div>"
      ],
      "text/plain": [
       "   District         p_dname          p_x          p_y  p_latitude  p_longitude\n",
       "0         1         Central  1176569.052  1891771.704   41.858373   -87.627356\n",
       "1         6         Gresham  1172283.013  1853022.646   41.752137   -87.644229\n",
       "2        11        Harrison  1155244.069  1897148.755   41.873582   -87.705488\n",
       "3        16  Jefferson Park  1138480.758  1933660.473   41.974094   -87.766149\n",
       "4        24     Rogers Park  1164193.588  1943199.401   41.999763   -87.671324"
      ]
     },
     "execution_count": 123,
     "metadata": {},
     "output_type": "execute_result"
    }
   ],
   "source": [
    "pdata.head()"
   ]
  },
  {
   "cell_type": "code",
   "execution_count": 124,
   "metadata": {
    "colab": {},
    "colab_type": "code",
    "id": "TvMLeKanQDlG"
   },
   "outputs": [],
   "source": [
    "#merge=cdata.merge(pdata,how='inner',left_on=['District'],right_on=['District'])\n",
    "#Task 2\n",
    "#merge=pd.merge(cdata,pdata,how='inner', left_on=['District'],right_on=['District'])\n",
    "merge=pd.concat([cdata.set_index('District'),pdata.set_index('District')], axis=1, join='inner').reset_index()"
   ]
  },
  {
   "cell_type": "code",
   "execution_count": 125,
   "metadata": {
    "colab": {
     "base_uri": "https://localhost:8080/",
     "height": 417
    },
    "colab_type": "code",
    "id": "c4N6t1tDQDlL",
    "outputId": "e629ee63-2c85-40a3-884c-58af0b4b9a7c"
   },
   "outputs": [
    {
     "data": {
      "text/html": [
       "<div>\n",
       "<style scoped>\n",
       "    .dataframe tbody tr th:only-of-type {\n",
       "        vertical-align: middle;\n",
       "    }\n",
       "\n",
       "    .dataframe tbody tr th {\n",
       "        vertical-align: top;\n",
       "    }\n",
       "\n",
       "    .dataframe thead th {\n",
       "        text-align: right;\n",
       "    }\n",
       "</style>\n",
       "<table border=\"1\" class=\"dataframe\">\n",
       "  <thead>\n",
       "    <tr style=\"text-align: right;\">\n",
       "      <th></th>\n",
       "      <th>District</th>\n",
       "      <th>index</th>\n",
       "      <th>ID</th>\n",
       "      <th>Case Number</th>\n",
       "      <th>Date</th>\n",
       "      <th>Block</th>\n",
       "      <th>IUCR</th>\n",
       "      <th>Primary Type</th>\n",
       "      <th>Description</th>\n",
       "      <th>Location Description</th>\n",
       "      <th>...</th>\n",
       "      <th>Year</th>\n",
       "      <th>Updated On</th>\n",
       "      <th>Latitude</th>\n",
       "      <th>Longitude</th>\n",
       "      <th>Location</th>\n",
       "      <th>p_dname</th>\n",
       "      <th>p_x</th>\n",
       "      <th>p_y</th>\n",
       "      <th>p_latitude</th>\n",
       "      <th>p_longitude</th>\n",
       "    </tr>\n",
       "  </thead>\n",
       "  <tbody>\n",
       "    <tr>\n",
       "      <th>0</th>\n",
       "      <td>4</td>\n",
       "      <td>2</td>\n",
       "      <td>11516628</td>\n",
       "      <td>JB528220</td>\n",
       "      <td>11/24/2018 08:45:00 PM</td>\n",
       "      <td>095XX S STONY ISLAND AVE</td>\n",
       "      <td>0261</td>\n",
       "      <td>CRIM SEXUAL ASSAULT</td>\n",
       "      <td>AGGRAVATED: HANDGUN</td>\n",
       "      <td>ALLEY</td>\n",
       "      <td>...</td>\n",
       "      <td>2018</td>\n",
       "      <td>11/26/2019 03:47:51 PM</td>\n",
       "      <td>41.721844</td>\n",
       "      <td>-87.585072</td>\n",
       "      <td>(41.721843846, -87.585071938)</td>\n",
       "      <td>South Chicago</td>\n",
       "      <td>1193131.299</td>\n",
       "      <td>1837090.265</td>\n",
       "      <td>41.707933</td>\n",
       "      <td>-87.568349</td>\n",
       "    </tr>\n",
       "    <tr>\n",
       "      <th>1</th>\n",
       "      <td>22</td>\n",
       "      <td>3</td>\n",
       "      <td>11491979</td>\n",
       "      <td>JB495848</td>\n",
       "      <td>08/27/2018 12:00:00 PM</td>\n",
       "      <td>092XX S UNION AVE</td>\n",
       "      <td>1120</td>\n",
       "      <td>DECEPTIVE PRACTICE</td>\n",
       "      <td>FORGERY</td>\n",
       "      <td>RESIDENCE</td>\n",
       "      <td>...</td>\n",
       "      <td>2018</td>\n",
       "      <td>11/26/2019 03:47:51 PM</td>\n",
       "      <td>41.726124</td>\n",
       "      <td>-87.640913</td>\n",
       "      <td>(41.726123768, -87.640913299)</td>\n",
       "      <td>Morgan Park</td>\n",
       "      <td>1165825.476</td>\n",
       "      <td>1830851.333</td>\n",
       "      <td>41.691435</td>\n",
       "      <td>-87.668520</td>\n",
       "    </tr>\n",
       "    <tr>\n",
       "      <th>2</th>\n",
       "      <td>7</td>\n",
       "      <td>5</td>\n",
       "      <td>11499634</td>\n",
       "      <td>JB505888</td>\n",
       "      <td>09/27/2018 10:30:00 AM</td>\n",
       "      <td>068XX S PERRY AVE</td>\n",
       "      <td>1020</td>\n",
       "      <td>ARSON</td>\n",
       "      <td>BY FIRE</td>\n",
       "      <td>VEHICLE NON-COMMERCIAL</td>\n",
       "      <td>...</td>\n",
       "      <td>2018</td>\n",
       "      <td>11/25/2019 03:51:39 PM</td>\n",
       "      <td>41.770428</td>\n",
       "      <td>-87.628300</td>\n",
       "      <td>(41.770427968, -87.628299501)</td>\n",
       "      <td>Englewood</td>\n",
       "      <td>1167659.235</td>\n",
       "      <td>1863005.522</td>\n",
       "      <td>41.779632</td>\n",
       "      <td>-87.660887</td>\n",
       "    </tr>\n",
       "    <tr>\n",
       "      <th>3</th>\n",
       "      <td>24</td>\n",
       "      <td>6</td>\n",
       "      <td>11474586</td>\n",
       "      <td>JB472665</td>\n",
       "      <td>10/12/2018 12:04:00 PM</td>\n",
       "      <td>061XX N BROADWAY</td>\n",
       "      <td>0890</td>\n",
       "      <td>THEFT</td>\n",
       "      <td>FROM BUILDING</td>\n",
       "      <td>COMMERCIAL / BUSINESS OFFICE</td>\n",
       "      <td>...</td>\n",
       "      <td>2018</td>\n",
       "      <td>11/25/2019 03:51:39 PM</td>\n",
       "      <td>41.992509</td>\n",
       "      <td>-87.660344</td>\n",
       "      <td>(41.992508755, -87.66034393)</td>\n",
       "      <td>Rogers Park</td>\n",
       "      <td>1164193.588</td>\n",
       "      <td>1943199.401</td>\n",
       "      <td>41.999763</td>\n",
       "      <td>-87.671324</td>\n",
       "    </tr>\n",
       "    <tr>\n",
       "      <th>4</th>\n",
       "      <td>8</td>\n",
       "      <td>9</td>\n",
       "      <td>11298701</td>\n",
       "      <td>JB241744</td>\n",
       "      <td>04/27/2018 02:45:00 PM</td>\n",
       "      <td>070XX S CALIFORNIA AVE</td>\n",
       "      <td>1562</td>\n",
       "      <td>SEX OFFENSE</td>\n",
       "      <td>AGG CRIMINAL SEXUAL ABUSE</td>\n",
       "      <td>APARTMENT</td>\n",
       "      <td>...</td>\n",
       "      <td>2018</td>\n",
       "      <td>11/24/2019 03:53:02 PM</td>\n",
       "      <td>41.765884</td>\n",
       "      <td>-87.693061</td>\n",
       "      <td>(41.765883867, -87.693061208)</td>\n",
       "      <td>Chicago Lawn</td>\n",
       "      <td>1154575.242</td>\n",
       "      <td>1862672.049</td>\n",
       "      <td>41.778987</td>\n",
       "      <td>-87.708864</td>\n",
       "    </tr>\n",
       "  </tbody>\n",
       "</table>\n",
       "<p>5 rows × 28 columns</p>\n",
       "</div>"
      ],
      "text/plain": [
       "   District  index        ID Case Number                    Date  \\\n",
       "0         4      2  11516628    JB528220  11/24/2018 08:45:00 PM   \n",
       "1        22      3  11491979    JB495848  08/27/2018 12:00:00 PM   \n",
       "2         7      5  11499634    JB505888  09/27/2018 10:30:00 AM   \n",
       "3        24      6  11474586    JB472665  10/12/2018 12:04:00 PM   \n",
       "4         8      9  11298701    JB241744  04/27/2018 02:45:00 PM   \n",
       "\n",
       "                      Block  IUCR         Primary Type  \\\n",
       "0  095XX S STONY ISLAND AVE  0261  CRIM SEXUAL ASSAULT   \n",
       "1         092XX S UNION AVE  1120   DECEPTIVE PRACTICE   \n",
       "2         068XX S PERRY AVE  1020                ARSON   \n",
       "3          061XX N BROADWAY  0890                THEFT   \n",
       "4    070XX S CALIFORNIA AVE  1562          SEX OFFENSE   \n",
       "\n",
       "                 Description          Location Description  ...  Year  \\\n",
       "0        AGGRAVATED: HANDGUN                         ALLEY  ...  2018   \n",
       "1                    FORGERY                     RESIDENCE  ...  2018   \n",
       "2                    BY FIRE        VEHICLE NON-COMMERCIAL  ...  2018   \n",
       "3              FROM BUILDING  COMMERCIAL / BUSINESS OFFICE  ...  2018   \n",
       "4  AGG CRIMINAL SEXUAL ABUSE                     APARTMENT  ...  2018   \n",
       "\n",
       "               Updated On   Latitude  Longitude  \\\n",
       "0  11/26/2019 03:47:51 PM  41.721844 -87.585072   \n",
       "1  11/26/2019 03:47:51 PM  41.726124 -87.640913   \n",
       "2  11/25/2019 03:51:39 PM  41.770428 -87.628300   \n",
       "3  11/25/2019 03:51:39 PM  41.992509 -87.660344   \n",
       "4  11/24/2019 03:53:02 PM  41.765884 -87.693061   \n",
       "\n",
       "                        Location        p_dname          p_x          p_y  \\\n",
       "0  (41.721843846, -87.585071938)  South Chicago  1193131.299  1837090.265   \n",
       "1  (41.726123768, -87.640913299)    Morgan Park  1165825.476  1830851.333   \n",
       "2  (41.770427968, -87.628299501)      Englewood  1167659.235  1863005.522   \n",
       "3   (41.992508755, -87.66034393)    Rogers Park  1164193.588  1943199.401   \n",
       "4  (41.765883867, -87.693061208)   Chicago Lawn  1154575.242  1862672.049   \n",
       "\n",
       "   p_latitude p_longitude  \n",
       "0   41.707933  -87.568349  \n",
       "1   41.691435  -87.668520  \n",
       "2   41.779632  -87.660887  \n",
       "3   41.999763  -87.671324  \n",
       "4   41.778987  -87.708864  \n",
       "\n",
       "[5 rows x 28 columns]"
      ]
     },
     "execution_count": 125,
     "metadata": {},
     "output_type": "execute_result"
    }
   ],
   "source": [
    "merge.head()"
   ]
  },
  {
   "cell_type": "code",
   "execution_count": 126,
   "metadata": {
    "colab": {
     "base_uri": "https://localhost:8080/",
     "height": 34
    },
    "colab_type": "code",
    "id": "5UiHRw0GQDlN",
    "outputId": "6dd8149f-94a5-47ea-ff5d-215113d88a28"
   },
   "outputs": [
    {
     "data": {
      "text/plain": [
       "(485409, 28)"
      ]
     },
     "execution_count": 126,
     "metadata": {},
     "output_type": "execute_result"
    }
   ],
   "source": [
    "merge.shape"
   ]
  },
  {
   "cell_type": "code",
   "execution_count": 127,
   "metadata": {
    "colab": {
     "base_uri": "https://localhost:8080/",
     "height": 603
    },
    "colab_type": "code",
    "id": "prRwKA4YQDlQ",
    "outputId": "dc5af69b-d11f-489c-d3dc-b3aacde78c50"
   },
   "outputs": [
    {
     "name": "stdout",
     "output_type": "stream",
     "text": [
      "<class 'pandas.core.frame.DataFrame'>\n",
      "RangeIndex: 485409 entries, 0 to 485408\n",
      "Data columns (total 28 columns):\n",
      "District                485409 non-null int64\n",
      "index                   485409 non-null int64\n",
      "ID                      485409 non-null int64\n",
      "Case Number             485409 non-null object\n",
      "Date                    485409 non-null object\n",
      "Block                   485409 non-null object\n",
      "IUCR                    485409 non-null object\n",
      "Primary Type            485409 non-null object\n",
      "Description             485409 non-null object\n",
      "Location Description    485409 non-null object\n",
      "Arrest                  485409 non-null bool\n",
      "Domestic                485409 non-null bool\n",
      "Beat                    485409 non-null int64\n",
      "Ward                    485409 non-null float64\n",
      "Community Area          485409 non-null float64\n",
      "FBI Code                485409 non-null object\n",
      "X Coordinate            485409 non-null float64\n",
      "Y Coordinate            485409 non-null float64\n",
      "Year                    485409 non-null int64\n",
      "Updated On              485409 non-null object\n",
      "Latitude                485409 non-null float64\n",
      "Longitude               485409 non-null float64\n",
      "Location                485409 non-null object\n",
      "p_dname                 485409 non-null object\n",
      "p_x                     485409 non-null float64\n",
      "p_y                     485409 non-null float64\n",
      "p_latitude              485409 non-null float64\n",
      "p_longitude             485409 non-null float64\n",
      "dtypes: bool(2), float64(10), int64(5), object(11)\n",
      "memory usage: 97.2+ MB\n"
     ]
    }
   ],
   "source": [
    "merge.info()"
   ]
  },
  {
   "cell_type": "code",
   "execution_count": 128,
   "metadata": {
    "colab": {},
    "colab_type": "code",
    "id": "q-6tB7qqQDlS"
   },
   "outputs": [],
   "source": [
    "#Dropping irrelevant columns\n",
    "merge=merge.drop(columns=['ID','Updated On','Year','Location'])"
   ]
  },
  {
   "cell_type": "code",
   "execution_count": 129,
   "metadata": {
    "colab": {
     "base_uri": "https://localhost:8080/",
     "height": 532
    },
    "colab_type": "code",
    "id": "390eHW2gQDlV",
    "outputId": "596d0198-1c87-40ce-c9e0-c4c961bd3f4b"
   },
   "outputs": [
    {
     "name": "stdout",
     "output_type": "stream",
     "text": [
      "<class 'pandas.core.frame.DataFrame'>\n",
      "RangeIndex: 485409 entries, 0 to 485408\n",
      "Data columns (total 24 columns):\n",
      "District                485409 non-null int64\n",
      "index                   485409 non-null int64\n",
      "Case Number             485409 non-null object\n",
      "Date                    485409 non-null object\n",
      "Block                   485409 non-null object\n",
      "IUCR                    485409 non-null object\n",
      "Primary Type            485409 non-null object\n",
      "Description             485409 non-null object\n",
      "Location Description    485409 non-null object\n",
      "Arrest                  485409 non-null bool\n",
      "Domestic                485409 non-null bool\n",
      "Beat                    485409 non-null int64\n",
      "Ward                    485409 non-null float64\n",
      "Community Area          485409 non-null float64\n",
      "FBI Code                485409 non-null object\n",
      "X Coordinate            485409 non-null float64\n",
      "Y Coordinate            485409 non-null float64\n",
      "Latitude                485409 non-null float64\n",
      "Longitude               485409 non-null float64\n",
      "p_dname                 485409 non-null object\n",
      "p_x                     485409 non-null float64\n",
      "p_y                     485409 non-null float64\n",
      "p_latitude              485409 non-null float64\n",
      "p_longitude             485409 non-null float64\n",
      "dtypes: bool(2), float64(10), int64(3), object(9)\n",
      "memory usage: 82.4+ MB\n"
     ]
    }
   ],
   "source": [
    "merge.shape\n",
    "merge.info()"
   ]
  },
  {
   "cell_type": "code",
   "execution_count": 130,
   "metadata": {
    "colab": {},
    "colab_type": "code",
    "id": "IW1DOxC5QDlZ"
   },
   "outputs": [],
   "source": [
    "# Changing Arrest's to 0-False and 1-True\n",
    "change_values = {True :1,False :0}\n",
    "merge['Arrest'] = merge['Arrest'].map(change_values)\n",
    "merge['Domestic']=merge['Domestic'].map(change_values)"
   ]
  },
  {
   "cell_type": "code",
   "execution_count": 131,
   "metadata": {
    "colab": {
     "base_uri": "https://localhost:8080/",
     "height": 417
    },
    "colab_type": "code",
    "id": "zEEF4lasQDlf",
    "outputId": "8375ccb0-15bc-40e4-9022-27c8fa0a3025"
   },
   "outputs": [
    {
     "data": {
      "text/html": [
       "<div>\n",
       "<style scoped>\n",
       "    .dataframe tbody tr th:only-of-type {\n",
       "        vertical-align: middle;\n",
       "    }\n",
       "\n",
       "    .dataframe tbody tr th {\n",
       "        vertical-align: top;\n",
       "    }\n",
       "\n",
       "    .dataframe thead th {\n",
       "        text-align: right;\n",
       "    }\n",
       "</style>\n",
       "<table border=\"1\" class=\"dataframe\">\n",
       "  <thead>\n",
       "    <tr style=\"text-align: right;\">\n",
       "      <th></th>\n",
       "      <th>District</th>\n",
       "      <th>index</th>\n",
       "      <th>Case Number</th>\n",
       "      <th>Date</th>\n",
       "      <th>Block</th>\n",
       "      <th>IUCR</th>\n",
       "      <th>Primary Type</th>\n",
       "      <th>Description</th>\n",
       "      <th>Location Description</th>\n",
       "      <th>Arrest</th>\n",
       "      <th>...</th>\n",
       "      <th>FBI Code</th>\n",
       "      <th>X Coordinate</th>\n",
       "      <th>Y Coordinate</th>\n",
       "      <th>Latitude</th>\n",
       "      <th>Longitude</th>\n",
       "      <th>p_dname</th>\n",
       "      <th>p_x</th>\n",
       "      <th>p_y</th>\n",
       "      <th>p_latitude</th>\n",
       "      <th>p_longitude</th>\n",
       "    </tr>\n",
       "  </thead>\n",
       "  <tbody>\n",
       "    <tr>\n",
       "      <th>0</th>\n",
       "      <td>4</td>\n",
       "      <td>2</td>\n",
       "      <td>JB528220</td>\n",
       "      <td>11/24/2018 08:45:00 PM</td>\n",
       "      <td>095XX S STONY ISLAND AVE</td>\n",
       "      <td>0261</td>\n",
       "      <td>CRIM SEXUAL ASSAULT</td>\n",
       "      <td>AGGRAVATED: HANDGUN</td>\n",
       "      <td>ALLEY</td>\n",
       "      <td>1</td>\n",
       "      <td>...</td>\n",
       "      <td>02</td>\n",
       "      <td>1188521.0</td>\n",
       "      <td>1842119.0</td>\n",
       "      <td>41.721844</td>\n",
       "      <td>-87.585072</td>\n",
       "      <td>South Chicago</td>\n",
       "      <td>1193131.299</td>\n",
       "      <td>1837090.265</td>\n",
       "      <td>41.707933</td>\n",
       "      <td>-87.568349</td>\n",
       "    </tr>\n",
       "    <tr>\n",
       "      <th>1</th>\n",
       "      <td>22</td>\n",
       "      <td>3</td>\n",
       "      <td>JB495848</td>\n",
       "      <td>08/27/2018 12:00:00 PM</td>\n",
       "      <td>092XX S UNION AVE</td>\n",
       "      <td>1120</td>\n",
       "      <td>DECEPTIVE PRACTICE</td>\n",
       "      <td>FORGERY</td>\n",
       "      <td>RESIDENCE</td>\n",
       "      <td>1</td>\n",
       "      <td>...</td>\n",
       "      <td>10</td>\n",
       "      <td>1173264.0</td>\n",
       "      <td>1843551.0</td>\n",
       "      <td>41.726124</td>\n",
       "      <td>-87.640913</td>\n",
       "      <td>Morgan Park</td>\n",
       "      <td>1165825.476</td>\n",
       "      <td>1830851.333</td>\n",
       "      <td>41.691435</td>\n",
       "      <td>-87.668520</td>\n",
       "    </tr>\n",
       "    <tr>\n",
       "      <th>2</th>\n",
       "      <td>7</td>\n",
       "      <td>5</td>\n",
       "      <td>JB505888</td>\n",
       "      <td>09/27/2018 10:30:00 AM</td>\n",
       "      <td>068XX S PERRY AVE</td>\n",
       "      <td>1020</td>\n",
       "      <td>ARSON</td>\n",
       "      <td>BY FIRE</td>\n",
       "      <td>VEHICLE NON-COMMERCIAL</td>\n",
       "      <td>1</td>\n",
       "      <td>...</td>\n",
       "      <td>09</td>\n",
       "      <td>1176575.0</td>\n",
       "      <td>1859723.0</td>\n",
       "      <td>41.770428</td>\n",
       "      <td>-87.628300</td>\n",
       "      <td>Englewood</td>\n",
       "      <td>1167659.235</td>\n",
       "      <td>1863005.522</td>\n",
       "      <td>41.779632</td>\n",
       "      <td>-87.660887</td>\n",
       "    </tr>\n",
       "    <tr>\n",
       "      <th>3</th>\n",
       "      <td>24</td>\n",
       "      <td>6</td>\n",
       "      <td>JB472665</td>\n",
       "      <td>10/12/2018 12:04:00 PM</td>\n",
       "      <td>061XX N BROADWAY</td>\n",
       "      <td>0890</td>\n",
       "      <td>THEFT</td>\n",
       "      <td>FROM BUILDING</td>\n",
       "      <td>COMMERCIAL / BUSINESS OFFICE</td>\n",
       "      <td>1</td>\n",
       "      <td>...</td>\n",
       "      <td>06</td>\n",
       "      <td>1167199.0</td>\n",
       "      <td>1940579.0</td>\n",
       "      <td>41.992509</td>\n",
       "      <td>-87.660344</td>\n",
       "      <td>Rogers Park</td>\n",
       "      <td>1164193.588</td>\n",
       "      <td>1943199.401</td>\n",
       "      <td>41.999763</td>\n",
       "      <td>-87.671324</td>\n",
       "    </tr>\n",
       "    <tr>\n",
       "      <th>4</th>\n",
       "      <td>8</td>\n",
       "      <td>9</td>\n",
       "      <td>JB241744</td>\n",
       "      <td>04/27/2018 02:45:00 PM</td>\n",
       "      <td>070XX S CALIFORNIA AVE</td>\n",
       "      <td>1562</td>\n",
       "      <td>SEX OFFENSE</td>\n",
       "      <td>AGG CRIMINAL SEXUAL ABUSE</td>\n",
       "      <td>APARTMENT</td>\n",
       "      <td>0</td>\n",
       "      <td>...</td>\n",
       "      <td>17</td>\n",
       "      <td>1158921.0</td>\n",
       "      <td>1857929.0</td>\n",
       "      <td>41.765884</td>\n",
       "      <td>-87.693061</td>\n",
       "      <td>Chicago Lawn</td>\n",
       "      <td>1154575.242</td>\n",
       "      <td>1862672.049</td>\n",
       "      <td>41.778987</td>\n",
       "      <td>-87.708864</td>\n",
       "    </tr>\n",
       "  </tbody>\n",
       "</table>\n",
       "<p>5 rows × 24 columns</p>\n",
       "</div>"
      ],
      "text/plain": [
       "   District  index Case Number                    Date  \\\n",
       "0         4      2    JB528220  11/24/2018 08:45:00 PM   \n",
       "1        22      3    JB495848  08/27/2018 12:00:00 PM   \n",
       "2         7      5    JB505888  09/27/2018 10:30:00 AM   \n",
       "3        24      6    JB472665  10/12/2018 12:04:00 PM   \n",
       "4         8      9    JB241744  04/27/2018 02:45:00 PM   \n",
       "\n",
       "                      Block  IUCR         Primary Type  \\\n",
       "0  095XX S STONY ISLAND AVE  0261  CRIM SEXUAL ASSAULT   \n",
       "1         092XX S UNION AVE  1120   DECEPTIVE PRACTICE   \n",
       "2         068XX S PERRY AVE  1020                ARSON   \n",
       "3          061XX N BROADWAY  0890                THEFT   \n",
       "4    070XX S CALIFORNIA AVE  1562          SEX OFFENSE   \n",
       "\n",
       "                 Description          Location Description  Arrest  ...  \\\n",
       "0        AGGRAVATED: HANDGUN                         ALLEY       1  ...   \n",
       "1                    FORGERY                     RESIDENCE       1  ...   \n",
       "2                    BY FIRE        VEHICLE NON-COMMERCIAL       1  ...   \n",
       "3              FROM BUILDING  COMMERCIAL / BUSINESS OFFICE       1  ...   \n",
       "4  AGG CRIMINAL SEXUAL ABUSE                     APARTMENT       0  ...   \n",
       "\n",
       "   FBI Code  X Coordinate  Y Coordinate   Latitude  Longitude        p_dname  \\\n",
       "0        02     1188521.0     1842119.0  41.721844 -87.585072  South Chicago   \n",
       "1        10     1173264.0     1843551.0  41.726124 -87.640913    Morgan Park   \n",
       "2        09     1176575.0     1859723.0  41.770428 -87.628300      Englewood   \n",
       "3        06     1167199.0     1940579.0  41.992509 -87.660344    Rogers Park   \n",
       "4        17     1158921.0     1857929.0  41.765884 -87.693061   Chicago Lawn   \n",
       "\n",
       "           p_x          p_y  p_latitude p_longitude  \n",
       "0  1193131.299  1837090.265   41.707933  -87.568349  \n",
       "1  1165825.476  1830851.333   41.691435  -87.668520  \n",
       "2  1167659.235  1863005.522   41.779632  -87.660887  \n",
       "3  1164193.588  1943199.401   41.999763  -87.671324  \n",
       "4  1154575.242  1862672.049   41.778987  -87.708864  \n",
       "\n",
       "[5 rows x 24 columns]"
      ]
     },
     "execution_count": 131,
     "metadata": {},
     "output_type": "execute_result"
    }
   ],
   "source": [
    "merge.head()"
   ]
  },
  {
   "cell_type": "code",
   "execution_count": 132,
   "metadata": {
    "colab": {},
    "colab_type": "code",
    "id": "PYSJf6obQDlr"
   },
   "outputs": [],
   "source": [
    "merge['Distance']=np.sqrt((merge['X Coordinate']-merge['p_x'])**2 + (merge['Y Coordinate']-merge['p_y'])**2)"
   ]
  },
  {
   "cell_type": "code",
   "execution_count": 133,
   "metadata": {
    "colab": {
     "base_uri": "https://localhost:8080/",
     "height": 417
    },
    "colab_type": "code",
    "id": "u8jsvIVbQDlv",
    "outputId": "53f6b228-187b-4571-af39-47318752f387"
   },
   "outputs": [
    {
     "data": {
      "text/html": [
       "<div>\n",
       "<style scoped>\n",
       "    .dataframe tbody tr th:only-of-type {\n",
       "        vertical-align: middle;\n",
       "    }\n",
       "\n",
       "    .dataframe tbody tr th {\n",
       "        vertical-align: top;\n",
       "    }\n",
       "\n",
       "    .dataframe thead th {\n",
       "        text-align: right;\n",
       "    }\n",
       "</style>\n",
       "<table border=\"1\" class=\"dataframe\">\n",
       "  <thead>\n",
       "    <tr style=\"text-align: right;\">\n",
       "      <th></th>\n",
       "      <th>District</th>\n",
       "      <th>index</th>\n",
       "      <th>Case Number</th>\n",
       "      <th>Date</th>\n",
       "      <th>Block</th>\n",
       "      <th>IUCR</th>\n",
       "      <th>Primary Type</th>\n",
       "      <th>Description</th>\n",
       "      <th>Location Description</th>\n",
       "      <th>Arrest</th>\n",
       "      <th>...</th>\n",
       "      <th>X Coordinate</th>\n",
       "      <th>Y Coordinate</th>\n",
       "      <th>Latitude</th>\n",
       "      <th>Longitude</th>\n",
       "      <th>p_dname</th>\n",
       "      <th>p_x</th>\n",
       "      <th>p_y</th>\n",
       "      <th>p_latitude</th>\n",
       "      <th>p_longitude</th>\n",
       "      <th>Distance</th>\n",
       "    </tr>\n",
       "  </thead>\n",
       "  <tbody>\n",
       "    <tr>\n",
       "      <th>0</th>\n",
       "      <td>4</td>\n",
       "      <td>2</td>\n",
       "      <td>JB528220</td>\n",
       "      <td>11/24/2018 08:45:00 PM</td>\n",
       "      <td>095XX S STONY ISLAND AVE</td>\n",
       "      <td>0261</td>\n",
       "      <td>CRIM SEXUAL ASSAULT</td>\n",
       "      <td>AGGRAVATED: HANDGUN</td>\n",
       "      <td>ALLEY</td>\n",
       "      <td>1</td>\n",
       "      <td>...</td>\n",
       "      <td>1188521.0</td>\n",
       "      <td>1842119.0</td>\n",
       "      <td>41.721844</td>\n",
       "      <td>-87.585072</td>\n",
       "      <td>South Chicago</td>\n",
       "      <td>1193131.299</td>\n",
       "      <td>1837090.265</td>\n",
       "      <td>41.707933</td>\n",
       "      <td>-87.568349</td>\n",
       "      <td>6822.245420</td>\n",
       "    </tr>\n",
       "    <tr>\n",
       "      <th>1</th>\n",
       "      <td>22</td>\n",
       "      <td>3</td>\n",
       "      <td>JB495848</td>\n",
       "      <td>08/27/2018 12:00:00 PM</td>\n",
       "      <td>092XX S UNION AVE</td>\n",
       "      <td>1120</td>\n",
       "      <td>DECEPTIVE PRACTICE</td>\n",
       "      <td>FORGERY</td>\n",
       "      <td>RESIDENCE</td>\n",
       "      <td>1</td>\n",
       "      <td>...</td>\n",
       "      <td>1173264.0</td>\n",
       "      <td>1843551.0</td>\n",
       "      <td>41.726124</td>\n",
       "      <td>-87.640913</td>\n",
       "      <td>Morgan Park</td>\n",
       "      <td>1165825.476</td>\n",
       "      <td>1830851.333</td>\n",
       "      <td>41.691435</td>\n",
       "      <td>-87.668520</td>\n",
       "      <td>14717.784521</td>\n",
       "    </tr>\n",
       "    <tr>\n",
       "      <th>2</th>\n",
       "      <td>7</td>\n",
       "      <td>5</td>\n",
       "      <td>JB505888</td>\n",
       "      <td>09/27/2018 10:30:00 AM</td>\n",
       "      <td>068XX S PERRY AVE</td>\n",
       "      <td>1020</td>\n",
       "      <td>ARSON</td>\n",
       "      <td>BY FIRE</td>\n",
       "      <td>VEHICLE NON-COMMERCIAL</td>\n",
       "      <td>1</td>\n",
       "      <td>...</td>\n",
       "      <td>1176575.0</td>\n",
       "      <td>1859723.0</td>\n",
       "      <td>41.770428</td>\n",
       "      <td>-87.628300</td>\n",
       "      <td>Englewood</td>\n",
       "      <td>1167659.235</td>\n",
       "      <td>1863005.522</td>\n",
       "      <td>41.779632</td>\n",
       "      <td>-87.660887</td>\n",
       "      <td>9500.832396</td>\n",
       "    </tr>\n",
       "    <tr>\n",
       "      <th>3</th>\n",
       "      <td>24</td>\n",
       "      <td>6</td>\n",
       "      <td>JB472665</td>\n",
       "      <td>10/12/2018 12:04:00 PM</td>\n",
       "      <td>061XX N BROADWAY</td>\n",
       "      <td>0890</td>\n",
       "      <td>THEFT</td>\n",
       "      <td>FROM BUILDING</td>\n",
       "      <td>COMMERCIAL / BUSINESS OFFICE</td>\n",
       "      <td>1</td>\n",
       "      <td>...</td>\n",
       "      <td>1167199.0</td>\n",
       "      <td>1940579.0</td>\n",
       "      <td>41.992509</td>\n",
       "      <td>-87.660344</td>\n",
       "      <td>Rogers Park</td>\n",
       "      <td>1164193.588</td>\n",
       "      <td>1943199.401</td>\n",
       "      <td>41.999763</td>\n",
       "      <td>-87.671324</td>\n",
       "      <td>3987.355350</td>\n",
       "    </tr>\n",
       "    <tr>\n",
       "      <th>4</th>\n",
       "      <td>8</td>\n",
       "      <td>9</td>\n",
       "      <td>JB241744</td>\n",
       "      <td>04/27/2018 02:45:00 PM</td>\n",
       "      <td>070XX S CALIFORNIA AVE</td>\n",
       "      <td>1562</td>\n",
       "      <td>SEX OFFENSE</td>\n",
       "      <td>AGG CRIMINAL SEXUAL ABUSE</td>\n",
       "      <td>APARTMENT</td>\n",
       "      <td>0</td>\n",
       "      <td>...</td>\n",
       "      <td>1158921.0</td>\n",
       "      <td>1857929.0</td>\n",
       "      <td>41.765884</td>\n",
       "      <td>-87.693061</td>\n",
       "      <td>Chicago Lawn</td>\n",
       "      <td>1154575.242</td>\n",
       "      <td>1862672.049</td>\n",
       "      <td>41.778987</td>\n",
       "      <td>-87.708864</td>\n",
       "      <td>6432.894093</td>\n",
       "    </tr>\n",
       "  </tbody>\n",
       "</table>\n",
       "<p>5 rows × 25 columns</p>\n",
       "</div>"
      ],
      "text/plain": [
       "   District  index Case Number                    Date  \\\n",
       "0         4      2    JB528220  11/24/2018 08:45:00 PM   \n",
       "1        22      3    JB495848  08/27/2018 12:00:00 PM   \n",
       "2         7      5    JB505888  09/27/2018 10:30:00 AM   \n",
       "3        24      6    JB472665  10/12/2018 12:04:00 PM   \n",
       "4         8      9    JB241744  04/27/2018 02:45:00 PM   \n",
       "\n",
       "                      Block  IUCR         Primary Type  \\\n",
       "0  095XX S STONY ISLAND AVE  0261  CRIM SEXUAL ASSAULT   \n",
       "1         092XX S UNION AVE  1120   DECEPTIVE PRACTICE   \n",
       "2         068XX S PERRY AVE  1020                ARSON   \n",
       "3          061XX N BROADWAY  0890                THEFT   \n",
       "4    070XX S CALIFORNIA AVE  1562          SEX OFFENSE   \n",
       "\n",
       "                 Description          Location Description  Arrest  ...  \\\n",
       "0        AGGRAVATED: HANDGUN                         ALLEY       1  ...   \n",
       "1                    FORGERY                     RESIDENCE       1  ...   \n",
       "2                    BY FIRE        VEHICLE NON-COMMERCIAL       1  ...   \n",
       "3              FROM BUILDING  COMMERCIAL / BUSINESS OFFICE       1  ...   \n",
       "4  AGG CRIMINAL SEXUAL ABUSE                     APARTMENT       0  ...   \n",
       "\n",
       "   X Coordinate  Y Coordinate   Latitude  Longitude        p_dname  \\\n",
       "0     1188521.0     1842119.0  41.721844 -87.585072  South Chicago   \n",
       "1     1173264.0     1843551.0  41.726124 -87.640913    Morgan Park   \n",
       "2     1176575.0     1859723.0  41.770428 -87.628300      Englewood   \n",
       "3     1167199.0     1940579.0  41.992509 -87.660344    Rogers Park   \n",
       "4     1158921.0     1857929.0  41.765884 -87.693061   Chicago Lawn   \n",
       "\n",
       "           p_x          p_y  p_latitude  p_longitude      Distance  \n",
       "0  1193131.299  1837090.265   41.707933   -87.568349   6822.245420  \n",
       "1  1165825.476  1830851.333   41.691435   -87.668520  14717.784521  \n",
       "2  1167659.235  1863005.522   41.779632   -87.660887   9500.832396  \n",
       "3  1164193.588  1943199.401   41.999763   -87.671324   3987.355350  \n",
       "4  1154575.242  1862672.049   41.778987   -87.708864   6432.894093  \n",
       "\n",
       "[5 rows x 25 columns]"
      ]
     },
     "execution_count": 133,
     "metadata": {},
     "output_type": "execute_result"
    }
   ],
   "source": [
    "merge.head()"
   ]
  },
  {
   "cell_type": "code",
   "execution_count": 134,
   "metadata": {
    "colab": {
     "base_uri": "https://localhost:8080/",
     "height": 123
    },
    "colab_type": "code",
    "id": "9GXlZc8kQDlz",
    "outputId": "c250c29c-9fb6-4c3d-80ec-b81111668260"
   },
   "outputs": [
    {
     "data": {
      "text/plain": [
       "0    11/24/2018 08:45:00 PM\n",
       "1    08/27/2018 12:00:00 PM\n",
       "2    09/27/2018 10:30:00 AM\n",
       "3    10/12/2018 12:04:00 PM\n",
       "4    04/27/2018 02:45:00 PM\n",
       "Name: Date, dtype: object"
      ]
     },
     "execution_count": 134,
     "metadata": {},
     "output_type": "execute_result"
    }
   ],
   "source": [
    "merge['Date'][0:5]"
   ]
  },
  {
   "cell_type": "code",
   "execution_count": 135,
   "metadata": {
    "colab": {},
    "colab_type": "code",
    "id": "1njQsfPQQDl2"
   },
   "outputs": [],
   "source": [
    "#merge[['Date', 'Time']] = merge.Date.str.extract(r'_\\s', expand=True)"
   ]
  },
  {
   "cell_type": "code",
   "execution_count": 136,
   "metadata": {
    "colab": {},
    "colab_type": "code",
    "id": "c6UZ_f6IQDl4"
   },
   "outputs": [],
   "source": [
    "X=merge['Date'].str.split(expand=True)"
   ]
  },
  {
   "cell_type": "code",
   "execution_count": 137,
   "metadata": {
    "colab": {},
    "colab_type": "code",
    "id": "f-7sZHSQQDmD"
   },
   "outputs": [],
   "source": [
    "merge['Time']=X[1]"
   ]
  },
  {
   "cell_type": "code",
   "execution_count": 138,
   "metadata": {
    "colab": {},
    "colab_type": "code",
    "id": "vjMMKsPBQDmG"
   },
   "outputs": [],
   "source": [
    "merge['Date']=X[0]"
   ]
  },
  {
   "cell_type": "code",
   "execution_count": 139,
   "metadata": {
    "colab": {
     "base_uri": "https://localhost:8080/",
     "height": 105
    },
    "colab_type": "code",
    "id": "T6Uq9RnCQDmI",
    "outputId": "94e722d1-218e-4bcb-e5af-c7e372d95db3"
   },
   "outputs": [
    {
     "data": {
      "text/plain": [
       "0    08:45:00\n",
       "1    12:00:00\n",
       "2    10:30:00\n",
       "3    12:04:00\n",
       "Name: Time, dtype: object"
      ]
     },
     "execution_count": 139,
     "metadata": {},
     "output_type": "execute_result"
    }
   ],
   "source": [
    "merge['Time'][:4]"
   ]
  },
  {
   "cell_type": "code",
   "execution_count": 140,
   "metadata": {
    "colab": {
     "base_uri": "https://localhost:8080/",
     "height": 105
    },
    "colab_type": "code",
    "id": "cDRxoTAaQDmK",
    "outputId": "06894fc1-1692-4a8a-ad5c-c2e16cf56c9d"
   },
   "outputs": [
    {
     "data": {
      "text/plain": [
       "0    11/24/2018\n",
       "1    08/27/2018\n",
       "2    09/27/2018\n",
       "3    10/12/2018\n",
       "Name: Date, dtype: object"
      ]
     },
     "execution_count": 140,
     "metadata": {},
     "output_type": "execute_result"
    }
   ],
   "source": [
    "merge['Date'][:4]"
   ]
  },
  {
   "cell_type": "code",
   "execution_count": 141,
   "metadata": {
    "colab": {
     "base_uri": "https://localhost:8080/",
     "height": 87
    },
    "colab_type": "code",
    "id": "Pkgrq45CQDmN",
    "outputId": "49d8dcf9-7801-4828-d5c4-08e6345d1b65"
   },
   "outputs": [
    {
     "data": {
      "text/plain": [
       "0    11\n",
       "1    08\n",
       "2    09\n",
       "Name: Month, dtype: object"
      ]
     },
     "execution_count": 141,
     "metadata": {},
     "output_type": "execute_result"
    }
   ],
   "source": [
    "merge['Month']=merge['Date'].str.slice(0,2)\n",
    "merge['Month'][:3]"
   ]
  },
  {
   "cell_type": "code",
   "execution_count": 142,
   "metadata": {
    "colab": {
     "base_uri": "https://localhost:8080/",
     "height": 70
    },
    "colab_type": "code",
    "id": "iXAulDjyQDmP",
    "outputId": "c7c38492-dd34-464b-c7ab-85f0f0b9e60b"
   },
   "outputs": [
    {
     "data": {
      "text/plain": [
       "0    24\n",
       "1    27\n",
       "Name: Day, dtype: object"
      ]
     },
     "execution_count": 142,
     "metadata": {},
     "output_type": "execute_result"
    }
   ],
   "source": [
    "merge['Day']=merge['Date'].str.slice(3,5)\n",
    "merge['Day'][:2]"
   ]
  },
  {
   "cell_type": "code",
   "execution_count": 143,
   "metadata": {
    "colab": {
     "base_uri": "https://localhost:8080/",
     "height": 401
    },
    "colab_type": "code",
    "id": "Yclwp4sfQDmR",
    "outputId": "68792519-bf33-4171-cfcd-4b4d4704947c"
   },
   "outputs": [
    {
     "data": {
      "text/html": [
       "<div>\n",
       "<style scoped>\n",
       "    .dataframe tbody tr th:only-of-type {\n",
       "        vertical-align: middle;\n",
       "    }\n",
       "\n",
       "    .dataframe tbody tr th {\n",
       "        vertical-align: top;\n",
       "    }\n",
       "\n",
       "    .dataframe thead th {\n",
       "        text-align: right;\n",
       "    }\n",
       "</style>\n",
       "<table border=\"1\" class=\"dataframe\">\n",
       "  <thead>\n",
       "    <tr style=\"text-align: right;\">\n",
       "      <th></th>\n",
       "      <th>District</th>\n",
       "      <th>index</th>\n",
       "      <th>Case Number</th>\n",
       "      <th>Date</th>\n",
       "      <th>Block</th>\n",
       "      <th>IUCR</th>\n",
       "      <th>Primary Type</th>\n",
       "      <th>Description</th>\n",
       "      <th>Location Description</th>\n",
       "      <th>Arrest</th>\n",
       "      <th>...</th>\n",
       "      <th>Longitude</th>\n",
       "      <th>p_dname</th>\n",
       "      <th>p_x</th>\n",
       "      <th>p_y</th>\n",
       "      <th>p_latitude</th>\n",
       "      <th>p_longitude</th>\n",
       "      <th>Distance</th>\n",
       "      <th>Time</th>\n",
       "      <th>Month</th>\n",
       "      <th>Day</th>\n",
       "    </tr>\n",
       "  </thead>\n",
       "  <tbody>\n",
       "    <tr>\n",
       "      <th>0</th>\n",
       "      <td>4</td>\n",
       "      <td>2</td>\n",
       "      <td>JB528220</td>\n",
       "      <td>11/24/2018</td>\n",
       "      <td>095XX S STONY ISLAND AVE</td>\n",
       "      <td>0261</td>\n",
       "      <td>CRIM SEXUAL ASSAULT</td>\n",
       "      <td>AGGRAVATED: HANDGUN</td>\n",
       "      <td>ALLEY</td>\n",
       "      <td>1</td>\n",
       "      <td>...</td>\n",
       "      <td>-87.585072</td>\n",
       "      <td>South Chicago</td>\n",
       "      <td>1193131.299</td>\n",
       "      <td>1837090.265</td>\n",
       "      <td>41.707933</td>\n",
       "      <td>-87.568349</td>\n",
       "      <td>6822.245420</td>\n",
       "      <td>08:45:00</td>\n",
       "      <td>11</td>\n",
       "      <td>24</td>\n",
       "    </tr>\n",
       "    <tr>\n",
       "      <th>1</th>\n",
       "      <td>22</td>\n",
       "      <td>3</td>\n",
       "      <td>JB495848</td>\n",
       "      <td>08/27/2018</td>\n",
       "      <td>092XX S UNION AVE</td>\n",
       "      <td>1120</td>\n",
       "      <td>DECEPTIVE PRACTICE</td>\n",
       "      <td>FORGERY</td>\n",
       "      <td>RESIDENCE</td>\n",
       "      <td>1</td>\n",
       "      <td>...</td>\n",
       "      <td>-87.640913</td>\n",
       "      <td>Morgan Park</td>\n",
       "      <td>1165825.476</td>\n",
       "      <td>1830851.333</td>\n",
       "      <td>41.691435</td>\n",
       "      <td>-87.668520</td>\n",
       "      <td>14717.784521</td>\n",
       "      <td>12:00:00</td>\n",
       "      <td>08</td>\n",
       "      <td>27</td>\n",
       "    </tr>\n",
       "    <tr>\n",
       "      <th>2</th>\n",
       "      <td>7</td>\n",
       "      <td>5</td>\n",
       "      <td>JB505888</td>\n",
       "      <td>09/27/2018</td>\n",
       "      <td>068XX S PERRY AVE</td>\n",
       "      <td>1020</td>\n",
       "      <td>ARSON</td>\n",
       "      <td>BY FIRE</td>\n",
       "      <td>VEHICLE NON-COMMERCIAL</td>\n",
       "      <td>1</td>\n",
       "      <td>...</td>\n",
       "      <td>-87.628300</td>\n",
       "      <td>Englewood</td>\n",
       "      <td>1167659.235</td>\n",
       "      <td>1863005.522</td>\n",
       "      <td>41.779632</td>\n",
       "      <td>-87.660887</td>\n",
       "      <td>9500.832396</td>\n",
       "      <td>10:30:00</td>\n",
       "      <td>09</td>\n",
       "      <td>27</td>\n",
       "    </tr>\n",
       "    <tr>\n",
       "      <th>3</th>\n",
       "      <td>24</td>\n",
       "      <td>6</td>\n",
       "      <td>JB472665</td>\n",
       "      <td>10/12/2018</td>\n",
       "      <td>061XX N BROADWAY</td>\n",
       "      <td>0890</td>\n",
       "      <td>THEFT</td>\n",
       "      <td>FROM BUILDING</td>\n",
       "      <td>COMMERCIAL / BUSINESS OFFICE</td>\n",
       "      <td>1</td>\n",
       "      <td>...</td>\n",
       "      <td>-87.660344</td>\n",
       "      <td>Rogers Park</td>\n",
       "      <td>1164193.588</td>\n",
       "      <td>1943199.401</td>\n",
       "      <td>41.999763</td>\n",
       "      <td>-87.671324</td>\n",
       "      <td>3987.355350</td>\n",
       "      <td>12:04:00</td>\n",
       "      <td>10</td>\n",
       "      <td>12</td>\n",
       "    </tr>\n",
       "    <tr>\n",
       "      <th>4</th>\n",
       "      <td>8</td>\n",
       "      <td>9</td>\n",
       "      <td>JB241744</td>\n",
       "      <td>04/27/2018</td>\n",
       "      <td>070XX S CALIFORNIA AVE</td>\n",
       "      <td>1562</td>\n",
       "      <td>SEX OFFENSE</td>\n",
       "      <td>AGG CRIMINAL SEXUAL ABUSE</td>\n",
       "      <td>APARTMENT</td>\n",
       "      <td>0</td>\n",
       "      <td>...</td>\n",
       "      <td>-87.693061</td>\n",
       "      <td>Chicago Lawn</td>\n",
       "      <td>1154575.242</td>\n",
       "      <td>1862672.049</td>\n",
       "      <td>41.778987</td>\n",
       "      <td>-87.708864</td>\n",
       "      <td>6432.894093</td>\n",
       "      <td>02:45:00</td>\n",
       "      <td>04</td>\n",
       "      <td>27</td>\n",
       "    </tr>\n",
       "  </tbody>\n",
       "</table>\n",
       "<p>5 rows × 28 columns</p>\n",
       "</div>"
      ],
      "text/plain": [
       "   District  index Case Number        Date                     Block  IUCR  \\\n",
       "0         4      2    JB528220  11/24/2018  095XX S STONY ISLAND AVE  0261   \n",
       "1        22      3    JB495848  08/27/2018         092XX S UNION AVE  1120   \n",
       "2         7      5    JB505888  09/27/2018         068XX S PERRY AVE  1020   \n",
       "3        24      6    JB472665  10/12/2018          061XX N BROADWAY  0890   \n",
       "4         8      9    JB241744  04/27/2018    070XX S CALIFORNIA AVE  1562   \n",
       "\n",
       "          Primary Type                Description  \\\n",
       "0  CRIM SEXUAL ASSAULT        AGGRAVATED: HANDGUN   \n",
       "1   DECEPTIVE PRACTICE                    FORGERY   \n",
       "2                ARSON                    BY FIRE   \n",
       "3                THEFT              FROM BUILDING   \n",
       "4          SEX OFFENSE  AGG CRIMINAL SEXUAL ABUSE   \n",
       "\n",
       "           Location Description  Arrest  ...  Longitude        p_dname  \\\n",
       "0                         ALLEY       1  ... -87.585072  South Chicago   \n",
       "1                     RESIDENCE       1  ... -87.640913    Morgan Park   \n",
       "2        VEHICLE NON-COMMERCIAL       1  ... -87.628300      Englewood   \n",
       "3  COMMERCIAL / BUSINESS OFFICE       1  ... -87.660344    Rogers Park   \n",
       "4                     APARTMENT       0  ... -87.693061   Chicago Lawn   \n",
       "\n",
       "           p_x          p_y p_latitude  p_longitude      Distance      Time  \\\n",
       "0  1193131.299  1837090.265  41.707933   -87.568349   6822.245420  08:45:00   \n",
       "1  1165825.476  1830851.333  41.691435   -87.668520  14717.784521  12:00:00   \n",
       "2  1167659.235  1863005.522  41.779632   -87.660887   9500.832396  10:30:00   \n",
       "3  1164193.588  1943199.401  41.999763   -87.671324   3987.355350  12:04:00   \n",
       "4  1154575.242  1862672.049  41.778987   -87.708864   6432.894093  02:45:00   \n",
       "\n",
       "   Month Day  \n",
       "0     11  24  \n",
       "1     08  27  \n",
       "2     09  27  \n",
       "3     10  12  \n",
       "4     04  27  \n",
       "\n",
       "[5 rows x 28 columns]"
      ]
     },
     "execution_count": 143,
     "metadata": {},
     "output_type": "execute_result"
    }
   ],
   "source": [
    "merge.head()"
   ]
  },
  {
   "cell_type": "code",
   "execution_count": 144,
   "metadata": {
    "colab": {
     "base_uri": "https://localhost:8080/",
     "height": 1000
    },
    "colab_type": "code",
    "id": "yjRzYRczQDmT",
    "outputId": "38ae759a-5d3a-41e6-d224-6bca5752af84"
   },
   "outputs": [
    {
     "data": {
      "text/html": [
       "<div>\n",
       "<style scoped>\n",
       "    .dataframe tbody tr th:only-of-type {\n",
       "        vertical-align: middle;\n",
       "    }\n",
       "\n",
       "    .dataframe tbody tr th {\n",
       "        vertical-align: top;\n",
       "    }\n",
       "\n",
       "    .dataframe thead th {\n",
       "        text-align: right;\n",
       "    }\n",
       "</style>\n",
       "<table border=\"1\" class=\"dataframe\">\n",
       "  <thead>\n",
       "    <tr style=\"text-align: right;\">\n",
       "      <th></th>\n",
       "      <th>Primary Type</th>\n",
       "    </tr>\n",
       "  </thead>\n",
       "  <tbody>\n",
       "    <tr>\n",
       "      <th>NARCOTICS</th>\n",
       "      <td>24969</td>\n",
       "    </tr>\n",
       "    <tr>\n",
       "      <th>BATTERY</th>\n",
       "      <td>19168</td>\n",
       "    </tr>\n",
       "    <tr>\n",
       "      <th>THEFT</th>\n",
       "      <td>11494</td>\n",
       "    </tr>\n",
       "    <tr>\n",
       "      <th>WEAPONS VIOLATION</th>\n",
       "      <td>7502</td>\n",
       "    </tr>\n",
       "    <tr>\n",
       "      <th>CRIMINAL TRESPASS</th>\n",
       "      <td>7153</td>\n",
       "    </tr>\n",
       "    <tr>\n",
       "      <th>OTHER OFFENSE</th>\n",
       "      <td>6794</td>\n",
       "    </tr>\n",
       "    <tr>\n",
       "      <th>ASSAULT</th>\n",
       "      <td>6600</td>\n",
       "    </tr>\n",
       "    <tr>\n",
       "      <th>CRIMINAL DAMAGE</th>\n",
       "      <td>3134</td>\n",
       "    </tr>\n",
       "    <tr>\n",
       "      <th>INTERFERENCE WITH PUBLIC OFFICER</th>\n",
       "      <td>2566</td>\n",
       "    </tr>\n",
       "    <tr>\n",
       "      <th>PUBLIC PEACE VIOLATION</th>\n",
       "      <td>1794</td>\n",
       "    </tr>\n",
       "    <tr>\n",
       "      <th>DECEPTIVE PRACTICE</th>\n",
       "      <td>1554</td>\n",
       "    </tr>\n",
       "    <tr>\n",
       "      <th>ROBBERY</th>\n",
       "      <td>1343</td>\n",
       "    </tr>\n",
       "    <tr>\n",
       "      <th>PROSTITUTION</th>\n",
       "      <td>1293</td>\n",
       "    </tr>\n",
       "    <tr>\n",
       "      <th>BURGLARY</th>\n",
       "      <td>984</td>\n",
       "    </tr>\n",
       "    <tr>\n",
       "      <th>MOTOR VEHICLE THEFT</th>\n",
       "      <td>969</td>\n",
       "    </tr>\n",
       "    <tr>\n",
       "      <th>OFFENSE INVOLVING CHILDREN</th>\n",
       "      <td>525</td>\n",
       "    </tr>\n",
       "    <tr>\n",
       "      <th>LIQUOR LAW VIOLATION</th>\n",
       "      <td>475</td>\n",
       "    </tr>\n",
       "    <tr>\n",
       "      <th>GAMBLING</th>\n",
       "      <td>338</td>\n",
       "    </tr>\n",
       "    <tr>\n",
       "      <th>CONCEALED CARRY LICENSE VIOLATION</th>\n",
       "      <td>338</td>\n",
       "    </tr>\n",
       "    <tr>\n",
       "      <th>SEX OFFENSE</th>\n",
       "      <td>332</td>\n",
       "    </tr>\n",
       "    <tr>\n",
       "      <th>HOMICIDE</th>\n",
       "      <td>279</td>\n",
       "    </tr>\n",
       "    <tr>\n",
       "      <th>CRIM SEXUAL ASSAULT</th>\n",
       "      <td>206</td>\n",
       "    </tr>\n",
       "    <tr>\n",
       "      <th>OBSCENITY</th>\n",
       "      <td>109</td>\n",
       "    </tr>\n",
       "    <tr>\n",
       "      <th>ARSON</th>\n",
       "      <td>59</td>\n",
       "    </tr>\n",
       "    <tr>\n",
       "      <th>STALKING</th>\n",
       "      <td>46</td>\n",
       "    </tr>\n",
       "    <tr>\n",
       "      <th>PUBLIC INDECENCY</th>\n",
       "      <td>23</td>\n",
       "    </tr>\n",
       "    <tr>\n",
       "      <th>INTIMIDATION</th>\n",
       "      <td>19</td>\n",
       "    </tr>\n",
       "    <tr>\n",
       "      <th>KIDNAPPING</th>\n",
       "      <td>17</td>\n",
       "    </tr>\n",
       "    <tr>\n",
       "      <th>OTHER NARCOTIC VIOLATION</th>\n",
       "      <td>2</td>\n",
       "    </tr>\n",
       "    <tr>\n",
       "      <th>NON-CRIMINAL</th>\n",
       "      <td>2</td>\n",
       "    </tr>\n",
       "    <tr>\n",
       "      <th>HUMAN TRAFFICKING</th>\n",
       "      <td>1</td>\n",
       "    </tr>\n",
       "    <tr>\n",
       "      <th>NON-CRIMINAL (SUBJECT SPECIFIED)</th>\n",
       "      <td>1</td>\n",
       "    </tr>\n",
       "  </tbody>\n",
       "</table>\n",
       "</div>"
      ],
      "text/plain": [
       "                                   Primary Type\n",
       "NARCOTICS                                 24969\n",
       "BATTERY                                   19168\n",
       "THEFT                                     11494\n",
       "WEAPONS VIOLATION                          7502\n",
       "CRIMINAL TRESPASS                          7153\n",
       "OTHER OFFENSE                              6794\n",
       "ASSAULT                                    6600\n",
       "CRIMINAL DAMAGE                            3134\n",
       "INTERFERENCE WITH PUBLIC OFFICER           2566\n",
       "PUBLIC PEACE VIOLATION                     1794\n",
       "DECEPTIVE PRACTICE                         1554\n",
       "ROBBERY                                    1343\n",
       "PROSTITUTION                               1293\n",
       "BURGLARY                                    984\n",
       "MOTOR VEHICLE THEFT                         969\n",
       "OFFENSE INVOLVING CHILDREN                  525\n",
       "LIQUOR LAW VIOLATION                        475\n",
       "GAMBLING                                    338\n",
       "CONCEALED CARRY LICENSE VIOLATION           338\n",
       "SEX OFFENSE                                 332\n",
       "HOMICIDE                                    279\n",
       "CRIM SEXUAL ASSAULT                         206\n",
       "OBSCENITY                                   109\n",
       "ARSON                                        59\n",
       "STALKING                                     46\n",
       "PUBLIC INDECENCY                             23\n",
       "INTIMIDATION                                 19\n",
       "KIDNAPPING                                   17\n",
       "OTHER NARCOTIC VIOLATION                      2\n",
       "NON-CRIMINAL                                  2\n",
       "HUMAN TRAFFICKING                             1\n",
       "NON-CRIMINAL (SUBJECT SPECIFIED)              1"
      ]
     },
     "execution_count": 144,
     "metadata": {},
     "output_type": "execute_result"
    }
   ],
   "source": [
    "arrest_true=merge[merge['Arrest']==1]['Primary Type'].value_counts().to_frame()\n",
    "arrest_true"
   ]
  },
  {
   "cell_type": "code",
   "execution_count": 145,
   "metadata": {
    "colab": {},
    "colab_type": "code",
    "id": "ILqatR0HQDmV"
   },
   "outputs": [],
   "source": [
    "primary_type=merge[merge['Arrest']==1]['Primary Type'].value_counts().index.tolist()\n",
    "arrest_true=merge[merge['Arrest']==1]['Primary Type'].value_counts().tolist()"
   ]
  },
  {
   "cell_type": "code",
   "execution_count": 146,
   "metadata": {
    "colab": {
     "base_uri": "https://localhost:8080/",
     "height": 621
    },
    "colab_type": "code",
    "id": "Keez-7cSQDmf",
    "outputId": "467d1125-845a-4898-c05e-a3945ec6d05e"
   },
   "outputs": [
    {
     "data": {
      "image/png": "[encoded data removed]",
      "text/plain": [
       "<Figure size 720x720 with 1 Axes>"
      ]
     },
     "metadata": {},
     "output_type": "display_data"
    }
   ],
   "source": [
    "plt.figure(figsize=(10,10))\n",
    "plt.barh(primary_type,arrest_true,height=0.6,color = (0.5,0.1,0.5,0.6))\n",
    "plt.title('Arrests per primary type')\n",
    "plt.xlabel('Arrests')\n",
    "plt.ylabel('Primary Type')\n",
    "plt.yticks(primary_type,fontsize=10)\n",
    "plt.show()"
   ]
  },
  {
   "cell_type": "code",
   "execution_count": 147,
   "metadata": {
    "colab": {},
    "colab_type": "code",
    "id": "Hga_IHR4QDmk"
   },
   "outputs": [],
   "source": [
    "month=merge[merge['Arrest']==1]['Month'].value_counts().sort_index().index.tolist()\n",
    "arrest_true_m=merge[merge['Arrest']==1]['Month'].value_counts().sort_index().tolist()"
   ]
  },
  {
   "cell_type": "code",
   "execution_count": 148,
   "metadata": {
    "colab": {
     "base_uri": "https://localhost:8080/",
     "height": 294
    },
    "colab_type": "code",
    "id": "nMVHeccZQDmn",
    "outputId": "051f5ec2-1200-4364-abf6-2ddf7abdc6b9",
    "scrolled": true
   },
   "outputs": [
    {
     "data": {
      "image/png": "[encoded data removed]",
      "text/plain": [
       "<Figure size 432x288 with 1 Axes>"
      ]
     },
     "metadata": {},
     "output_type": "display_data"
    }
   ],
   "source": [
    "plt.bar(month,arrest_true_m)\n",
    "plt.title('Arrests per month')\n",
    "plt.xlabel('Month')\n",
    "plt.ylabel('Number of arrests')\n",
    "plt.show()"
   ]
  },
  {
   "cell_type": "code",
   "execution_count": 149,
   "metadata": {
    "colab": {},
    "colab_type": "code",
    "id": "OmyhblMoQDmp"
   },
   "outputs": [],
   "source": [
    "nocrime=merge[merge['Arrest']==0]['Month'].value_counts().sort_index().index.tolist()\n",
    "arrest_true_m=merge[merge['Arrest']==0]['Month'].value_counts().sort_index().tolist()"
   ]
  },
  {
   "cell_type": "code",
   "execution_count": 150,
   "metadata": {
    "colab": {
     "base_uri": "https://localhost:8080/",
     "height": 294
    },
    "colab_type": "code",
    "id": "7LbHI26ZQDms",
    "outputId": "0d48d0b8-a623-43de-a3d9-cac33361fb39"
   },
   "outputs": [
    {
     "data": {
      "image/png": "[encoded data removed]",
      "text/plain": [
       "<Figure size 432x288 with 1 Axes>"
      ]
     },
     "metadata": {},
     "output_type": "display_data"
    }
   ],
   "source": [
    "plt.bar(nocrime,arrest_true_m)\n",
    "plt.title('No Arrests per month')\n",
    "plt.xlabel('Month')\n",
    "plt.ylabel('Number of crimes without arrest')\n",
    "plt.show()"
   ]
  },
  {
   "cell_type": "code",
   "execution_count": 151,
   "metadata": {
    "colab": {
     "base_uri": "https://localhost:8080/",
     "height": 283
    },
    "colab_type": "code",
    "id": "JxG2v1B9QDmu",
    "outputId": "c38c4ade-6caf-4687-e06e-a7d6226bbcdf"
   },
   "outputs": [
    {
     "data": {
      "text/plain": [
       "[108171,\n",
       " 80271,\n",
       " 63623,\n",
       " 38880,\n",
       " 19643,\n",
       " 14179,\n",
       " 13276,\n",
       " 13215,\n",
       " 9447,\n",
       " 9273,\n",
       " 8977,\n",
       " 8732,\n",
       " 8575,\n",
       " 6939,\n",
       " 6731]"
      ]
     },
     "execution_count": 151,
     "metadata": {},
     "output_type": "execute_result"
    }
   ],
   "source": [
    "arrest_true_m\n",
    "crimes=merge['Location Description'].value_counts().tolist()\n",
    "location=merge['Location Description'].value_counts().index.tolist()\n",
    "crimes[0:15]"
   ]
  },
  {
   "cell_type": "code",
   "execution_count": 152,
   "metadata": {
    "colab": {},
    "colab_type": "code",
    "id": "A0iApOKyQDmw",
    "outputId": "03d4aadf-7c56-4e6c-a673-1b8bcd3c8880"
   },
   "outputs": [
    {
     "data": {
      "image/png": "[encoded data removed]",
      "text/plain": [
       "<Figure size 432x288 with 1 Axes>"
      ]
     },
     "metadata": {},
     "output_type": "display_data"
    }
   ],
   "source": [
    "plt.bar(location[0:15],crimes[0:15],color = (0.3,0.6,0.9,0.9))\n",
    "plt.title('Crime by location')\n",
    "plt.xlabel('Location')\n",
    "plt.ylabel('Number of crimes')\n",
    "plt.xticks(location[0:15],rotation=90)\n",
    "plt.show()"
   ]
  },
  {
   "cell_type": "code",
   "execution_count": 153,
   "metadata": {
    "colab": {},
    "colab_type": "code",
    "id": "ppK3LvaCQDmz"
   },
   "outputs": [],
   "source": [
    "location=merge[merge['Arrest']==1]['Location Description'].value_counts().index.tolist()\n",
    "arrest_loc=merge[merge['Arrest']==1]['Location Description'].value_counts().tolist()"
   ]
  },
  {
   "cell_type": "code",
   "execution_count": 154,
   "metadata": {
    "colab": {
     "base_uri": "https://localhost:8080/",
     "height": 283
    },
    "colab_type": "code",
    "id": "qVfVRO0BQDm3",
    "outputId": "d55fc124-07b6-4461-a921-bde64bda887e"
   },
   "outputs": [
    {
     "data": {
      "text/plain": [
       "['STREET',\n",
       " 'SIDEWALK',\n",
       " 'APARTMENT',\n",
       " 'RESIDENCE',\n",
       " 'DEPARTMENT STORE',\n",
       " 'ALLEY',\n",
       " 'GROCERY FOOD STORE',\n",
       " 'SMALL RETAIL STORE',\n",
       " 'PARKING LOT/GARAGE(NON.RESID.)',\n",
       " 'GAS STATION',\n",
       " 'VEHICLE NON-COMMERCIAL',\n",
       " 'RESTAURANT',\n",
       " 'RESIDENTIAL YARD (FRONT/BACK)',\n",
       " 'OTHER',\n",
       " 'RESIDENCE PORCH/HALLWAY']"
      ]
     },
     "execution_count": 154,
     "metadata": {},
     "output_type": "execute_result"
    }
   ],
   "source": [
    "location[0:15]"
   ]
  },
  {
   "cell_type": "code",
   "execution_count": 173,
   "metadata": {
    "colab": {
     "base_uri": "https://localhost:8080/",
     "height": 621
    },
    "colab_type": "code",
    "id": "RgMsK6WLQDm7",
    "outputId": "3a80db42-a0ca-4075-cb47-860dfa8dcefa",
    "scrolled": true
   },
   "outputs": [
    {
     "data": {
      "image/png": "[encoded data removed]",
      "text/plain": [
       "<Figure size 576x576 with 1 Axes>"
      ]
     },
     "metadata": {},
     "output_type": "display_data"
    }
   ],
   "source": [
    "plt.figure(figsize=(8,8))\n",
    "plt.barh(location[0:15],arrest_loc[0:15],height=0.8,color = (0.4,0.1,0.2,0.8))\n",
    "plt.title('Arrests by Location')\n",
    "plt.xlabel('Arrests')\n",
    "plt.ylabel('Location')\n",
    "plt.yticks(location[0:15],fontsize=10)\n",
    "plt.show()"
   ]
  },
  {
   "cell_type": "code",
   "execution_count": 156,
   "metadata": {
    "colab": {
     "base_uri": "https://localhost:8080/",
     "height": 464
    },
    "colab_type": "code",
    "id": "G2kJAORYQDnC",
    "outputId": "17b5241b-1b55-4043-8f37-34ac0b16a890",
    "scrolled": true
   },
   "outputs": [
    {
     "data": {
      "text/html": [
       "<div>\n",
       "<style scoped>\n",
       "    .dataframe tbody tr th:only-of-type {\n",
       "        vertical-align: middle;\n",
       "    }\n",
       "\n",
       "    .dataframe tbody tr th {\n",
       "        vertical-align: top;\n",
       "    }\n",
       "\n",
       "    .dataframe thead th {\n",
       "        text-align: right;\n",
       "    }\n",
       "</style>\n",
       "<table border=\"1\" class=\"dataframe\">\n",
       "  <thead>\n",
       "    <tr style=\"text-align: right;\">\n",
       "      <th></th>\n",
       "      <th>District</th>\n",
       "      <th>index</th>\n",
       "      <th>Case Number</th>\n",
       "      <th>Date</th>\n",
       "      <th>Block</th>\n",
       "      <th>IUCR</th>\n",
       "      <th>Primary Type</th>\n",
       "      <th>Description</th>\n",
       "      <th>Location Description</th>\n",
       "      <th>Arrest</th>\n",
       "      <th>...</th>\n",
       "      <th>p_dname</th>\n",
       "      <th>p_x</th>\n",
       "      <th>p_y</th>\n",
       "      <th>p_latitude</th>\n",
       "      <th>p_longitude</th>\n",
       "      <th>Distance</th>\n",
       "      <th>Time</th>\n",
       "      <th>Month</th>\n",
       "      <th>Day</th>\n",
       "      <th>Season</th>\n",
       "    </tr>\n",
       "  </thead>\n",
       "  <tbody>\n",
       "    <tr>\n",
       "      <th>0</th>\n",
       "      <td>4</td>\n",
       "      <td>2</td>\n",
       "      <td>JB528220</td>\n",
       "      <td>11/24/2018</td>\n",
       "      <td>095XX S STONY ISLAND AVE</td>\n",
       "      <td>0261</td>\n",
       "      <td>CRIM SEXUAL ASSAULT</td>\n",
       "      <td>AGGRAVATED: HANDGUN</td>\n",
       "      <td>ALLEY</td>\n",
       "      <td>1</td>\n",
       "      <td>...</td>\n",
       "      <td>South Chicago</td>\n",
       "      <td>1193131.299</td>\n",
       "      <td>1837090.265</td>\n",
       "      <td>41.707933</td>\n",
       "      <td>-87.568349</td>\n",
       "      <td>6822.245420</td>\n",
       "      <td>08:45:00</td>\n",
       "      <td>11</td>\n",
       "      <td>24</td>\n",
       "      <td>Autumn</td>\n",
       "    </tr>\n",
       "    <tr>\n",
       "      <th>1</th>\n",
       "      <td>22</td>\n",
       "      <td>3</td>\n",
       "      <td>JB495848</td>\n",
       "      <td>08/27/2018</td>\n",
       "      <td>092XX S UNION AVE</td>\n",
       "      <td>1120</td>\n",
       "      <td>DECEPTIVE PRACTICE</td>\n",
       "      <td>FORGERY</td>\n",
       "      <td>RESIDENCE</td>\n",
       "      <td>1</td>\n",
       "      <td>...</td>\n",
       "      <td>Morgan Park</td>\n",
       "      <td>1165825.476</td>\n",
       "      <td>1830851.333</td>\n",
       "      <td>41.691435</td>\n",
       "      <td>-87.668520</td>\n",
       "      <td>14717.784521</td>\n",
       "      <td>12:00:00</td>\n",
       "      <td>08</td>\n",
       "      <td>27</td>\n",
       "      <td>Summer</td>\n",
       "    </tr>\n",
       "    <tr>\n",
       "      <th>2</th>\n",
       "      <td>7</td>\n",
       "      <td>5</td>\n",
       "      <td>JB505888</td>\n",
       "      <td>09/27/2018</td>\n",
       "      <td>068XX S PERRY AVE</td>\n",
       "      <td>1020</td>\n",
       "      <td>ARSON</td>\n",
       "      <td>BY FIRE</td>\n",
       "      <td>VEHICLE NON-COMMERCIAL</td>\n",
       "      <td>1</td>\n",
       "      <td>...</td>\n",
       "      <td>Englewood</td>\n",
       "      <td>1167659.235</td>\n",
       "      <td>1863005.522</td>\n",
       "      <td>41.779632</td>\n",
       "      <td>-87.660887</td>\n",
       "      <td>9500.832396</td>\n",
       "      <td>10:30:00</td>\n",
       "      <td>09</td>\n",
       "      <td>27</td>\n",
       "      <td>Autumn</td>\n",
       "    </tr>\n",
       "    <tr>\n",
       "      <th>3</th>\n",
       "      <td>24</td>\n",
       "      <td>6</td>\n",
       "      <td>JB472665</td>\n",
       "      <td>10/12/2018</td>\n",
       "      <td>061XX N BROADWAY</td>\n",
       "      <td>0890</td>\n",
       "      <td>THEFT</td>\n",
       "      <td>FROM BUILDING</td>\n",
       "      <td>COMMERCIAL / BUSINESS OFFICE</td>\n",
       "      <td>1</td>\n",
       "      <td>...</td>\n",
       "      <td>Rogers Park</td>\n",
       "      <td>1164193.588</td>\n",
       "      <td>1943199.401</td>\n",
       "      <td>41.999763</td>\n",
       "      <td>-87.671324</td>\n",
       "      <td>3987.355350</td>\n",
       "      <td>12:04:00</td>\n",
       "      <td>10</td>\n",
       "      <td>12</td>\n",
       "      <td>Autumn</td>\n",
       "    </tr>\n",
       "    <tr>\n",
       "      <th>4</th>\n",
       "      <td>8</td>\n",
       "      <td>9</td>\n",
       "      <td>JB241744</td>\n",
       "      <td>04/27/2018</td>\n",
       "      <td>070XX S CALIFORNIA AVE</td>\n",
       "      <td>1562</td>\n",
       "      <td>SEX OFFENSE</td>\n",
       "      <td>AGG CRIMINAL SEXUAL ABUSE</td>\n",
       "      <td>APARTMENT</td>\n",
       "      <td>0</td>\n",
       "      <td>...</td>\n",
       "      <td>Chicago Lawn</td>\n",
       "      <td>1154575.242</td>\n",
       "      <td>1862672.049</td>\n",
       "      <td>41.778987</td>\n",
       "      <td>-87.708864</td>\n",
       "      <td>6432.894093</td>\n",
       "      <td>02:45:00</td>\n",
       "      <td>04</td>\n",
       "      <td>27</td>\n",
       "      <td>Spring</td>\n",
       "    </tr>\n",
       "    <tr>\n",
       "      <th>5</th>\n",
       "      <td>2</td>\n",
       "      <td>13</td>\n",
       "      <td>JB287512</td>\n",
       "      <td>01/06/2018</td>\n",
       "      <td>053XX S LAKE PARK AVE</td>\n",
       "      <td>0460</td>\n",
       "      <td>BATTERY</td>\n",
       "      <td>SIMPLE</td>\n",
       "      <td>STREET</td>\n",
       "      <td>0</td>\n",
       "      <td>...</td>\n",
       "      <td>Wentworth</td>\n",
       "      <td>1175864.837</td>\n",
       "      <td>1871153.753</td>\n",
       "      <td>41.801811</td>\n",
       "      <td>-87.630560</td>\n",
       "      <td>11845.876304</td>\n",
       "      <td>03:00:00</td>\n",
       "      <td>01</td>\n",
       "      <td>06</td>\n",
       "      <td>Winter</td>\n",
       "    </tr>\n",
       "  </tbody>\n",
       "</table>\n",
       "<p>6 rows × 29 columns</p>\n",
       "</div>"
      ],
      "text/plain": [
       "   District  index Case Number        Date                     Block  IUCR  \\\n",
       "0         4      2    JB528220  11/24/2018  095XX S STONY ISLAND AVE  0261   \n",
       "1        22      3    JB495848  08/27/2018         092XX S UNION AVE  1120   \n",
       "2         7      5    JB505888  09/27/2018         068XX S PERRY AVE  1020   \n",
       "3        24      6    JB472665  10/12/2018          061XX N BROADWAY  0890   \n",
       "4         8      9    JB241744  04/27/2018    070XX S CALIFORNIA AVE  1562   \n",
       "5         2     13    JB287512  01/06/2018     053XX S LAKE PARK AVE  0460   \n",
       "\n",
       "          Primary Type                Description  \\\n",
       "0  CRIM SEXUAL ASSAULT        AGGRAVATED: HANDGUN   \n",
       "1   DECEPTIVE PRACTICE                    FORGERY   \n",
       "2                ARSON                    BY FIRE   \n",
       "3                THEFT              FROM BUILDING   \n",
       "4          SEX OFFENSE  AGG CRIMINAL SEXUAL ABUSE   \n",
       "5              BATTERY                     SIMPLE   \n",
       "\n",
       "           Location Description  Arrest  ...        p_dname          p_x  \\\n",
       "0                         ALLEY       1  ...  South Chicago  1193131.299   \n",
       "1                     RESIDENCE       1  ...    Morgan Park  1165825.476   \n",
       "2        VEHICLE NON-COMMERCIAL       1  ...      Englewood  1167659.235   \n",
       "3  COMMERCIAL / BUSINESS OFFICE       1  ...    Rogers Park  1164193.588   \n",
       "4                     APARTMENT       0  ...   Chicago Lawn  1154575.242   \n",
       "5                        STREET       0  ...      Wentworth  1175864.837   \n",
       "\n",
       "           p_y  p_latitude p_longitude      Distance      Time  Month  Day  \\\n",
       "0  1837090.265   41.707933  -87.568349   6822.245420  08:45:00     11   24   \n",
       "1  1830851.333   41.691435  -87.668520  14717.784521  12:00:00     08   27   \n",
       "2  1863005.522   41.779632  -87.660887   9500.832396  10:30:00     09   27   \n",
       "3  1943199.401   41.999763  -87.671324   3987.355350  12:04:00     10   12   \n",
       "4  1862672.049   41.778987  -87.708864   6432.894093  02:45:00     04   27   \n",
       "5  1871153.753   41.801811  -87.630560  11845.876304  03:00:00     01   06   \n",
       "\n",
       "   Season  \n",
       "0  Autumn  \n",
       "1  Summer  \n",
       "2  Autumn  \n",
       "3  Autumn  \n",
       "4  Spring  \n",
       "5  Winter  \n",
       "\n",
       "[6 rows x 29 columns]"
      ]
     },
     "execution_count": 156,
     "metadata": {},
     "output_type": "execute_result"
    }
   ],
   "source": [
    "seasons = {'12':'Winter','01':'Winter', '02' : 'Winter',\n",
    "          '03' : 'Spring', '04' : 'Spring', '05' : 'Spring',\n",
    "          '06' : 'Summer', '07' : 'Summer', '08' : 'Summer',\n",
    "          '09': 'Autumn', '10' : 'Autumn' , '11' : 'Autumn'}\n",
    "merge['Season'] = merge['Month'].apply(lambda x : seasons[x])\n",
    "merge.head(6)"
   ]
  },
  {
   "cell_type": "code",
   "execution_count": 157,
   "metadata": {
    "colab": {},
    "colab_type": "code",
    "id": "kQZS5J6RQDnF",
    "scrolled": true
   },
   "outputs": [],
   "source": [
    "merge=merge[merge['Primary Type'] != 'NON-CRIMINAL']\n",
    "merge=merge[merge['Primary Type'] != 'NON-CRIMINAL (SUBJECT SPECIFIED)']\n",
    "merge=merge[merge['Primary Type'] != 'HUMAN TRAFFICKING']\n"
   ]
  },
  {
   "cell_type": "code",
   "execution_count": 158,
   "metadata": {
    "colab": {},
    "colab_type": "code",
    "id": "Ugpzw2YIQDnK"
   },
   "outputs": [],
   "source": [
    "primary_type=merge[merge['Arrest']==1]['Primary Type'].value_counts().index.tolist()\n",
    "arrest_true=merge[merge['Arrest']==1]['Primary Type'].value_counts().tolist()"
   ]
  },
  {
   "cell_type": "code",
   "execution_count": 159,
   "metadata": {
    "colab": {
     "base_uri": "https://localhost:8080/",
     "height": 621
    },
    "colab_type": "code",
    "id": "ShSyxctZQDnP",
    "outputId": "236d09f1-1da2-4efb-e49b-25b57d5f9eb9"
   },
   "outputs": [
    {
     "data": {
      "image/png": "[encoded data removed]",
      "text/plain": [
       "<Figure size 720x720 with 1 Axes>"
      ]
     },
     "metadata": {},
     "output_type": "display_data"
    }
   ],
   "source": [
    "plt.figure(figsize=(10,10))\n",
    "plt.barh(primary_type,arrest_true,height=0.6,color = (0.5,0.1,0.5,0.6))\n",
    "plt.title('Arrests per primary type')\n",
    "plt.xlabel('Arrests')\n",
    "plt.ylabel('Primary Type')\n",
    "plt.yticks(primary_type,fontsize=10)\n",
    "plt.show()"
   ]
  },
  {
   "cell_type": "code",
   "execution_count": 160,
   "metadata": {
    "colab": {
     "base_uri": "https://localhost:8080/",
     "height": 464
    },
    "colab_type": "code",
    "id": "Ki73wYoWQDnS",
    "outputId": "33575472-5715-4a63-a58f-2a9de9fae803"
   },
   "outputs": [
    {
     "data": {
      "text/html": [
       "<div>\n",
       "<style scoped>\n",
       "    .dataframe tbody tr th:only-of-type {\n",
       "        vertical-align: middle;\n",
       "    }\n",
       "\n",
       "    .dataframe tbody tr th {\n",
       "        vertical-align: top;\n",
       "    }\n",
       "\n",
       "    .dataframe thead th {\n",
       "        text-align: right;\n",
       "    }\n",
       "</style>\n",
       "<table border=\"1\" class=\"dataframe\">\n",
       "  <thead>\n",
       "    <tr style=\"text-align: right;\">\n",
       "      <th></th>\n",
       "      <th>District</th>\n",
       "      <th>index</th>\n",
       "      <th>Case Number</th>\n",
       "      <th>Date</th>\n",
       "      <th>Block</th>\n",
       "      <th>IUCR</th>\n",
       "      <th>Primary Type</th>\n",
       "      <th>Description</th>\n",
       "      <th>Location Description</th>\n",
       "      <th>Arrest</th>\n",
       "      <th>...</th>\n",
       "      <th>p_x</th>\n",
       "      <th>p_y</th>\n",
       "      <th>p_latitude</th>\n",
       "      <th>p_longitude</th>\n",
       "      <th>Distance</th>\n",
       "      <th>Time</th>\n",
       "      <th>Month</th>\n",
       "      <th>Day</th>\n",
       "      <th>Season</th>\n",
       "      <th>crimeGroups</th>\n",
       "    </tr>\n",
       "  </thead>\n",
       "  <tbody>\n",
       "    <tr>\n",
       "      <th>0</th>\n",
       "      <td>4</td>\n",
       "      <td>2</td>\n",
       "      <td>JB528220</td>\n",
       "      <td>11/24/2018</td>\n",
       "      <td>095XX S STONY ISLAND AVE</td>\n",
       "      <td>0261</td>\n",
       "      <td>CRIM SEXUAL ASSAULT</td>\n",
       "      <td>AGGRAVATED: HANDGUN</td>\n",
       "      <td>ALLEY</td>\n",
       "      <td>1</td>\n",
       "      <td>...</td>\n",
       "      <td>1193131.299</td>\n",
       "      <td>1837090.265</td>\n",
       "      <td>41.707933</td>\n",
       "      <td>-87.568349</td>\n",
       "      <td>6822.245420</td>\n",
       "      <td>08:45:00</td>\n",
       "      <td>11</td>\n",
       "      <td>24</td>\n",
       "      <td>Autumn</td>\n",
       "      <td>1</td>\n",
       "    </tr>\n",
       "    <tr>\n",
       "      <th>1</th>\n",
       "      <td>22</td>\n",
       "      <td>3</td>\n",
       "      <td>JB495848</td>\n",
       "      <td>08/27/2018</td>\n",
       "      <td>092XX S UNION AVE</td>\n",
       "      <td>1120</td>\n",
       "      <td>DECEPTIVE PRACTICE</td>\n",
       "      <td>FORGERY</td>\n",
       "      <td>RESIDENCE</td>\n",
       "      <td>1</td>\n",
       "      <td>...</td>\n",
       "      <td>1165825.476</td>\n",
       "      <td>1830851.333</td>\n",
       "      <td>41.691435</td>\n",
       "      <td>-87.668520</td>\n",
       "      <td>14717.784521</td>\n",
       "      <td>12:00:00</td>\n",
       "      <td>08</td>\n",
       "      <td>27</td>\n",
       "      <td>Summer</td>\n",
       "      <td>3</td>\n",
       "    </tr>\n",
       "    <tr>\n",
       "      <th>2</th>\n",
       "      <td>7</td>\n",
       "      <td>5</td>\n",
       "      <td>JB505888</td>\n",
       "      <td>09/27/2018</td>\n",
       "      <td>068XX S PERRY AVE</td>\n",
       "      <td>1020</td>\n",
       "      <td>ARSON</td>\n",
       "      <td>BY FIRE</td>\n",
       "      <td>VEHICLE NON-COMMERCIAL</td>\n",
       "      <td>1</td>\n",
       "      <td>...</td>\n",
       "      <td>1167659.235</td>\n",
       "      <td>1863005.522</td>\n",
       "      <td>41.779632</td>\n",
       "      <td>-87.660887</td>\n",
       "      <td>9500.832396</td>\n",
       "      <td>10:30:00</td>\n",
       "      <td>09</td>\n",
       "      <td>27</td>\n",
       "      <td>Autumn</td>\n",
       "      <td>2</td>\n",
       "    </tr>\n",
       "    <tr>\n",
       "      <th>3</th>\n",
       "      <td>24</td>\n",
       "      <td>6</td>\n",
       "      <td>JB472665</td>\n",
       "      <td>10/12/2018</td>\n",
       "      <td>061XX N BROADWAY</td>\n",
       "      <td>0890</td>\n",
       "      <td>THEFT</td>\n",
       "      <td>FROM BUILDING</td>\n",
       "      <td>COMMERCIAL / BUSINESS OFFICE</td>\n",
       "      <td>1</td>\n",
       "      <td>...</td>\n",
       "      <td>1164193.588</td>\n",
       "      <td>1943199.401</td>\n",
       "      <td>41.999763</td>\n",
       "      <td>-87.671324</td>\n",
       "      <td>3987.355350</td>\n",
       "      <td>12:04:00</td>\n",
       "      <td>10</td>\n",
       "      <td>12</td>\n",
       "      <td>Autumn</td>\n",
       "      <td>2</td>\n",
       "    </tr>\n",
       "    <tr>\n",
       "      <th>4</th>\n",
       "      <td>8</td>\n",
       "      <td>9</td>\n",
       "      <td>JB241744</td>\n",
       "      <td>04/27/2018</td>\n",
       "      <td>070XX S CALIFORNIA AVE</td>\n",
       "      <td>1562</td>\n",
       "      <td>SEX OFFENSE</td>\n",
       "      <td>AGG CRIMINAL SEXUAL ABUSE</td>\n",
       "      <td>APARTMENT</td>\n",
       "      <td>0</td>\n",
       "      <td>...</td>\n",
       "      <td>1154575.242</td>\n",
       "      <td>1862672.049</td>\n",
       "      <td>41.778987</td>\n",
       "      <td>-87.708864</td>\n",
       "      <td>6432.894093</td>\n",
       "      <td>02:45:00</td>\n",
       "      <td>04</td>\n",
       "      <td>27</td>\n",
       "      <td>Spring</td>\n",
       "      <td>1</td>\n",
       "    </tr>\n",
       "    <tr>\n",
       "      <th>5</th>\n",
       "      <td>2</td>\n",
       "      <td>13</td>\n",
       "      <td>JB287512</td>\n",
       "      <td>01/06/2018</td>\n",
       "      <td>053XX S LAKE PARK AVE</td>\n",
       "      <td>0460</td>\n",
       "      <td>BATTERY</td>\n",
       "      <td>SIMPLE</td>\n",
       "      <td>STREET</td>\n",
       "      <td>0</td>\n",
       "      <td>...</td>\n",
       "      <td>1175864.837</td>\n",
       "      <td>1871153.753</td>\n",
       "      <td>41.801811</td>\n",
       "      <td>-87.630560</td>\n",
       "      <td>11845.876304</td>\n",
       "      <td>03:00:00</td>\n",
       "      <td>01</td>\n",
       "      <td>06</td>\n",
       "      <td>Winter</td>\n",
       "      <td>1</td>\n",
       "    </tr>\n",
       "  </tbody>\n",
       "</table>\n",
       "<p>6 rows × 30 columns</p>\n",
       "</div>"
      ],
      "text/plain": [
       "   District  index Case Number        Date                     Block  IUCR  \\\n",
       "0         4      2    JB528220  11/24/2018  095XX S STONY ISLAND AVE  0261   \n",
       "1        22      3    JB495848  08/27/2018         092XX S UNION AVE  1120   \n",
       "2         7      5    JB505888  09/27/2018         068XX S PERRY AVE  1020   \n",
       "3        24      6    JB472665  10/12/2018          061XX N BROADWAY  0890   \n",
       "4         8      9    JB241744  04/27/2018    070XX S CALIFORNIA AVE  1562   \n",
       "5         2     13    JB287512  01/06/2018     053XX S LAKE PARK AVE  0460   \n",
       "\n",
       "          Primary Type                Description  \\\n",
       "0  CRIM SEXUAL ASSAULT        AGGRAVATED: HANDGUN   \n",
       "1   DECEPTIVE PRACTICE                    FORGERY   \n",
       "2                ARSON                    BY FIRE   \n",
       "3                THEFT              FROM BUILDING   \n",
       "4          SEX OFFENSE  AGG CRIMINAL SEXUAL ABUSE   \n",
       "5              BATTERY                     SIMPLE   \n",
       "\n",
       "           Location Description  Arrest  ...          p_x          p_y  \\\n",
       "0                         ALLEY       1  ...  1193131.299  1837090.265   \n",
       "1                     RESIDENCE       1  ...  1165825.476  1830851.333   \n",
       "2        VEHICLE NON-COMMERCIAL       1  ...  1167659.235  1863005.522   \n",
       "3  COMMERCIAL / BUSINESS OFFICE       1  ...  1164193.588  1943199.401   \n",
       "4                     APARTMENT       0  ...  1154575.242  1862672.049   \n",
       "5                        STREET       0  ...  1175864.837  1871153.753   \n",
       "\n",
       "   p_latitude  p_longitude      Distance      Time  Month  Day  Season  \\\n",
       "0   41.707933   -87.568349   6822.245420  08:45:00     11   24  Autumn   \n",
       "1   41.691435   -87.668520  14717.784521  12:00:00     08   27  Summer   \n",
       "2   41.779632   -87.660887   9500.832396  10:30:00     09   27  Autumn   \n",
       "3   41.999763   -87.671324   3987.355350  12:04:00     10   12  Autumn   \n",
       "4   41.778987   -87.708864   6432.894093  02:45:00     04   27  Spring   \n",
       "5   41.801811   -87.630560  11845.876304  03:00:00     01   06  Winter   \n",
       "\n",
       "  crimeGroups  \n",
       "0           1  \n",
       "1           3  \n",
       "2           2  \n",
       "3           2  \n",
       "4           1  \n",
       "5           1  \n",
       "\n",
       "[6 rows x 30 columns]"
      ]
     },
     "execution_count": 160,
     "metadata": {},
     "output_type": "execute_result"
    }
   ],
   "source": [
    "crimeGroups = {'NARCOTICS' : '3', 'BATTERY' : '1', 'THEFT':'2', 'WEAPONS VIOLATION': '5', 'CRIMINAL TRESPASS' : '2',\n",
    "'OTHER OFFENSE' : '4','ASSAULT' : '1','CRIMINAL DAMAGE' : '2',\n",
    "'INTERFERENCE WITH PUBLIC OFFICER' : '1',\n",
    "'PUBLIC PEACE VIOLATION' : '1',\n",
    "'DECEPTIVE PRACTICE' : '3',\n",
    "'ROBBERY' : '2',\n",
    "'PROSTITUTION' : '3',\n",
    "'BURGLARY' : '2',\n",
    "'MOTOR VEHICLE THEFT' : '3',\n",
    "'OFFENSE INVOLVING CHILDREN' : '3',\n",
    "'LIQUOR LAW VIOLATION' : '3',\n",
    "'CONCEALED CARRY LICENSE VIOLATION' : '5',\n",
    "'GAMBLING' : '3',\n",
    "'SEX OFFENSE' : '1',\n",
    "'HOMICIDE' : '1',\n",
    "'CRIM SEXUAL ASSAULT' : '1',\n",
    "'OBSCENITY' : '1',\n",
    "'ARSON' : '2',\n",
    "'STALKING' : '1',\n",
    "'PUBLIC INDECENCY' : '3',\n",
    "'INTIMIDATION' : '1',\n",
    "'KIDNAPPING': '1',\n",
    "'OTHER NARCOTIC VIOLATION' : '3'}\n",
    "\n",
    "merge['crimeGroups'] = merge['Primary Type'].apply(lambda x : crimeGroups[x])\n",
    "merge.head(6)\n",
    "# Personal crime = physical or mental to there person = 1\n",
    "# Property crimes = Property involved [Robbery, arson] = 2\n",
    "# Crime against morality = drugs, prostitutions, gambling = 3\n",
    "# Other = 4\n",
    "# Firearms = 5"
   ]
  },
  {
   "cell_type": "code",
   "execution_count": 169,
   "metadata": {
    "colab": {},
    "colab_type": "code",
    "id": "D69Zb6zfQDnU"
   },
   "outputs": [],
   "source": [
    "season=merge[merge['Arrest']==1]['Season'].value_counts().sort_index().index.tolist()\n",
    "arrest_true_m=merge[merge['Arrest']==1]['Season'].value_counts().sort_index().tolist()"
   ]
  },
  {
   "cell_type": "code",
   "execution_count": 170,
   "metadata": {
    "colab": {
     "base_uri": "https://localhost:8080/",
     "height": 294
    },
    "colab_type": "code",
    "id": "N80mn2shQDnW",
    "outputId": "d7a1216b-c619-42c7-bbd5-e9d99b5b15d3"
   },
   "outputs": [
    {
     "data": {
      "image/png": "[encoded data removed]",
      "text/plain": [
       "<Figure size 432x288 with 1 Axes>"
      ]
     },
     "metadata": {},
     "output_type": "display_data"
    }
   ],
   "source": [
    "plt.bar(season,arrest_true_m)\n",
    "plt.title('Arrests per seasons')\n",
    "plt.xlabel('Seasons')\n",
    "plt.ylabel('Number of arrests')\n",
    "plt.show()"
   ]
  },
  {
   "cell_type": "code",
   "execution_count": 163,
   "metadata": {
    "colab": {},
    "colab_type": "code",
    "id": "G-MnT5crQDnY"
   },
   "outputs": [],
   "source": [
    "crimenGroups=merge[merge['Arrest'] == 0 ]['crimeGroups'].value_counts().sort_index().index.tolist()\n",
    "arrest_false_m=merge[merge['Arrest'] == 0]['crimeGroups'].value_counts().sort_index().tolist()"
   ]
  },
  {
   "cell_type": "code",
   "execution_count": 164,
   "metadata": {
    "colab": {
     "base_uri": "https://localhost:8080/",
     "height": 294
    },
    "colab_type": "code",
    "id": "0el4iEtEQDna",
    "outputId": "7d4aa500-0b13-470a-e6e9-4a36a8abb009",
    "scrolled": true
   },
   "outputs": [
    {
     "data": {
      "image/png": "[encoded data removed]",
      "text/plain": [
       "<Figure size 432x288 with 1 Axes>"
      ]
     },
     "metadata": {},
     "output_type": "display_data"
    }
   ],
   "source": [
    "plt.bar(crimenGroups,arrest_false_m)\n",
    "plt.title('No Arrest per crime groups')\n",
    "plt.xlabel('Crime Groups')\n",
    "plt.ylabel('Number of arrests')\n",
    "plt.show()"
   ]
  },
  {
   "cell_type": "code",
   "execution_count": 165,
   "metadata": {
    "colab": {},
    "colab_type": "code",
    "id": "EPAuEnOcQDnb"
   },
   "outputs": [],
   "source": [
    "crimenGroups=merge[merge['Arrest'] == 1 ]['crimeGroups'].value_counts().sort_index().index.tolist()\n",
    "arrest_true_m=merge[merge['Arrest'] == 1]['crimeGroups'].value_counts().sort_index().tolist()"
   ]
  },
  {
   "cell_type": "code",
   "execution_count": 166,
   "metadata": {
    "colab": {
     "base_uri": "https://localhost:8080/",
     "height": 294
    },
    "colab_type": "code",
    "id": "kjWki_SnfH03",
    "outputId": "c719e73d-46ec-4741-8d7f-96816dd8bad2"
   },
   "outputs": [
    {
     "data": {
      "image/png": "[encoded data removed]",
      "text/plain": [
       "<Figure size 432x288 with 1 Axes>"
      ]
     },
     "metadata": {},
     "output_type": "display_data"
    }
   ],
   "source": [
    "plt.bar(crimenGroups,arrest_true_m)\n",
    "plt.title('No Arrest per crime groups')\n",
    "plt.xlabel('Crime Groups')\n",
    "plt.ylabel('Number of arrests')\n",
    "plt.show()"
   ]
  },
  {
   "cell_type": "code",
   "execution_count": 167,
   "metadata": {
    "colab": {},
    "colab_type": "code",
    "id": "HzKgpVnHgJo4"
   },
   "outputs": [],
   "source": [
    "merge.to_csv('Merge.csv',index=None)"
   ]
  },
  {
   "cell_type": "code",
   "execution_count": null,
   "metadata": {},
   "outputs": [],
   "source": []
  },
  {
   "cell_type": "code",
   "execution_count": null,
   "metadata": {},
   "outputs": [],
   "source": []
  }
 ],
 "metadata": {
  "accelerator": "GPU",
  "colab": {
   "name": "DataPreprocessingM.ipynb",
   "provenance": []
  },
  "kernelspec": {
   "display_name": "Python 3",
   "language": "python",
   "name": "python3"
  },
  "language_info": {
   "codemirror_mode": {
    "name": "ipython",
    "version": 3
   },
   "file_extension": ".py",
   "mimetype": "text/x-python",
   "name": "python",
   "nbconvert_exporter": "python",
   "pygments_lexer": "ipython3",
   "version": "3.7.3"
  }
 },
 "nbformat": 4,
 "nbformat_minor": 1
}
